{
 "cells": [
  {
   "cell_type": "markdown",
   "metadata": {},
   "source": [
    "# Study of the asymptotic law of MMD2l"
   ]
  },
  {
   "cell_type": "markdown",
   "metadata": {},
   "source": [
    "To have a statistical test, we have to know the law of MMD2l under the hypothesis H0.<br>\n",
    "To do so, we search the asymptotic law.<br>\n",
    "Because of the Central Limit Theorem, we expext to have an gaussian law.<br>\n",
    "Because the estimator is unbiaised, we know that the mean of this law is MMD (0 in H0 Hypothesis)."
   ]
  },
  {
   "cell_type": "markdown",
   "metadata": {},
   "source": [
    "## Mathematical Approach"
   ]
  },
  {
   "cell_type": "markdown",
   "metadata": {},
   "source": [
    "We want to have strong result so we will prove the result mathematically.<br>\n",
    "The in a second time we will verified it's work with simulations."
   ]
  },
  {
   "cell_type": "markdown",
   "metadata": {},
   "source": [
    "### Mercer's Kernel Approximation"
   ]
  },
  {
   "cell_type": "markdown",
   "metadata": {},
   "source": [
    "First, we suppose that $k$ is a Mercer kernel, so there exist an Hilbert Base $(\\phi_l)_l$ and a sequence $(\\mu_l)_l$ such that:<br>\n",
    "$\\forall (x,y) k(x,y) = \\sum_l \\mu_l \\phi_l(x)\\phi_l(y) $<br>\n",
    "so<br>\n",
    "$$MMD(X,Y) = \\frac{2}{m}\\sum_i k(x_{2i-1},x_{2i}) + \\frac{2}{n}\\sum_j k(y_{2j-1},y_{2j}) - \\frac{2}{mn}\\sum_{j,i}k(x_{i},y_{j})$$\n",
    "became<br>\n",
    "$$MMD(X,Y) = \\sum_l \\mu_l\\left(\\frac{2}{m}\\sum_i \\phi_l(x_{2i-1})\\phi_l(x_{2i}) + \\frac{2}{n}\\sum_j \\phi_l(y_{2j-1})\\phi_l(y_{2j}) - \\frac{2}{mn}\\sum_{j,i} \\phi_l(x_{i})\\phi_l(y_{j})\\right)$$\n",
    "for the same reasons <br>\n",
    "$$MMD(p,q) = E(k(X,X')) + E(k(Y,Y')) -2 E(k(X,Y))$$\n",
    "become <br>\n",
    "$$MMD(p,q) = \\sum_l \\mu_l\\left(E(\\phi_l(X)\\phi_l(X')) + E(\\phi_l(Y)\\phi_l(Y')) -2 E(\\phi_l(X)\\phi_l(Y))\\right)$$\n",
    "with independency\n",
    "$$MMD(p,q) = \\sum_l \\mu_l\\left(E(\\phi_l(X))^2 + E(\\phi_l(Y))^2 -2 E(\\phi_l(X))E(\\phi_l(Y))\\right)$$\n",
    "yet we have <br>\n",
    "$$ MMD(X,Y) - MMD(p,q) = \\sum_l \\mu_l\\left(\\frac{2}{m}\\sum_i \\phi_l(x_{2i-1})\\phi_l(x_{2i}) - E(\\phi_l(X))^2 + \\frac{2}{n}\\sum_j \\phi_l(y_{2j-1})\\phi_l(y_{2j}) - E(\\phi_l(Y))^2 - \\frac{2}{mn}\\sum_{j,i} \\phi_l(x_{i})\\phi_l(y_{j}) - E(\\phi_l(X))E(\\phi_l(Y))\\right)$$"
   ]
  },
  {
   "cell_type": "markdown",
   "metadata": {},
   "source": [
    "We will yet studying more precisely the third term of the sum :\n",
    "$$\\phi_l(x_{i})\\phi_l(y_{j}) - E(\\phi_l(X))E(\\phi_l(Y)) = \\phi_l(x_{i})\\left[\\phi_l(y_{j}) - E(\\phi_l(Y))\\right] + \\phi_l(x_{i})E(\\phi_l(Y)) - E(\\phi_l(X))E(\\phi_l(Y))$$\n",
    "$$\\phi_l(x_{i})\\phi_l(y_{j}) - E(\\phi_l(X))E(\\phi_l(Y)) = \\phi_l(x_{i}) \\left[\\phi_l(y_{j}) - E(\\phi_l(Y))\\right] + \\left[\\phi_l(x_{i}) - E(\\phi_l(X))\\right]E(\\phi_l(Y))$$\n",
    "$$\\phi_l(x_{i})\\phi_l(y_{j}) - E(\\phi_l(X))E(\\phi_l(Y)) = \\left[\\phi_l(x_{i}) - E(\\phi_l(X))\\right]\\left[\\phi_l(y_{j}) - E(\\phi_l(Y))\\right]+ E(\\phi_l(X))\\left[\\phi_l(y_{j}) - E(\\phi_l(Y))\\right]+ \\left[\\phi_l(x_{i}) - E(\\phi_l(X))\\right]E(\\phi_l(Y))$$"
   ]
  },
  {
   "cell_type": "markdown",
   "metadata": {},
   "source": [
    "by using the same transformations, we have :\n",
    "$$ \\phi_l(x_{2i-1})\\phi_l(x_{2i}) - E(\\phi_l(X))^2  = \n",
    "\\left[\\phi_l(x_{2i-1}) - E(\\phi_l(X))\\right]\\left[\\phi_l(x_{2i}) - E(\\phi_l(X))\\right]+ E(\\phi_l(X))\\left[\\phi_l(x_{2i}) - E(\\phi_l(X))\\right]+ \\left[\\phi_l(x_{2i-1}) - E(\\phi_l(X))\\right]E(\\phi_l(X))$$\n",
    "And :<br>\n",
    "$$ \\phi_l(y_{2j-1})\\phi_l(y_{2j}) - E(\\phi_l(Y))^2  = \n",
    "\\left[\\phi_l(y_{2j-1}) - E(\\phi_l(Y))\\right]\\left[\\phi_l(x_{2j}) - E(\\phi_l(Y))\\right]+ E(\\phi_l(Y))\\left[\\phi_l(y_{2j}) - E(\\phi_l(Y))\\right]+ \\left[\\phi_l(y_{2j-1}) - E(\\phi_l(Y))\\right]E(\\phi_l(Y))$$"
   ]
  },
  {
   "cell_type": "markdown",
   "metadata": {},
   "source": [
    "We can see that : <br>\n",
    "$$\\frac{2}{mn}\\sum_{i,j} E(\\phi_l(X))\\left[\\phi_l(y_{j}) - E(\\phi_l(Y))\\right]= \\frac{2}{n}\\sum_{j} E(\\phi_l(X))\\left[\\phi_l(y_{j}) - E(\\phi_l(Y))\\right]$$\n",
    "$$\\sum_i E(\\phi_l(X))\\left[\\phi_l(x_{2i}) - E(\\phi_l(X))\\right]+ \\left[\\phi_l(x_{2i-1}) - E(\\phi_l(X))\\right]E(\\phi_l(X)) = \\sum_i E(\\phi_l(X))\\left[\\phi_l(x_{i}) - E(\\phi_l(X))\\right]$$\n",
    "And in H0 Hypotethis <br>\n",
    "$$E(X) = E(Y)$$"
   ]
  },
  {
   "cell_type": "markdown",
   "metadata": {},
   "source": [
    "That give us : <br>\n",
    "$$ MMD(X,Y) - MMD(p,q) =  \\sum_l \\mu_l\\left(\\frac{2}{m}\\sum_i \\left[\\phi_l(x_{2i-1}) - E(\\phi_l(X))\\right]\\left[\\phi_l(x_{2i}) - E(\\phi_l(X))\\right]+ \\frac{2}{n}\\sum_j \\left[\\phi_l(y_{2j-1}) - E(\\phi_l(Y))\\right]\\left[\\phi_l(x_{2j}) - E(\\phi_l(Y))\\right]- \\frac{2}{mn}\\sum_{j,i} \\left[\\phi_l(x_{i}) - E(\\phi_l(X))\\right]\\left[\\phi_l(y_{j}) - E(\\phi_l(Y))\\right]\\right)$$\n",
    "$$ MMD(X,Y) - MMD(p,q) =\\frac{2}{m}\\sum_i \\left\\{\\sum_l \\mu_l \\phi_l(x_{2i-1})\\phi_l(x_{2i}) -E\\left[\\sum_l \\mu_l \\phi_l(X)\\phi_l(x_{2i})\\right] -E\\left[\\sum_l \\mu_l \\phi_l(x_{2i-1})\\phi_l(X)\\right]+E\\left[\\sum_l \\mu_l \\phi_l(X)\\phi_l(X')\\right]\\right\\}+\\frac{2}{n}\\sum_j \\left\\{\\sum_l \\mu_l \\phi_l(y_{2j-1})\\phi_l(y_{2j}) -E\\left[\\sum_l \\mu_l \\phi_l(Y)\\phi_l(y_{2j})\\right] -E\\left[\\sum_l \\mu_l \\phi_l(y_{2j-1})\\phi_l(Y)\\right]+E\\left[\\sum_l \\mu_l \\phi_l(Y)\\phi_l(Y')\\right]\\right\\}- \\frac{2}{nm}\\sum_{i,j} \\left\\{\\sum_l \\mu_l \\phi_l(x_{i})\\phi_l(y_{j}) -E\\left[\\sum_l \\mu_l \\phi_l(X)\\phi_l(y_{j})\\right] -E\\left[\\sum_l \\mu_l \\phi_l(x_{i})\\phi_l(Y)\\right]+E\\left[\\sum_l \\mu_l \\phi_l(X)\\phi_l(Y)\\right]\\right\\}\n",
    "$$\n",
    "\n",
    "$$ MMD(X,Y) - MMD(p,q) =\\frac{2}{m}\\sum_i k(x_{2i-1},x_{2i}) -k(.,x_{2i}) -k(x_{2i-1},.)  + k(.,.)+\\frac{2}{n}\\sum_j k(y_{2j-1},y_{2j}) -k(.,y_{2j}) -k(y_{2j-1},.)  + k(.,.)- \\frac{2}{nm}\\sum_{i,j} k(x_{i},y_{j}) -k(.,y_{j}) -k(x_{i},.)  + k(.,.)\n",
    "$$\n",
    "with $k(x,.) = E(k(x,X))$\n"
   ]
  },
  {
   "cell_type": "markdown",
   "metadata": {},
   "source": [
    "### A more General Case"
   ]
  },
  {
   "cell_type": "markdown",
   "metadata": {},
   "source": [
    "To deal with a more general case, we use : $k(x,y) = <\\xi_x,\\xi_y> $ (Fubinni, hypotethis 1)<br>\n",
    "Then because the scalar product is bilinear, we can use the same tricks than in the Mercer case.\n",
    "So :\n",
    "$$ MMD(X,Y) - MMD(p,q) = \n",
    "\\frac{2}{m}\\sum_i <\\xi_{x_{2i}},\\xi_{x_{2i-1}}> - <E\\xi_x,E\\xi_x>+ \\frac{2}{n}\\sum_j <\\xi_{y_{2j}},\\xi_{y_{2j-1}}> - <E\\xi_y,E\\xi_y>- \\frac{2}{mn}\\sum_{j,i}  <\\xi_{x_{i}},\\xi_{y_{j}}> - <E\\xi_x,E\\xi_y>\n",
    "$$\n",
    "$$ MMD(X,Y) - MMD(p,q) = \n",
    "\\frac{2}{m}\\sum_i <\\xi_{x_{2i}} - E\\xi_x,\\xi_{x_{2i-1}} - E\\xi_x> + \\frac{2}{n}\\sum_j <\\xi_{y_{2j}} - E\\xi_y,\\xi_{y_{2j-1}} - E\\xi_y> - \\frac{2}{mn}\\sum_{j,i}  <\\xi_{x_{i}} - E\\xi_x, \\xi_{y_{j}} - E\\xi_y> \n",
    "$$\n",
    "$$ MMD(X,Y) - MMD(p,q) =\n",
    "\\frac{2}{m}\\sum_i k(x_{2i-1},x_{2i}) -k(.,x_{2i}) -k(x_{2i-1},.)  + k(.,.)+\n",
    "\\frac{2}{n}\\sum_j k(y_{2j-1},y_{2j}) -k(.,y_{2j}) -k(y_{2j-1},.)  + k(.,.)- \n",
    "\\frac{2}{nm}\\sum_{i,j} k(x_{i},y_{j}) -k(.,y_{j}) -k(x_{i},.)  + k(.,.)\n",
    "$$\n",
    "with $k(x,.) = E(k(x,X))$"
   ]
  },
  {
   "cell_type": "markdown",
   "metadata": {},
   "source": [
    "We get the same result in the general case."
   ]
  },
  {
   "cell_type": "markdown",
   "metadata": {},
   "source": [
    "### CLT"
   ]
  },
  {
   "cell_type": "markdown",
   "metadata": {},
   "source": [
    "We look at the final expression we obtain :<br>\n",
    " - the first term is a sum idependent term of the same law. By using the TCL, we get : <br>\n",
    "$$ \\frac{2}{m}\\sum_i k(x_{2i-1},x_{2i}) -k(.,x_{2i}) -k(x_{2i-1},.)  + k(.,.) \\rightarrow N(0, \\frac{2v}{m})$$\n",
    "with $v = Var(k(X,X') -k(.,X') -k(X,.)  + k(.,.))$\n",
    " - in the same way :\n",
    " $$ \\frac{2}{n}\\sum_j k(y_{2j-1},y_{2j}) -k(.,y_{2j}) -k(y_{2j-1},.)  + k(.,.) \\rightarrow N(0, \\frac{2v}{n})$$\n",
    "with $v = Var(k(X,X') -k(.,X') -k(X,.)  + k(.,.))$\n",
    " - As a sum of two independents gaussian, we have : <br>\n",
    " $$ \\frac{2}{m}\\sum_i k(x_{2i-1},x_{2i}) -k(.,x_{2i}) -k(x_{2i-1},.)  + k(.,.)  + \\frac{2}{\\alpha m}\\sum_j k(y_{2j-1},y_{2j}) -k(.,y_{2j}) -k(y_{2j-1},.)  + k(.,.) \\rightarrow N(0, 2v (\\frac{1}{m} + \\frac{1}{\\alpha m}))$$"
   ]
  },
  {
   "cell_type": "markdown",
   "metadata": {},
   "source": [
    "=========================  is missing a piece of evidence ===============<br>\n",
    "By using $$\\frac{1}{mn}\\sum_{j,i}  <\\xi_{x_{i}} - E\\xi_x, \\xi_{y_{j}} - E\\xi_y> =  <\\frac{1}{m}\\sum_{i}\\xi_{x_{i}} - E\\xi_x, \\frac{1}{n}\\sum_{j}\\xi_{y_{j}} - E\\xi_y> $$\n",
    "we see that $\\frac{1}{m}\\sum_{i}\\xi_{x_{i}} - E\\xi_x$ is a sum of independents terms with the same law. It should have a LCT result in such space.<br>\n",
    "In that case it would be possible to write :<br>\n",
    "$$ \\frac{1}{mn}\\sum_{j,i}  <\\xi_{x_{i}} - E\\xi_x, \\xi_{y_{j}} - E\\xi_y> = O_p(\\frac{1}{m})$$ (Bienaimé-Tchebychev)\n",
    "Finally we get the final law :\n",
    " $$MMD(X,Y)   \\rightarrow N(0, 2v (\\frac{1}{m} + \\frac{1}{\\alpha m}))$$"
   ]
  }
 ],
 "metadata": {
  "kernelspec": {
   "display_name": "Python 3",
   "language": "python",
   "name": "python3"
  },
  "language_info": {
   "codemirror_mode": {
    "name": "ipython",
    "version": 3
   },
   "file_extension": ".py",
   "mimetype": "text/x-python",
   "name": "python",
   "nbconvert_exporter": "python",
   "pygments_lexer": "ipython3",
   "version": "3.7.1"
  },
  "toc": {
   "base_numbering": 1,
   "nav_menu": {},
   "number_sections": true,
   "sideBar": true,
   "skip_h1_title": false,
   "title_cell": "Table of Contents",
   "title_sidebar": "Contents",
   "toc_cell": false,
   "toc_position": {},
   "toc_section_display": true,
   "toc_window_display": true
  }
 },
 "nbformat": 4,
 "nbformat_minor": 2
}
