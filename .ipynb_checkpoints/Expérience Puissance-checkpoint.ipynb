{
 "cells": [
  {
   "cell_type": "code",
   "execution_count": 1,
   "metadata": {},
   "outputs": [],
   "source": [
    "from API import *"
   ]
  },
  {
   "cell_type": "code",
   "execution_count": 2,
   "metadata": {},
   "outputs": [],
   "source": [
    "def est_partial_mean_MC(kernel, y,law_p):\n",
    "    return np.mean(kernel(y, law_p(1000)))\n",
    "\n",
    "\n",
    "def estim_V_MC(kernel, law_p, law_q, repeat=10000):\n",
    "    echantillions = np.zeros(repeat)\n",
    "    for i in range(repeat):\n",
    "        x1 = law_p(1)\n",
    "        x2 = law_p(1)\n",
    "        echantillions[i] = kernel(x1,x2) - est_partial_mean_MC(kernel, x1, law_q) - est_partial_mean_MC(kernel, x2, law_q)\n",
    "    return echantillions.var()\n",
    "\n",
    "def var_H_MC(kernel, law_p, law_q, alpha, size=100):\n",
    "    return estim_V_MC(kernel, law_p, law_q) + 1/alpha*estim_V_MC(kernel, law_q, law_p)"
   ]
  },
  {
   "cell_type": "code",
   "execution_count": 12,
   "metadata": {},
   "outputs": [],
   "source": [
    "law_p = normal(0,1)\n",
    "law_q = normal(2,2)"
   ]
  },
  {
   "cell_type": "code",
   "execution_count": 58,
   "metadata": {},
   "outputs": [],
   "source": [
    "kernel = gaussian(0.01)\n",
    "alpha = 0.05\n",
    "sigma = np.sqrt(var_H_MC(kernel, law_p, law_p, alpha=0.1, size=100))\n",
    "invPhiAlpha = inv_phi(1-alpha)"
   ]
  },
  {
   "cell_type": "code",
   "execution_count": null,
   "metadata": {},
   "outputs": [],
   "source": []
  },
  {
   "cell_type": "code",
   "execution_count": null,
   "metadata": {},
   "outputs": [],
   "source": [
    "t = np.sqrt(2)*sigma*invPhiAlpha/np.sqrt(1000)"
   ]
  },
  {
   "cell_type": "code",
   "execution_count": null,
   "metadata": {},
   "outputs": [],
   "source": [
    "repeat = 1000\n",
    "mmd = np.zeros(repeat)\n",
    "for i in range(repeat):\n",
    "    MMD = OMMD(kernel, law_p(1000))\n",
    "    MMD.fit(law_p(100))\n",
    "    mmd[i] = MMD.MMD\n"
   ]
  },
  {
   "cell_type": "code",
   "execution_count": null,
   "metadata": {},
   "outputs": [],
   "source": [
    "(mmd>t).mean()"
   ]
  },
  {
   "cell_type": "code",
   "execution_count": null,
   "metadata": {},
   "outputs": [],
   "source": [
    "repeat = 1000\n",
    "mmd = np.zeros(repeat)\n",
    "for i in range(repeat):\n",
    "    MMD = OMMD(kernel, law_p(1000))\n",
    "    MMD.fit(law_q(100))\n",
    "    mmd[i] = MMD.MMD\n"
   ]
  },
  {
   "cell_type": "code",
   "execution_count": null,
   "metadata": {},
   "outputs": [],
   "source": [
    "(mmd<t).mean()"
   ]
  },
  {
   "cell_type": "code",
   "execution_count": null,
   "metadata": {},
   "outputs": [],
   "source": []
  },
  {
   "cell_type": "code",
   "execution_count": null,
   "metadata": {},
   "outputs": [],
   "source": []
  }
 ],
 "metadata": {
  "kernelspec": {
   "display_name": "Python 3",
   "language": "python",
   "name": "python3"
  },
  "language_info": {
   "codemirror_mode": {
    "name": "ipython",
    "version": 3
   },
   "file_extension": ".py",
   "mimetype": "text/x-python",
   "name": "python",
   "nbconvert_exporter": "python",
   "pygments_lexer": "ipython3",
   "version": "3.6.8"
  }
 },
 "nbformat": 4,
 "nbformat_minor": 2
}
