{
 "cells": [
  {
   "cell_type": "code",
   "execution_count": 1,
   "metadata": {},
   "outputs": [],
   "source": [
    "from API import *"
   ]
  },
  {
   "cell_type": "code",
   "execution_count": 44,
   "metadata": {},
   "outputs": [],
   "source": [
    "def moyenne(kernel, X_, Y, repeat=100):\n",
    "    mmd = np.zeros(repeat)\n",
    "    for i in range(repeat):\n",
    "        MMD = OMMD(kernel,np.random.choice(X_.flatten(), size = 100, replace=True).reshape((-1,1)))\n",
    "        MMD.fit(np.random.choice(Y.flatten(), size = 100, replace=True).reshape((-1,1)))\n",
    "        mmd[i] = MMD.MMD\n",
    "        #print(f\"Progression {(i/repeat)*100:.0f}%\", end=\"\\r\", flush=True)\n",
    "    return mmd.mean()\n",
    "\n",
    "def est_partial_mean(kernel, X, y):\n",
    "    return np.mean(kernel(y, X))\n",
    "\n",
    "\n",
    "def estim_V(kernel, X, Y, repeat=10000):\n",
    "    echantillions = np.zeros(repeat)\n",
    "    for i in range(repeat):\n",
    "        x1 = np.random.choice(X.flatten(), size = 1, replace=True).reshape((-1,1))\n",
    "        x2 = np.random.choice(X.flatten(), size = 1, replace=True).reshape((-1,1))\n",
    "        Y_1 = np.random.choice(Y.flatten(), size = 100, replace=True).reshape((-1,1))\n",
    "        Y_2 = np.random.choice(Y.flatten(), size = 100, replace=True).reshape((-1,1))\n",
    "        echantillions[i] = kernel(x1,x2) - est_partial_mean(kernel, x1, Y_1) - est_partial_mean(kernel, x2, Y_2)\n",
    "    return echantillions.var()\n",
    "\n",
    "def var_H(kernel, X, Y, alpha, size=100):\n",
    "    return estim_V(kernel, X, Y) + 1/alpha*estim_V(kernel, Y, X)\n",
    "\n",
    "def V1V0(sigma_H0, alpha, sigma_H1):\n",
    "    \"\"\" Renvoie le premier terme de l'élément à optimiser\"\"\"\n",
    "    return sigma_H0*inv_phi(1 - alpha)/sigma_H1\n",
    "def MV(m, MMD_H1, sigma_H1):\n",
    "    \"\"\" Renvoie le deuxième terme de l'élément à optimiser\"\"\"\n",
    "    return np.sqrt(m/2)*MMD_H1/sigma_H1"
   ]
  },
  {
   "cell_type": "code",
   "execution_count": 3,
   "metadata": {},
   "outputs": [],
   "source": [
    "def moyenne_MC(kernel, law_p, law_q, repeat=100):\n",
    "    mmd = np.zeros(repeat)\n",
    "    for i in range(repeat):\n",
    "        MMD = OMMD(kernel, law_p(100))\n",
    "        MMD.fit(law_q(100))\n",
    "        mmd[i] = MMD.MMD\n",
    "        #print(f\"Progression {(i/repeat)*100:.0f}%\", end=\"\\r\", flush=True)\n",
    "    return mmd.mean()\n",
    "\n",
    "def est_partial_mean_MC(kernel, y,law_p):\n",
    "    return np.mean(kernel(y, law_p(100)))\n",
    "\n",
    "\n",
    "def estim_V_MC(kernel, law_p, law_q, repeat=1000):\n",
    "    echantillions = np.zeros(repeat)\n",
    "    for i in range(repeat):\n",
    "        x1 = law_p(1)\n",
    "        x2 = law_p(1)\n",
    "        echantillions[i] = kernel(x1,x2) - est_partial_mean_MC(kernel, x1, law_q) - est_partial_mean_MC(kernel, x2, law_q)\n",
    "    return echantillions.var()\n",
    "\n",
    "def var_H_MC(kernel, law_p, law_q, alpha, size=100):\n",
    "    return estim_V_MC(kernel, law_p, law_q) + 1/alpha*estim_V_MC(kernel, law_q, law_p)\n",
    "\n",
    "def V1V0(sigma_H0, alpha, sigma_H1):\n",
    "    \"\"\" Renvoie le premier terme de l'élément à optimiser\"\"\"\n",
    "    return sigma_H0*inv_phi(1 - alpha)/sigma_H1\n",
    "def MV(m, MMD_H1, sigma_H1):\n",
    "    \"\"\" Renvoie le deuxième terme de l'élément à optimiser\"\"\"\n",
    "    return np.sqrt(m/2)*MMD_H1/sigma_H1"
   ]
  },
  {
   "cell_type": "code",
   "execution_count": 5,
   "metadata": {},
   "outputs": [],
   "source": [
    "law_p = normal(0,1)\n",
    "law_q = normal(2,2)\n",
    "kernel  = gaussian(1)"
   ]
  },
  {
   "cell_type": "code",
   "execution_count": 21,
   "metadata": {},
   "outputs": [
    {
     "name": "stdout",
     "output_type": "stream",
     "text": [
      "CPU times: user 2min 44s, sys: 168 ms, total: 2min 44s\n",
      "Wall time: 2min 44s\n"
     ]
    }
   ],
   "source": [
    "%%time\n",
    "L_bootstrap = []\n",
    "for _ in range(100):\n",
    "    X = law_p(10000)\n",
    "    Y = law_q(10000)\n",
    "    L_bootstrap.append(moyenne(kernel, X, Y))"
   ]
  },
  {
   "cell_type": "code",
   "execution_count": 22,
   "metadata": {},
   "outputs": [
    {
     "name": "stdout",
     "output_type": "stream",
     "text": [
      "CPU times: user 2min 43s, sys: 144 ms, total: 2min 43s\n",
      "Wall time: 2min 43s\n"
     ]
    }
   ],
   "source": [
    "%%time\n",
    "L_MC = []\n",
    "for _ in range(100):\n",
    "    L_MC.append(moyenne_MC(kernel, law_p, law_q))"
   ]
  },
  {
   "cell_type": "code",
   "execution_count": 28,
   "metadata": {},
   "outputs": [
    {
     "data": {
      "image/png": "[encoded data removed]",
      "text/plain": [
       "<Figure size 432x288 with 1 Axes>"
      ]
     },
     "metadata": {
      "needs_background": "light"
     },
     "output_type": "display_data"
    }
   ],
   "source": [
    "plt.hist(L_bootstrap, label='Bootstrap');\n",
    "plt.hist(L_MC, label='MC');\n",
    "plt.legend();"
   ]
  },
  {
   "cell_type": "code",
   "execution_count": 29,
   "metadata": {},
   "outputs": [
    {
     "name": "stdout",
     "output_type": "stream",
     "text": [
      "moyenne bootsrap : 0.5609725610177236\n",
      "moyenne MC : 0.5615002589538775\n",
      "variance bootsrap : 0.0001446393950433846\n",
      "variance MC : 8.924175018522107e-05\n"
     ]
    }
   ],
   "source": [
    "print(f\"moyenne bootsrap : {np.mean(L_bootstrap)}\")\n",
    "print(f\"moyenne MC : {np.mean(L_MC)}\")\n",
    "print(f\"variance bootsrap : {np.var(L_bootstrap)}\")\n",
    "print(f\"variance MC : {np.var(L_MC)}\")"
   ]
  },
  {
   "cell_type": "code",
   "execution_count": 24,
   "metadata": {},
   "outputs": [],
   "source": [
    "##### "
   ]
  },
  {
   "cell_type": "code",
   "execution_count": 30,
   "metadata": {},
   "outputs": [
    {
     "data": {
      "text/plain": [
       "2.2662620335446113"
      ]
     },
     "execution_count": 30,
     "metadata": {},
     "output_type": "execute_result"
    }
   ],
   "source": [
    "var_H(kernel, X, Y, alpha=0.1, size=100)"
   ]
  },
  {
   "cell_type": "code",
   "execution_count": 37,
   "metadata": {},
   "outputs": [
    {
     "data": {
      "text/plain": [
       "2.470042984296022"
      ]
     },
     "execution_count": 37,
     "metadata": {},
     "output_type": "execute_result"
    }
   ],
   "source": [
    "var_H_MC(kernel, law_p, law_q, alpha=0.1, size=100)"
   ]
  },
  {
   "cell_type": "code",
   "execution_count": 38,
   "metadata": {},
   "outputs": [
    {
     "name": "stdout",
     "output_type": "stream",
     "text": [
      "CPU times: user 2min 19s, sys: 1.05 s, total: 2min 20s\n",
      "Wall time: 2min 20s\n"
     ]
    }
   ],
   "source": [
    "%%time\n",
    "L_bootstrap = []\n",
    "for _ in range(100):\n",
    "    X = law_p(10000)\n",
    "    Y = law_q(10000)\n",
    "    L_bootstrap.append(var_H(kernel, X, Y, alpha=0.1, size=100))"
   ]
  },
  {
   "cell_type": "code",
   "execution_count": 18,
   "metadata": {},
   "outputs": [
    {
     "name": "stdout",
     "output_type": "stream",
     "text": [
      "CPU times: user 14min 39s, sys: 3.46 s, total: 14min 42s\n",
      "Wall time: 14min 40s\n"
     ]
    }
   ],
   "source": [
    "%%time\n",
    "L_MC = []\n",
    "for _ in range(100):\n",
    "    L_MC.append(var_H_MC(kernel, law_p, law_q, alpha=0.1, size=100))"
   ]
  },
  {
   "cell_type": "code",
   "execution_count": 9,
   "metadata": {},
   "outputs": [
    {
     "ename": "NameError",
     "evalue": "name 'L_bootstrap' is not defined",
     "output_type": "error",
     "traceback": [
      "\u001b[0;31m---------------------------------------------------------------------------\u001b[0m",
      "\u001b[0;31mNameError\u001b[0m                                 Traceback (most recent call last)",
      "\u001b[0;32m<ipython-input-9-93e4d5f12563>\u001b[0m in \u001b[0;36m<module>\u001b[0;34m\u001b[0m\n\u001b[0;32m----> 1\u001b[0;31m \u001b[0mplt\u001b[0m\u001b[0;34m.\u001b[0m\u001b[0mhist\u001b[0m\u001b[0;34m(\u001b[0m\u001b[0mL_bootstrap\u001b[0m\u001b[0;34m,\u001b[0m \u001b[0mlabel\u001b[0m\u001b[0;34m=\u001b[0m\u001b[0;34m'Bootstrap'\u001b[0m\u001b[0;34m)\u001b[0m\u001b[0;34m;\u001b[0m\u001b[0;34m\u001b[0m\u001b[0;34m\u001b[0m\u001b[0m\n\u001b[0m\u001b[1;32m      2\u001b[0m \u001b[0mplt\u001b[0m\u001b[0;34m.\u001b[0m\u001b[0mhist\u001b[0m\u001b[0;34m(\u001b[0m\u001b[0mL_MC\u001b[0m\u001b[0;34m,\u001b[0m \u001b[0mlabel\u001b[0m\u001b[0;34m=\u001b[0m\u001b[0;34m'MC'\u001b[0m\u001b[0;34m)\u001b[0m\u001b[0;34m;\u001b[0m\u001b[0;34m\u001b[0m\u001b[0;34m\u001b[0m\u001b[0m\n\u001b[1;32m      3\u001b[0m \u001b[0mplt\u001b[0m\u001b[0;34m.\u001b[0m\u001b[0mlegend\u001b[0m\u001b[0;34m(\u001b[0m\u001b[0;34m)\u001b[0m\u001b[0;34m;\u001b[0m\u001b[0;34m\u001b[0m\u001b[0;34m\u001b[0m\u001b[0m\n",
      "\u001b[0;31mNameError\u001b[0m: name 'L_bootstrap' is not defined"
     ]
    }
   ],
   "source": [
    "#plt.hist(L_bootstrap, label='Bootstrap');\n",
    "plt.hist(L_MC, label='MC');\n",
    "plt.legend();"
   ]
  },
  {
   "cell_type": "code",
   "execution_count": 19,
   "metadata": {},
   "outputs": [
    {
     "name": "stdout",
     "output_type": "stream",
     "text": [
      "moyenne MC : 2.5170986021626502\n",
      "variance MC : 0.00048676635353008565\n"
     ]
    }
   ],
   "source": [
    "#print(f\"moyenne bootsrap : {np.mean(L_bootstrap)}\")\n",
    "print(f\"moyenne MC : {np.mean(L_MC)}\")\n",
    "#print(f\"variance bootsrap : {np.var(L_bootstrap)}\")\n",
    "print(f\"variance MC : {np.var(L_MC)}\")"
   ]
  },
  {
   "cell_type": "markdown",
   "metadata": {},
   "source": [
    "--> Première conclusion, moins de variance en échantillonnant qu'en rééchantillonnant"
   ]
  },
  {
   "cell_type": "code",
   "execution_count": 52,
   "metadata": {},
   "outputs": [
    {
     "name": "stdout",
     "output_type": "stream",
     "text": [
      "CPU times: user 43min 38s, sys: 5.15 s, total: 43min 43s\n",
      "Wall time: 43min 43s\n"
     ]
    }
   ],
   "source": [
    "%%time\n",
    "L_sigma_H0_Boot = []\n",
    "L_sigma_H1_Boot = []\n",
    "L_V1V0_Boot = []\n",
    "for _ in range(100):\n",
    "    X = law_p(10000)\n",
    "    Y = law_q(10000)\n",
    "    sigma_H0 = var_H(kernel, X, X, alpha=0.1, size=100)\n",
    "    sigma_H1 = var_H(kernel, X, Y, alpha=0.1, size=100)\n",
    "    v1v0 = V1V0(sigma_H0, 0.05, sigma_H1)\n",
    "    L_sigma_H0_Boot.append(sigma_H0)\n",
    "    L_sigma_H1_Boot.append(sigma_H1)\n",
    "    L_V1V0_Boot.append(v1v0)"
   ]
  },
  {
   "cell_type": "code",
   "execution_count": 53,
   "metadata": {},
   "outputs": [
    {
     "name": "stdout",
     "output_type": "stream",
     "text": [
      "CPU times: user 4h 54min 41s, sys: 36.2 s, total: 4h 55min 17s\n",
      "Wall time: 4h 55min 27s\n"
     ]
    }
   ],
   "source": [
    "%%time\n",
    "L_sigma_H0_MC = []\n",
    "L_sigma_H1_MC = []\n",
    "L_V1V0_MC = []\n",
    "for _ in range(100):\n",
    "    sigma_H0 = var_H_MC(kernel, law_p, law_p, alpha=0.1, size=100)\n",
    "    sigma_H1 = var_H_MC(kernel, law_p, law_q, alpha=0.1, size=100)\n",
    "    v1v0 = V1V0(sigma_H0, 0.05, sigma_H1)\n",
    "    L_sigma_H0_MC.append(sigma_H0)\n",
    "    L_sigma_H1_MC.append(sigma_H1)\n",
    "    L_V1V0_MC.append(v1v0)"
   ]
  },
  {
   "cell_type": "code",
   "execution_count": 54,
   "metadata": {},
   "outputs": [
    {
     "name": "stdout",
     "output_type": "stream",
     "text": [
      "moyenne bootsrap : 0.8302964656412041\n",
      "moyenne MC : 0.8094876712638669\n",
      "variance bootsrap : 0.00022958985683542118\n",
      "variance MC : 0.00012069340425701486\n"
     ]
    },
    {
     "data": {
      "image/png": "[encoded data removed]",
      "text/plain": [
       "<Figure size 432x288 with 1 Axes>"
      ]
     },
     "metadata": {
      "needs_background": "light"
     },
     "output_type": "display_data"
    }
   ],
   "source": [
    "plt.hist(L_sigma_H0_Boot, label='Bootstrap');\n",
    "plt.hist(L_sigma_H0_MC, label='MC');\n",
    "plt.legend();\n",
    "print(f\"moyenne bootsrap : {np.mean(L_sigma_H0_Boot)}\")\n",
    "print(f\"moyenne MC : {np.mean(L_sigma_H0_MC)}\")\n",
    "print(f\"variance bootsrap : {np.var(L_sigma_H0_Boot)}\")\n",
    "print(f\"variance MC : {np.var(L_sigma_H0_MC)}\")"
   ]
  },
  {
   "cell_type": "code",
   "execution_count": 55,
   "metadata": {},
   "outputs": [
    {
     "name": "stdout",
     "output_type": "stream",
     "text": [
      "moyenne bootsrap : 2.3803136205228865\n",
      "moyenne MC : 2.3627581826447837\n",
      "variance bootsrap : 0.0010031266808127764\n",
      "variance MC : 0.0004230375021729621\n"
     ]
    },
    {
     "data": {
      "image/png": "[encoded data removed]",
      "text/plain": [
       "<Figure size 432x288 with 1 Axes>"
      ]
     },
     "metadata": {
      "needs_background": "light"
     },
     "output_type": "display_data"
    }
   ],
   "source": [
    "plt.hist(L_sigma_H1_Boot, label='Bootstrap');\n",
    "plt.hist(L_sigma_H1_MC, label='MC');\n",
    "plt.legend();\n",
    "print(f\"moyenne bootsrap : {np.mean(L_sigma_H1_Boot)}\")\n",
    "print(f\"moyenne MC : {np.mean(L_sigma_H1_MC)}\")\n",
    "print(f\"variance bootsrap : {np.var(L_sigma_H1_Boot)}\")\n",
    "print(f\"variance MC : {np.var(L_sigma_H1_MC)}\")"
   ]
  },
  {
   "cell_type": "code",
   "execution_count": 56,
   "metadata": {},
   "outputs": [
    {
     "name": "stdout",
     "output_type": "stream",
     "text": [
      "moyenne bootsrap : 0.5738688524754367\n",
      "moyenne MC : 0.5635862602072765\n",
      "variance bootsrap : 0.00018253513907612307\n",
      "variance MC : 9.613011884931623e-05\n"
     ]
    },
    {
     "data": {
      "image/png": "[encoded data removed]",
      "text/plain": [
       "<Figure size 432x288 with 1 Axes>"
      ]
     },
     "metadata": {
      "needs_background": "light"
     },
     "output_type": "display_data"
    }
   ],
   "source": [
    "plt.hist(L_V1V0_Boot, label='Bootstrap');\n",
    "plt.hist(L_V1V0_MC, label='MC');\n",
    "plt.legend();\n",
    "print(f\"moyenne bootsrap : {np.mean(L_V1V0_Boot)}\")\n",
    "print(f\"moyenne MC : {np.mean(L_V1V0_MC)}\")\n",
    "print(f\"variance bootsrap : {np.var(L_V1V0_Boot)}\")\n",
    "print(f\"variance MC : {np.var(L_V1V0_MC)}\")"
   ]
  },
  {
   "cell_type": "code",
   "execution_count": 57,
   "metadata": {},
   "outputs": [],
   "source": [
    "####### l = 1000, B = 10000"
   ]
  },
  {
   "cell_type": "code",
   "execution_count": 65,
   "metadata": {},
   "outputs": [
    {
     "name": "stdout",
     "output_type": "stream",
     "text": [
      "CPU times: user 5min 54s, sys: 212 ms, total: 5min 54s\n",
      "Wall time: 5min 54s\n"
     ]
    }
   ],
   "source": [
    "%%time\n",
    "L_sigma_H0_MC1 = []\n",
    "L_sigma_H1_MC1 = []\n",
    "L_V1V0_MC1 = []\n",
    "law_p = normal(0,1)\n",
    "law_q = normal(2,1)\n",
    "kernel  = gaussian(1)\n",
    "for _ in range(10):\n",
    "    sigma_H0 = var_H_MC(kernel, law_p, law_p, alpha=0.1, size=100)\n",
    "    sigma_H1 = var_H_MC(kernel, law_p, law_q, alpha=0.1, size=100)\n",
    "    v1v0 = V1V0(sigma_H0, 0.05, sigma_H1)\n",
    "    L_sigma_H0_MC1.append(sigma_H0)\n",
    "    L_sigma_H1_MC1.append(sigma_H1)\n",
    "    L_V1V0_MC1.append(v1v0)"
   ]
  },
  {
   "cell_type": "code",
   "execution_count": 66,
   "metadata": {},
   "outputs": [
    {
     "name": "stdout",
     "output_type": "stream",
     "text": [
      "CPU times: user 6min 4s, sys: 1.14 s, total: 6min 5s\n",
      "Wall time: 6min 5s\n"
     ]
    }
   ],
   "source": [
    "%%time\n",
    "L_sigma_H0_MC2 = []\n",
    "L_sigma_H1_MC2 = []\n",
    "L_V1V0_MC2 = []\n",
    "law_p = normal(0,1)\n",
    "law_q = normal(2,1)\n",
    "kernel  = gaussian(10)\n",
    "for _ in range(10):\n",
    "    sigma_H0 = var_H_MC(kernel, law_p, law_p, alpha=0.1, size=100)\n",
    "    sigma_H1 = var_H_MC(kernel, law_p, law_q, alpha=0.1, size=100)\n",
    "    v1v0 = V1V0(sigma_H0, 0.05, sigma_H1)\n",
    "    L_sigma_H0_MC2.append(sigma_H0)\n",
    "    L_sigma_H1_MC2.append(sigma_H1)\n",
    "    L_V1V0_MC2.append(v1v0)"
   ]
  },
  {
   "cell_type": "code",
   "execution_count": 67,
   "metadata": {},
   "outputs": [
    {
     "name": "stdout",
     "output_type": "stream",
     "text": [
      "moyenne MC1 : 0.8078926839069889\n",
      "moyenne MC2 : 0.0667299747847471\n",
      "variance MC1 : 0.0001217498007172215\n",
      "variance MC2 : 8.873629365368724e-07\n"
     ]
    },
    {
     "data": {
      "image/png": "[encoded data removed]",
      "text/plain": [
       "<Figure size 432x288 with 1 Axes>"
      ]
     },
     "metadata": {
      "needs_background": "light"
     },
     "output_type": "display_data"
    }
   ],
   "source": [
    "plt.hist(L_sigma_H0_MC1, label='MC1');\n",
    "plt.hist(L_sigma_H0_MC2, label='MC2');\n",
    "plt.legend();\n",
    "print(f\"moyenne MC1 : {np.mean(L_sigma_H0_MC1)}\")\n",
    "print(f\"moyenne MC2 : {np.mean(L_sigma_H0_MC2)}\")\n",
    "print(f\"variance MC1 : {np.var(L_sigma_H0_MC1)}\")\n",
    "print(f\"variance MC2 : {np.var(L_sigma_H0_MC2)}\")"
   ]
  },
  {
   "cell_type": "code",
   "execution_count": 68,
   "metadata": {},
   "outputs": [
    {
     "name": "stdout",
     "output_type": "stream",
     "text": [
      "moyenne MC1 : 2.3600022021231317\n",
      "moyenne MC2 : 0.44619977868424254\n",
      "variance MC1 : 0.0008848423373528505\n",
      "variance MC2 : 1.6100657994093434e-05\n"
     ]
    },
    {
     "data": {
      "image/png": "[encoded data removed]",
      "text/plain": [
       "<Figure size 432x288 with 1 Axes>"
      ]
     },
     "metadata": {
      "needs_background": "light"
     },
     "output_type": "display_data"
    }
   ],
   "source": [
    "plt.hist(L_sigma_H1_MC1, label='MC1');\n",
    "plt.hist(L_sigma_H1_MC2, label='MC2');\n",
    "plt.legend();\n",
    "print(f\"moyenne MC1 : {np.mean(L_sigma_H1_MC1)}\")\n",
    "print(f\"moyenne MC2 : {np.mean(L_sigma_H1_MC2)}\")\n",
    "print(f\"variance MC1 : {np.var(L_sigma_H1_MC1)}\")\n",
    "print(f\"variance MC2 : {np.var(L_sigma_H1_MC2)}\")"
   ]
  },
  {
   "cell_type": "code",
   "execution_count": 69,
   "metadata": {},
   "outputs": [
    {
     "name": "stdout",
     "output_type": "stream",
     "text": [
      "moyenne MC1 : 0.5631361665898487\n",
      "moyenne MC2 : 0.2460074112010216\n",
      "variance MC1 : 7.484356480168164e-05\n",
      "variance MC2 : 1.5292257520599573e-05\n"
     ]
    },
    {
     "data": {
      "image/png": "[encoded data removed]",
      "text/plain": [
       "<Figure size 432x288 with 1 Axes>"
      ]
     },
     "metadata": {
      "needs_background": "light"
     },
     "output_type": "display_data"
    }
   ],
   "source": [
    "plt.hist(L_V1V0_MC1, label='MC1');\n",
    "plt.hist(L_V1V0_MC2, label='MC2');\n",
    "plt.legend();\n",
    "print(f\"moyenne MC1 : {np.mean(L_V1V0_MC1)}\")\n",
    "print(f\"moyenne MC2 : {np.mean(L_V1V0_MC2)}\")\n",
    "print(f\"variance MC1 : {np.var(L_V1V0_MC1)}\")\n",
    "print(f\"variance MC2 : {np.var(L_V1V0_MC2)}\")"
   ]
  },
  {
   "cell_type": "code",
   "execution_count": 70,
   "metadata": {},
   "outputs": [],
   "source": [
    "###"
   ]
  },
  {
   "cell_type": "code",
   "execution_count": 6,
   "metadata": {},
   "outputs": [],
   "source": [
    "param = [1,2,5,10,20,50,100,200,500,1000,100000]\n",
    "res_s0 = np.zeros((10,10))\n",
    "res_s1 = np.zeros((10,10))\n",
    "res_m = np.zeros((10,10))\n",
    "res = np.zeros((10,10))\n",
    "for i in range(10):\n",
    "    for j in range(10):\n",
    "        kernel = gaussian(param[i])\n",
    "        sigma_H0 = var_H_MC(kernel, law_p, law_p, alpha=0.1, size=100)\n",
    "        sigma_H1 = var_H_MC(kernel, law_p, law_q, alpha=0.1, size=100)\n",
    "        MMD_H1 = moyenne_MC(kernel, law_p, law_q)\n",
    "        v1v0 = V1V0(sigma_H0, 0.05, sigma_H1)\n",
    "        mv = MV(1000, MMD_H1, sigma_H1)\n",
    "        res[j,i] = v1v0 - mv\n",
    "        res_s0[j,i] = sigma_H0\n",
    "        res_s1[j,i] = sigma_H1\n",
    "        res_m[j,i] = MMD_H1"
   ]
  },
  {
   "cell_type": "code",
   "execution_count": 7,
   "metadata": {},
   "outputs": [
    {
     "ename": "ValueError",
     "evalue": "x and y must have same first dimension, but have shapes (11,) and (10,)",
     "output_type": "error",
     "traceback": [
      "\u001b[0;31m---------------------------------------------------------------------------\u001b[0m",
      "\u001b[0;31mValueError\u001b[0m                                Traceback (most recent call last)",
      "\u001b[0;32m<ipython-input-7-2ec1c1f79f79>\u001b[0m in \u001b[0;36m<module>\u001b[0;34m\u001b[0m\n\u001b[1;32m      1\u001b[0m \u001b[0;32mfor\u001b[0m \u001b[0mi\u001b[0m \u001b[0;32min\u001b[0m \u001b[0mrange\u001b[0m\u001b[0;34m(\u001b[0m\u001b[0;36m10\u001b[0m\u001b[0;34m)\u001b[0m\u001b[0;34m:\u001b[0m\u001b[0;34m\u001b[0m\u001b[0;34m\u001b[0m\u001b[0m\n\u001b[0;32m----> 2\u001b[0;31m     \u001b[0mplt\u001b[0m\u001b[0;34m.\u001b[0m\u001b[0mplot\u001b[0m\u001b[0;34m(\u001b[0m\u001b[0mparam\u001b[0m\u001b[0;34m,\u001b[0m\u001b[0mres\u001b[0m\u001b[0;34m[\u001b[0m\u001b[0mi\u001b[0m\u001b[0;34m]\u001b[0m\u001b[0;34m)\u001b[0m\u001b[0;34m\u001b[0m\u001b[0;34m\u001b[0m\u001b[0m\n\u001b[0m",
      "\u001b[0;32m~/anaconda3/lib/python3.6/site-packages/matplotlib/pyplot.py\u001b[0m in \u001b[0;36mplot\u001b[0;34m(scalex, scaley, data, *args, **kwargs)\u001b[0m\n\u001b[1;32m   2811\u001b[0m     return gca().plot(\n\u001b[1;32m   2812\u001b[0m         *args, scalex=scalex, scaley=scaley, **({\"data\": data} if data\n\u001b[0;32m-> 2813\u001b[0;31m         is not None else {}), **kwargs)\n\u001b[0m\u001b[1;32m   2814\u001b[0m \u001b[0;34m\u001b[0m\u001b[0m\n\u001b[1;32m   2815\u001b[0m \u001b[0;34m\u001b[0m\u001b[0m\n",
      "\u001b[0;32m~/anaconda3/lib/python3.6/site-packages/matplotlib/__init__.py\u001b[0m in \u001b[0;36minner\u001b[0;34m(ax, data, *args, **kwargs)\u001b[0m\n\u001b[1;32m   1808\u001b[0m                         \u001b[0;34m\"the Matplotlib list!)\"\u001b[0m \u001b[0;34m%\u001b[0m \u001b[0;34m(\u001b[0m\u001b[0mlabel_namer\u001b[0m\u001b[0;34m,\u001b[0m \u001b[0mfunc\u001b[0m\u001b[0;34m.\u001b[0m\u001b[0m__name__\u001b[0m\u001b[0;34m)\u001b[0m\u001b[0;34m,\u001b[0m\u001b[0;34m\u001b[0m\u001b[0;34m\u001b[0m\u001b[0m\n\u001b[1;32m   1809\u001b[0m                         RuntimeWarning, stacklevel=2)\n\u001b[0;32m-> 1810\u001b[0;31m             \u001b[0;32mreturn\u001b[0m \u001b[0mfunc\u001b[0m\u001b[0;34m(\u001b[0m\u001b[0max\u001b[0m\u001b[0;34m,\u001b[0m \u001b[0;34m*\u001b[0m\u001b[0margs\u001b[0m\u001b[0;34m,\u001b[0m \u001b[0;34m**\u001b[0m\u001b[0mkwargs\u001b[0m\u001b[0;34m)\u001b[0m\u001b[0;34m\u001b[0m\u001b[0;34m\u001b[0m\u001b[0m\n\u001b[0m\u001b[1;32m   1811\u001b[0m \u001b[0;34m\u001b[0m\u001b[0m\n\u001b[1;32m   1812\u001b[0m         inner.__doc__ = _add_data_doc(inner.__doc__,\n",
      "\u001b[0;32m~/anaconda3/lib/python3.6/site-packages/matplotlib/axes/_axes.py\u001b[0m in \u001b[0;36mplot\u001b[0;34m(self, scalex, scaley, *args, **kwargs)\u001b[0m\n\u001b[1;32m   1609\u001b[0m         \u001b[0mkwargs\u001b[0m \u001b[0;34m=\u001b[0m \u001b[0mcbook\u001b[0m\u001b[0;34m.\u001b[0m\u001b[0mnormalize_kwargs\u001b[0m\u001b[0;34m(\u001b[0m\u001b[0mkwargs\u001b[0m\u001b[0;34m,\u001b[0m \u001b[0mmlines\u001b[0m\u001b[0;34m.\u001b[0m\u001b[0mLine2D\u001b[0m\u001b[0;34m.\u001b[0m\u001b[0m_alias_map\u001b[0m\u001b[0;34m)\u001b[0m\u001b[0;34m\u001b[0m\u001b[0;34m\u001b[0m\u001b[0m\n\u001b[1;32m   1610\u001b[0m \u001b[0;34m\u001b[0m\u001b[0m\n\u001b[0;32m-> 1611\u001b[0;31m         \u001b[0;32mfor\u001b[0m \u001b[0mline\u001b[0m \u001b[0;32min\u001b[0m \u001b[0mself\u001b[0m\u001b[0;34m.\u001b[0m\u001b[0m_get_lines\u001b[0m\u001b[0;34m(\u001b[0m\u001b[0;34m*\u001b[0m\u001b[0margs\u001b[0m\u001b[0;34m,\u001b[0m \u001b[0;34m**\u001b[0m\u001b[0mkwargs\u001b[0m\u001b[0;34m)\u001b[0m\u001b[0;34m:\u001b[0m\u001b[0;34m\u001b[0m\u001b[0;34m\u001b[0m\u001b[0m\n\u001b[0m\u001b[1;32m   1612\u001b[0m             \u001b[0mself\u001b[0m\u001b[0;34m.\u001b[0m\u001b[0madd_line\u001b[0m\u001b[0;34m(\u001b[0m\u001b[0mline\u001b[0m\u001b[0;34m)\u001b[0m\u001b[0;34m\u001b[0m\u001b[0;34m\u001b[0m\u001b[0m\n\u001b[1;32m   1613\u001b[0m             \u001b[0mlines\u001b[0m\u001b[0;34m.\u001b[0m\u001b[0mappend\u001b[0m\u001b[0;34m(\u001b[0m\u001b[0mline\u001b[0m\u001b[0;34m)\u001b[0m\u001b[0;34m\u001b[0m\u001b[0;34m\u001b[0m\u001b[0m\n",
      "\u001b[0;32m~/anaconda3/lib/python3.6/site-packages/matplotlib/axes/_base.py\u001b[0m in \u001b[0;36m_grab_next_args\u001b[0;34m(self, *args, **kwargs)\u001b[0m\n\u001b[1;32m    391\u001b[0m                 \u001b[0mthis\u001b[0m \u001b[0;34m+=\u001b[0m \u001b[0margs\u001b[0m\u001b[0;34m[\u001b[0m\u001b[0;36m0\u001b[0m\u001b[0;34m]\u001b[0m\u001b[0;34m,\u001b[0m\u001b[0;34m\u001b[0m\u001b[0;34m\u001b[0m\u001b[0m\n\u001b[1;32m    392\u001b[0m                 \u001b[0margs\u001b[0m \u001b[0;34m=\u001b[0m \u001b[0margs\u001b[0m\u001b[0;34m[\u001b[0m\u001b[0;36m1\u001b[0m\u001b[0;34m:\u001b[0m\u001b[0;34m]\u001b[0m\u001b[0;34m\u001b[0m\u001b[0;34m\u001b[0m\u001b[0m\n\u001b[0;32m--> 393\u001b[0;31m             \u001b[0;32myield\u001b[0m \u001b[0;32mfrom\u001b[0m \u001b[0mself\u001b[0m\u001b[0;34m.\u001b[0m\u001b[0m_plot_args\u001b[0m\u001b[0;34m(\u001b[0m\u001b[0mthis\u001b[0m\u001b[0;34m,\u001b[0m \u001b[0mkwargs\u001b[0m\u001b[0;34m)\u001b[0m\u001b[0;34m\u001b[0m\u001b[0;34m\u001b[0m\u001b[0m\n\u001b[0m\u001b[1;32m    394\u001b[0m \u001b[0;34m\u001b[0m\u001b[0m\n\u001b[1;32m    395\u001b[0m \u001b[0;34m\u001b[0m\u001b[0m\n",
      "\u001b[0;32m~/anaconda3/lib/python3.6/site-packages/matplotlib/axes/_base.py\u001b[0m in \u001b[0;36m_plot_args\u001b[0;34m(self, tup, kwargs)\u001b[0m\n\u001b[1;32m    368\u001b[0m             \u001b[0mx\u001b[0m\u001b[0;34m,\u001b[0m \u001b[0my\u001b[0m \u001b[0;34m=\u001b[0m \u001b[0mindex_of\u001b[0m\u001b[0;34m(\u001b[0m\u001b[0mtup\u001b[0m\u001b[0;34m[\u001b[0m\u001b[0;34m-\u001b[0m\u001b[0;36m1\u001b[0m\u001b[0;34m]\u001b[0m\u001b[0;34m)\u001b[0m\u001b[0;34m\u001b[0m\u001b[0;34m\u001b[0m\u001b[0m\n\u001b[1;32m    369\u001b[0m \u001b[0;34m\u001b[0m\u001b[0m\n\u001b[0;32m--> 370\u001b[0;31m         \u001b[0mx\u001b[0m\u001b[0;34m,\u001b[0m \u001b[0my\u001b[0m \u001b[0;34m=\u001b[0m \u001b[0mself\u001b[0m\u001b[0;34m.\u001b[0m\u001b[0m_xy_from_xy\u001b[0m\u001b[0;34m(\u001b[0m\u001b[0mx\u001b[0m\u001b[0;34m,\u001b[0m \u001b[0my\u001b[0m\u001b[0;34m)\u001b[0m\u001b[0;34m\u001b[0m\u001b[0;34m\u001b[0m\u001b[0m\n\u001b[0m\u001b[1;32m    371\u001b[0m \u001b[0;34m\u001b[0m\u001b[0m\n\u001b[1;32m    372\u001b[0m         \u001b[0;32mif\u001b[0m \u001b[0mself\u001b[0m\u001b[0;34m.\u001b[0m\u001b[0mcommand\u001b[0m \u001b[0;34m==\u001b[0m \u001b[0;34m'plot'\u001b[0m\u001b[0;34m:\u001b[0m\u001b[0;34m\u001b[0m\u001b[0;34m\u001b[0m\u001b[0m\n",
      "\u001b[0;32m~/anaconda3/lib/python3.6/site-packages/matplotlib/axes/_base.py\u001b[0m in \u001b[0;36m_xy_from_xy\u001b[0;34m(self, x, y)\u001b[0m\n\u001b[1;32m    229\u001b[0m         \u001b[0;32mif\u001b[0m \u001b[0mx\u001b[0m\u001b[0;34m.\u001b[0m\u001b[0mshape\u001b[0m\u001b[0;34m[\u001b[0m\u001b[0;36m0\u001b[0m\u001b[0;34m]\u001b[0m \u001b[0;34m!=\u001b[0m \u001b[0my\u001b[0m\u001b[0;34m.\u001b[0m\u001b[0mshape\u001b[0m\u001b[0;34m[\u001b[0m\u001b[0;36m0\u001b[0m\u001b[0;34m]\u001b[0m\u001b[0;34m:\u001b[0m\u001b[0;34m\u001b[0m\u001b[0;34m\u001b[0m\u001b[0m\n\u001b[1;32m    230\u001b[0m             raise ValueError(\"x and y must have same first dimension, but \"\n\u001b[0;32m--> 231\u001b[0;31m                              \"have shapes {} and {}\".format(x.shape, y.shape))\n\u001b[0m\u001b[1;32m    232\u001b[0m         \u001b[0;32mif\u001b[0m \u001b[0mx\u001b[0m\u001b[0;34m.\u001b[0m\u001b[0mndim\u001b[0m \u001b[0;34m>\u001b[0m \u001b[0;36m2\u001b[0m \u001b[0;32mor\u001b[0m \u001b[0my\u001b[0m\u001b[0;34m.\u001b[0m\u001b[0mndim\u001b[0m \u001b[0;34m>\u001b[0m \u001b[0;36m2\u001b[0m\u001b[0;34m:\u001b[0m\u001b[0;34m\u001b[0m\u001b[0;34m\u001b[0m\u001b[0m\n\u001b[1;32m    233\u001b[0m             raise ValueError(\"x and y can be no greater than 2-D, but have \"\n",
      "\u001b[0;31mValueError\u001b[0m: x and y must have same first dimension, but have shapes (11,) and (10,)"
     ]
    },
    {
     "data": {
      "image/png": "[encoded data removed]",
      "text/plain": [
       "<Figure size 432x288 with 1 Axes>"
      ]
     },
     "metadata": {
      "needs_background": "light"
     },
     "output_type": "display_data"
    }
   ],
   "source": [
    "for i in range(10):\n",
    "    plt.plot(param,res[i])"
   ]
  },
  {
   "cell_type": "code",
   "execution_count": null,
   "metadata": {},
   "outputs": [],
   "source": [
    "res"
   ]
  },
  {
   "cell_type": "code",
   "execution_count": 8,
   "metadata": {
    "scrolled": true
   },
   "outputs": [
    {
     "data": {
      "image/png": "[encoded data removed]",
      "text/plain": [
       "<Figure size 432x288 with 1 Axes>"
      ]
     },
     "metadata": {
      "needs_background": "light"
     },
     "output_type": "display_data"
    }
   ],
   "source": [
    "param = [0.0001,0.01,0.1,1,10,100,1000,10000,100000]\n",
    "nl  = len(param)\n",
    "res_s0 = np.zeros((10,nl))\n",
    "res_s1 = np.zeros((10,nl))\n",
    "res_m = np.zeros((10,nl))\n",
    "res = np.zeros((10,nl))\n",
    "for i in range(nl):\n",
    "    for j in range(10):\n",
    "        kernel = gaussian(param[i])\n",
    "        sigma_H0 = np.sqrt(var_H_MC(kernel, law_p, law_p, alpha=0.1, size=100))\n",
    "        sigma_H1 = np.sqrt(var_H_MC(kernel, law_p, law_q, alpha=0.1, size=100))\n",
    "        MMD_H1 = moyenne_MC(kernel, law_p, law_q)\n",
    "        v1v0 = V1V0(sigma_H0, 0.05, sigma_H1)\n",
    "        mv = MV(1000, MMD_H1, sigma_H1)\n",
    "        res[j,i] = v1v0 - mv\n",
    "        res_s0[j,i] = sigma_H0\n",
    "        res_s1[j,i] = sigma_H1\n",
    "        res_m[j,i] = MMD_H1\n",
    "for i in range(10):\n",
    "    plt.plot(np.log(param),res[i])\n",
    "plt.savefig(\"line_opt_gaussian.eps\")"
   ]
  },
  {
   "cell_type": "code",
   "execution_count": 32,
   "metadata": {},
   "outputs": [
    {
     "data": {
      "image/png": "[encoded data removed]",
      "text/plain": [
       "<Figure size 432x288 with 1 Axes>"
      ]
     },
     "metadata": {
      "needs_background": "light"
     },
     "output_type": "display_data"
    }
   ],
   "source": [
    "param = [0.1, 2,4,6,8,10,12,14,16,18,20]\n",
    "nl = len(param)\n",
    "res_s0 = np.zeros((10,nl))\n",
    "res_s1 = np.zeros((10,nl))\n",
    "res_m = np.zeros((10,nl))\n",
    "res = np.zeros((10,nl))\n",
    "for i in range(nl):\n",
    "    for j in range(10):\n",
    "        kernel = laplacian(param[i])\n",
    "        sigma_H0 = np.sqrt(var_H_MC(kernel, law_p, law_p, alpha=0.1, size=100))\n",
    "        sigma_H1 = np.sqrt(var_H_MC(kernel, law_p, law_q, alpha=0.1, size=100))\n",
    "        MMD_H1 = moyenne_MC(kernel, law_p, law_q)\n",
    "        v1v0 = V1V0(sigma_H0, 0.05, sigma_H1)\n",
    "        mv = MV(1000, MMD_H1, sigma_H1)\n",
    "        res[j,i] = v1v0 - mv\n",
    "        res_s0[j,i] = sigma_H0\n",
    "        res_s1[j,i] = sigma_H1\n",
    "        res_m[j,i] = MMD_H1\n",
    "for i in range(10):\n",
    "    plt.plot(param,res[i])"
   ]
  },
  {
   "cell_type": "code",
   "execution_count": 30,
   "metadata": {},
   "outputs": [
    {
     "data": {
      "image/png": "[encoded data removed]",
      "text/plain": [
       "<Figure size 432x288 with 1 Axes>"
      ]
     },
     "metadata": {
      "needs_background": "light"
     },
     "output_type": "display_data"
    }
   ],
   "source": [
    "for i in range(10):\n",
    "    plt.plot(param,res[i])"
   ]
  },
  {
   "cell_type": "code",
   "execution_count": 93,
   "metadata": {},
   "outputs": [
    {
     "data": {
      "image/png": "[encoded data removed]",
      "text/plain": [
       "<Figure size 432x288 with 1 Axes>"
      ]
     },
     "metadata": {
      "needs_background": "light"
     },
     "output_type": "display_data"
    }
   ],
   "source": [
    "for i in range(10):\n",
    "    plt.plot(param, (MV(1000, res_m, res_s1))[i])"
   ]
  },
  {
   "cell_type": "code",
   "execution_count": null,
   "metadata": {},
   "outputs": [],
   "source": []
  }
 ],
 "metadata": {
  "kernelspec": {
   "display_name": "Python 3",
   "language": "python",
   "name": "python3"
  },
  "language_info": {
   "codemirror_mode": {
    "name": "ipython",
    "version": 3
   },
   "file_extension": ".py",
   "mimetype": "text/x-python",
   "name": "python",
   "nbconvert_exporter": "python",
   "pygments_lexer": "ipython3",
   "version": "3.6.8"
  }
 },
 "nbformat": 4,
 "nbformat_minor": 2
}
