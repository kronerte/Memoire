{
 "cells": [
  {
   "cell_type": "code",
   "execution_count": 1,
   "metadata": {},
   "outputs": [],
   "source": [
    "from API import *"
   ]
  },
  {
   "cell_type": "code",
   "execution_count": 31,
   "metadata": {},
   "outputs": [],
   "source": [
    "def moyenne(kernel, X_, Y, repeat=100):\n",
    "    mmd = np.zeros(repeat)\n",
    "    for i in range(repeat):\n",
    "        MMD = OMMD(kernel,np.random.choice(X_.flatten(), size = 100, replace=True).reshape((-1,1)))\n",
    "        MMD.fit(np.random.choice(Y.flatten(), size = 100, replace=True).reshape((-1,1)))\n",
    "        mmd[i] = MMD.MMD\n",
    "        #print(f\"Progression {(i/repeat)*100:.0f}%\", end=\"\\r\", flush=True)\n",
    "    return mmd.mean()\n",
    "\n",
    "def est_partial_mean(kernel, X, y):\n",
    "    return np.mean(kernel(y, X))\n",
    "\n",
    "\n",
    "def estim_V(kernel, X, Y, repeat=10000):\n",
    "    echantillions = np.zeros(repeat)\n",
    "    for i in range(repeat):\n",
    "        x1 = np.random.choice(X.flatten(), size = 1, replace=True).reshape((-1,1))\n",
    "        x2 = np.random.choice(X.flatten(), size = 1, replace=True).reshape((-1,1))\n",
    "        Y_1 = np.random.choice(Y.flatten(), size = 10, replace=True).reshape((-1,1))\n",
    "        Y_2 = np.random.choice(Y.flatten(), size = 10, replace=True).reshape((-1,1))\n",
    "        echantillions[i] = kernel(x1,x2) - est_partial_mean(kernel, x1, Y_1) - est_partial_mean(kernel, x2, Y_2)\n",
    "    return echantillions.var()\n",
    "\n",
    "def var_H(kernel, X, Y, alpha, size=100):\n",
    "    return estim_V(kernel, X, Y) + 1/alpha*estim_V(kernel, Y, X)\n",
    "\n",
    "def V1V0(sigma_H0, alpha, sigma_H1):\n",
    "    \"\"\" Renvoie le premier terme de l'élément à optimiser\"\"\"\n",
    "    return sigma_H0*inv_phi(1 - alpha)/sigma_H1\n",
    "def MV(m, MMD_H1, sigma_H1):\n",
    "    \"\"\" Renvoie le deuxième terme de l'élément à optimiser\"\"\"\n",
    "    return np.sqrt(m/2)*MMD_H1/sigma_H1"
   ]
  },
  {
   "cell_type": "code",
   "execution_count": 32,
   "metadata": {},
   "outputs": [],
   "source": [
    "def moyenne_MC(kernel, law_p, law_q, repeat=100):\n",
    "    mmd = np.zeros(repeat)\n",
    "    for i in range(repeat):\n",
    "        MMD = OMMD(kernel, law_p(100))\n",
    "        MMD.fit(law_q(100))\n",
    "        mmd[i] = MMD.MMD\n",
    "        #print(f\"Progression {(i/repeat)*100:.0f}%\", end=\"\\r\", flush=True)\n",
    "    return mmd.mean()\n",
    "\n",
    "def est_partial_mean_MC(kernel, y,law_p):\n",
    "    return np.mean(kernel(y, law_p(10)))\n",
    "\n",
    "\n",
    "def estim_V_MC(kernel, law_p, law_q, repeat=10000):\n",
    "    echantillions = np.zeros(repeat)\n",
    "    for i in range(repeat):\n",
    "        x1 = law_p(1)\n",
    "        x2 = law_p(1)\n",
    "        echantillions[i] = kernel(x1,x2) - est_partial_mean_MC(kernel, x1, law_q) - est_partial_mean_MC(kernel, x2, law_q)\n",
    "    return echantillions.var()\n",
    "\n",
    "def var_H_MC(kernel, law_p, law_q, alpha, size=100):\n",
    "    return estim_V_MC(kernel, law_p, law_q) + 1/alpha*estim_V_MC(kernel, law_q, law_p)\n",
    "\n",
    "def V1V0(sigma_H0, alpha, sigma_H1):\n",
    "    \"\"\" Renvoie le premier terme de l'élément à optimiser\"\"\"\n",
    "    return sigma_H0*inv_phi(1 - alpha)/sigma_H1\n",
    "def MV(m, MMD_H1, sigma_H1):\n",
    "    \"\"\" Renvoie le deuxième terme de l'élément à optimiser\"\"\"\n",
    "    return np.sqrt(m/2)*MMD_H1/sigma_H1"
   ]
  },
  {
   "cell_type": "code",
   "execution_count": 4,
   "metadata": {},
   "outputs": [],
   "source": [
    "law_p = normal(0,1)\n",
    "law_q = normal(2,1)\n",
    "kernel  = gaussian(1)"
   ]
  },
  {
   "cell_type": "code",
   "execution_count": 21,
   "metadata": {},
   "outputs": [
    {
     "name": "stdout",
     "output_type": "stream",
     "text": [
      "CPU times: user 2min 44s, sys: 168 ms, total: 2min 44s\n",
      "Wall time: 2min 44s\n"
     ]
    }
   ],
   "source": [
    "%%time\n",
    "L_bootstrap = []\n",
    "for _ in range(100):\n",
    "    X = law_p(10000)\n",
    "    Y = law_q(10000)\n",
    "    L_bootstrap.append(moyenne(kernel, X, Y))"
   ]
  },
  {
   "cell_type": "code",
   "execution_count": 22,
   "metadata": {},
   "outputs": [
    {
     "name": "stdout",
     "output_type": "stream",
     "text": [
      "CPU times: user 2min 43s, sys: 144 ms, total: 2min 43s\n",
      "Wall time: 2min 43s\n"
     ]
    }
   ],
   "source": [
    "%%time\n",
    "L_MC = []\n",
    "for _ in range(100):\n",
    "    L_MC.append(moyenne_MC(kernel, law_p, law_q))"
   ]
  },
  {
   "cell_type": "code",
   "execution_count": 28,
   "metadata": {},
   "outputs": [
    {
     "data": {
      "image/png": "[encoded data removed]",
      "text/plain": [
       "<Figure size 432x288 with 1 Axes>"
      ]
     },
     "metadata": {
      "needs_background": "light"
     },
     "output_type": "display_data"
    }
   ],
   "source": [
    "plt.hist(L_bootstrap, label='Bootstrap');\n",
    "plt.hist(L_MC, label='MC');\n",
    "plt.legend();"
   ]
  },
  {
   "cell_type": "code",
   "execution_count": 29,
   "metadata": {},
   "outputs": [
    {
     "name": "stdout",
     "output_type": "stream",
     "text": [
      "moyenne bootsrap : 0.5609725610177236\n",
      "moyenne MC : 0.5615002589538775\n",
      "variance bootsrap : 0.0001446393950433846\n",
      "variance MC : 8.924175018522107e-05\n"
     ]
    }
   ],
   "source": [
    "print(f\"moyenne bootsrap : {np.mean(L_bootstrap)}\")\n",
    "print(f\"moyenne MC : {np.mean(L_MC)}\")\n",
    "print(f\"variance bootsrap : {np.var(L_bootstrap)}\")\n",
    "print(f\"variance MC : {np.var(L_MC)}\")"
   ]
  },
  {
   "cell_type": "code",
   "execution_count": 24,
   "metadata": {},
   "outputs": [],
   "source": [
    "##### "
   ]
  },
  {
   "cell_type": "code",
   "execution_count": 30,
   "metadata": {},
   "outputs": [
    {
     "data": {
      "text/plain": [
       "2.2662620335446113"
      ]
     },
     "execution_count": 30,
     "metadata": {},
     "output_type": "execute_result"
    }
   ],
   "source": [
    "var_H(kernel, X, Y, alpha=0.1, size=100)"
   ]
  },
  {
   "cell_type": "code",
   "execution_count": 37,
   "metadata": {},
   "outputs": [
    {
     "data": {
      "text/plain": [
       "2.470042984296022"
      ]
     },
     "execution_count": 37,
     "metadata": {},
     "output_type": "execute_result"
    }
   ],
   "source": [
    "var_H_MC(kernel, law_p, law_q, alpha=0.1, size=100)"
   ]
  },
  {
   "cell_type": "code",
   "execution_count": 38,
   "metadata": {},
   "outputs": [
    {
     "name": "stdout",
     "output_type": "stream",
     "text": [
      "CPU times: user 2min 19s, sys: 1.05 s, total: 2min 20s\n",
      "Wall time: 2min 20s\n"
     ]
    }
   ],
   "source": [
    "%%time\n",
    "L_bootstrap = []\n",
    "for _ in range(100):\n",
    "    X = law_p(10000)\n",
    "    Y = law_q(10000)\n",
    "    L_bootstrap.append(var_H(kernel, X, Y, alpha=0.1, size=100))"
   ]
  },
  {
   "cell_type": "code",
   "execution_count": 18,
   "metadata": {},
   "outputs": [
    {
     "name": "stdout",
     "output_type": "stream",
     "text": [
      "CPU times: user 14min 39s, sys: 3.46 s, total: 14min 42s\n",
      "Wall time: 14min 40s\n"
     ]
    }
   ],
   "source": [
    "%%time\n",
    "L_MC = []\n",
    "for _ in range(100):\n",
    "    L_MC.append(var_H_MC(kernel, law_p, law_q, alpha=0.1, size=100))"
   ]
  },
  {
   "cell_type": "code",
   "execution_count": 9,
   "metadata": {},
   "outputs": [
    {
     "ename": "NameError",
     "evalue": "name 'L_bootstrap' is not defined",
     "output_type": "error",
     "traceback": [
      "\u001b[0;31m---------------------------------------------------------------------------\u001b[0m",
      "\u001b[0;31mNameError\u001b[0m                                 Traceback (most recent call last)",
      "\u001b[0;32m<ipython-input-9-93e4d5f12563>\u001b[0m in \u001b[0;36m<module>\u001b[0;34m\u001b[0m\n\u001b[0;32m----> 1\u001b[0;31m \u001b[0mplt\u001b[0m\u001b[0;34m.\u001b[0m\u001b[0mhist\u001b[0m\u001b[0;34m(\u001b[0m\u001b[0mL_bootstrap\u001b[0m\u001b[0;34m,\u001b[0m \u001b[0mlabel\u001b[0m\u001b[0;34m=\u001b[0m\u001b[0;34m'Bootstrap'\u001b[0m\u001b[0;34m)\u001b[0m\u001b[0;34m;\u001b[0m\u001b[0;34m\u001b[0m\u001b[0;34m\u001b[0m\u001b[0m\n\u001b[0m\u001b[1;32m      2\u001b[0m \u001b[0mplt\u001b[0m\u001b[0;34m.\u001b[0m\u001b[0mhist\u001b[0m\u001b[0;34m(\u001b[0m\u001b[0mL_MC\u001b[0m\u001b[0;34m,\u001b[0m \u001b[0mlabel\u001b[0m\u001b[0;34m=\u001b[0m\u001b[0;34m'MC'\u001b[0m\u001b[0;34m)\u001b[0m\u001b[0;34m;\u001b[0m\u001b[0;34m\u001b[0m\u001b[0;34m\u001b[0m\u001b[0m\n\u001b[1;32m      3\u001b[0m \u001b[0mplt\u001b[0m\u001b[0;34m.\u001b[0m\u001b[0mlegend\u001b[0m\u001b[0;34m(\u001b[0m\u001b[0;34m)\u001b[0m\u001b[0;34m;\u001b[0m\u001b[0;34m\u001b[0m\u001b[0;34m\u001b[0m\u001b[0m\n",
      "\u001b[0;31mNameError\u001b[0m: name 'L_bootstrap' is not defined"
     ]
    }
   ],
   "source": [
    "#plt.hist(L_bootstrap, label='Bootstrap');\n",
    "plt.hist(L_MC, label='MC');\n",
    "plt.legend();"
   ]
  },
  {
   "cell_type": "code",
   "execution_count": 19,
   "metadata": {},
   "outputs": [
    {
     "name": "stdout",
     "output_type": "stream",
     "text": [
      "moyenne MC : 2.5170986021626502\n",
      "variance MC : 0.00048676635353008565\n"
     ]
    }
   ],
   "source": [
    "#print(f\"moyenne bootsrap : {np.mean(L_bootstrap)}\")\n",
    "print(f\"moyenne MC : {np.mean(L_MC)}\")\n",
    "#print(f\"variance bootsrap : {np.var(L_bootstrap)}\")\n",
    "print(f\"variance MC : {np.var(L_MC)}\")"
   ]
  },
  {
   "cell_type": "markdown",
   "metadata": {},
   "source": [
    "--> Première conclusion, moins de variance en échantillonnant qu'en rééchantillonnant"
   ]
  },
  {
   "cell_type": "code",
   "execution_count": 33,
   "metadata": {},
   "outputs": [
    {
     "name": "stdout",
     "output_type": "stream",
     "text": [
      "CPU times: user 44min 42s, sys: 6.46 s, total: 44min 48s\n",
      "Wall time: 45min 1s\n"
     ]
    }
   ],
   "source": [
    "%%time\n",
    "L_sigma_H0_Boot = []\n",
    "L_sigma_H1_Boot = []\n",
    "L_V1V0_Boot = []\n",
    "for _ in range(100):\n",
    "    X = law_p(10000)\n",
    "    Y = law_q(10000)\n",
    "    sigma_H0 = var_H(kernel, X, X, alpha=0.1, size=100)\n",
    "    sigma_H1 = var_H(kernel, X, Y, alpha=0.1, size=100)\n",
    "    v1v0 = V1V0(sigma_H0, 0.05, sigma_H1)\n",
    "    L_sigma_H0_Boot.append(sigma_H0)\n",
    "    L_sigma_H1_Boot.append(sigma_H1)\n",
    "    L_V1V0_Boot.append(v1v0)"
   ]
  },
  {
   "cell_type": "code",
   "execution_count": null,
   "metadata": {},
   "outputs": [],
   "source": [
    "%%time\n",
    "L_sigma_H0_MC = []\n",
    "L_sigma_H1_MC = []\n",
    "L_V1V0_MC = []\n",
    "for _ in range(100):\n",
    "    sigma_H0 = var_H_MC(kernel, law_p, law_p, alpha=0.1, size=100)\n",
    "    sigma_H1 = var_H_MC(kernel, law_p, law_q, alpha=0.1, size=100)\n",
    "    v1v0 = V1V0(sigma_H0, 0.05, sigma_H1)\n",
    "    L_sigma_H0_MC.append(sigma_H0)\n",
    "    L_sigma_H1_MC.append(sigma_H1)\n",
    "    L_V1V0_MC.append(v1v0)"
   ]
  },
  {
   "cell_type": "code",
   "execution_count": null,
   "metadata": {},
   "outputs": [],
   "source": [
    "plt.hist(L_sigma_H0_Boot, label='Bootstrap');\n",
    "plt.hist(L_sigma_H0_MC, label='MC');\n",
    "plt.legend();\n",
    "print(f\"moyenne bootsrap : {np.mean(L_sigma_H0_Boot)}\")\n",
    "print(f\"moyenne MC : {np.mean(L_sigma_H0_MC)}\")\n",
    "print(f\"variance bootsrap : {np.var(L_sigma_H0_Boot)}\")\n",
    "print(f\"variance MC : {np.var(L_sigma_H0_MC)}\")"
   ]
  },
  {
   "cell_type": "code",
   "execution_count": null,
   "metadata": {},
   "outputs": [],
   "source": [
    "plt.hist(L_sigma_H1_Boot, label='Bootstrap');\n",
    "plt.hist(L_sigma_H1_MC, label='MC');\n",
    "plt.legend();\n",
    "print(f\"moyenne bootsrap : {np.mean(L_sigma_H1_Boot)}\")\n",
    "print(f\"moyenne MC : {np.mean(L_sigma_H1_MC)}\")\n",
    "print(f\"variance bootsrap : {np.var(L_sigma_H1_Boot)}\")\n",
    "print(f\"variance MC : {np.var(L_sigma_H1_MC)}\")"
   ]
  },
  {
   "cell_type": "code",
   "execution_count": null,
   "metadata": {},
   "outputs": [],
   "source": [
    "plt.hist(L_V1V0_Boot, label='Bootstrap');\n",
    "plt.hist(L_V1V0_MC, label='MC');\n",
    "plt.legend();\n",
    "print(f\"moyenne bootsrap : {np.mean(L_V1V0_Boot)}\")\n",
    "print(f\"moyenne MC : {np.mean(L_V1V0_MC)}\")\n",
    "print(f\"variance bootsrap : {np.var(L_V1V0_Boot)}\")\n",
    "print(f\"variance MC : {np.var(L_V1V0_MC)}\")"
   ]
  },
  {
   "cell_type": "code",
   "execution_count": null,
   "metadata": {},
   "outputs": [],
   "source": []
  },
  {
   "cell_type": "code",
   "execution_count": null,
   "metadata": {},
   "outputs": [],
   "source": []
  }
 ],
 "metadata": {
  "kernelspec": {
   "display_name": "Python 3",
   "language": "python",
   "name": "python3"
  },
  "language_info": {
   "codemirror_mode": {
    "name": "ipython",
    "version": 3
   },
   "file_extension": ".py",
   "mimetype": "text/x-python",
   "name": "python",
   "nbconvert_exporter": "python",
   "pygments_lexer": "ipython3",
   "version": "3.6.8"
  }
 },
 "nbformat": 4,
 "nbformat_minor": 2
}
