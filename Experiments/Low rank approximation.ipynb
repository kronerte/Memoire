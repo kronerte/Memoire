{
 "cells": [
  {
   "cell_type": "code",
   "execution_count": 1,
   "metadata": {},
   "outputs": [],
   "source": [
    "import numpy as np"
   ]
  },
  {
   "cell_type": "code",
   "execution_count": 4,
   "metadata": {},
   "outputs": [],
   "source": [
    "import os\n",
    "os.chdir('..')"
   ]
  },
  {
   "cell_type": "code",
   "execution_count": 6,
   "metadata": {},
   "outputs": [],
   "source": [
    "from Anomaly.kernels import gaussian\n",
    "from Anomaly.utils import normal"
   ]
  },
  {
   "cell_type": "code",
   "execution_count": 144,
   "metadata": {},
   "outputs": [],
   "source": [
    "kernel = gaussian(1)\n",
    "law_p = normal(0,1)"
   ]
  },
  {
   "cell_type": "code",
   "execution_count": 145,
   "metadata": {},
   "outputs": [],
   "source": [
    "X = law_p(1000)"
   ]
  },
  {
   "cell_type": "code",
   "execution_count": 146,
   "metadata": {},
   "outputs": [],
   "source": [
    "G = np.array([[kernel(X[i].reshape(-1,1),X[j].reshape(-1,1))[0] for i in range(X.shape[0])] for j in range(X.shape[0])])"
   ]
  },
  {
   "cell_type": "code",
   "execution_count": 147,
   "metadata": {},
   "outputs": [
    {
     "data": {
      "text/plain": [
       "array([[1.        , 0.00349197, 0.08714293, ..., 0.67679566, 0.97914109,\n",
       "        0.00578551],\n",
       "       [0.00349197, 1.        , 0.51350629, ..., 0.04616865, 0.00682127,\n",
       "        0.98827177],\n",
       "       [0.08714293, 0.51350629, 1.        , ..., 0.41538706, 0.13429929,\n",
       "        0.60595858],\n",
       "       ...,\n",
       "       [0.67679566, 0.04616865, 0.41538706, ..., 1.        , 0.79450494,\n",
       "        0.06678406],\n",
       "       [0.97914109, 0.00682127, 0.13429929, ..., 0.79450494, 1.        ,\n",
       "        0.01095065],\n",
       "       [0.00578551, 0.98827177, 0.60595858, ..., 0.06678406, 0.01095065,\n",
       "        1.        ]])"
      ]
     },
     "execution_count": 147,
     "metadata": {},
     "output_type": "execute_result"
    }
   ],
   "source": [
    "G"
   ]
  },
  {
   "cell_type": "markdown",
   "metadata": {},
   "source": [
    "# Best low rank approximation"
   ]
  },
  {
   "cell_type": "code",
   "execution_count": 25,
   "metadata": {},
   "outputs": [],
   "source": [
    "def best_rank_k(M, k):\n",
    "    m,n = M.shape\n",
    "    U,S,Vh = np.linalg.svd(M)\n",
    "    nbSrow, nbScol, nbSval = min(m,k), min(n,k),min(n,m,k)\n",
    "    Uk = U[:,:nbSrow]\n",
    "    Sk = S[:nbSval]\n",
    "    Vhk = Vh[:nbScol,:]\n",
    "    Smatk = np.zeros((nbSrow,nbScol))\n",
    "    Smatk[:nbSval,:nbSval] = np.diag(Sk)\n",
    "    Mk = Uk.dot(Smatk).dot(Vhk)\n",
    "    return Mk\n",
    "    "
   ]
  },
  {
   "cell_type": "code",
   "execution_count": 26,
   "metadata": {},
   "outputs": [
    {
     "data": {
      "text/plain": [
       "array([[0.13861963, 0.78407925, 0.04279738, 0.33056442, 0.79801347,\n",
       "        0.96494453, 0.41305469, 0.30795214, 0.41686605, 0.11659468],\n",
       "       [0.03881114, 0.86722436, 0.2367365 , 0.07809184, 0.03839693,\n",
       "        0.00928109, 0.11997161, 0.52780675, 0.50208778, 0.9655016 ],\n",
       "       [0.70441113, 0.0276773 , 0.29196633, 0.69457386, 0.50548648,\n",
       "        0.2364194 , 0.5984329 , 0.84343148, 0.25958629, 0.01294761],\n",
       "       [0.34776697, 0.36208635, 0.18967494, 0.65487287, 0.29896022,\n",
       "        0.40526721, 0.1181984 , 0.95588195, 0.2528999 , 0.55487908],\n",
       "       [0.94801406, 0.65356692, 0.13907471, 0.27157124, 0.43525464,\n",
       "        0.46385475, 0.77553494, 0.80076673, 0.89159691, 0.30387342]])"
      ]
     },
     "execution_count": 26,
     "metadata": {},
     "output_type": "execute_result"
    }
   ],
   "source": [
    "M= np.random.random((5,10))\n",
    "M"
   ]
  },
  {
   "cell_type": "code",
   "execution_count": 27,
   "metadata": {},
   "outputs": [
    {
     "data": {
      "text/plain": [
       "array([[ 0.23852544,  0.79947312,  0.01148662,  0.21838304,  0.74138005,\n",
       "         0.92127119,  0.4782465 ,  0.26224816,  0.52110126,  0.08715034],\n",
       "       [ 0.05057498,  0.84764829,  0.18869295,  0.08828159,  0.00632906,\n",
       "         0.07317226,  0.05317663,  0.56169231,  0.4994941 ,  0.97117173],\n",
       "       [ 0.79461077,  0.0151666 ,  0.20892944,  0.62218247,  0.42299415,\n",
       "         0.28222624,  0.56534004,  0.8506517 ,  0.33533778, -0.00235427],\n",
       "       [ 0.51203486,  0.42875189,  0.22395566,  0.42517967,  0.25495103,\n",
       "         0.19998326,  0.36937708,  0.80481201,  0.45303189,  0.48879935],\n",
       "       [ 0.6848936 ,  0.6143262 ,  0.22423728,  0.56559745,  0.58595523,\n",
       "         0.57467465,  0.60837314,  0.91874654,  0.61797911,  0.38086439]])"
      ]
     },
     "execution_count": 27,
     "metadata": {},
     "output_type": "execute_result"
    }
   ],
   "source": [
    "best_rank_k(M,3)"
   ]
  },
  {
   "cell_type": "code",
   "execution_count": 28,
   "metadata": {},
   "outputs": [
    {
     "data": {
      "text/plain": [
       "3"
      ]
     },
     "execution_count": 28,
     "metadata": {},
     "output_type": "execute_result"
    }
   ],
   "source": [
    "np.linalg.matrix_rank(best_rank_k(M,3))"
   ]
  },
  {
   "cell_type": "code",
   "execution_count": 29,
   "metadata": {},
   "outputs": [
    {
     "data": {
      "text/plain": [
       "array([[0.47042819, 0.4041469 , 0.53458663, ..., 0.5096351 , 0.45834327,\n",
       "        0.45089394],\n",
       "       [0.39556306, 0.38318332, 0.44408424, ..., 0.70207833, 0.56048941,\n",
       "        0.61678943],\n",
       "       [0.44970588, 0.30285181, 0.56104924, ..., 0.42599429, 0.47704259,\n",
       "        0.53357794],\n",
       "       ...,\n",
       "       [0.50835436, 0.34228911, 0.571511  , ..., 0.54928947, 0.607133  ,\n",
       "        0.61629383],\n",
       "       [0.41112169, 0.52690089, 0.64524947, ..., 0.45839813, 0.61233863,\n",
       "        0.4994778 ],\n",
       "       [0.44699297, 0.57675615, 0.40397811, ..., 0.58221067, 0.47609873,\n",
       "        0.51403578]])"
      ]
     },
     "execution_count": 29,
     "metadata": {},
     "output_type": "execute_result"
    }
   ],
   "source": [
    "M= np.random.random((1000,1000))\n",
    "best_rank_k(M,30)"
   ]
  },
  {
   "cell_type": "code",
   "execution_count": 30,
   "metadata": {},
   "outputs": [
    {
     "name": "stdout",
     "output_type": "stream",
     "text": [
      "CPU times: user 7.95 s, sys: 439 ms, total: 8.39 s\n",
      "Wall time: 2.21 s\n"
     ]
    },
    {
     "data": {
      "text/plain": [
       "array([[1.        , 0.99558128, 0.50559035, ..., 0.9999574 , 0.16684287,\n",
       "        0.81663471],\n",
       "       [0.99558128, 1.        , 0.45096174, ..., 0.9946744 , 0.13900659,\n",
       "        0.76575455],\n",
       "       [0.50559035, 0.45096174, 1.        , ..., 0.51104876, 0.76914708,\n",
       "        0.86830658],\n",
       "       ...,\n",
       "       [0.9999574 , 0.9946744 , 0.51104876, ..., 1.        , 0.16977579,\n",
       "        0.82141184],\n",
       "       [0.16684287, 0.13900659, 0.76914708, ..., 0.16977579, 1.        ,\n",
       "        0.45442455],\n",
       "       [0.81663471, 0.76575455, 0.86830658, ..., 0.82141184, 0.45442455,\n",
       "        1.        ]])"
      ]
     },
     "execution_count": 30,
     "metadata": {},
     "output_type": "execute_result"
    }
   ],
   "source": [
    "%time best_rank_k(G,30)"
   ]
  },
  {
   "cell_type": "markdown",
   "metadata": {},
   "source": [
    "# Low rank sampling"
   ]
  },
  {
   "cell_type": "code",
   "execution_count": 55,
   "metadata": {},
   "outputs": [],
   "source": [
    "def approximation_sampling(G, c, p):\n",
    "    m,n = G.shape\n",
    "    assert n==m, \"is not a squared matrix\"\n",
    "    I = np.random.choice(range(m),size = c, p=p.ravel())\n",
    "    C = G[:,I]/np.sqrt(c*p[:,I])\n",
    "    XX, YY = np.meshgrid(I,I)\n",
    "    W = G[XX.flatten(),YY.flatten()].reshape(((c,c)))/(c*np.sqrt(p[:,I].T.dot(p[:,I])))\n",
    "    return C.dot(np.linalg.pinv(W)).dot(C.T)"
   ]
  },
  {
   "cell_type": "code",
   "execution_count": 56,
   "metadata": {},
   "outputs": [
    {
     "name": "stdout",
     "output_type": "stream",
     "text": [
      "[[0.07795042 0.78877745 0.6110981  0.70126533 0.43333886]\n",
      " [0.44878971 0.25215889 0.77606344 0.47478137 0.5922899 ]\n",
      " [0.63424765 0.58981191 0.14322581 0.80741169 0.53136628]\n",
      " [0.59094762 0.98513391 0.7096598  0.5922121  0.33818268]\n",
      " [0.51520927 0.36974321 0.61443177 0.59691529 0.09989354]]\n"
     ]
    },
    {
     "data": {
      "text/plain": [
       "array([[0.08114106, 0.79174735, 0.61375257, 0.70602221, 0.43721732],\n",
       "       [0.45143592, 0.25632989, 0.77987149, 0.48042058, 0.59567345],\n",
       "       [0.62588034, 0.58258037, 0.1404889 , 0.7991485 , 0.52634712],\n",
       "       [0.59912492, 0.98694395, 0.7146257 , 0.60183297, 0.34221709],\n",
       "       [0.51105488, 0.36850308, 0.61215582, 0.59259476, 0.0978848 ]])"
      ]
     },
     "execution_count": 56,
     "metadata": {},
     "output_type": "execute_result"
    }
   ],
   "source": [
    "M= np.random.random((5,5))\n",
    "print(M)\n",
    "approximation_sampling(M,200, np.ones((1,5))/5)"
   ]
  },
  {
   "cell_type": "code",
   "execution_count": 57,
   "metadata": {},
   "outputs": [
    {
     "name": "stdout",
     "output_type": "stream",
     "text": [
      "[[1.         0.99558128 0.50559035 0.45105201 0.98900896]\n",
      " [0.99558128 1.         0.45096174 0.39877459 0.97095778]\n",
      " [0.50559035 0.45096174 1.         0.99559613 0.59485325]\n",
      " [0.45105201 0.39877459 0.99559613 1.         0.53815087]\n",
      " [0.98900896 0.97095778 0.59485325 0.53815087 1.        ]]\n"
     ]
    },
    {
     "data": {
      "text/plain": [
       "array([[1.002192  , 0.9976398 , 0.50944811, 0.45493495, 0.99142942],\n",
       "       [0.97431189, 0.97866576, 0.44273644, 0.39180712, 0.95021603],\n",
       "       [0.50423824, 0.44966419, 0.99795884, 0.9935547 , 0.59340682],\n",
       "       [0.46814916, 0.41574624, 1.00413633, 1.00755886, 0.55512678],\n",
       "       [0.99296397, 0.97324682, 0.62424742, 0.56848667, 1.00699246]])"
      ]
     },
     "execution_count": 57,
     "metadata": {},
     "output_type": "execute_result"
    }
   ],
   "source": [
    "print(A)\n",
    "approximation_sampling(A,200, np.ones((1,5))/5)"
   ]
  },
  {
   "cell_type": "code",
   "execution_count": 58,
   "metadata": {},
   "outputs": [],
   "source": [
    "def robust_approximation_sampling(G, c, p,k):\n",
    "    m,n = G.shape\n",
    "    assert n==m, \"is not a squared matrix\"\n",
    "    I = np.random.choice(range(m),size = c, p=p.ravel())\n",
    "    C = G[:,I]/np.sqrt(c*p[:,I])\n",
    "    XX, YY = np.meshgrid(I,I)\n",
    "    W = G[XX.flatten(),YY.flatten()].reshape(((c,c)))/(c*np.sqrt(p[:,I].T.dot(p[:,I])))\n",
    "    W_k = best_rank_k(W,k)\n",
    "    return C.dot(np.linalg.pinv(W_k)).dot(C.T)"
   ]
  },
  {
   "cell_type": "code",
   "execution_count": 63,
   "metadata": {},
   "outputs": [
    {
     "name": "stdout",
     "output_type": "stream",
     "text": [
      "[[1.         0.99558128 0.50559035 0.45105201 0.98900896]\n",
      " [0.99558128 1.         0.45096174 0.39877459 0.97095778]\n",
      " [0.50559035 0.45096174 1.         0.99559613 0.59485325]\n",
      " [0.45105201 0.39877459 0.99559613 1.         0.53815087]\n",
      " [0.98900896 0.97095778 0.59485325 0.53815087 1.        ]]\n"
     ]
    },
    {
     "data": {
      "text/plain": [
       "array([[0.99484135, 0.99097692, 0.49506803, 0.44053538, 0.98293664],\n",
       "       [0.99208293, 0.99652421, 0.44923477, 0.39724382, 0.96749019],\n",
       "       [0.50264399, 0.44806095, 0.99743744, 0.99312298, 0.59186303],\n",
       "       [0.44620729, 0.39394325, 0.99245634, 0.99705269, 0.53335121],\n",
       "       [0.95946399, 0.94184348, 0.57644539, 0.52128099, 0.97026227]])"
      ]
     },
     "execution_count": 63,
     "metadata": {},
     "output_type": "execute_result"
    }
   ],
   "source": [
    "print(A)\n",
    "robust_approximation_sampling(A,200, np.ones((1,5))/5,5)"
   ]
  },
  {
   "cell_type": "code",
   "execution_count": 66,
   "metadata": {},
   "outputs": [],
   "source": [
    "def optimized_approximation_sampling(G, c):\n",
    "    p = np.sum(G**2, axis = 1)/np.sum(G**2)\n",
    "    return approximation_sampling(G,c,p.reshape(1,-1))"
   ]
  },
  {
   "cell_type": "code",
   "execution_count": 69,
   "metadata": {},
   "outputs": [
    {
     "name": "stdout",
     "output_type": "stream",
     "text": [
      "[[0.26966489 0.38140055 0.60493022 0.07731505 0.63939024]\n",
      " [0.38384157 0.20615403 0.90602568 0.00325005 0.04640541]\n",
      " [0.41408331 0.3775207  0.37422043 0.73555575 0.53865711]\n",
      " [0.77975343 0.18629114 0.08169207 0.2877228  0.27246064]\n",
      " [0.85104415 0.11167664 0.86973347 0.34366479 0.38326696]]\n"
     ]
    },
    {
     "data": {
      "text/plain": [
       "array([[ 2.69664887e-01,  3.81400551e-01, -5.79520625e+00,\n",
       "         7.73150486e-02,  6.39390239e-01],\n",
       "       [ 3.83841566e-01,  2.06154033e-01, -1.16857381e+00,\n",
       "         3.25005399e-03,  4.64054096e-02],\n",
       "       [ 4.14083306e-01,  3.77520703e-01,  2.36283382e+00,\n",
       "         7.35555752e-01,  5.38657107e-01],\n",
       "       [ 7.79753427e-01,  1.86291141e-01,  8.12938265e-01,\n",
       "         2.87722798e-01,  2.72460639e-01],\n",
       "       [ 8.51044147e-01,  1.11676641e-01,  1.13302931e+00,\n",
       "         3.43664794e-01,  3.83266958e-01]])"
      ]
     },
     "execution_count": 69,
     "metadata": {},
     "output_type": "execute_result"
    }
   ],
   "source": [
    "M= np.random.random((5,5))\n",
    "print(M)\n",
    "optimized_approximation_sampling(M,10)"
   ]
  },
  {
   "cell_type": "code",
   "execution_count": 70,
   "metadata": {},
   "outputs": [],
   "source": [
    "def robust_optimised_approximation_sampling(G,c,k):\n",
    "    p = np.sum(G**2, axis = 1)/np.sum(G**2)\n",
    "    return robust_approximation_sampling(G,c,p.reshape(1,-1),k)"
   ]
  },
  {
   "cell_type": "code",
   "execution_count": 79,
   "metadata": {},
   "outputs": [
    {
     "name": "stdout",
     "output_type": "stream",
     "text": [
      "[[0.21620566 0.38462539 0.99361266 0.26396077 0.20107308]\n",
      " [0.44848261 0.19525719 0.95536706 0.1920398  0.04195527]\n",
      " [0.33112271 0.03887906 0.00626915 0.23523533 0.14491438]\n",
      " [0.88097678 0.11755752 0.71229546 0.46520052 0.13166533]\n",
      " [0.3638866  0.19711628 0.0588875  0.93330391 0.62279766]]\n"
     ]
    },
    {
     "data": {
      "text/plain": [
       "array([[ 0.21620566,  0.38462539, -0.601285  ,  0.26396077,  0.20107308],\n",
       "       [ 0.44848261,  0.19525719,  0.3533865 ,  0.1920398 ,  0.04195527],\n",
       "       [ 0.33112271,  0.03887906,  0.77182179,  0.23523533,  0.14491438],\n",
       "       [ 0.88097678,  0.11755752,  1.79468293,  0.46520052,  0.13166533],\n",
       "       [ 0.3638866 ,  0.19711628,  1.44091761,  0.93330391,  0.62279766]])"
      ]
     },
     "execution_count": 79,
     "metadata": {},
     "output_type": "execute_result"
    }
   ],
   "source": [
    "M= np.random.random((5,5))\n",
    "print(M)\n",
    "robust_optimised_approximation_sampling(M,10,5)"
   ]
  },
  {
   "cell_type": "markdown",
   "metadata": {},
   "source": [
    "# Comparaison of several approximation sampling"
   ]
  },
  {
   "cell_type": "code",
   "execution_count": 98,
   "metadata": {},
   "outputs": [],
   "source": [
    "import matplotlib.pyplot as plt"
   ]
  },
  {
   "cell_type": "code",
   "execution_count": 129,
   "metadata": {},
   "outputs": [],
   "source": [
    "def reconstruction_error(Mat, Meth):\n",
    "    newM = Meth(M)\n",
    "    return np.linalg.norm(newM-Mat)"
   ]
  },
  {
   "cell_type": "code",
   "execution_count": 100,
   "metadata": {},
   "outputs": [
    {
     "data": {
      "text/plain": [
       "1.389221923509296"
      ]
     },
     "execution_count": 100,
     "metadata": {},
     "output_type": "execute_result"
    }
   ],
   "source": [
    "M= np.random.random((5,5))\n",
    "Meth = lambda x : approximation_sampling(x, 10, np.ones((1,x.shape[0]))/x.shape[0])\n",
    "reconstruction_error(M,Meth)"
   ]
  },
  {
   "cell_type": "code",
   "execution_count": 118,
   "metadata": {},
   "outputs": [],
   "source": [
    "L = []\n",
    "for n in range(100):\n",
    "    errors = []\n",
    "    for i in range(100):\n",
    "        M= np.random.random((5,5))\n",
    "        Meth = lambda x : approximation_sampling(x, n, np.ones((1,x.shape[0]))/x.shape[0])\n",
    "        errors.append(reconstruction_error(M,Meth))\n",
    "    err = np.mean(errors)\n",
    "    L.append(err)"
   ]
  },
  {
   "cell_type": "code",
   "execution_count": 119,
   "metadata": {},
   "outputs": [
    {
     "data": {
      "text/plain": [
       "[<matplotlib.lines.Line2D at 0x7f7e933884a8>]"
      ]
     },
     "execution_count": 119,
     "metadata": {},
     "output_type": "execute_result"
    },
    {
     "data": {
      "image/png": "[encoded data removed]",
      "text/plain": [
       "<Figure size 432x288 with 1 Axes>"
      ]
     },
     "metadata": {
      "needs_background": "light"
     },
     "output_type": "display_data"
    }
   ],
   "source": [
    "plt.plot(L)"
   ]
  },
  {
   "cell_type": "code",
   "execution_count": 116,
   "metadata": {},
   "outputs": [],
   "source": [
    "L = []\n",
    "for n in range(100):\n",
    "    errors = []\n",
    "    for i in range(100):\n",
    "        M= np.random.random((50,50))\n",
    "        Meth = lambda x : optimized_approximation_sampling(x, n)\n",
    "        errors.append(reconstruction_error(M,Meth))\n",
    "    err = np.mean(errors)\n",
    "    L.append(err)"
   ]
  },
  {
   "cell_type": "code",
   "execution_count": 117,
   "metadata": {},
   "outputs": [
    {
     "data": {
      "text/plain": [
       "[<matplotlib.lines.Line2D at 0x7f7e933cc128>]"
      ]
     },
     "execution_count": 117,
     "metadata": {},
     "output_type": "execute_result"
    },
    {
     "data": {
      "image/png": "[encoded data removed]",
      "text/plain": [
       "<Figure size 432x288 with 1 Axes>"
      ]
     },
     "metadata": {
      "needs_background": "light"
     },
     "output_type": "display_data"
    }
   ],
   "source": [
    "plt.plot(L)"
   ]
  },
  {
   "cell_type": "code",
   "execution_count": 114,
   "metadata": {},
   "outputs": [],
   "source": [
    "L = []\n",
    "for n in range(100):\n",
    "    errors = []\n",
    "    for i in range(100):\n",
    "        M= np.random.random((50,50))\n",
    "        Meth = lambda x : robust_optimised_approximation_sampling(x, n,5)\n",
    "        errors.append(reconstruction_error(M,Meth))\n",
    "    err = np.mean(errors)\n",
    "    L.append(err)"
   ]
  },
  {
   "cell_type": "code",
   "execution_count": 115,
   "metadata": {},
   "outputs": [
    {
     "data": {
      "text/plain": [
       "[<matplotlib.lines.Line2D at 0x7f7e9363f1d0>]"
      ]
     },
     "execution_count": 115,
     "metadata": {},
     "output_type": "execute_result"
    },
    {
     "data": {
      "image/png": "[encoded data removed]",
      "text/plain": [
       "<Figure size 432x288 with 1 Axes>"
      ]
     },
     "metadata": {
      "needs_background": "light"
     },
     "output_type": "display_data"
    }
   ],
   "source": [
    "plt.plot(L)"
   ]
  },
  {
   "cell_type": "code",
   "execution_count": 139,
   "metadata": {},
   "outputs": [],
   "source": [
    "M = G[500:,500:]\n",
    "errors_ = []\n",
    "errors_opt = []\n",
    "errors_opt_rob = []\n",
    "for n in range(100):\n",
    "    Meth = lambda x : approximation_sampling(x, n, np.ones((1,x.shape[0]))/x.shape[0])\n",
    "    errors_.append(reconstruction_error(M,Meth))\n",
    "    \n",
    "    Meth = lambda x : optimized_approximation_sampling(x, n)\n",
    "    errors_opt.append(reconstruction_error(M,Meth))\n",
    "    \n",
    "    Meth = lambda x : robust_optimised_approximation_sampling(x, n,20)\n",
    "    errors_opt_rob.append(reconstruction_error(M,Meth))\n"
   ]
  },
  {
   "cell_type": "code",
   "execution_count": 143,
   "metadata": {},
   "outputs": [
    {
     "data": {
      "text/plain": [
       "[<matplotlib.lines.Line2D at 0x7f7e92f86390>]"
      ]
     },
     "execution_count": 143,
     "metadata": {},
     "output_type": "execute_result"
    },
    {
     "data": {
      "image/png": "[encoded data removed]",
      "text/plain": [
       "<Figure size 432x288 with 1 Axes>"
      ]
     },
     "metadata": {
      "needs_background": "light"
     },
     "output_type": "display_data"
    }
   ],
   "source": [
    "plt.plot(errors_)\n",
    "plt.plot(errors_opt)\n",
    "plt.plot(errors_opt_rob)"
   ]
  },
  {
   "cell_type": "code",
   "execution_count": null,
   "metadata": {},
   "outputs": [],
   "source": []
  }
 ],
 "metadata": {
  "kernelspec": {
   "display_name": "Python 3",
   "language": "python",
   "name": "python3"
  },
  "language_info": {
   "codemirror_mode": {
    "name": "ipython",
    "version": 3
   },
   "file_extension": ".py",
   "mimetype": "text/x-python",
   "name": "python",
   "nbconvert_exporter": "python",
   "pygments_lexer": "ipython3",
   "version": "3.6.8"
  }
 },
 "nbformat": 4,
 "nbformat_minor": 2
}
