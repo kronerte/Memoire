{
 "cells": [
  {
   "cell_type": "code",
   "execution_count": 1,
   "metadata": {},
   "outputs": [],
   "source": [
    "import os\n",
    "os.chdir(\"..\")"
   ]
  },
  {
   "cell_type": "code",
   "execution_count": 2,
   "metadata": {},
   "outputs": [],
   "source": [
    "import numpy as np\n",
    "import matplotlib.pyplot as plt\n",
    "from Anomaly.estimators import meanEmbeding_MC, moyenneMMD_MC, partial_varianceOMMD_MC, var_OMMD_MC, threshold_MC, puissance_MC\n",
    "from Anomaly.kernels import Gaussian, Laplacian, Polynomial, CCK\n",
    "from Anomaly.utils import normal, inv_phi\n",
    "from Anomaly.experiments import courbe_ROC\n",
    "from Anomaly.MMD import OMMD\n",
    "from scipy import stats"
   ]
  },
  {
   "cell_type": "markdown",
   "metadata": {},
   "source": [
    "# Gaussian Kernel // Normal Law"
   ]
  },
  {
   "cell_type": "markdown",
   "metadata": {},
   "source": [
    "## mean embeding"
   ]
  },
  {
   "cell_type": "code",
   "execution_count": 3,
   "metadata": {},
   "outputs": [],
   "source": [
    "sigma = 2\n",
    "mu = -2\n",
    "omega = 5\n",
    "law_p = normal(mu,sigma)\n",
    "kernel = Gaussian(omega)"
   ]
  },
  {
   "cell_type": "code",
   "execution_count": 4,
   "metadata": {},
   "outputs": [],
   "source": [
    "x = np.r_[[0.1*i - 10 for i in range(200)]]\n",
    "# Theorie\n",
    "f = lambda x : np.sqrt(omega**2/(omega**2+sigma**2))*np.exp(-(x-mu)**2/(2*(sigma**2+omega**2)))\n",
    "yth = f(x)\n",
    "# Experimental values\n",
    "yex = [meanEmbeding_MC(kernel, x[i], law_p) for i in range(200)]"
   ]
  },
  {
   "cell_type": "code",
   "execution_count": 5,
   "metadata": {},
   "outputs": [
    {
     "data": {
      "text/plain": [
       "[<matplotlib.lines.Line2D at 0x7ff115aeb5f8>]"
      ]
     },
     "execution_count": 5,
     "metadata": {},
     "output_type": "execute_result"
    },
    {
     "data": {
      "image/png": "[encoded data removed]",
      "text/plain": [
       "<Figure size 432x288 with 1 Axes>"
      ]
     },
     "metadata": {
      "needs_background": "light"
     },
     "output_type": "display_data"
    }
   ],
   "source": [
    "plt.plot(x,yex)\n",
    "plt.plot(x,yth)"
   ]
  },
  {
   "cell_type": "code",
   "execution_count": 6,
   "metadata": {},
   "outputs": [
    {
     "data": {
      "text/plain": [
       "540"
      ]
     },
     "execution_count": 6,
     "metadata": {},
     "output_type": "execute_result"
    }
   ],
   "source": [
    "15*12*3"
   ]
  },
  {
   "cell_type": "markdown",
   "metadata": {},
   "source": [
    "## MMD"
   ]
  },
  {
   "cell_type": "code",
   "execution_count": 9,
   "metadata": {},
   "outputs": [],
   "source": [
    "sigma1 = 3\n",
    "mu1 = 0\n",
    "sigma2 = 2\n",
    "mu2 = 1\n",
    "omega = 0.1\n",
    "law_p = normal(mu1,sigma1)\n",
    "law_q = normal(mu2,sigma2)\n",
    "kernel = Gaussian"
   ]
  },
  {
   "cell_type": "code",
   "execution_count": 10,
   "metadata": {},
   "outputs": [
    {
     "name": "stdout",
     "output_type": "stream",
     "text": [
      "99.0 % achevé9999 % achevéé\r"
     ]
    },
    {
     "data": {
      "text/plain": [
       "0.0010294156339410861"
      ]
     },
     "execution_count": 10,
     "metadata": {},
     "output_type": "execute_result"
    }
   ],
   "source": [
    "moyenneMMD_MC(OMMD,kernel(omega**2),law_p,law_q,1000,1000)"
   ]
  },
  {
   "cell_type": "code",
   "execution_count": 11,
   "metadata": {},
   "outputs": [],
   "source": [
    "def MMD_th(omega, mu1, sigma1, mu2, sigma2):\n",
    "    return (np.sqrt(omega**2/(2*sigma1**2+omega**2))\n",
    "                   + np.sqrt(omega**2/(2*sigma2**2+omega**2))\n",
    "                   -2*np.sqrt(omega**2/(sigma1**2+sigma2**2+omega**2))*np.exp(-(mu1-mu2)**2/(2*(sigma1**2+sigma2**2+omega**2))))"
   ]
  },
  {
   "cell_type": "code",
   "execution_count": 12,
   "metadata": {},
   "outputs": [
    {
     "name": "stdout",
     "output_type": "stream",
     "text": [
      "7.000000000000001 % achevé\r"
     ]
    },
    {
     "name": "stderr",
     "output_type": "stream",
     "text": [
      "/home/kronert/Documents/Python/Mémoire/Memoire/Anomaly/kernels.py:126: RuntimeWarning: divide by zero encountered in true_divide\n",
      "  return np.exp(-np.linalg.norm(X-Y,axis=1)**2/(2*self.parameters[\"omega\"]**2))\n"
     ]
    },
    {
     "name": "stdout",
     "output_type": "stream",
     "text": [
      "99.0 % achevé9999 % achevéé % achevé % achevé % achevé % achevé % achevé % achevé % achevé % achevé % achevé % achevé % achevé % achevé % achevé % achevé % achevé % achevé % achevé % achevé % achevé % achevé % achevé % achevé % achevé % achevé% achevé % achevé% achevé% achevé % achevé % achevé % achevé% achevé % achevé % achevé % achevé % achevé % achevé % achevé % achevé % achevé % achevé % achevé % achevé % achevé % achevé % achevé % achevé % achevé % achevé % achevé % achevé % achevé% achevé % achevé % achevé% achevé % achevé % achevé % achevé % achevé % achevé% achevé % achevé % achevé % achevé % achevé % achevé % achevé% achevé% achevé % achevé % achevé % achevé % achevé % achevé % achevé % achevé % achevé % achevé % achevé % achevé % achevé % achevé % achevé % achevé % achevé % achevé % achevé % achevé % achevé% achevé % achevé % achevé % achevé% achevé % achevé % achevé % achevé % achevé % achevé % achevé % achevé % achevé % achevé % achevé % achevé% achevé % achevé% achevé % achevé % achevé% achevé % achevé% achevé % achevé% achevé % achevé % achevé % achevé % achevé % achevé % achevé % achevé % achevé % achevé % achevé % achevé % achevé % achevé % achevé % achevé % achevé % achevé % achevé % achevé % achevé % achevé % achevé % achevé % achevé% achevé % achevé % achevé % achevé % achevé % achevé % achevé % achevé % achevé % achevé % achevé % achevé% achevé % achevé % achevé % achevé % achevé % achevé % achevé % achevé % achevé % achevé % achevé % achevé % achevé % achevé % achevé % achevé % achevé % achevé% achevé % achevé % achevé % achevé % achevé % achevé % achevé % achevé % achevé % achevé % achevé % achevé% achevé % achevé % achevé % achevé% achevé% achevé % achevé % achevé % achevé % achevé % achevé % achevé % achevé % achevé % achevé % achevé % achevé % achevé % achevé% achevé % achevé % achevé% achevé % achevé % achevé % achevé % achevé % achevé % achevé% achevé % achevé % achevé % achevé % achevé % achevé % achevé % achevé % achevé % achevé% achevé % achevé % achevé % achevé % achevé % achevé % achevé % achevé % achevé% achevé % achevé% achevé % achevé % achevé % achevé% achevé % achevé % achevé % achevé % achevé % achevé % achevé % achevé % achevé % achevé % achevé % achevé % achevé % achevé % achevé % achevé % achevé % achevé % achevé% achevé % achevé % achevé % achevé % achevé % achevé % achevé % achevé % achevé % achevé % achevé % achevé % achevé % achevé % achevé % achevé % achevé % achevé % achevé % achevé % achevé % achevé % achevé % achevé % achevé % achevé % achevé % achevé % achevé % achevé % achevé % achevé % achevé% achevé % achevé % achevé % achevé % achevé % achevé % achevé % achevé % achevé % achevé % achevé % achevé % achevé % achevé % achevé % achevé % achevé % achevé% achevé % achevé % achevé % achevé % achevé % achevé % achevé % achevé % achevé % achevé % achevé % achevé % achevé % achevé % achevé % achevé % achevé % achevé % achevé % achevé % achevé% achevé % achevé% achevé % achevé % achevé % achevé% achevé % achevé % achevé % achevé % achevé % achevé % achevé % achevé % achevé % achevé % achevé % achevé % achevé % achevé % achevé % achevé % achevé % achevé % achevé % achevé % achevé% achevé % achevé % achevé % achevé % achevé % achevé % achevé % achevé % achevé % achevé % achevé % achevé % achevé % achevé % achevé % achevé% achevé % achevé % achevé% achevé % achevé % achevé % achevé % achevé% achevé% achevé% achevé % achevé % achevé % achevé % achevé % achevé % achevé % achevé % achevé % achevé % achevé % achevé % achevé % achevé % achevé % achevé % achevé % achevé % achevé % achevé % achevé % achevé % achevé % achevé % achevé% achevé% achevé % achevé % achevé % achevé % achevé % achevé % achevé % achevé % achevé% achevé % achevé % achevé % achevé % achevé % achevé % achevé % achevé % achevé % achevé % achevé% achevé % achevé % achevé% achevé % achevé % achevé % achevé % achevé % achevé % achevé % achevé % achevé % achevé % achevé % achevé % achevé % achevé % achevé % achevé % achevé % achevé % achevé % achevé % achevé % achevé % achevé % achevé % achevé% achevé % achevé % achevé % achevé % achevé % achevé % achevé % achevé % achevé % achevé % achevé % achevé % achevé % achevé % achevé % achevé% achevé % achevé % achevé% achevé% achevé % achevé % achevé % achevé % achevé% achevé % achevé % achevé % achevé % achevé % achevé % achevé % achevé % achevé % achevé\r"
     ]
    }
   ],
   "source": [
    "x = np.r_[[0.05*i for i in range(200)]]\n",
    "# Theorie\n",
    "f = lambda x : MMD_th(x, mu1, sigma1, mu2, sigma2)\n",
    "yth = f(x)\n",
    "# Experimental values\n",
    "yex = [moyenneMMD_MC(OMMD,kernel(x[i]**2),law_p,law_q,100,100) for i in range(200)]"
   ]
  },
  {
   "cell_type": "code",
   "execution_count": 13,
   "metadata": {},
   "outputs": [
    {
     "data": {
      "text/plain": [
       "[<matplotlib.lines.Line2D at 0x7ff0ed6b7978>]"
      ]
     },
     "execution_count": 13,
     "metadata": {},
     "output_type": "execute_result"
    },
    {
     "data": {
      "image/png": "[encoded data removed]",
      "text/plain": [
       "<Figure size 432x288 with 1 Axes>"
      ]
     },
     "metadata": {
      "needs_background": "light"
     },
     "output_type": "display_data"
    }
   ],
   "source": [
    "plt.plot(x,yex)\n",
    "plt.plot(x,yth)"
   ]
  },
  {
   "cell_type": "markdown",
   "metadata": {},
   "source": [
    "## f(X,X') Expectation"
   ]
  },
  {
   "cell_type": "code",
   "execution_count": null,
   "metadata": {},
   "outputs": [],
   "source": []
  },
  {
   "cell_type": "code",
   "execution_count": 14,
   "metadata": {},
   "outputs": [],
   "source": [
    "def fexpacationOMMD_MC(kernel,  law_p, law_q, size_gen = 100, finalSampleSize=1000, verbose = 1):\n",
    "    sample = np.zeros(finalSampleSize)\n",
    "    for i in range(finalSampleSize):\n",
    "        if verbose > 0:\n",
    "            print(i/finalSampleSize*100, '% achevé',end='\\r',flush=True)\n",
    "        x1 = law_p(1)\n",
    "        x2 = law_p(1)\n",
    "        sample[i] = kernel(x1,x2) -  meanEmbeding_MC(kernel, x1, law_q, size_gen = size_gen) -  meanEmbeding_MC(kernel, x2, law_q, size_gen = size_gen)\n",
    "    return sample.mean()"
   ]
  },
  {
   "cell_type": "code",
   "execution_count": 15,
   "metadata": {},
   "outputs": [],
   "source": [
    "sigma1 = 3\n",
    "mu1 = 0\n",
    "sigma2 = 4\n",
    "mu2 = 10\n",
    "omega = 0.1\n",
    "law_p = normal(mu1,sigma1)\n",
    "law_q = normal(mu2,sigma2)\n",
    "kernel = Gaussian"
   ]
  },
  {
   "cell_type": "code",
   "execution_count": 16,
   "metadata": {},
   "outputs": [],
   "source": [
    "def expfth(omega, mu1, sigma1, mu2, sigma2):\n",
    "    return (np.sqrt(omega**2/(2*sigma1**2+omega**2)) \n",
    "            - 2*np.sqrt(omega**2/(sigma1**2+sigma2**2+omega**2))*np.exp(-(mu1-mu2)**2/(2*(sigma1**2+sigma2**2+omega**2))))"
   ]
  },
  {
   "cell_type": "code",
   "execution_count": 17,
   "metadata": {},
   "outputs": [
    {
     "name": "stdout",
     "output_type": "stream",
     "text": [
      "97.09999999999999 % achevéé % achevé % achevé % achevé % achevé % achevé % achevé % achevé % achevé % achevé % achevé % achevé % achevé % achevé % achevé % achevé % achevé% achevé % achevé % achevé % achevé % achevé % achevé % achevé % achevé % achevé % achevé % achevé % achevé % achevé % achevé % achevé % achevé % achevé % achevé % achevé % achevé % achevé % achevé % achevé % achevé % achevé % achevé % achevé % achevé % achevé % achevé % achevé % achevé % achevé % achevé % achevé % achevé % achevé % achevé % achevé % achevé % achevé % achevé % achevé % achevé % achevé % achevé % achevé % achevé % achevé % achevé % achevé % achevé % achevé % achevé % achevé % achevé % achevé % achevé % achevé % achevé % achevé % achevé % achevé % achevé % achevé % achevé % achevé % achevé % achevé % achevé % achevé% achevé % achevé % achevé % achevé % achevé% achevé % achevé % achevé % achevé % achevé % achevé% achevé % achevé % achevé % achevé % achevé% achevé % achevé % achevé % achevé% achevé % achevé % achevé% achevé % achevé % achevé % achevé % achevé % achevé % achevé % achevé % achevé % achevé % achevé % achevé % achevé % achevé % achevé % achevé % achevé % achevé % achevé % achevé % achevé % achevé% achevé % achevé % achevé % achevé% achevé % achevé % achevé % achevé % achevé% achevé % achevé % achevé % achevé % achevé % achevé % achevé % achevé % achevé % achevé % achevé % achevé % achevé % achevé% achevé % achevé % achevé % achevé % achevé % achevé% achevé % achevé % achevé % achevé % achevé % achevé % achevé% achevé % achevé % achevé % achevé % achevé % achevé% achevé % achevé % achevé% achevé % achevé % achevé% achevé % achevé % achevé% achevé % achevé % achevé % achevé % achevé % achevé% achevé % achevé % achevé % achevé % achevé % achevé % achevé % achevé% achevé % achevé % achevé % achevé % achevé % achevé % achevé % achevé % achevé % achevé % achevé% achevé % achevé % achevé % achevé % achevé % achevé % achevé % achevé % achevé % achevé % achevé% achevé % achevé % achevé % achevé % achevé % achevé% achevé % achevé % achevé % achevé % achevé % achevé % achevé % achevé % achevé % achevé % achevé % achevé % achevé % achevé % achevé % achevé% achevé % achevé % achevé % achevé % achevé % achevé % achevé % achevé % achevé % achevé % achevé % achevé% achevé % achevé % achevé % achevé % achevé % achevé % achevé % achevé % achevé % achevé % achevé % achevé % achevé % achevé % achevé % achevé % achevé % achevé % achevé % achevé % achevé % achevé % achevé % achevé % achevé % achevé % achevé % achevé % achevé % achevé % achevé % achevé % achevé % achevé % achevé % achevé % achevé % achevé % achevé % achevé % achevé % achevé % achevé % achevé % achevé % achevé % achevé % achevé % achevé % achevé % achevé % achevé % achevé % achevé % achevé % achevé % achevé % achevé % achevé % achevé % achevé % achevé % achevé % achevé % achevé % achevé % achevé % achevé % achevé % achevé % achevé % achevé % achevé % achevé% achevé % achevé % achevé % achevé % achevé % achevé % achevé % achevé % achevé % achevé % achevé % achevé % achevé % achevé % achevé % achevé % achevé % achevé % achevé % achevé % achevé % achevé % achevé % achevé % achevé % achevé % achevé% achevé % achevé % achevé% achevé % achevé % achevé % achevé% achevé % achevé % achevé % achevé % achevé % achevé % achevé% achevé % achevé % achevé % achevé % achevé % achevé % achevé % achevé % achevé % achevé % achevé% achevé % achevé % achevé % achevé % achevé % achevé % achevé % achevé % achevé % achevé % achevé % achevé% achevé % achevé % achevé % achevé % achevé% achevé % achevé % achevé % achevé % achevé % achevé % achevé % achevé % achevé % achevé % achevé % achevé % achevé% achevé % achevé % achevé % achevé % achevé % achevé % achevé % achevé % achevé % achevé % achevé % achevé% achevé % achevé % achevé % achevé % achevé % achevé% achevé % achevé % achevé % achevé % achevé % achevé% achevé % achevé % achevé % achevé % achevé % achevé % achevé % achevé % achevé % achevé % achevé % achevé % achevé % achevé % achevé % achevé % achevé % achevé % achevé % achevé % achevé % achevé % achevé % achevé % achevé% achevé % achevé % achevé % achevé % achevé % achevé % achevé% achevé % achevé % achevé % achevé % achevé % achevé% achevé % achevé % achevé % achevé % achevé % achevé % achevé % achevé % achevé % achevé % achevé % achevé % achevé % achevé % achevé % achevé % achevé % achevé % achevé % achevé % achevé % achevé % achevé % achevé % achevé % achevé % achevé % achevé % achevé % achevé % achevé % achevé % achevé % achevé % achevé % achevé % achevé % achevé % achevé % achevé % achevé % achevé % achevé% achevé % achevé % achevé % achevé % achevé % achevé % achevé % achevé % achevé % achevé % achevé% achevé % achevé % achevé % achevé % achevé % achevé % achevé % achevé % achevé% achevé % achevé % achevé % achevé% achevé % achevé % achevé % achevé% achevé % achevé % achevé % achevé % achevé % achevé % achevé % achevé % achevé % achevé % achevé % achevé % achevé % achevé % achevé % achevé% achevé % achevé % achevé % achevé % achevé % achevé % achevé% achevé % achevé % achevé % achevé % achevé % achevé % achevé% achevé % achevé % achevé% achevé % achevé % achevé % achevé % achevé % achevé % achevé % achevé % achevé % achevé % achevé % achevé% achevé % achevé % achevé % achevé % achevé % achevé% achevé % achevé % achevé % achevé % achevé % achevé% achevé % achevé % achevé % achevé % achevé % achevé % achevé % achevé % achevé % achevé % achevé% achevé % achevé % achevé % achevé % achevé % achevé % achevé% achevé % achevé % achevé % achevé % achevé% achevé % achevé % achevé % achevé% achevé % achevé % achevé % achevé% achevé % achevé % achevé% achevé % achevé % achevé % achevé % achevé % achevé % achevé % achevé % achevé % achevé % achevé % achevé% achevé % achevé % achevé % achevé % achevé% achevé % achevé % achevé % achevé % achevé % achevé % achevé % achevé % achevé % achevé % achevé % achevé% achevé % achevé % achevé% achevé % achevé % achevé % achevé % achevé % achevé % achevé % achevé % achevé % achevé% achevé % achevé % achevé % achevé % achevé % achevé % achevé % achevé % achevé% achevé % achevé % achevé % achevé % achevé % achevé % achevé % achevé % achevé % achevé% achevé % achevé % achevé % achevé % achevé% achevé % achevé % achevé % achevé % achevé % achevé % achevé % achevé % achevé % achevé % achevé % achevé % achevé% achevé % achevé % achevé % achevé % achevé % achevé % achevé % achevé % achevé % achevé % achevé % achevé % achevé % achevé % achevé % achevé % achevé % achevé % achevé% achevé % achevé % achevé % achevé % achevé % achevé % achevé % achevé % achevé % achevé % achevé % achevé % achevé % achevé % achevé % achevé% achevé % achevé % achevé % achevé % achevé % achevé % achevé % achevé % achevé% achevé % achevé % achevé % achevé% achevé% achevé % achevé % achevé % achevé % achevé % achevé % achevé % achevé % achevé % achevé % achevé % achevé % achevé % achevé % achevé % achevé % achevé% achevé % achevé % achevé % achevé % achevé % achevé % achevé % achevé % achevé % achevé % achevé % achevé % achevé % achevé % achevé % achevé % achevé % achevé % achevé % achevé % achevé % achevé % achevé % achevé % achevé % achevé % achevé % achevé % achevé % achevé % achevé % achevé % achevé % achevé % achevé % achevé % achevé % achevé % achevé % achevé % achevé% achevé % achevé % achevé % achevé % achevé% achevé % achevé % achevé % achevé % achevé % achevé % achevé % achevé% achevé % achevé % achevé % achevé % achevé % achevé % achevé% achevé % achevé % achevé % achevé% achevé % achevé % achevé % achevé % achevé % achevé % achevé% achevé % achevé % achevé % achevé % achevé % achevé% achevé % achevé % achevé % achevé % achevé % achevé % achevé % achevé % achevé % achevé % achevé% achevé % achevé % achevé % achevé % achevé% achevé% achevé % achevé % achevé% achevé % achevé % achevé % achevé% achevé % achevé% achevé % achevé % achevé % achevé % achevé % achevé % achevé % achevé % achevé % achevé % achevé% achevé % achevé % achevé % achevé % achevé % achevé % achevé% achevé % achevé % achevé % achevé % achevé% achevé % achevé % achevé % achevé% achevé % achevé % achevé % achevé % achevé % achevé % achevé % achevé % achevé\r"
     ]
    },
    {
     "name": "stdout",
     "output_type": "stream",
     "text": [
      "36.199999999999996 % achevé % achevé % achevé% achevé % achevé % achevé % achevé % achevé % achevé % achevé % achevé % achevé % achevé % achevé % achevé % achevé % achevé% achevé % achevé % achevé % achevé % achevé % achevé % achevé % achevé % achevé % achevé % achevé % achevé % achevé % achevé% achevé % achevé % achevé % achevé % achevé % achevé % achevé % achevé % achevé % achevé % achevé % achevé % achevé % achevé% achevé % achevé % achevé % achevé% achevé % achevé % achevé % achevé % achevé % achevé % achevé % achevé % achevé % achevé % achevé% achevé % achevé % achevé% achevé % achevé % achevé % achevé % achevé % achevé % achevé % achevé % achevé % achevé % achevé % achevé % achevé % achevé % achevé % achevé % achevé % achevé % achevé % achevé % achevé % achevé % achevé % achevé % achevé % achevé % achevé% achevé % achevé % achevé % achevé % achevé % achevé % achevé % achevé % achevé% achevé % achevé % achevé % achevé % achevé % achevé % achevé % achevé % achevé % achevé % achevé % achevé % achevé % achevé % achevé % achevé% achevé % achevé % achevé % achevé % achevé % achevé % achevé % achevé % achevé % achevé % achevé % achevé % achevé% achevé % achevé % achevé % achevé % achevé % achevé% achevé % achevé % achevé % achevé % achevé % achevé % achevé % achevé % achevé % achevé % achevé % achevé % achevé % achevé % achevé % achevé % achevé % achevé % achevé % achevé % achevé % achevé % achevé % achevé % achevé % achevé % achevé % achevé % achevé % achevé % achevé % achevé % achevé% achevé % achevé % achevé % achevé % achevé % achevé % achevé % achevé % achevé % achevé % achevé % achevé % achevé % achevé% achevé % achevé % achevé % achevé % achevé% achevé % achevé % achevé % achevé % achevé% achevé % achevé % achevé % achevé% achevé % achevé % achevé % achevé % achevé % achevé % achevé% achevé % achevé % achevé % achevé % achevé % achevé % achevé % achevé % achevé % achevé% achevé % achevé % achevé% achevé % achevé % achevé % achevé % achevé % achevé% achevé % achevé % achevé % achevé % achevé % achevé % achevé % achevé% achevé % achevé % achevé % achevé % achevé% achevé % achevé % achevé % achevé % achevé % achevé % achevé% achevé % achevé % achevé % achevé % achevé % achevé % achevé % achevé % achevé% achevé% achevé % achevé % achevé % achevé % achevé % achevé % achevé % achevé % achevé % achevé % achevé % achevé % achevé% achevé % achevé % achevé % achevé % achevé % achevé % achevé % achevé % achevé% achevé% achevé % achevé % achevé % achevé % achevé % achevé % achevé % achevé % achevé % achevé % achevé% achevé % achevé % achevé % achevé% achevé % achevé % achevé % achevé % achevé % achevé % achevé % achevé % achevé % achevé % achevé % achevé% achevé % achevé % achevé % achevé % achevé % achevé % achevé % achevé % achevé % achevé % achevé % achevé % achevé % achevé % achevé % achevé % achevé % achevé % achevé % achevé % achevé % achevé % achevé % achevé% achevé % achevé % achevé % achevé% achevé % achevé % achevé % achevé % achevé% achevé % achevé % achevé % achevé % achevé % achevé % achevé % achevé % achevé % achevé % achevé % achevé % achevé% achevé % achevé % achevé % achevé % achevé % achevé % achevé % achevé % achevé % achevé% achevé % achevé % achevé % achevé % achevé % achevé % achevé % achevé % achevé % achevé % achevé % achevé % achevé % achevé % achevé % achevé % achevé % achevé % achevé % achevé % achevé % achevé % achevé % achevé % achevé % achevé % achevé % achevé % achevé% achevé% achevé % achevé% achevé % achevé% achevé % achevé % achevé% achevé % achevé % achevé % achevé% achevé % achevé % achevé % achevé % achevé % achevé % achevé % achevé % achevé % achevé % achevé % achevé % achevé % achevé % achevé% achevé % achevé % achevé % achevé % achevé % achevé % achevé % achevé % achevé % achevé% achevé % achevé % achevé % achevé % achevé % achevé % achevé % achevé % achevé % achevé % achevé % achevé% achevé % achevé % achevé % achevé % achevé % achevé % achevé % achevé % achevé % achevé % achevé % achevé % achevé % achevé % achevé % achevé % achevé % achevé % achevé % achevé % achevé % achevé % achevé% achevé % achevé % achevé % achevé % achevé % achevé % achevé % achevé% achevé % achevé % achevé % achevé % achevé % achevé % achevé % achevé% achevé % achevé % achevé % achevé % achevé % achevé% achevé % achevé % achevé % achevé % achevé% achevé % achevé % achevé % achevé % achevé% achevé % achevé % achevé % achevé % achevé % achevé % achevé % achevé % achevé % achevé % achevé % achevé % achevé % achevé % achevé % achevé % achevé % achevé % achevé % achevé % achevé% achevé % achevé % achevé % achevé % achevé % achevé % achevé % achevé% achevé % achevé % achevé % achevé % achevé % achevé% achevé % achevé % achevé % achevé % achevé % achevé % achevé % achevé % achevé % achevé% achevé % achevé % achevé % achevé % achevé% achevé % achevé % achevé % achevé % achevé % achevé% achevé % achevé % achevé % achevé% achevé% achevé% achevé % achevé % achevé % achevé % achevé % achevé % achevé% achevé % achevé % achevé % achevé % achevé % achevé % achevé % achevé % achevé % achevé % achevé % achevé % achevé % achevé % achevé% achevé % achevé % achevé % achevé % achevé % achevé % achevé % achevé % achevé% achevé% achevé % achevé % achevé % achevé% achevé % achevé % achevé % achevé % achevé % achevé % achevé % achevé % achevé % achevé % achevé % achevé % achevé % achevé % achevé % achevé% achevé % achevé % achevé % achevé % achevé % achevé % achevé % achevé % achevé % achevé % achevé % achevé % achevé % achevé % achevé% achevé % achevé % achevé % achevé % achevé % achevé % achevé % achevé % achevé % achevé% achevé % achevé% achevé % achevé % achevé % achevé % achevé % achevé% achevé % achevé % achevé% achevé % achevé % achevé% achevé % achevé % achevé % achevé % achevé % achevé % achevé % achevé % achevé% achevé % achevé% achevé % achevé % achevé % achevé % achevé % achevé % achevé % achevé % achevé % achevé % achevé% achevé % achevé % achevé % achevé % achevé % achevé % achevé % achevé % achevé % achevé % achevé % achevé % achevé % achevé % achevé % achevé % achevé % achevé % achevé % achevé % achevé % achevé% achevé % achevé % achevé% achevé % achevé % achevé % achevé % achevé % achevé % achevé% achevé % achevé % achevé % achevé % achevé % achevé % achevé % achevé % achevé % achevé % achevé % achevé % achevé % achevé % achevé % achevé % achevé % achevé % achevé % achevé % achevé % achevé % achevé% achevé % achevé% achevé % achevé % achevé % achevé % achevé % achevé% achevé % achevé % achevé % achevé % achevé % achevé % achevé % achevé % achevé % achevé % achevé % achevé % achevé% achevé% achevé % achevé % achevé% achevé % achevé % achevé % achevé % achevé % achevé % achevé % achevé % achevé % achevé % achevé % achevé % achevé % achevé % achevé % achevé % achevé % achevé % achevé % achevé % achevé % achevé % achevé % achevé % achevé % achevé % achevé % achevé % achevé % achevé % achevé % achevé % achevé % achevé % achevé% achevé % achevé % achevé % achevé % achevé % achevé % achevé % achevé % achevé % achevé % achevé % achevé % achevé % achevé % achevé % achevé % achevé % achevé % achevé % achevé % achevé % achevé % achevé % achevé % achevé % achevé % achevé % achevé % achevé % achevé % achevé % achevé % achevé % achevé % achevé % achevé % achevé % achevé % achevé% achevé % achevé % achevé % achevé % achevé % achevé % achevé % achevé % achevé % achevé % achevé% achevé % achevé % achevé % achevé % achevé % achevé % achevé % achevé % achevé% achevé % achevé % achevé % achevé % achevé % achevé % achevé% achevé % achevé % achevé% achevé % achevé% achevé % achevé % achevé % achevé % achevé % achevé % achevé% achevé % achevé % achevé % achevé % achevé% achevé % achevé % achevé % achevé % achevé % achevé % achevé % achevé % achevé% achevé % achevé % achevé % achevé % achevé % achevé % achevé % achevé % achevé% achevé % achevé % achevé % achevé % achevé % achevé % achevé% achevé % achevé % achevé % achevé % achevé % achevé% achevé % achevé % achevé % achevé % achevé % achevé % achevé% achevé % achevé % achevé % achevé % achevé % achevé % achevé% achevé % achevé % achevé% achevé % achevé % achevé % achevé % achevé % achevé % achevé % achevé % achevé\r"
     ]
    },
    {
     "name": "stdout",
     "output_type": "stream",
     "text": [
      "99.9 % achevé9999 % achevéé % achevé % achevé % achevé% achevé % achevé % achevé % achevé % achevé% achevé % achevé % achevé % achevé % achevé% achevé % achevé % achevé % achevé % achevé % achevé % achevé % achevé% achevé% achevé % achevé % achevé % achevé % achevé % achevé % achevé % achevé % achevé% achevé % achevé % achevé % achevé % achevé % achevé % achevé % achevé% achevé % achevé% achevé % achevé % achevé % achevé % achevé % achevé % achevé % achevé% achevé% achevé% achevé % achevé % achevé % achevé % achevé % achevé % achevé % achevé % achevé % achevé % achevé % achevé % achevé % achevé % achevé % achevé % achevé % achevé% achevé % achevé % achevé % achevé % achevé % achevé % achevé % achevé % achevé % achevé % achevé % achevé % achevé% achevé % achevé % achevé % achevé % achevé % achevé % achevé % achevé % achevé % achevé % achevé % achevé % achevé % achevé % achevé % achevé % achevé % achevé % achevé % achevé % achevé % achevé % achevé % achevé % achevé % achevé % achevé % achevé % achevé % achevé % achevé % achevé % achevé % achevé % achevé % achevé % achevé % achevé % achevé % achevé % achevé % achevé % achevé % achevé % achevé % achevé % achevé % achevé % achevé % achevé % achevé% achevé % achevé % achevé % achevé % achevé % achevé % achevé % achevé % achevé % achevé % achevé% achevé % achevé % achevé % achevé % achevé % achevé % achevé % achevé % achevé % achevé % achevé % achevé % achevé % achevé % achevé % achevé % achevé % achevé % achevé % achevé % achevé % achevé % achevé % achevé % achevé % achevé % achevé % achevé % achevé % achevé % achevé% achevé % achevé% achevé% achevé % achevé % achevé % achevé % achevé % achevé % achevé % achevé % achevé % achevé % achevé % achevé % achevé % achevé % achevé % achevé% achevé % achevé % achevé % achevé % achevé % achevé % achevé% achevé % achevé % achevé % achevé % achevé % achevé % achevé % achevé % achevé% achevé % achevé % achevé % achevé% achevé % achevé % achevé% achevé % achevé % achevé% achevé % achevé % achevé % achevé % achevé % achevé % achevé% achevé % achevé % achevé % achevé % achevé % achevé % achevé% achevé % achevé % achevé % achevé % achevé % achevé % achevé % achevé% achevé % achevé % achevé % achevé % achevé % achevé % achevé % achevé % achevé % achevé % achevé % achevé % achevé % achevé % achevé% achevé % achevé% achevé % achevé % achevé % achevé% achevé % achevé% achevé % achevé % achevé % achevé % achevé % achevé % achevé % achevé % achevé % achevé % achevé % achevé % achevé% achevé % achevé % achevé % achevé % achevé % achevé % achevé % achevé% achevé% achevé % achevé % achevé % achevé % achevé % achevé % achevé % achevé % achevé % achevé % achevé % achevé % achevé % achevé% achevé % achevé% achevé % achevé % achevé % achevé % achevé % achevé % achevé % achevé % achevé % achevé % achevé% achevé% achevé % achevé % achevé % achevé % achevé% achevé % achevé % achevé % achevé % achevé% achevé % achevé % achevé % achevé% achevé % achevé % achevé% achevé % achevé % achevé% achevé % achevé% achevé % achevé % achevé % achevé% achevé % achevé % achevé % achevé % achevé % achevé % achevé % achevé % achevé % achevé % achevé % achevé % achevé % achevé % achevé % achevé % achevé % achevé % achevé % achevé% achevé % achevé % achevé % achevé% achevé % achevé% achevé % achevé % achevé % achevé % achevé % achevé % achevé% achevé % achevé% achevé % achevé % achevé % achevé % achevé % achevé % achevé % achevé% achevé % achevé % achevé % achevé % achevé % achevé% achevé % achevé % achevé % achevé % achevé % achevé % achevé % achevé % achevé % achevé % achevé % achevé% achevé % achevé % achevé % achevé% achevé % achevé % achevé % achevé % achevé % achevé % achevé% achevé % achevé % achevé % achevé % achevé% achevé % achevé % achevé % achevé % achevé % achevé% achevé % achevé% achevé % achevé % achevé % achevé% achevé % achevé\r"
     ]
    }
   ],
   "source": [
    "x = np.r_[[0.05*i for i in range(200)]]\n",
    "# Theorie\n",
    "f = lambda x : expfth(x, mu1, sigma1, mu2, sigma2)\n",
    "yth = f(x)\n",
    "# Experimental values\n",
    "yex = [fexpacationOMMD_MC(kernel(x[i]**2),law_p,law_q) for i in range(200)]"
   ]
  },
  {
   "cell_type": "code",
   "execution_count": 18,
   "metadata": {},
   "outputs": [
    {
     "data": {
      "text/plain": [
       "[<matplotlib.lines.Line2D at 0x7ff0da4ca1d0>]"
      ]
     },
     "execution_count": 18,
     "metadata": {},
     "output_type": "execute_result"
    },
    {
     "data": {
      "image/png": "[encoded data removed]",
      "text/plain": [
       "<Figure size 432x288 with 1 Axes>"
      ]
     },
     "metadata": {
      "needs_background": "light"
     },
     "output_type": "display_data"
    }
   ],
   "source": [
    "plt.plot(x,yex)\n",
    "plt.plot(x,yth)"
   ]
  },
  {
   "cell_type": "markdown",
   "metadata": {},
   "source": [
    "## f(X,X') second order"
   ]
  },
  {
   "cell_type": "code",
   "execution_count": 19,
   "metadata": {},
   "outputs": [],
   "source": [
    "sigma1 = 3\n",
    "mu1 = -2\n",
    "sigma2 = 1\n",
    "mu2 = 10\n",
    "omega = 0.1\n",
    "law_p = normal(mu1,sigma1)\n",
    "law_q = normal(mu2,sigma2)\n",
    "kernel = Gaussian"
   ]
  },
  {
   "cell_type": "code",
   "execution_count": 20,
   "metadata": {},
   "outputs": [],
   "source": [
    "def fsecondorderOMMD_MC(kernel,  law_p, law_q, size_gen = 100, finalSampleSize=1000, verbose = 1):\n",
    "    sample = np.zeros(finalSampleSize)\n",
    "    for i in range(finalSampleSize):\n",
    "        if verbose > 0:\n",
    "            print(i/finalSampleSize*100, '% achevé',end='\\r',flush=True)\n",
    "        x1 = law_p(1)\n",
    "        x2 = law_p(1)\n",
    "        sample[i] = kernel(x1,x2) -  meanEmbeding_MC(kernel, x1, law_q, size_gen = size_gen) -  meanEmbeding_MC(kernel, x2, law_q, size_gen = size_gen)\n",
    "    return (sample**2).mean()"
   ]
  },
  {
   "cell_type": "code",
   "execution_count": 21,
   "metadata": {},
   "outputs": [],
   "source": [
    "def sndOdfth(omega, mu1, sigma1, mu2, sigma2):\n",
    "    return (\n",
    "    np.sqrt(omega**2/(4*sigma1**2 + omega**2))\n",
    "        \n",
    "        + 2*omega**2/(np.sqrt(omega**2+sigma2**2)*np.sqrt(omega**2+sigma2**2+2*sigma1**2))*np.exp(-(mu1-mu2)**2/(omega**2+sigma2**2+2*sigma1**2))\n",
    "       \n",
    "        + 2*omega**2/(omega**2+sigma2**2+sigma1**2)*np.exp(-(mu1-mu2)**2/(omega**2+sigma2**2+sigma1**2))\n",
    "       \n",
    "        -4*np.sqrt(omega**4/(sigma1**4+3*sigma1**2*omega**2+2*sigma1**2*sigma2**2+omega**4+sigma2**2*omega**2))\n",
    "        *np.exp(-(mu1-mu2)**2/(2*((sigma1**4+3*sigma1**2*omega**2+2*sigma1**2*sigma2**2+omega**4+sigma2**2*omega**2)/(2*sigma1**2+omega**2))))\n",
    "    )"
   ]
  },
  {
   "cell_type": "code",
   "execution_count": 22,
   "metadata": {},
   "outputs": [],
   "source": [
    "x = np.r_[[0.05*i for i in range(200)]]\n",
    "# Theorie\n",
    "f = lambda x : sndOdfth(x, mu1, sigma1, mu2, sigma2)\n",
    "yth = f(x)\n",
    "# Experimental values\n",
    "yex = [fsecondorderOMMD_MC(kernel(x[i]**2),law_p,law_q,verbose=0) for i in range(200)]"
   ]
  },
  {
   "cell_type": "code",
   "execution_count": 23,
   "metadata": {},
   "outputs": [
    {
     "data": {
      "text/plain": [
       "[<matplotlib.lines.Line2D at 0x7ff0da35b198>]"
      ]
     },
     "execution_count": 23,
     "metadata": {},
     "output_type": "execute_result"
    },
    {
     "data": {
      "image/png": "[encoded data removed]",
      "text/plain": [
       "<Figure size 432x288 with 1 Axes>"
      ]
     },
     "metadata": {
      "needs_background": "light"
     },
     "output_type": "display_data"
    }
   ],
   "source": [
    "plt.plot(x,yex)\n",
    "plt.plot(x,yth)"
   ]
  },
  {
   "cell_type": "markdown",
   "metadata": {},
   "source": [
    "## partial variance"
   ]
  },
  {
   "cell_type": "code",
   "execution_count": 24,
   "metadata": {},
   "outputs": [],
   "source": [
    "sigma1 = 3\n",
    "mu1 = -2\n",
    "sigma2 = 1\n",
    "mu2 = 10\n",
    "omega = 0.1\n",
    "law_p = normal(mu1,sigma1)\n",
    "law_q = normal(mu2,sigma2)\n",
    "kernel = Gaussian"
   ]
  },
  {
   "cell_type": "code",
   "execution_count": 25,
   "metadata": {},
   "outputs": [],
   "source": [
    "def partialVarianceTh(omega, mu1, sigma1, mu2, sigma2):\n",
    "    return (\n",
    "    sndOdfth(omega, mu1, sigma1, mu2, sigma2) - expfth(omega, mu1, sigma1, mu2, sigma2)**2\n",
    "    )"
   ]
  },
  {
   "cell_type": "code",
   "execution_count": 26,
   "metadata": {},
   "outputs": [],
   "source": [
    "x = np.r_[[0.05*i for i in range(200)]]\n",
    "# Theorie\n",
    "f = lambda x : partialVarianceTh(x, mu1, sigma1, mu2, sigma2)\n",
    "yth = f(x)\n",
    "# Experimental values\n",
    "yex = [partial_varianceOMMD_MC(kernel(x[i]),law_p,law_q,verbose=0) for i in range(200)]"
   ]
  },
  {
   "cell_type": "code",
   "execution_count": 27,
   "metadata": {},
   "outputs": [
    {
     "data": {
      "text/plain": [
       "[<matplotlib.lines.Line2D at 0x7ff0da3d5240>]"
      ]
     },
     "execution_count": 27,
     "metadata": {},
     "output_type": "execute_result"
    },
    {
     "data": {
      "image/png": "[encoded data removed]",
      "text/plain": [
       "<Figure size 432x288 with 1 Axes>"
      ]
     },
     "metadata": {
      "needs_background": "light"
     },
     "output_type": "display_data"
    }
   ],
   "source": [
    "plt.plot(x,yex)\n",
    "plt.plot(x,yth)"
   ]
  },
  {
   "cell_type": "markdown",
   "metadata": {},
   "source": [
    "## Variance"
   ]
  },
  {
   "cell_type": "code",
   "execution_count": 32,
   "metadata": {},
   "outputs": [],
   "source": [
    "sigma1 = 3\n",
    "mu1 = -2\n",
    "sigma2 = 1\n",
    "mu2 = 10\n",
    "omega = 0.1\n",
    "law_p = normal(mu1,sigma1)\n",
    "law_q = normal(mu2,sigma2)\n",
    "kernel = Gaussian"
   ]
  },
  {
   "cell_type": "code",
   "execution_count": 33,
   "metadata": {},
   "outputs": [],
   "source": [
    "def VarianceTh(omega, mu1, sigma1, mu2, sigma2, m, n):\n",
    "    return (\n",
    "    2*(partialVarianceTh(omega, mu1, sigma1, mu2, sigma2) + m/n*partialVarianceTh(omega, mu2, sigma2, mu1, sigma1))\n",
    "    )"
   ]
  },
  {
   "cell_type": "code",
   "execution_count": 34,
   "metadata": {},
   "outputs": [],
   "source": [
    "x = np.r_[[0.05*i for i in range(200)]]\n",
    "# Theorie\n",
    "f = lambda x : VarianceTh(x, mu1, sigma1, mu1, sigma1, 1000,100)\n",
    "yth = f(x)\n",
    "# Experimental values\n",
    "yex = [var_OMMD_MC(kernel(x[i]),law_p,law_p,Lambda=100/1000,verbose=0) for i in range(200)]"
   ]
  },
  {
   "cell_type": "code",
   "execution_count": 35,
   "metadata": {},
   "outputs": [
    {
     "data": {
      "text/plain": [
       "[<matplotlib.lines.Line2D at 0x7ff0ed6d2ef0>]"
      ]
     },
     "execution_count": 35,
     "metadata": {},
     "output_type": "execute_result"
    },
    {
     "data": {
      "image/png": "[encoded data removed]",
      "text/plain": [
       "<Figure size 432x288 with 1 Axes>"
      ]
     },
     "metadata": {
      "needs_background": "light"
     },
     "output_type": "display_data"
    }
   ],
   "source": [
    "plt.plot(x,yex)\n",
    "plt.plot(x,yth)"
   ]
  },
  {
   "cell_type": "markdown",
   "metadata": {},
   "source": [
    "## Threshold"
   ]
  },
  {
   "cell_type": "code",
   "execution_count": 10,
   "metadata": {},
   "outputs": [],
   "source": [
    "sigma1 = 10\n",
    "mu1 = 0\n",
    "law_p = normal(mu1,sigma1)\n",
    "kernel = gaussian\n",
    "alpha = 0.05\n",
    "m=1000\n",
    "n=100"
   ]
  },
  {
   "cell_type": "code",
   "execution_count": 42,
   "metadata": {},
   "outputs": [],
   "source": [
    "def ThresholdTh(omega, mu1, sigma1, m, n,alpha):\n",
    "    return (\n",
    "        np.sqrt(VarianceTh(omega, mu1, sigma1, mu1, sigma1, m, n))*inv_phi(1-alpha)/np.sqrt(m)\n",
    "    )"
   ]
  },
  {
   "cell_type": "code",
   "execution_count": 12,
   "metadata": {},
   "outputs": [
    {
     "name": "stderr",
     "output_type": "stream",
     "text": [
      "/home/kronert/Documents/Python/Mémoire/Memoire/Anomaly/kernels.py:14: RuntimeWarning: divide by zero encountered in true_divide\n",
      "  gaussian = lambda sigma: lambda x,y : np.exp(-np.linalg.norm(x-y,axis=1)**2/(2*sigma))\n"
     ]
    }
   ],
   "source": [
    "x = np.r_[[0.05*i for i in range(200)]]\n",
    "# Theorie\n",
    "f = lambda x : ThresholdTh(x,  mu1, sigma1, m, n,alpha)\n",
    "yth = f(x)\n",
    "# Experimental values\n",
    "yex = [threshold_MC(kernel(x[i]**2),law_p,law_p,m,n, alpha=alpha,verbose=0) for i in range(200)]"
   ]
  },
  {
   "cell_type": "code",
   "execution_count": 13,
   "metadata": {},
   "outputs": [
    {
     "data": {
      "text/plain": [
       "[<matplotlib.lines.Line2D at 0x7f0ca4431278>]"
      ]
     },
     "execution_count": 13,
     "metadata": {},
     "output_type": "execute_result"
    },
    {
     "data": {
      "image/png": "[encoded data removed]",
      "text/plain": [
       "<Figure size 432x288 with 1 Axes>"
      ]
     },
     "metadata": {
      "needs_background": "light"
     },
     "output_type": "display_data"
    }
   ],
   "source": [
    "plt.plot(x,yex)\n",
    "plt.plot(x,yth)"
   ]
  },
  {
   "cell_type": "markdown",
   "metadata": {},
   "source": [
    "## Power"
   ]
  },
  {
   "cell_type": "code",
   "execution_count": 43,
   "metadata": {},
   "outputs": [],
   "source": [
    "sigma1 = 1.21\n",
    "mu1 = 0.2\n",
    "sigma2 = 1\n",
    "mu2 = 0\n",
    "omega = 0.1\n",
    "law_p = normal(mu1,sigma1)\n",
    "law_q = normal(mu2,sigma2)\n",
    "kernel = Gaussian\n",
    "alpha = 0.05\n",
    "m=1000\n",
    "n=100"
   ]
  },
  {
   "cell_type": "code",
   "execution_count": 44,
   "metadata": {},
   "outputs": [],
   "source": [
    "from scipy import stats"
   ]
  },
  {
   "cell_type": "code",
   "execution_count": 45,
   "metadata": {},
   "outputs": [],
   "source": [
    "def PowerTh(omega, mu1, sigma1, mu2, sigma2, m, n,alpha):\n",
    "    return stats.norm.sf((np.sqrt(m)*(ThresholdTh(omega, mu1, sigma1, m, n,alpha)\n",
    "                           - MMD_th(omega, mu1, sigma1, mu2, sigma2)))\n",
    "                          /np.sqrt(VarianceTh(omega, mu1, sigma1, mu2, sigma2, m, n)))"
   ]
  },
  {
   "cell_type": "code",
   "execution_count": 46,
   "metadata": {},
   "outputs": [
    {
     "name": "stderr",
     "output_type": "stream",
     "text": [
      "/home/kronert/anaconda3/lib/python3.6/site-packages/ipykernel_launcher.py:4: RuntimeWarning: invalid value encountered in true_divide\n",
      "  after removing the cwd from sys.path.\n",
      "/home/kronert/.local/lib/python3.6/site-packages/scipy/stats/_distn_infrastructure.py:877: RuntimeWarning: invalid value encountered in greater\n",
      "  return (self.a < x) & (x < self.b)\n",
      "/home/kronert/.local/lib/python3.6/site-packages/scipy/stats/_distn_infrastructure.py:877: RuntimeWarning: invalid value encountered in less\n",
      "  return (self.a < x) & (x < self.b)\n",
      "/home/kronert/.local/lib/python3.6/site-packages/scipy/stats/_distn_infrastructure.py:1831: RuntimeWarning: invalid value encountered in less_equal\n",
      "  cond2 = cond0 & (x <= self.a)\n"
     ]
    },
    {
     "name": "stdout",
     "output_type": "stream",
     "text": [
      "99.9 % achevé9999 % achevéé % achevé % achevé% achevé % achevé % achevé% achevé % achevé % achevé % achevé % achevé % achevé% achevé % achevé% achevé % achevé % achevé % achevé % achevé % achevé % achevé % achevé% achevé % achevé% achevé % achevé % achevé % achevé % achevé % achevé % achevé % achevé % achevé% achevé % achevé % achevé% achevé % achevé% achevé % achevé % achevé % achevé\r"
     ]
    }
   ],
   "source": [
    "x = np.r_[[0.5*i for i in range(20)]]\n",
    "# Theorie\n",
    "f = lambda x : PowerTh(x, mu1, sigma1, mu2, sigma2, m, n,alpha)\n",
    "yth = f(x)\n",
    "# Experimental values\n",
    "yex = [puissance_MC(OMMD, kernel(x[i]),law_p,law_q,m,n, threshold_MC(kernel(x[i]**2),law_p,law_p,m,n, alpha=alpha,verbose=0),repeat=1000) for i in range(20)]"
   ]
  },
  {
   "cell_type": "code",
   "execution_count": 40,
   "metadata": {},
   "outputs": [
    {
     "data": {
      "text/plain": [
       "[<matplotlib.lines.Line2D at 0x7f0c67336f98>]"
      ]
     },
     "execution_count": 40,
     "metadata": {},
     "output_type": "execute_result"
    },
    {
     "data": {
      "image/png": "[encoded data removed]",
      "text/plain": [
       "<Figure size 432x288 with 1 Axes>"
      ]
     },
     "metadata": {
      "needs_background": "light"
     },
     "output_type": "display_data"
    }
   ],
   "source": [
    "plt.plot(x,yth)\n",
    "plt.plot(x,yex)"
   ]
  },
  {
   "cell_type": "code",
   "execution_count": 32,
   "metadata": {},
   "outputs": [
    {
     "data": {
      "text/plain": [
       "[0.0,\n",
       " 1.0,\n",
       " 1.0,\n",
       " 1.0,\n",
       " 1.0,\n",
       " 1.0,\n",
       " 1.0,\n",
       " 1.0,\n",
       " 1.0,\n",
       " 1.0,\n",
       " 1.0,\n",
       " 1.0,\n",
       " 1.0,\n",
       " 1.0,\n",
       " 1.0,\n",
       " 1.0,\n",
       " 1.0,\n",
       " 1.0,\n",
       " 1.0,\n",
       " 1.0]"
      ]
     },
     "execution_count": 32,
     "metadata": {},
     "output_type": "execute_result"
    }
   ],
   "source": [
    "yex"
   ]
  },
  {
   "cell_type": "code",
   "execution_count": 26,
   "metadata": {},
   "outputs": [
    {
     "data": {
      "text/plain": [
       "0.9920730835120034"
      ]
     },
     "execution_count": 26,
     "metadata": {},
     "output_type": "execute_result"
    }
   ],
   "source": [
    "PowerTh(8, mu1, sigma1, mu2, sigma2, m, n,alpha)"
   ]
  },
  {
   "cell_type": "code",
   "execution_count": 27,
   "metadata": {},
   "outputs": [
    {
     "name": "stdout",
     "output_type": "stream",
     "text": [
      "99.9 % achevé9999 % achevéé\r"
     ]
    },
    {
     "data": {
      "text/plain": [
       "0.988"
      ]
     },
     "execution_count": 27,
     "metadata": {},
     "output_type": "execute_result"
    }
   ],
   "source": [
    "puissance_MC(OMMD, kernel(8**2),law_p,law_q,m,n, threshold_MC(kernel(8**2),law_p,law_p,m,n, alpha=alpha,verbose=0),repeat=1000)"
   ]
  },
  {
   "cell_type": "code",
   "execution_count": 35,
   "metadata": {},
   "outputs": [
    {
     "name": "stderr",
     "output_type": "stream",
     "text": [
      "/home/kronert/anaconda3/lib/python3.6/site-packages/ipykernel_launcher.py:4: RuntimeWarning: invalid value encountered in true_divide\n",
      "  after removing the cwd from sys.path.\n",
      "/home/kronert/.local/lib/python3.6/site-packages/scipy/stats/_distn_infrastructure.py:877: RuntimeWarning: invalid value encountered in greater\n",
      "  return (self.a < x) & (x < self.b)\n",
      "/home/kronert/.local/lib/python3.6/site-packages/scipy/stats/_distn_infrastructure.py:877: RuntimeWarning: invalid value encountered in less\n",
      "  return (self.a < x) & (x < self.b)\n",
      "/home/kronert/.local/lib/python3.6/site-packages/scipy/stats/_distn_infrastructure.py:1831: RuntimeWarning: invalid value encountered in less_equal\n",
      "  cond2 = cond0 & (x <= self.a)\n"
     ]
    },
    {
     "data": {
      "text/plain": [
       "[<matplotlib.lines.Line2D at 0x7f66c1b759e8>]"
      ]
     },
     "execution_count": 35,
     "metadata": {},
     "output_type": "execute_result"
    },
    {
     "data": {
      "image/png": "[encoded data removed]",
      "text/plain": [
       "<Figure size 432x288 with 1 Axes>"
      ]
     },
     "metadata": {
      "needs_background": "light"
     },
     "output_type": "display_data"
    }
   ],
   "source": [
    "sigma1 = 1.21\n",
    "mu1 = 0.2\n",
    "sigma2 = 1\n",
    "mu2 = 0\n",
    "omega = 0.1\n",
    "law_p = normal(mu1,sigma1)\n",
    "law_q = normal(mu2,sigma2)\n",
    "kernel = gaussian\n",
    "alpha = 0.05\n",
    "m=1000\n",
    "n=100\n",
    "x = np.r_[[0.05*i for i in range(300)]]\n",
    "# Theorie\n",
    "f = lambda x : PowerTh(x, mu1, sigma1, mu2, sigma2, m, n,alpha)\n",
    "yth2 = f(x)\n",
    "plt.plot(x,yth2)"
   ]
  },
  {
   "cell_type": "markdown",
   "metadata": {},
   "source": [
    "# Sum of gaussian kernels|| Normal Distribution"
   ]
  },
  {
   "cell_type": "markdown",
   "metadata": {},
   "source": [
    "## Second order moment (product)"
   ]
  },
  {
   "cell_type": "code",
   "execution_count": 16,
   "metadata": {},
   "outputs": [],
   "source": [
    "def ExpProd_MC(kernel1, kernel2, law_p, law_q, size_gen = 100, finalSampleSize=1000, verbose = 1):\n",
    "    sample = np.zeros( finalSampleSize)\n",
    "    for i in range(finalSampleSize):\n",
    "        if verbose > 0:\n",
    "            print(i/finalSampleSize*100, '% achevé',end='\\r',flush=True)\n",
    "        x1 = law_p(1)\n",
    "        x2 = law_p(1)\n",
    "        \n",
    "        sample[i] = ((kernel1(x1,x2) -  meanEmbeding_MC(kernel1, x1, law_q, size_gen = size_gen) -  meanEmbeding_MC(kernel1, x2, law_q, size_gen = size_gen))*\n",
    "                       (kernel2(x1,x2) -  meanEmbeding_MC(kernel2, x1, law_q, size_gen = size_gen) -  meanEmbeding_MC(kernel2, x2, law_q, size_gen = size_gen)))\n",
    "        \n",
    "    return np.mean(sample)"
   ]
  },
  {
   "cell_type": "code",
   "execution_count": 17,
   "metadata": {},
   "outputs": [],
   "source": [
    "def ExpProd1(omega1, omega2, mu1, sigma1, mu2, sigma2):\n",
    "    omega = np.sqrt(2*(omega1**2*omega2**2)/(omega1**2 + omega2**2))\n",
    "    omegaSigma = np.sqrt((2*(omega1**2+sigma2)*(omega2**2+sigma2))/((omega1**2+sigma2) + (omega2**2+sigma2)))\n",
    "    \n",
    "    return (\n",
    "    np.sqrt(omega**2/(4*sigma1**2 + omega**2)))\n",
    "def ExpProd2(omega1, omega2, mu1, sigma1, mu2, sigma2):\n",
    "    omega = np.sqrt(2*(omega1**2*omega2**2)/(omega1**2 + omega2**2))\n",
    "    omegaSigma = np.sqrt((2*(omega1**2+sigma2)*(omega2**2+sigma2))/((omega1**2+sigma2) + (omega2**2+sigma2)))\n",
    "    return (        \n",
    "        2*(np.sqrt(omega1**2/(omega1**2+sigma2**2))*np.sqrt(omega2**2/(omega2**2+sigma2**2))\n",
    "           *np.sqrt(omegaSigma**2/(omegaSigma**2+2*sigma1**2)))*np.exp(-(mu1-mu2)**2/(2*(omegaSigma**2+2*sigma1**2)))\n",
    "    )\n",
    "def ExpProd3(omega1, omega2, mu1, sigma1, mu2, sigma2):\n",
    "    omega = np.sqrt(2*(omega1**2*omega2**2)/(omega1**2 + omega2**2))\n",
    "    omegaSigma = np.sqrt((2*(omega1**2+sigma2)*(omega2**2+sigma2))/((omega1**2+sigma2) + (omega2**2+sigma2)))\n",
    "    return (        \n",
    "        -2*np.sqrt(omega1**2*omega2**2/(sigma1**4+sigma1**2*omega1**2+2*sigma1**2*omega2**2+2*sigma1**2*sigma2**2+omega1**2*omega2**2+sigma2**2*omega1**2))\n",
    "        *np.exp(-(mu1-mu2)**2/(2*((sigma1**4+sigma1**2*omega1**2+2*sigma1**2*omega2**2+2*sigma1**2*sigma2**2+omega1**2*omega2**2+sigma2**2*omega1**2)/(2*sigma1**2+omega1**2))))\n",
    "    )\n",
    "def ExpProd4(omega1, omega2, mu1, sigma1, mu2, sigma2):\n",
    "    omega = np.sqrt(2*(omega1**2*omega2**2)/(omega1**2 + omega2**2))\n",
    "    omegaSigma = np.sqrt((2*(omega1**2+sigma2)*(omega2**2+sigma2))/((omega1**2+sigma2) + (omega2**2+sigma2)))\n",
    "    \n",
    "    return (\n",
    "        -2*np.sqrt(omega2**2*omega1**2/(sigma1**4+sigma1**2*omega2**2+2*sigma1**2*omega1**2+2*sigma1**2*sigma2**2+omega2**2*omega1**2+sigma2**2*omega2**2))\n",
    "        *np.exp(-(mu1-mu2)**2/(2*((sigma1**4+sigma1**2*omega2**2+2*sigma1**2*omega1**2+2*sigma1**2*sigma2**2+omega2**2*omega1**2+sigma2**2*omega2**2)/(2*sigma1**2+omega2**2))))\n",
    "    )\n"
   ]
  },
  {
   "cell_type": "code",
   "execution_count": 18,
   "metadata": {},
   "outputs": [],
   "source": [
    "def ExpProd(omega1, omega2, mu1, sigma1, mu2, sigma2):\n",
    "    omega = np.sqrt((omega1**2*omega2**2)/(omega1**2 + omega2**2))\n",
    "    omegaSigma = np.sqrt(((omega1**2+sigma2**2)*(omega2**2+sigma2**2))/((omega1**2+sigma2**2) + (omega2**2+sigma2**2)))\n",
    "    \n",
    "    return (\n",
    "    np.sqrt(omega**2/(2*sigma1**2 + omega**2))\n",
    "        \n",
    "        + 2*(np.sqrt(omega1**2/(omega1**2+sigma2**2))*np.sqrt(omega2**2/(omega2**2+sigma2**2))\n",
    "           *np.sqrt(omegaSigma**2/(omegaSigma**2+sigma1**2)))*np.exp(-(mu1-mu2)**2/(2*(omegaSigma**2+sigma1**2)))\n",
    "\n",
    "        + 2*np.sqrt(omega1**2/(omega1**2+sigma2**2+sigma1**2))*np.exp(-(mu1-mu2)**2/(2*(omega1**2+sigma2**2+sigma1**2)))\n",
    "        *np.sqrt(omega2**2/(omega2**2+sigma2**2+sigma1**2))*np.exp(-(mu1-mu2)**2/(2*(omega2**2+sigma2**2+sigma1**2)))\n",
    "\n",
    "        -2*np.sqrt(omega1**2*omega2**2/(sigma1**4+sigma1**2*omega1**2+2*sigma1**2*omega2**2+2*sigma1**2*sigma2**2+omega1**2*omega2**2+sigma2**2*omega1**2))\n",
    "        *np.exp(-(mu1-mu2)**2/(2*((sigma1**4+sigma1**2*omega1**2+2*sigma1**2*omega2**2+2*sigma1**2*sigma2**2+omega1**2*omega2**2+sigma2**2*omega1**2)/(2*sigma1**2+omega1**2))))\n",
    "       \n",
    "        -2*np.sqrt(omega2**2*omega1**2/(sigma1**4+sigma1**2*omega2**2+2*sigma1**2*omega1**2+2*sigma1**2*sigma2**2+omega2**2*omega1**2+sigma2**2*omega2**2))\n",
    "        *np.exp(-(mu1-mu2)**2/(2*((sigma1**4+sigma1**2*omega2**2+2*sigma1**2*omega1**2+2*sigma1**2*sigma2**2+omega2**2*omega1**2+sigma2**2*omega2**2)/(2*sigma1**2+omega2**2))))\n",
    "    )\n"
   ]
  },
  {
   "cell_type": "code",
   "execution_count": 274,
   "metadata": {},
   "outputs": [
    {
     "data": {
      "text/plain": [
       "<matplotlib.legend.Legend at 0x7f2b6fc93ef0>"
      ]
     },
     "execution_count": 274,
     "metadata": {},
     "output_type": "execute_result"
    },
    {
     "data": {
      "image/png": "[encoded data removed]",
      "text/plain": [
       "<Figure size 432x288 with 1 Axes>"
      ]
     },
     "metadata": {
      "needs_background": "light"
     },
     "output_type": "display_data"
    }
   ],
   "source": [
    "x = np.r_[[0.5*i for i in range(40)]]\n",
    "# Theorie\n",
    "f = lambda x : ExpProd1(x,omega2, mu1, sigma1, mu2, sigma2)\n",
    "yth = f(x)\n",
    "plt.plot(x,yth,label=\"1\")\n",
    "f = lambda x : ExpProd2(x,omega2, mu1, sigma1, mu2, sigma2)\n",
    "yth = f(x)\n",
    "plt.plot(x,yth,label=\"2\")\n",
    "f = lambda x : ExpProd3(x,omega2, mu1, sigma1, mu2, sigma2)\n",
    "yth = f(x)\n",
    "plt.plot(x,yth,label=\"3\")\n",
    "f = lambda x : ExpProd4(x,omega2, mu1, sigma1, mu2, sigma2)\n",
    "yth = f(x)\n",
    "plt.plot(x,yth,label=\"4\")\n",
    "plt.legend()"
   ]
  },
  {
   "cell_type": "code",
   "execution_count": 275,
   "metadata": {},
   "outputs": [],
   "source": [
    "sigma1 = 4\n",
    "mu1 = 0.25\n",
    "sigma2 = 2\n",
    "mu2 = 1\n",
    "omega1 = 5\n",
    "omega2 = 3\n",
    "law_p = normal(mu1,sigma1)\n",
    "law_q = normal(mu2,sigma2)\n",
    "kernel1 = gaussian(omega1**2)\n",
    "kernel2 = gaussian(omega2**2)\n",
    "m=1000\n",
    "n=100\n"
   ]
  },
  {
   "cell_type": "code",
   "execution_count": 276,
   "metadata": {},
   "outputs": [
    {
     "data": {
      "text/plain": [
       "0.7385106574357607"
      ]
     },
     "execution_count": 276,
     "metadata": {},
     "output_type": "execute_result"
    }
   ],
   "source": [
    "sndOdfth(omega1, mu1, sigma1, mu2, sigma2)"
   ]
  },
  {
   "cell_type": "code",
   "execution_count": null,
   "metadata": {},
   "outputs": [],
   "source": []
  },
  {
   "cell_type": "code",
   "execution_count": 279,
   "metadata": {},
   "outputs": [
    {
     "data": {
      "text/plain": [
       "0.6065295918696755"
      ]
     },
     "execution_count": 279,
     "metadata": {},
     "output_type": "execute_result"
    }
   ],
   "source": [
    "ExpProd(omega1,omega2, mu1, sigma1, mu2, sigma2)"
   ]
  },
  {
   "cell_type": "code",
   "execution_count": 280,
   "metadata": {},
   "outputs": [
    {
     "data": {
      "text/plain": [
       "0.6085900069688325"
      ]
     },
     "execution_count": 280,
     "metadata": {},
     "output_type": "execute_result"
    }
   ],
   "source": [
    "ExpProd_MC(kernel1, kernel2, law_p, law_q, size_gen = 1000, finalSampleSize=1000, verbose = 0)"
   ]
  },
  {
   "cell_type": "code",
   "execution_count": 284,
   "metadata": {},
   "outputs": [],
   "source": [
    "x = np.r_[[0.5*i for i in range(40)]]\n",
    "# Theorie\n",
    "f = lambda x : ExpProd(x,omega2, mu1, sigma1, mu2, sigma2)\n",
    "yth = f(x)\n",
    "# Experimental values\n",
    "yex = [ExpProd_MC(gaussian(x[i]**2), kernel2, law_p, law_q, size_gen = 1000, finalSampleSize=1000, verbose = 0) for i in range(40)]"
   ]
  },
  {
   "cell_type": "code",
   "execution_count": 285,
   "metadata": {},
   "outputs": [
    {
     "data": {
      "text/plain": [
       "[<matplotlib.lines.Line2D at 0x7f2b6fcbdc88>]"
      ]
     },
     "execution_count": 285,
     "metadata": {},
     "output_type": "execute_result"
    },
    {
     "data": {
      "image/png": "[encoded data removed]",
      "text/plain": [
       "<Figure size 432x288 with 1 Axes>"
      ]
     },
     "metadata": {
      "needs_background": "light"
     },
     "output_type": "display_data"
    }
   ],
   "source": [
    "plt.plot(x,yth)\n",
    "plt.plot(x,yex)"
   ]
  },
  {
   "cell_type": "markdown",
   "metadata": {},
   "source": [
    "## Covariance"
   ]
  },
  {
   "cell_type": "code",
   "execution_count": null,
   "metadata": {},
   "outputs": [],
   "source": []
  },
  {
   "cell_type": "code",
   "execution_count": 19,
   "metadata": {},
   "outputs": [],
   "source": [
    "def partial_covarianceTh(omega1, omega2, mu1, sigma1, mu2, sigma2):\n",
    "    return ExpProd(omega1, omega2, mu1, sigma1, mu2, sigma2) - expfth(omega1, mu1, sigma1, mu2, sigma2)*expfth(omega2, mu1, sigma1, mu2, sigma2)"
   ]
  },
  {
   "cell_type": "code",
   "execution_count": 287,
   "metadata": {},
   "outputs": [
    {
     "data": {
      "text/plain": [
       "0.6065295918696755"
      ]
     },
     "execution_count": 287,
     "metadata": {},
     "output_type": "execute_result"
    }
   ],
   "source": [
    "ExpProd(omega1, omega2, mu1, sigma1, mu2, sigma2)"
   ]
  },
  {
   "cell_type": "code",
   "execution_count": 288,
   "metadata": {},
   "outputs": [
    {
     "data": {
      "text/plain": [
       "-0.8191579114669785"
      ]
     },
     "execution_count": 288,
     "metadata": {},
     "output_type": "execute_result"
    }
   ],
   "source": [
    "expfth(omega1, mu1, sigma1, mu2, sigma2)"
   ]
  },
  {
   "cell_type": "code",
   "execution_count": 289,
   "metadata": {},
   "outputs": [
    {
     "data": {
      "text/plain": [
       "-0.634897424313177"
      ]
     },
     "execution_count": 289,
     "metadata": {},
     "output_type": "execute_result"
    }
   ],
   "source": [
    "expfth(omega2, mu1, sigma1, mu2, sigma2)"
   ]
  },
  {
   "cell_type": "code",
   "execution_count": 290,
   "metadata": {},
   "outputs": [
    {
     "data": {
      "text/plain": [
       "0.08644834377352939"
      ]
     },
     "execution_count": 290,
     "metadata": {},
     "output_type": "execute_result"
    }
   ],
   "source": [
    "partial_covarianceTh(omega2, omega1, mu1, sigma1, mu2, sigma2)"
   ]
  },
  {
   "cell_type": "code",
   "execution_count": 291,
   "metadata": {},
   "outputs": [
    {
     "data": {
      "text/plain": [
       "0.6121430279049694"
      ]
     },
     "execution_count": 291,
     "metadata": {},
     "output_type": "execute_result"
    }
   ],
   "source": [
    "ExpProd_MC(kernel1, kernel2, law_p,law_q, finalSampleSize=10000,verbose=0)"
   ]
  },
  {
   "cell_type": "code",
   "execution_count": 292,
   "metadata": {},
   "outputs": [
    {
     "name": "stdout",
     "output_type": "stream",
     "text": [
      "99.9 % achevé9999 % achevéé % achevé % achevé % achevé % achevé % achevé % achevé % achevé % achevé % achevé % achevé % achevé % achevé % achevé % achevé% achevé % achevé % achevé% achevé % achevé % achevé % achevé % achevé\r"
     ]
    },
    {
     "data": {
      "text/plain": [
       "-0.8138016543208783"
      ]
     },
     "execution_count": 292,
     "metadata": {},
     "output_type": "execute_result"
    }
   ],
   "source": [
    "fexpacationOMMD_MC(kernel1,  law_p, law_q)"
   ]
  },
  {
   "cell_type": "code",
   "execution_count": 293,
   "metadata": {},
   "outputs": [
    {
     "name": "stdout",
     "output_type": "stream",
     "text": [
      "99.9 % achevé9999 % achevéé % achevé % achevé % achevé % achevé % achevé % achevé % achevé\r"
     ]
    },
    {
     "data": {
      "text/plain": [
       "-0.6194953686221597"
      ]
     },
     "execution_count": 293,
     "metadata": {},
     "output_type": "execute_result"
    }
   ],
   "source": [
    "fexpacationOMMD_MC(kernel2,  law_p, law_q)"
   ]
  },
  {
   "cell_type": "code",
   "execution_count": 294,
   "metadata": {},
   "outputs": [
    {
     "data": {
      "text/plain": [
       "0.046287999999999996"
      ]
     },
     "execution_count": 294,
     "metadata": {},
     "output_type": "execute_result"
    }
   ],
   "source": [
    "0.502 - 0.808*0.564"
   ]
  },
  {
   "cell_type": "markdown",
   "metadata": {},
   "source": [
    "## Covariance Matrix"
   ]
  },
  {
   "cell_type": "code",
   "execution_count": 20,
   "metadata": {},
   "outputs": [],
   "source": [
    "def partial_covarianceOMMD_MC(Kernels, law_p, law_q, size_gen = 100, finalSampleSize=1000, verbose = 1):\n",
    "    sample = np.zeros((len(Kernels), finalSampleSize))\n",
    "    for i in range(finalSampleSize):\n",
    "        if verbose > 0:\n",
    "            print(i/finalSampleSize*100, '% achevé',end='\\r',flush=True)\n",
    "        x1 = law_p(1)\n",
    "        x2 = law_p(1)\n",
    "        for j in range(len(Kernels)):\n",
    "            sample[j,i] = Kernels[j](x1,x2) -  meanEmbeding_MC(Kernels[j], x1, law_q, size_gen = size_gen) -  meanEmbeding_MC(Kernels[j], x2, law_q, size_gen = size_gen)\n",
    "    return np.cov(sample)"
   ]
  },
  {
   "cell_type": "code",
   "execution_count": 21,
   "metadata": {},
   "outputs": [],
   "source": [
    "def cov_OMMD_MC(Kernels, law_p, law_q, size_gen = 100,Lambda = 0.1, finalSampleSize=1000, verbose = 1):\n",
    "    if verbose > 0:\n",
    "        print(\"Start computing first componant\")\n",
    "    first_componant = partial_covarianceOMMD_MC(Kernels, law_p, law_q, size_gen = size_gen, finalSampleSize=finalSampleSize, verbose = verbose)\n",
    "    if verbose > 0:\n",
    "        print(\"Start computing second componant\")\n",
    "    second_componant = partial_covarianceOMMD_MC(Kernels, law_q, law_p, size_gen = size_gen, finalSampleSize=finalSampleSize, verbose = verbose)\n",
    "    return 2*(first_componant + 1/Lambda*second_componant)"
   ]
  },
  {
   "cell_type": "code",
   "execution_count": 22,
   "metadata": {},
   "outputs": [],
   "source": [
    "def partial_covmatrix(Omega, mu1, sigma1, mu2, sigma2):\n",
    "    n = len(Omega)\n",
    "    M = np.zeros((n,n))\n",
    "    for i in range(n):\n",
    "        for j in range(i):\n",
    "            M[i,j] = partial_covarianceTh(Omega[i], Omega[j], mu1, sigma1, mu2, sigma2)\n",
    "            M[j,i] = M[i,j]\n",
    "        M[i,i] = partialVarianceTh(Omega[i], mu1, sigma1, mu2, sigma2)\n",
    "    return M"
   ]
  },
  {
   "cell_type": "code",
   "execution_count": 23,
   "metadata": {},
   "outputs": [],
   "source": [
    "def CovarianceTh(Omega, mu1, sigma1, mu2, sigma2, m, n):\n",
    "    return (\n",
    "    2*(partial_covmatrix(Omega, mu1, sigma1, mu2, sigma2) + m/n*partial_covmatrix(Omega, mu2, sigma2, mu1, sigma1))\n",
    "    )"
   ]
  },
  {
   "cell_type": "code",
   "execution_count": 307,
   "metadata": {},
   "outputs": [],
   "source": [
    "sigma1 = 2\n",
    "mu1 = 0.2\n",
    "sigma2 = 1\n",
    "mu2 = 0\n",
    "omega1 = 1\n",
    "omega2 = 2\n",
    "law_p = normal(mu1,sigma1)\n",
    "law_q = normal(mu2,sigma2)\n",
    "kernel1 = gaussian(omega1**2)\n",
    "kernel2 = gaussian(omega2**2)\n",
    "m=1000\n",
    "n=100"
   ]
  },
  {
   "cell_type": "code",
   "execution_count": 308,
   "metadata": {},
   "outputs": [
    {
     "data": {
      "text/plain": [
       "array([[0.14243468, 0.10053551],\n",
       "       [0.10053551, 0.09057643]])"
      ]
     },
     "execution_count": 308,
     "metadata": {},
     "output_type": "execute_result"
    }
   ],
   "source": [
    "partial_covmatrix([omega1,omega2], mu1, sigma1, mu2, sigma2)"
   ]
  },
  {
   "cell_type": "code",
   "execution_count": 309,
   "metadata": {},
   "outputs": [
    {
     "data": {
      "text/plain": [
       "array([[2.12175463, 1.09367581],\n",
       "       [1.09367581, 0.70199733]])"
      ]
     },
     "execution_count": 309,
     "metadata": {},
     "output_type": "execute_result"
    }
   ],
   "source": [
    "CovarianceTh([omega1,omega2], mu1, sigma1, mu2, sigma2, m, n)\n",
    "   "
   ]
  },
  {
   "cell_type": "code",
   "execution_count": 310,
   "metadata": {},
   "outputs": [
    {
     "data": {
      "text/plain": [
       "array([[0.14520619, 0.10152051],\n",
       "       [0.10152051, 0.09221709]])"
      ]
     },
     "execution_count": 310,
     "metadata": {},
     "output_type": "execute_result"
    }
   ],
   "source": [
    " partial_covarianceOMMD_MC([kernel1, kernel2], law_p, law_q,finalSampleSize=100000,verbose=0)"
   ]
  },
  {
   "cell_type": "code",
   "execution_count": 311,
   "metadata": {},
   "outputs": [
    {
     "name": "stdout",
     "output_type": "stream",
     "text": [
      "Start computing first componant\n",
      "Start computing second componanthevé % achevé % achevé % achevé % achevé\n",
      "99.9 % achevé9999 % achevéé % achevé % achevé % achevé % achevé % achevé% achevé\r"
     ]
    },
    {
     "data": {
      "text/plain": [
       "array([[2.13112398, 1.08926188],\n",
       "       [1.08926188, 0.69602892]])"
      ]
     },
     "execution_count": 311,
     "metadata": {},
     "output_type": "execute_result"
    }
   ],
   "source": [
    "cov_OMMD_MC([kernel1, kernel2], law_p, law_q, size_gen = 10000,Lambda = 0.1, finalSampleSize=1000, verbose = 1)"
   ]
  },
  {
   "cell_type": "code",
   "execution_count": 304,
   "metadata": {},
   "outputs": [
    {
     "data": {
      "text/plain": [
       "0.7395999999999999"
      ]
     },
     "execution_count": 304,
     "metadata": {},
     "output_type": "execute_result"
    }
   ],
   "source": [
    "0.86**2"
   ]
  },
  {
   "cell_type": "markdown",
   "metadata": {},
   "source": [
    "## Trhesold"
   ]
  },
  {
   "cell_type": "code",
   "execution_count": 315,
   "metadata": {},
   "outputs": [],
   "source": [
    "sigma1 = 2\n",
    "mu1 = 0.2\n",
    "sigma2 = 1\n",
    "mu2 = 0\n",
    "omega1 = 1\n",
    "omega2 = 2\n",
    "law_p = normal(mu1,sigma1)\n",
    "law_q = normal(mu2,sigma2)\n",
    "kernel1 = gaussian(omega1**2)\n",
    "kernel2 = gaussian(omega2**2)\n",
    "alpha = 0.05\n",
    "m=1000\n",
    "n=100\n",
    "rho1 = 0.2\n",
    "rho2 = 0.8\n",
    "beta = np.array([[rho1],[rho2]])"
   ]
  },
  {
   "cell_type": "code",
   "execution_count": 24,
   "metadata": {},
   "outputs": [],
   "source": [
    "def TresholdTh2(Omega, beta, mu1, sigma1, mu2, sigma2, m, n,alpha):\n",
    "    Var = beta.T.dot(CovarianceTh(Omega, mu1, sigma1, mu1, sigma1, m, n)).dot(beta)\n",
    "    MMD = MMD_th(np.r_[Omega], mu1, sigma1, mu2, sigma2)\n",
    "    return np.sqrt(Var)*inv_phi(1-alpha)/np.sqrt(m)"
   ]
  },
  {
   "cell_type": "code",
   "execution_count": 335,
   "metadata": {},
   "outputs": [],
   "source": [
    "x = np.r_[[0.5*i for i in range(20)]]\n",
    "# Theorie\n",
    "f = lambda x : TresholdTh2([x,omega2], beta, mu1, sigma1, mu2, sigma2, m, n,alpha)\n",
    "yth = [f(x[i])[0] for i in range(20)]\n",
    "# Experimental values\n",
    "yex = [threshold_MC(CCK([gaussian(x[i]**2),kernel2],[rho1,rho2]),law_p,law_p,m,n, alpha=alpha,verbose=0) for i in range(20)]"
   ]
  },
  {
   "cell_type": "code",
   "execution_count": 336,
   "metadata": {},
   "outputs": [
    {
     "data": {
      "text/plain": [
       "[<matplotlib.lines.Line2D at 0x7f2b6f97de80>]"
      ]
     },
     "execution_count": 336,
     "metadata": {},
     "output_type": "execute_result"
    },
    {
     "data": {
      "image/png": "[encoded data removed]",
      "text/plain": [
       "<Figure size 432x288 with 1 Axes>"
      ]
     },
     "metadata": {
      "needs_background": "light"
     },
     "output_type": "display_data"
    }
   ],
   "source": [
    "plt.plot(x,yth)\n",
    "plt.plot(x,yex)"
   ]
  },
  {
   "cell_type": "markdown",
   "metadata": {},
   "source": [
    "## Power"
   ]
  },
  {
   "cell_type": "code",
   "execution_count": 340,
   "metadata": {},
   "outputs": [],
   "source": [
    "from scipy import stats"
   ]
  },
  {
   "cell_type": "code",
   "execution_count": 26,
   "metadata": {},
   "outputs": [],
   "source": [
    "sigma1 = 2\n",
    "mu1 = 0.2\n",
    "sigma2 = 1\n",
    "mu2 = 0\n",
    "omega1 = 1\n",
    "omega2 = 2\n",
    "law_p = normal(mu1,sigma1)\n",
    "law_q = normal(mu2,sigma2)\n",
    "kernel1 = gaussian(omega1**2)\n",
    "kernel2 = gaussian(omega2**2)\n",
    "alpha = 0.05\n",
    "m=1000\n",
    "n=100\n",
    "rho1 = 0.2\n",
    "rho2 = 0.8\n",
    "beta = np.array([[rho1],[rho2]])"
   ]
  },
  {
   "cell_type": "code",
   "execution_count": 25,
   "metadata": {},
   "outputs": [],
   "source": [
    "def PowerTh2(Omega, beta, mu1, sigma1, mu2, sigma2, m, n,alpha):\n",
    "    return stats.norm.sf((np.sqrt(m)*(TresholdTh2(Omega, beta, mu1, sigma1, mu2, sigma2, m, n,alpha)\n",
    "                           -  MMD_th(np.r_[Omega], mu1, sigma1, mu2, sigma2).dot(beta)))\n",
    "                          /np.sqrt(beta.T.dot(CovarianceTh(Omega, mu1, sigma1, mu2, sigma2, m, n)).dot(beta)))"
   ]
  },
  {
   "cell_type": "code",
   "execution_count": 345,
   "metadata": {},
   "outputs": [
    {
     "name": "stderr",
     "output_type": "stream",
     "text": [
      "/home/kronert/Documents/Python/Mémoire/Memoire/Anomaly/kernels.py:14: RuntimeWarning: divide by zero encountered in true_divide\n",
      "  gaussian = lambda sigma: lambda x,y : np.exp(-np.linalg.norm(x-y,axis=1)**2/(2*sigma))\n"
     ]
    },
    {
     "name": "stdout",
     "output_type": "stream",
     "text": [
      "99.9 % achevé9999 % achevéé % achevé % achevé % achevé % achevé % achevé % achevé % achevé% achevé % achevé % achevé % achevé% achevé % achevé % achevé % achevé % achevé% achevé % achevé% achevé % achevé % achevé% achevé% achevé % achevé % achevé % achevé% achevé % achevé% achevé % achevé % achevé % achevé % achevé\r"
     ]
    }
   ],
   "source": [
    "x = np.r_[[0.5*i for i in range(20)]]\n",
    "# Theorie\n",
    "f = lambda x : PowerTh2([x,omega2], beta, mu1, sigma1, mu2, sigma2, m, n,alpha)\n",
    "yth = [f(x[i])[0] for i in range(20)]\n",
    "# Experimental values\n",
    "yex = [puissance_MC(OMMD, CCK([gaussian(x[i]**2),kernel2],[rho1,rho2]),law_p,law_q,m,n, threshold_MC(CCK([gaussian(x[i]**2),kernel2],[rho1,rho2]),law_p,law_p,m,n, alpha=alpha,verbose=0),repeat=1000) for i in range(20)]"
   ]
  },
  {
   "cell_type": "code",
   "execution_count": 346,
   "metadata": {},
   "outputs": [
    {
     "data": {
      "text/plain": [
       "[<matplotlib.lines.Line2D at 0x7f2b6f803860>]"
      ]
     },
     "execution_count": 346,
     "metadata": {},
     "output_type": "execute_result"
    },
    {
     "data": {
      "image/png": "[encoded data removed]",
      "text/plain": [
       "<Figure size 432x288 with 1 Axes>"
      ]
     },
     "metadata": {
      "needs_background": "light"
     },
     "output_type": "display_data"
    }
   ],
   "source": [
    "plt.plot(x,yth)\n",
    "plt.plot(x,yex)"
   ]
  },
  {
   "cell_type": "code",
   "execution_count": 29,
   "metadata": {},
   "outputs": [],
   "source": [
    "x = np.r_[[0.5*i for i in range(20)]]\n",
    "# Theorie\n",
    "f = lambda x : PowerTh2([x,omega2], beta, mu1, sigma1, mu2, sigma2, m, n,alpha)\n",
    "yth = [f(x[i])[0] for i in range(20)]\n"
   ]
  },
  {
   "cell_type": "code",
   "execution_count": 30,
   "metadata": {},
   "outputs": [
    {
     "data": {
      "text/plain": [
       "[<matplotlib.lines.Line2D at 0x7f66c4268588>]"
      ]
     },
     "execution_count": 30,
     "metadata": {},
     "output_type": "execute_result"
    },
    {
     "data": {
      "image/png": "[encoded data removed]",
      "text/plain": [
       "<Figure size 432x288 with 1 Axes>"
      ]
     },
     "metadata": {
      "needs_background": "light"
     },
     "output_type": "display_data"
    }
   ],
   "source": [
    "plt.plot(x,yth)\n"
   ]
  },
  {
   "cell_type": "code",
   "execution_count": 86,
   "metadata": {},
   "outputs": [],
   "source": [
    "sigma1 = 1.1\n",
    "mu1 = .2\n",
    "sigma2 = 1\n",
    "mu2 = 0\n",
    "omega = 0.01\n",
    "omega1 = 0.01\n",
    "omega2 = 20\n",
    "law_p = normal(mu1,sigma1)\n",
    "law_q = normal(mu2,sigma2)\n",
    "kernel1 = gaussian(omega1**2)\n",
    "kernel2 = gaussian(omega2**2)\n",
    "alpha = 0.05\n",
    "m=1000\n",
    "n=100\n",
    "rho1 = 0.2\n",
    "rho2 = 0.8\n",
    "beta = np.array([[rho1],[rho2]])"
   ]
  },
  {
   "cell_type": "code",
   "execution_count": 87,
   "metadata": {},
   "outputs": [
    {
     "data": {
      "text/plain": [
       "[<matplotlib.lines.Line2D at 0x7f66c121a668>]"
      ]
     },
     "execution_count": 87,
     "metadata": {},
     "output_type": "execute_result"
    },
    {
     "data": {
      "image/png": "[encoded data removed]",
      "text/plain": [
       "<Figure size 432x288 with 1 Axes>"
      ]
     },
     "metadata": {
      "needs_background": "light"
     },
     "output_type": "display_data"
    }
   ],
   "source": [
    "x = np.linspace(0,1,1000)\n",
    "# Theorie\n",
    "f = lambda x : PowerTh2([omega1,omega2], np.array([[x],[1-x]]), mu1, sigma1, mu2, sigma2, m, n,alpha)\n",
    "yth = [f(x[i])[0] for i in range(1000)]\n",
    "plt.plot(x,yth)"
   ]
  },
  {
   "cell_type": "code",
   "execution_count": 88,
   "metadata": {},
   "outputs": [
    {
     "data": {
      "text/plain": [
       "0.08208208208208208"
      ]
     },
     "execution_count": 88,
     "metadata": {},
     "output_type": "execute_result"
    }
   ],
   "source": [
    "x[np.argmax(yth)]"
   ]
  },
  {
   "cell_type": "markdown",
   "metadata": {},
   "source": [
    "# polynomial kernels|| Normal Distribution"
   ]
  },
  {
   "cell_type": "code",
   "execution_count": 30,
   "metadata": {},
   "outputs": [],
   "source": [
    "from scipy.special import binom"
   ]
  },
  {
   "cell_type": "code",
   "execution_count": 31,
   "metadata": {},
   "outputs": [],
   "source": [
    "from scipy.stats import norm"
   ]
  },
  {
   "cell_type": "code",
   "execution_count": 32,
   "metadata": {},
   "outputs": [
    {
     "data": {
      "text/plain": [
       "0.0"
      ]
     },
     "execution_count": 32,
     "metadata": {},
     "output_type": "execute_result"
    }
   ],
   "source": [
    "binom(2,5)"
   ]
  },
  {
   "cell_type": "markdown",
   "metadata": {},
   "source": [
    "## Mean Embeding"
   ]
  },
  {
   "cell_type": "code",
   "execution_count": 26,
   "metadata": {},
   "outputs": [],
   "source": [
    "def meanEmbedingPolTh(x,c,d,mu,sigma):\n",
    "    somme = 0\n",
    "    for k in range(d+1):\n",
    "        somme += binom(k,d)*c**(d-k)*x**k*norm.moment(k, loc=mu,scale=sigma)\n",
    "    return somme"
   ]
  },
  {
   "cell_type": "code",
   "execution_count": 99,
   "metadata": {},
   "outputs": [],
   "source": [
    "sigma = 2\n",
    "mu = -2\n",
    "d = 4\n",
    "c = 2\n",
    "law_p = normal(mu,sigma)\n",
    "kernel = polynomial(c,d)"
   ]
  },
  {
   "cell_type": "code",
   "execution_count": 100,
   "metadata": {},
   "outputs": [],
   "source": [
    "x = np.r_[[0.1*i - 10 for i in range(200)]]\n",
    "# Theorie\n",
    "f = lambda x : meanEmbedingPolTh(x,c,d,mu,sigma)\n",
    "yth = [f(x[i]) for i in range(200)]\n",
    "# Experimental values\n",
    "yex = [meanEmbeding_MC(kernel, x[i], law_p) for i in range(200)]"
   ]
  },
  {
   "cell_type": "code",
   "execution_count": 101,
   "metadata": {},
   "outputs": [
    {
     "data": {
      "text/plain": [
       "[<matplotlib.lines.Line2D at 0x7f66c1105160>]"
      ]
     },
     "execution_count": 101,
     "metadata": {},
     "output_type": "execute_result"
    },
    {
     "data": {
      "image/png": "[encoded data removed]",
      "text/plain": [
       "<Figure size 432x288 with 1 Axes>"
      ]
     },
     "metadata": {
      "needs_background": "light"
     },
     "output_type": "display_data"
    }
   ],
   "source": [
    "plt.plot(x,yth)\n",
    "plt.plot(x,yex)"
   ]
  },
  {
   "cell_type": "markdown",
   "metadata": {},
   "source": [
    "## MMD"
   ]
  },
  {
   "cell_type": "code",
   "execution_count": 27,
   "metadata": {},
   "outputs": [],
   "source": [
    "def MMDPolTh(c,d,mu1,sigma1,mu2,sigma2):\n",
    "    somme = 0\n",
    "    for k in range(d+1):\n",
    "        somme += binom(d,k)*c**(d-k)*(norm.moment(k, loc=mu1,scale=sigma1)- norm.moment(k, loc=mu2,scale=sigma2))**2\n",
    "    return somme"
   ]
  },
  {
   "cell_type": "code",
   "execution_count": 35,
   "metadata": {},
   "outputs": [],
   "source": [
    "sigma1 = 2\n",
    "mu1 = 1\n",
    "sigma2 = 2\n",
    "mu2 = 0\n",
    "omega = 0.1\n",
    "law_p = normal(mu1,sigma1)\n",
    "law_q = normal(mu2,sigma2)\n",
    "d = 3\n",
    "c = 1\n",
    "kernel = polynomial(c,d)"
   ]
  },
  {
   "cell_type": "code",
   "execution_count": 36,
   "metadata": {},
   "outputs": [
    {
     "name": "stdout",
     "output_type": "stream",
     "text": [
      "99.0 % achevé9999 % achevéé% achevé % achevé % achevé % achevé % achevé % achevé % achevé % achevé % achevé % achevé % achevé% achevé % achevé% achevé % achevé % achevé % achevé % achevé % achevé % achevé % achevé % achevé % achevé % achevé % achevé % achevé % achevé % achevé % achevé % achevé % achevé % achevé % achevé % achevé % achevé % achevé % achevé % achevé % achevé % achevé % achevé % achevé % achevé % achevé % achevé % achevé % achevé % achevé % achevé % achevé % achevé % achevé % achevé % achevé % achevé % achevé% achevé % achevé % achevé % achevé % achevé% achevé % achevé % achevé % achevé % achevé % achevé % achevé % achevé % achevé % achevé % achevé % achevé % achevé % achevé % achevé % achevé % achevé % achevé % achevé % achevé % achevé % achevé % achevé % achevé% achevé% achevé % achevé % achevé % achevé % achevé % achevé % achevé % achevé % achevé % achevé % achevé % achevé % achevé % achevé % achevé% achevé % achevé % achevé % achevé% achevé % achevé % achevé % achevé % achevé % achevé% achevé % achevé % achevé % achevé % achevé % achevé% achevé % achevé % achevé % achevé % achevé % achevé % achevé % achevé % achevé % achevé % achevé % achevé % achevé % achevé % achevé % achevé % achevé % achevé% achevé % achevé % achevé % achevé% achevé% achevé % achevé % achevé % achevé% achevé % achevé % achevé % achevé % achevé % achevé % achevé % achevé % achevé% achevé % achevé % achevé % achevé % achevé % achevé % achevé % achevé % achevé % achevé % achevé % achevé % achevé % achevé % achevé % achevé % achevé % achevé % achevé % achevé % achevé % achevé % achevé % achevé % achevé % achevé % achevé % achevé % achevé % achevé % achevé % achevé % achevé % achevé % achevé% achevé % achevé % achevé % achevé % achevé % achevé % achevé % achevé % achevé % achevé % achevé % achevé % achevé % achevé% achevé % achevé % achevé % achevé % achevé% achevé % achevé % achevé% achevé % achevé % achevé % achevé % achevé % achevé % achevé % achevé % achevé % achevé % achevé % achevé % achevé % achevé % achevé % achevé % achevé % achevé % achevé% achevé % achevé % achevé % achevé % achevé % achevé % achevé % achevé % achevé % achevé % achevé % achevé % achevé % achevé % achevé % achevé % achevé % achevé % achevé % achevé % achevé % achevé % achevé % achevé % achevé % achevé % achevé % achevé% achevé % achevé % achevé % achevé % achevé % achevé % achevé % achevé % achevé % achevé% achevé % achevé % achevé % achevé % achevé % achevé % achevé % achevé % achevé % achevé % achevé % achevé% achevé % achevé % achevé % achevé % achevé % achevé % achevé % achevé % achevé % achevé % achevé % achevé % achevé % achevé % achevé % achevé % achevé % achevé % achevé % achevé% achevé % achevé % achevé % achevé % achevé% achevé % achevé % achevé % achevé % achevé % achevé% achevé % achevé % achevé % achevé % achevé % achevé % achevé % achevé % achevé % achevé % achevé % achevé % achevé % achevé % achevé % achevé % achevé % achevé % achevé % achevé % achevé % achevé % achevé% achevé % achevé % achevé % achevé% achevé % achevé % achevé % achevé % achevé % achevé % achevé % achevé % achevé % achevé % achevé % achevé % achevé % achevé % achevé % achevé % achevé % achevé % achevé % achevé % achevé % achevé % achevé % achevé % achevé % achevé % achevé % achevé % achevé % achevé % achevé % achevé % achevé % achevé % achevé % achevé % achevé % achevé % achevé % achevé % achevé % achevé% achevé % achevé % achevé % achevé % achevé % achevé % achevé % achevé % achevé % achevé % achevé % achevé % achevé % achevé % achevé % achevé % achevé % achevé % achevé % achevé % achevé % achevé % achevé % achevé % achevé % achevé % achevé % achevé % achevé % achevé % achevé % achevé % achevé % achevé % achevé % achevé % achevé % achevé % achevé % achevé % achevé % achevé % achevé % achevé % achevé % achevé % achevé % achevé % achevé % achevé% achevé % achevé % achevé % achevé % achevé% achevé % achevé % achevé % achevé % achevé % achevé % achevé % achevé % achevé % achevé % achevé\r"
     ]
    }
   ],
   "source": [
    "x = np.r_[[0.1*i - 10 for i in range(200)]]\n",
    "# Theorie\n",
    "f = lambda x : MMDPolTh(x,d,mu1,sigma1,mu2,sigma2)\n",
    "yth =f(x)\n",
    "# Experimental values\n",
    "yex = [moyenneMMD_MC(OMMD,polynomial(x[i],d),law_p,law_q,100,100) for i in range(200)]"
   ]
  },
  {
   "cell_type": "code",
   "execution_count": 37,
   "metadata": {},
   "outputs": [
    {
     "data": {
      "text/plain": [
       "[<matplotlib.lines.Line2D at 0x7fa3605d2d68>]"
      ]
     },
     "execution_count": 37,
     "metadata": {},
     "output_type": "execute_result"
    },
    {
     "data": {
      "image/png": "[encoded data removed]",
      "text/plain": [
       "<Figure size 432x288 with 1 Axes>"
      ]
     },
     "metadata": {
      "needs_background": "light"
     },
     "output_type": "display_data"
    }
   ],
   "source": [
    "plt.plot(x,yth)\n",
    "plt.plot(x,yex)"
   ]
  },
  {
   "cell_type": "code",
   "execution_count": 96,
   "metadata": {},
   "outputs": [],
   "source": [
    "def MomentDordre1(c,d,mu1,sigma1,mu2,sigma2):\n",
    "    somme = 0\n",
    "    for k in range(d+1):\n",
    "        somme += binom(d,k)*c**(d-k)*(norm.moment(k, loc=mu1,scale=sigma1)**2- 2*norm.moment(k, loc=mu1,scale=sigma1)*norm.moment(k, loc=mu2,scale=sigma2))\n",
    "    return somme"
   ]
  },
  {
   "cell_type": "code",
   "execution_count": 97,
   "metadata": {},
   "outputs": [],
   "source": [
    "def MomentDordre2(c1,d1,c2, d2, mu1,sigma1,mu2,sigma2):\n",
    "    somme = 0\n",
    "    for k in range(d1+1):\n",
    "        for l in range(d2+1):\n",
    "            somme += binom(d1,k)*c1**(d1-k)*binom(d2,l)*c2**(d2-l)*(\n",
    "                                                                    norm.moment(k+l, loc=mu1,scale=sigma1)**2\n",
    "                                                                     \n",
    "                                                                    +2*norm.moment(k, loc=mu1,scale=sigma1)*norm.moment(l, loc=mu1,scale=sigma1)*norm.moment(l, loc=mu2,scale=sigma2)*norm.moment(k, loc=mu2,scale=sigma2)\n",
    "                                                                    +2*norm.moment(k+l, loc=mu1,scale=sigma1)*norm.moment(l, loc=mu2,scale=sigma2)*norm.moment(k, loc=mu2,scale=sigma2)\n",
    "                                                                    - 2*norm.moment(k+l, loc=mu1,scale=sigma1)*norm.moment(l, loc=mu1,scale=sigma1)*norm.moment(k, loc=mu2,scale=sigma2)\n",
    "                                                                    - 2*norm.moment(k+l, loc=mu1,scale=sigma1)*norm.moment(k, loc=mu1,scale=sigma1)*norm.moment(l, loc=mu2,scale=sigma2)\n",
    "                                                                     )\n",
    "    return somme"
   ]
  },
  {
   "cell_type": "code",
   "execution_count": 98,
   "metadata": {},
   "outputs": [],
   "source": [
    "def partial_Variance(c,d,mu1,sigma1,mu2,sigma2):\n",
    "    return MomentDordre2(c,d,c, d, mu1,sigma1,mu2,sigma2) - MomentDordre1(c,d,mu1,sigma1,mu2,sigma2)**2"
   ]
  },
  {
   "cell_type": "code",
   "execution_count": 99,
   "metadata": {},
   "outputs": [],
   "source": [
    "def Variance(c,d,mu1,sigma1,mu2,sigma2, m,n):\n",
    "    return partial_Variance(c,d,mu1,sigma1,mu2,sigma2) + m/n*partial_Variance(c,d,mu2,sigma2,mu1,sigma1)"
   ]
  },
  {
   "cell_type": "code",
   "execution_count": 100,
   "metadata": {},
   "outputs": [
    {
     "data": {
      "text/plain": [
       "271311258288.3029"
      ]
     },
     "execution_count": 100,
     "metadata": {},
     "output_type": "execute_result"
    }
   ],
   "source": [
    "Variance(0.3,3,2,4,3,4, 1000,100)"
   ]
  },
  {
   "cell_type": "code",
   "execution_count": 101,
   "metadata": {},
   "outputs": [],
   "source": [
    "sigma1 = 2\n",
    "mu1 = 1\n",
    "sigma2 = 1\n",
    "mu2 = 0\n",
    "omega = 0.1\n",
    "law_p = normal(mu1,sigma1)\n",
    "law_q = normal(mu2,sigma2)\n",
    "d = 2\n",
    "c = 1\n",
    "kernel = polynomial(c,d)\n",
    "m=1000\n",
    "n=100"
   ]
  },
  {
   "cell_type": "code",
   "execution_count": 102,
   "metadata": {},
   "outputs": [
    {
     "data": {
      "text/plain": [
       "5248.0"
      ]
     },
     "execution_count": 102,
     "metadata": {},
     "output_type": "execute_result"
    }
   ],
   "source": [
    "Variance(c,d,mu1,sigma1,mu2,sigma2, m,n)"
   ]
  },
  {
   "cell_type": "code",
   "execution_count": 103,
   "metadata": {},
   "outputs": [],
   "source": [
    "x = np.r_[[0.05*i for i in range(200)]]\n",
    "# Theorie\n",
    "f = lambda x : Variance(x,d,mu1,sigma1,mu2,sigma2, m,n)\n",
    "yth = f(x)\n",
    "# Experimental values\n",
    "yex = [var_OMMD_MC(polynomial(x[i],d),law_p,law_p,Lambda=100/1000,verbose=0) for i in range(200)]"
   ]
  },
  {
   "cell_type": "code",
   "execution_count": 104,
   "metadata": {},
   "outputs": [
    {
     "data": {
      "text/plain": [
       "[<matplotlib.lines.Line2D at 0x7fa35e2ad940>]"
      ]
     },
     "execution_count": 104,
     "metadata": {},
     "output_type": "execute_result"
    },
    {
     "data": {
      "image/png": "[encoded data removed]",
      "text/plain": [
       "<Figure size 432x288 with 1 Axes>"
      ]
     },
     "metadata": {
      "needs_background": "light"
     },
     "output_type": "display_data"
    }
   ],
   "source": [
    "plt.plot(x,yth)\n",
    "plt.plot(x,yex)"
   ]
  },
  {
   "cell_type": "code",
   "execution_count": 75,
   "metadata": {},
   "outputs": [
    {
     "data": {
      "text/plain": [
       "[63242395.36567474,\n",
       " 132769625.05942816,\n",
       " 32720329.385812916,\n",
       " 44944276.91254824,\n",
       " 59487100.51812995,\n",
       " 28868020.431244835,\n",
       " 159623146.4649177,\n",
       " 120940310.07251775,\n",
       " 284302892.9093138,\n",
       " 28831787.38159236,\n",
       " 42752231.11769958,\n",
       " 41553893.67763744,\n",
       " 60203621.11247435,\n",
       " 46770781.333500534,\n",
       " 37032746.35494195,\n",
       " 48973944.651306115,\n",
       " 48509040.367663115,\n",
       " 39838795.65325864,\n",
       " 23360486.46058771,\n",
       " 28266635.96981727,\n",
       " 47692251.485529184,\n",
       " 72671429.79068382,\n",
       " 298519953.3701213,\n",
       " 30182534.2144936,\n",
       " 35375389.93995949,\n",
       " 64286821.948825486,\n",
       " 48040900.33998258,\n",
       " 51668404.916612126,\n",
       " 75337811.06346075,\n",
       " 50371328.457732216,\n",
       " 21671809.233916484,\n",
       " 125013076.76385044,\n",
       " 44147771.61005637,\n",
       " 46345508.94864718,\n",
       " 37808377.71620085,\n",
       " 66789766.18283707,\n",
       " 53371050.774039656,\n",
       " 23297469.765448056,\n",
       " 33055992.88751796,\n",
       " 48031521.38200937,\n",
       " 26680216.468994737,\n",
       " 53038335.69992213,\n",
       " 35462898.42368858,\n",
       " 102580504.64055465,\n",
       " 77406157.5141204,\n",
       " 30322105.74437084,\n",
       " 50410709.11691817,\n",
       " 93490593.52479033,\n",
       " 39947516.2402332,\n",
       " 63910472.30098004,\n",
       " 81822797.77841343,\n",
       " 161365583.69556233,\n",
       " 49759919.61965555,\n",
       " 55411885.707784325,\n",
       " 41739262.130670905,\n",
       " 44332526.60519302,\n",
       " 61031590.1957018,\n",
       " 45904401.047153294,\n",
       " 35328665.48843237,\n",
       " 60958875.402695015,\n",
       " 32214164.410842113,\n",
       " 109743476.27705719,\n",
       " 163351718.38451934,\n",
       " 39511243.37136948,\n",
       " 63405723.54131439,\n",
       " 61690117.56585365,\n",
       " 90232746.19551577,\n",
       " 35969642.35433086,\n",
       " 216145909.73759466,\n",
       " 55128772.946952105,\n",
       " 51097200.62832275,\n",
       " 50829292.15198076,\n",
       " 44232951.89838536,\n",
       " 82770768.46671562,\n",
       " 101793636.1268401,\n",
       " 43324150.03628198,\n",
       " 176697237.50047946,\n",
       " 50437780.9605117,\n",
       " 99076764.87500681,\n",
       " 74530189.09688102,\n",
       " 80959292.25774159,\n",
       " 155973787.46692023,\n",
       " 103990673.62415378,\n",
       " 294684120.5902728,\n",
       " 86481907.6453641,\n",
       " 62751391.48142965,\n",
       " 39410484.617818706,\n",
       " 143510947.14849928,\n",
       " 120746873.44439156,\n",
       " 80370294.83508804,\n",
       " 230616901.28056547,\n",
       " 50684679.05324234,\n",
       " 57163279.50577003,\n",
       " 51464879.97694595,\n",
       " 280973172.1267171,\n",
       " 202819639.3544559,\n",
       " 44542239.15456765,\n",
       " 145677906.02053353,\n",
       " 131270154.06462678,\n",
       " 62808825.111239284,\n",
       " 134842052.36914128,\n",
       " 54633640.21899318,\n",
       " 56788804.46611902,\n",
       " 57387836.79482003,\n",
       " 194046475.513725,\n",
       " 95381275.94963278,\n",
       " 90148838.96828598,\n",
       " 55927248.38283417,\n",
       " 141075946.9329826,\n",
       " 101920232.78785858,\n",
       " 72997077.91744123,\n",
       " 102618532.4007753,\n",
       " 165403842.44920287,\n",
       " 111047589.6606214,\n",
       " 97483078.68950325,\n",
       " 163441965.99473238,\n",
       " 78250667.20152406,\n",
       " 105396962.23541845,\n",
       " 109161815.91929708,\n",
       " 244953198.00817484,\n",
       " 142841039.28832638,\n",
       " 350632529.36821294,\n",
       " 103646798.25196248,\n",
       " 89611605.73967782,\n",
       " 74117175.46932463,\n",
       " 107762973.37142175,\n",
       " 189168650.71243286,\n",
       " 71499884.02379109,\n",
       " 85974622.10030958,\n",
       " 74911853.61742271,\n",
       " 161404984.27676886,\n",
       " 120593511.44938822,\n",
       " 140788641.26958093,\n",
       " 125038219.489881,\n",
       " 182722005.69022956,\n",
       " 123265288.51062778,\n",
       " 255833771.25757316,\n",
       " 106867653.75072561,\n",
       " 134587337.99138066,\n",
       " 121263987.23767228,\n",
       " 347013229.7537441,\n",
       " 142404476.2235475,\n",
       " 109611878.57850233,\n",
       " 134073420.65686406,\n",
       " 137935782.47365028,\n",
       " 125412688.77836184,\n",
       " 244284293.57277182,\n",
       " 103066066.60071716,\n",
       " 147555223.9218528,\n",
       " 124107716.96215446,\n",
       " 123763924.01148471,\n",
       " 104976843.78689884,\n",
       " 132859234.32088788,\n",
       " 277447219.51166373,\n",
       " 122230409.4449117,\n",
       " 236996603.68464097,\n",
       " 126148334.4412284,\n",
       " 138675662.6494319,\n",
       " 147544931.55800506,\n",
       " 163606770.66505378,\n",
       " 176057162.04294065,\n",
       " 316096474.1775408,\n",
       " 127278683.74688685,\n",
       " 250595044.79014742,\n",
       " 1316797826.8595202,\n",
       " 213470561.08405563,\n",
       " 109367164.99013288,\n",
       " 144539769.97277227,\n",
       " 279667683.26183045,\n",
       " 104344947.45743434,\n",
       " 136077511.18610644,\n",
       " 189873618.12466368,\n",
       " 218684708.82051402,\n",
       " 165742020.57894874,\n",
       " 173771374.5263184,\n",
       " 119450176.06527597,\n",
       " 220625996.0844512,\n",
       " 267985907.8895018,\n",
       " 296860142.4478425,\n",
       " 133196224.59956585,\n",
       " 228687771.98833138,\n",
       " 305432424.24275106,\n",
       " 215903780.9086006,\n",
       " 226190026.8391252,\n",
       " 170161394.81310472,\n",
       " 221052452.464928,\n",
       " 231890442.92483762,\n",
       " 134503897.88047668,\n",
       " 276203717.279039,\n",
       " 420535168.8814795,\n",
       " 165265379.40110824,\n",
       " 191603551.09296823,\n",
       " 255660535.72803417,\n",
       " 194421998.49296564,\n",
       " 267841666.17601514,\n",
       " 205380180.57047412,\n",
       " 245857902.3269218,\n",
       " 178363809.8924713,\n",
       " 229177432.7421717,\n",
       " 227575622.73509684]"
      ]
     },
     "execution_count": 75,
     "metadata": {},
     "output_type": "execute_result"
    }
   ],
   "source": []
  },
  {
   "cell_type": "code",
   "execution_count": null,
   "metadata": {},
   "outputs": [],
   "source": []
  }
 ],
 "metadata": {
  "kernelspec": {
   "display_name": "Python 3",
   "language": "python",
   "name": "python3"
  },
  "language_info": {
   "codemirror_mode": {
    "name": "ipython",
    "version": 3
   },
   "file_extension": ".py",
   "mimetype": "text/x-python",
   "name": "python",
   "nbconvert_exporter": "python",
   "pygments_lexer": "ipython3",
   "version": "3.6.8"
  }
 },
 "nbformat": 4,
 "nbformat_minor": 2
}
