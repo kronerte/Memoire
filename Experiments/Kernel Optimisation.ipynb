{
 "cells": [
  {
   "cell_type": "markdown",
   "metadata": {},
   "source": [
    "# Kernel Optimisation"
   ]
  },
  {
   "cell_type": "markdown",
   "metadata": {},
   "source": [
    "In this notebook, we will study several method to get the best kernel for the MMD."
   ]
  },
  {
   "cell_type": "markdown",
   "metadata": {},
   "source": [
    "## Import modules"
   ]
  },
  {
   "cell_type": "code",
   "execution_count": 1,
   "metadata": {},
   "outputs": [],
   "source": [
    "import os\n",
    "os.chdir('..')\n",
    "import Anomaly"
   ]
  },
  {
   "cell_type": "code",
   "execution_count": 2,
   "metadata": {},
   "outputs": [],
   "source": [
    "import numpy as np\n",
    "import matplotlib.pyplot as plt\n",
    "import importlib\n",
    "from seaborn import kdeplot\n",
    "from sklearn.metrics import roc_curve"
   ]
  },
  {
   "cell_type": "code",
   "execution_count": 3,
   "metadata": {},
   "outputs": [
    {
     "name": "stdout",
     "output_type": "stream",
     "text": [
      "Populating the interactive namespace from numpy and matplotlib\n"
     ]
    }
   ],
   "source": [
    "%pylab inline\n",
    "pylab.rcParams['figure.figsize'] = (15, 8)"
   ]
  },
  {
   "cell_type": "markdown",
   "metadata": {},
   "source": [
    "## Test of estimators"
   ]
  },
  {
   "cell_type": "code",
   "execution_count": 10,
   "metadata": {},
   "outputs": [],
   "source": [
    "law_p = Anomaly.utils.normal(0,4)\n",
    "law_q = Anomaly.utils.normal(1,4)\n",
    "kernel = Anomaly.kernels.Gaussian(1)\n",
    "MMD = Anomaly.MMD.OMMD\n",
    "m = 1000\n",
    "n = 100\n",
    "alpha = 0.05"
   ]
  },
  {
   "cell_type": "code",
   "execution_count": 5,
   "metadata": {},
   "outputs": [
    {
     "name": "stdout",
     "output_type": "stream",
     "text": [
      "Start computing first componant\n",
      "Start computing second componantchevé % achevé % achevé % achevé % achevé % achevé % achevé % achevé % achevé % achevé % achevé % achevé % achevé % achevé % achevé % achevé % achevé % achevé % achevé % achevé % achevé % achevé % achevé % achevé % achevé % achevé % achevé % achevé % achevé % achevé % achevé % achevé % achevé % achevé % achevé % achevé % achevé % achevé % achevé % achevé % achevé % achevé % achevé% achevé % achevé % achevé % achevé % achevé % achevé % achevé % achevé % achevé % achevé % achevé % achevé % achevé % achevé % achevé % achevé % achevé % achevé % achevé % achevé % achevé % achevé % achevé % achevé % achevé % achevé % achevé % achevé % achevé % achevé % achevé % achevé % achevé % achevé % achevé % achevé % achevé % achevé % achevé % achevé % achevé % achevé % achevé % achevé % achevé % achevé % achevé % achevé % achevé % achevé % achevé % achevé % achevé % achevé % achevé % achevé % achevé % achevé % achevé % achevé % achevé % achevé % achevé % achevé % achevé % achevé % achevé % achevé % achevé % achevé % achevé % achevé % achevé % achevé % achevé % achevé % achevé % achevé % achevé % achevé % achevé % achevé % achevé % achevé % achevé % achevé % achevé % achevé % achevé % achevé % achevé % achevé % achevé % achevé % achevé % achevé % achevé % achevé % achevé % achevé % achevé % achevé % achevé % achevé % achevé % achevé % achevé% achevé % achevé % achevé % achevé % achevé % achevé % achevé % achevé % achevé % achevé % achevé % achevé % achevé % achevé % achevé % achevé % achevé % achevé % achevé % achevé % achevé % achevé % achevé % achevé % achevé % achevé % achevé % achevé % achevé% achevé % achevé % achevé % achevé % achevé % achevé% achevé % achevé % achevé % achevé % achevé % achevé % achevé % achevé % achevé % achevé % achevé % achevé % achevé % achevé % achevé % achevé % achevé % achevé % achevé % achevé % achevé % achevé % achevé % achevé % achevé % achevé % achevé % achevé % achevé % achevé % achevé % achevé % achevé % achevé % achevé % achevé % achevé % achevé % achevé % achevé % achevé % achevé % achevé % achevé % achevé % achevé % achevé % achevé % achevé % achevé % achevé % achevé % achevé % achevé % achevé % achevé % achevé % achevé % achevé % achevé % achevé % achevé% achevé % achevé % achevé % achevé% achevé % achevé % achevé % achevé % achevé % achevé % achevé % achevé % achevé % achevé % achevé % achevé % achevé % achevé % achevé % achevé % achevé % achevé % achevé % achevé% achevé % achevé % achevé% achevé % achevé % achevé % achevé % achevé % achevé % achevé % achevé % achevé % achevé % achevé % achevé % achevé % achevé % achevé % achevé % achevé % achevé % achevé % achevé % achevé % achevé % achevé % achevé % achevé % achevé % achevé % achevé % achevé % achevé % achevé % achevé % achevé % achevé % achevé % achevé % achevé % achevé % achevé % achevé% achevé % achevé % achevé % achevé % achevé % achevé % achevé % achevé % achevé % achevé % achevé % achevé % achevé % achevé % achevé % achevé % achevé % achevé % achevé % achevé % achevé% achevé\n",
      "99.99 % achevé001 % achevééé % achevé % achevé % achevé % achevé % achevé % achevé % achevé % achevé % achevé % achevé % achevé % achevé % achevé % achevé % achevé % achevé % achevé % achevé % achevé % achevé % achevé % achevé % achevé% achevé % achevé % achevé % achevé % achevé % achevé % achevé % achevé % achevé % achevé % achevé % achevé % achevé % achevé % achevé % achevé % achevé % achevé % achevé % achevé % achevé % achevé % achevé % achevé % achevé % achevé % achevé % achevé % achevé % achevé % achevé % achevé % achevé % achevé % achevé % achevé % achevé % achevé % achevé % achevé % achevé % achevé % achevé % achevé % achevé % achevé % achevé % achevé % achevé % achevé % achevé % achevé % achevé % achevé % achevé % achevé % achevé % achevé% achevé % achevé% achevé % achevé % achevé % achevé % achevé % achevé % achevé % achevé % achevé % achevé % achevé % achevé % achevé % achevé % achevé % achevé % achevé % achevé % achevé % achevé % achevé % achevé % achevé % achevé % achevé % achevé % achevé % achevé % achevé % achevé % achevé % achevé % achevé% achevé % achevé % achevé % achevé % achevé % achevé % achevé % achevé % achevé % achevé % achevé % achevé % achevé % achevé % achevé % achevé % achevé % achevé % achevé % achevé % achevé % achevé % achevé % achevé % achevé % achevé % achevé % achevé % achevé % achevé % achevé % achevé % achevé % achevé % achevé % achevé % achevé % achevé % achevé % achevé % achevé % achevé % achevé % achevé % achevé % achevé % achevé % achevé % achevé % achevé % achevé % achevé % achevé % achevé % achevé % achevé % achevé % achevé % achevé % achevé % achevé % achevé % achevé % achevé % achevé % achevé % achevé % achevé % achevé % achevé % achevé % achevé % achevé % achevé % achevé % achevé % achevé % achevé % achevé % achevé % achevé % achevé % achevé % achevé % achevé % achevé % achevé % achevé % achevé % achevé % achevé % achevé % achevé % achevé % achevé % achevé % achevé % achevé % achevé % achevé % achevé % achevé % achevé % achevé % achevé % achevé % achevé % achevé % achevé % achevé % achevé % achevé % achevé % achevé % achevé % achevé % achevé % achevé % achevé % achevé % achevé % achevé % achevé % achevé % achevé % achevé % achevé % achevé % achevé % achevé % achevé % achevé % achevé % achevé % achevé % achevé % achevé % achevé % achevé % achevé % achevé % achevé % achevé % achevé % achevé % achevé % achevé % achevé % achevé % achevé % achevé % achevé % achevé % achevé % achevé % achevé % achevé % achevé % achevé % achevé % achevé % achevé % achevé % achevé % achevé % achevé % achevé % achevé % achevé % achevé % achevé % achevé % achevé % achevé % achevé % achevé % achevé % achevé % achevé % achevé % achevé % achevé % achevé % achevé % achevé % achevé % achevé % achevé % achevé % achevé % achevé % achevé % achevé % achevé % achevé % achevé % achevé % achevé % achevé % achevé % achevé % achevé % achevé % achevé % achevé % achevé % achevé % achevé % achevé % achevé % achevé % achevé % achevé % achevé % achevé % achevé % achevé % achevé% achevé % achevé % achevé % achevé % achevé % achevé % achevé % achevé % achevé % achevé % achevé % achevé\r"
     ]
    }
   ],
   "source": [
    "threshold = Anomaly.estimators.threshold_MC(kernel, law_p, law_p, m, n, alpha,  size_gen = 1000, finalSampleSize=10000)"
   ]
  },
  {
   "cell_type": "code",
   "execution_count": 6,
   "metadata": {},
   "outputs": [
    {
     "name": "stdout",
     "output_type": "stream",
     "text": [
      "99.9 % achevé9999 % achevéé % achevé % achevé % achevé % achevé % achevé % achevé\r"
     ]
    },
    {
     "data": {
      "text/plain": [
       "0.6719999999999999"
      ]
     },
     "execution_count": 6,
     "metadata": {},
     "output_type": "execute_result"
    }
   ],
   "source": [
    "1-Anomaly.estimators.puissance_MC(MMD, kernel, law_p, law_p,m, n, threshold**2, repeat=1000)"
   ]
  },
  {
   "cell_type": "code",
   "execution_count": 7,
   "metadata": {},
   "outputs": [
    {
     "name": "stdout",
     "output_type": "stream",
     "text": [
      "99.9 % achevé9999 % achevéé % achevé% achevé % achevé % achevé% achevé\r"
     ]
    },
    {
     "data": {
      "text/plain": [
       "0.0"
      ]
     },
     "execution_count": 7,
     "metadata": {},
     "output_type": "execute_result"
    }
   ],
   "source": [
    "Anomaly.estimators.puissance_MC(MMD, kernel, law_p, law_q,m,n, threshold, repeat=1000)"
   ]
  },
  {
   "cell_type": "markdown",
   "metadata": {},
   "source": [
    "## Courbe ROC"
   ]
  },
  {
   "cell_type": "code",
   "execution_count": 8,
   "metadata": {},
   "outputs": [],
   "source": [
    "law_p = Anomaly.utils.normal(0,1)\n",
    "law_q = Anomaly.utils.normal(0,2)\n",
    "kernel = Anomaly.kernels.Gaussian(.1)\n",
    "m = 1000\n",
    "n = 100"
   ]
  },
  {
   "cell_type": "code",
   "execution_count": 9,
   "metadata": {},
   "outputs": [
    {
     "name": "stdout",
     "output_type": "stream",
     "text": [
      "99.9 % achevé9999 % achevéé % achevé % achevé % achevé % achevé% achevé % achevé\r"
     ]
    }
   ],
   "source": [
    "y = np.zeros(2000)\n",
    "y[:1000] = 1\n",
    "scores = np.zeros(2000)\n",
    "scores[:1000] = Anomaly.estimators.sampleMMD_MC(MMD, kernel, law_p, law_q, m, n)\n",
    "scores[1000:] = Anomaly.estimators.sampleMMD_MC(MMD, kernel, law_p, law_p, m, n)\n",
    "fpr, tpr, thresholds = roc_curve(y, scores)"
   ]
  },
  {
   "cell_type": "code",
   "execution_count": 10,
   "metadata": {},
   "outputs": [
    {
     "name": "stdout",
     "output_type": "stream",
     "text": [
      "23.9 % achevé99997 % achevé % achevé % achevé % achevé% achevé % achevé% achevé\r"
     ]
    },
    {
     "ename": "KeyboardInterrupt",
     "evalue": "",
     "output_type": "error",
     "traceback": [
      "\u001b[0;31m---------------------------------------------------------------------------\u001b[0m",
      "\u001b[0;31mKeyboardInterrupt\u001b[0m                         Traceback (most recent call last)",
      "\u001b[0;32m<ipython-input-10-3caa5295e990>\u001b[0m in \u001b[0;36m<module>\u001b[0;34m\u001b[0m\n\u001b[1;32m      2\u001b[0m                                 \u001b[0mAnomaly\u001b[0m\u001b[0;34m.\u001b[0m\u001b[0mkernels\u001b[0m\u001b[0;34m.\u001b[0m\u001b[0mGaussian\u001b[0m\u001b[0;34m(\u001b[0m\u001b[0;36m1\u001b[0m\u001b[0;34m)\u001b[0m\u001b[0;34m,\u001b[0m\u001b[0;34m\u001b[0m\u001b[0;34m\u001b[0m\u001b[0m\n\u001b[1;32m      3\u001b[0m                                \u001b[0mAnomaly\u001b[0m\u001b[0;34m.\u001b[0m\u001b[0mkernels\u001b[0m\u001b[0;34m.\u001b[0m\u001b[0mGaussian\u001b[0m\u001b[0;34m(\u001b[0m\u001b[0;36m10\u001b[0m\u001b[0;34m)\u001b[0m\u001b[0;34m,\u001b[0m\u001b[0;34m\u001b[0m\u001b[0;34m\u001b[0m\u001b[0m\n\u001b[0;32m----> 4\u001b[0;31m                                Anomaly.kernels.Gaussian(.5)], law_p, law_q, m, n, sample_size=100)\n\u001b[0m",
      "\u001b[0;32m~/Documents/Python/Mémoire/Memoire/Anomaly/experiments.py\u001b[0m in \u001b[0;36mcourbe_ROC\u001b[0;34m(kernel_list, law_p, law_q, m, n, sample_size)\u001b[0m\n\u001b[1;32m     87\u001b[0m         \u001b[0my\u001b[0m\u001b[0;34m[\u001b[0m\u001b[0;34m:\u001b[0m\u001b[0;36m1000\u001b[0m\u001b[0;34m]\u001b[0m \u001b[0;34m=\u001b[0m \u001b[0;36m1\u001b[0m\u001b[0;34m\u001b[0m\u001b[0;34m\u001b[0m\u001b[0m\n\u001b[1;32m     88\u001b[0m         \u001b[0mscores\u001b[0m \u001b[0;34m=\u001b[0m \u001b[0mnp\u001b[0m\u001b[0;34m.\u001b[0m\u001b[0mzeros\u001b[0m\u001b[0;34m(\u001b[0m\u001b[0;36m2000\u001b[0m\u001b[0;34m)\u001b[0m\u001b[0;34m\u001b[0m\u001b[0;34m\u001b[0m\u001b[0m\n\u001b[0;32m---> 89\u001b[0;31m         \u001b[0mscores\u001b[0m\u001b[0;34m[\u001b[0m\u001b[0;34m:\u001b[0m\u001b[0;36m1000\u001b[0m\u001b[0;34m]\u001b[0m \u001b[0;34m=\u001b[0m \u001b[0mestimators\u001b[0m\u001b[0;34m.\u001b[0m\u001b[0msampleMMD_MC\u001b[0m\u001b[0;34m(\u001b[0m\u001b[0mMMD\u001b[0m\u001b[0;34m.\u001b[0m\u001b[0mOMMD\u001b[0m\u001b[0;34m,\u001b[0m \u001b[0mkernel_list\u001b[0m\u001b[0;34m[\u001b[0m\u001b[0mi\u001b[0m\u001b[0;34m]\u001b[0m\u001b[0;34m,\u001b[0m \u001b[0mlaw_p\u001b[0m\u001b[0;34m,\u001b[0m \u001b[0mlaw_q\u001b[0m\u001b[0;34m,\u001b[0m \u001b[0mm\u001b[0m\u001b[0;34m,\u001b[0m \u001b[0mn\u001b[0m\u001b[0;34m)\u001b[0m\u001b[0;34m\u001b[0m\u001b[0;34m\u001b[0m\u001b[0m\n\u001b[0m\u001b[1;32m     90\u001b[0m         \u001b[0mscores\u001b[0m\u001b[0;34m[\u001b[0m\u001b[0;36m1000\u001b[0m\u001b[0;34m:\u001b[0m\u001b[0;34m]\u001b[0m \u001b[0;34m=\u001b[0m \u001b[0mestimators\u001b[0m\u001b[0;34m.\u001b[0m\u001b[0msampleMMD_MC\u001b[0m\u001b[0;34m(\u001b[0m\u001b[0mMMD\u001b[0m\u001b[0;34m.\u001b[0m\u001b[0mOMMD\u001b[0m\u001b[0;34m,\u001b[0m \u001b[0mkernel_list\u001b[0m\u001b[0;34m[\u001b[0m\u001b[0mi\u001b[0m\u001b[0;34m]\u001b[0m\u001b[0;34m,\u001b[0m \u001b[0mlaw_p\u001b[0m\u001b[0;34m,\u001b[0m \u001b[0mlaw_p\u001b[0m\u001b[0;34m,\u001b[0m \u001b[0mm\u001b[0m\u001b[0;34m,\u001b[0m \u001b[0mn\u001b[0m\u001b[0;34m)\u001b[0m\u001b[0;34m\u001b[0m\u001b[0;34m\u001b[0m\u001b[0m\n\u001b[1;32m     91\u001b[0m         \u001b[0mfpr\u001b[0m\u001b[0;34m,\u001b[0m \u001b[0mtpr\u001b[0m\u001b[0;34m,\u001b[0m \u001b[0mthresholds\u001b[0m \u001b[0;34m=\u001b[0m \u001b[0mmetrics\u001b[0m\u001b[0;34m.\u001b[0m\u001b[0mroc_curve\u001b[0m\u001b[0;34m(\u001b[0m\u001b[0my\u001b[0m\u001b[0;34m,\u001b[0m \u001b[0mscores\u001b[0m\u001b[0;34m)\u001b[0m\u001b[0;34m\u001b[0m\u001b[0;34m\u001b[0m\u001b[0m\n",
      "\u001b[0;32m~/Documents/Python/Mémoire/Memoire/Anomaly/estimators.py\u001b[0m in \u001b[0;36msampleMMD_MC\u001b[0;34m(methodeMMD, kernel, law_p, law_q, m, n, finalSampleSize, verbose)\u001b[0m\n\u001b[1;32m     22\u001b[0m \u001b[0;34m\u001b[0m\u001b[0m\n\u001b[1;32m     23\u001b[0m         \u001b[0mMMD\u001b[0m \u001b[0;34m=\u001b[0m  \u001b[0mmethodeMMD\u001b[0m\u001b[0;34m(\u001b[0m\u001b[0mkernel\u001b[0m\u001b[0;34m)\u001b[0m\u001b[0;34m\u001b[0m\u001b[0;34m\u001b[0m\u001b[0m\n\u001b[0;32m---> 24\u001b[0;31m         \u001b[0mMMD\u001b[0m\u001b[0;34m.\u001b[0m\u001b[0mfit\u001b[0m\u001b[0;34m(\u001b[0m\u001b[0mY\u001b[0m\u001b[0;34m,\u001b[0m \u001b[0mX\u001b[0m\u001b[0;34m)\u001b[0m\u001b[0;34m\u001b[0m\u001b[0;34m\u001b[0m\u001b[0m\n\u001b[0m\u001b[1;32m     25\u001b[0m         \u001b[0mListe_mmdl\u001b[0m\u001b[0;34m.\u001b[0m\u001b[0mappend\u001b[0m\u001b[0;34m(\u001b[0m\u001b[0mMMD\u001b[0m\u001b[0;34m.\u001b[0m\u001b[0mMMD\u001b[0m\u001b[0;34m)\u001b[0m\u001b[0;34m\u001b[0m\u001b[0;34m\u001b[0m\u001b[0m\n\u001b[1;32m     26\u001b[0m \u001b[0;34m\u001b[0m\u001b[0m\n",
      "\u001b[0;32m~/Documents/Python/Mémoire/Memoire/Anomaly/MMD.py\u001b[0m in \u001b[0;36mfit\u001b[0;34m(self, Y, X)\u001b[0m\n\u001b[1;32m     92\u001b[0m             \u001b[0mself\u001b[0m\u001b[0;34m.\u001b[0m\u001b[0mestim_normP\u001b[0m \u001b[0;34m=\u001b[0m \u001b[0;36m2\u001b[0m\u001b[0;34m/\u001b[0m\u001b[0mself\u001b[0m\u001b[0;34m.\u001b[0m\u001b[0mm\u001b[0m\u001b[0;34m*\u001b[0m\u001b[0mself\u001b[0m\u001b[0;34m.\u001b[0m\u001b[0mkernel\u001b[0m\u001b[0;34m(\u001b[0m\u001b[0mX_\u001b[0m\u001b[0;34m,\u001b[0m\u001b[0mY_\u001b[0m\u001b[0;34m)\u001b[0m\u001b[0;34m.\u001b[0m\u001b[0msum\u001b[0m\u001b[0;34m(\u001b[0m\u001b[0;34m)\u001b[0m\u001b[0;34m\u001b[0m\u001b[0;34m\u001b[0m\u001b[0m\n\u001b[1;32m     93\u001b[0m         \u001b[0;32mfor\u001b[0m \u001b[0mi\u001b[0m \u001b[0;32min\u001b[0m \u001b[0mrange\u001b[0m\u001b[0;34m(\u001b[0m\u001b[0;36m0\u001b[0m\u001b[0;34m,\u001b[0m\u001b[0mY\u001b[0m\u001b[0;34m.\u001b[0m\u001b[0mshape\u001b[0m\u001b[0;34m[\u001b[0m\u001b[0;36m0\u001b[0m\u001b[0;34m]\u001b[0m\u001b[0;34m//\u001b[0m\u001b[0;36m2\u001b[0m\u001b[0;34m)\u001b[0m\u001b[0;34m:\u001b[0m\u001b[0;34m\u001b[0m\u001b[0;34m\u001b[0m\u001b[0m\n\u001b[0;32m---> 94\u001b[0;31m             \u001b[0mself\u001b[0m\u001b[0;34m.\u001b[0m\u001b[0mupdate\u001b[0m\u001b[0;34m(\u001b[0m\u001b[0mY\u001b[0m\u001b[0;34m[\u001b[0m\u001b[0;36m2\u001b[0m\u001b[0;34m*\u001b[0m\u001b[0mi\u001b[0m\u001b[0;34m]\u001b[0m\u001b[0;34m.\u001b[0m\u001b[0mreshape\u001b[0m\u001b[0;34m(\u001b[0m\u001b[0;34m(\u001b[0m\u001b[0;36m1\u001b[0m\u001b[0;34m,\u001b[0m\u001b[0;34m-\u001b[0m\u001b[0;36m1\u001b[0m\u001b[0;34m)\u001b[0m\u001b[0;34m)\u001b[0m\u001b[0;34m,\u001b[0m\u001b[0mY\u001b[0m\u001b[0;34m[\u001b[0m\u001b[0;36m2\u001b[0m\u001b[0;34m*\u001b[0m\u001b[0mi\u001b[0m\u001b[0;34m+\u001b[0m\u001b[0;36m1\u001b[0m\u001b[0;34m]\u001b[0m\u001b[0;34m.\u001b[0m\u001b[0mreshape\u001b[0m\u001b[0;34m(\u001b[0m\u001b[0;34m(\u001b[0m\u001b[0;36m1\u001b[0m\u001b[0;34m,\u001b[0m\u001b[0;34m-\u001b[0m\u001b[0;36m1\u001b[0m\u001b[0;34m)\u001b[0m\u001b[0;34m)\u001b[0m\u001b[0;34m)\u001b[0m\u001b[0;34m\u001b[0m\u001b[0;34m\u001b[0m\u001b[0m\n\u001b[0m",
      "\u001b[0;32m~/Documents/Python/Mémoire/Memoire/Anomaly/MMD.py\u001b[0m in \u001b[0;36mupdate\u001b[0;34m(self, y1, y2)\u001b[0m\n\u001b[1;32m     79\u001b[0m         \u001b[0mself\u001b[0m\u001b[0;34m.\u001b[0m\u001b[0msumNormQ\u001b[0m \u001b[0;34m+=\u001b[0m \u001b[0mself\u001b[0m\u001b[0;34m.\u001b[0m\u001b[0mkernel\u001b[0m\u001b[0;34m(\u001b[0m\u001b[0my1\u001b[0m\u001b[0;34m,\u001b[0m\u001b[0my2\u001b[0m\u001b[0;34m)\u001b[0m\u001b[0;34m\u001b[0m\u001b[0;34m\u001b[0m\u001b[0m\n\u001b[1;32m     80\u001b[0m \u001b[0;34m\u001b[0m\u001b[0m\n\u001b[0;32m---> 81\u001b[0;31m         \u001b[0mself\u001b[0m\u001b[0;34m.\u001b[0m\u001b[0msumPS\u001b[0m \u001b[0;34m+=\u001b[0m \u001b[0mself\u001b[0m\u001b[0;34m.\u001b[0m\u001b[0mkernel\u001b[0m\u001b[0;34m(\u001b[0m\u001b[0mself\u001b[0m\u001b[0;34m.\u001b[0m\u001b[0mX\u001b[0m\u001b[0;34m,\u001b[0m\u001b[0my1\u001b[0m\u001b[0;34m)\u001b[0m\u001b[0;34m.\u001b[0m\u001b[0msum\u001b[0m\u001b[0;34m(\u001b[0m\u001b[0;34m)\u001b[0m \u001b[0;34m+\u001b[0m \u001b[0mself\u001b[0m\u001b[0;34m.\u001b[0m\u001b[0mkernel\u001b[0m\u001b[0;34m(\u001b[0m\u001b[0mself\u001b[0m\u001b[0;34m.\u001b[0m\u001b[0mX\u001b[0m\u001b[0;34m,\u001b[0m\u001b[0my2\u001b[0m\u001b[0;34m)\u001b[0m\u001b[0;34m.\u001b[0m\u001b[0msum\u001b[0m\u001b[0;34m(\u001b[0m\u001b[0;34m)\u001b[0m\u001b[0;34m\u001b[0m\u001b[0;34m\u001b[0m\u001b[0m\n\u001b[0m\u001b[1;32m     82\u001b[0m \u001b[0;34m\u001b[0m\u001b[0m\n\u001b[1;32m     83\u001b[0m         \u001b[0mself\u001b[0m\u001b[0;34m.\u001b[0m\u001b[0mn\u001b[0m \u001b[0;34m+=\u001b[0m \u001b[0;36m2\u001b[0m\u001b[0;34m\u001b[0m\u001b[0;34m\u001b[0m\u001b[0m\n",
      "\u001b[0;32m~/.local/lib/python3.6/site-packages/numpy/core/_methods.py\u001b[0m in \u001b[0;36m_sum\u001b[0;34m(a, axis, dtype, out, keepdims, initial)\u001b[0m\n\u001b[1;32m     34\u001b[0m def _sum(a, axis=None, dtype=None, out=None, keepdims=False,\n\u001b[1;32m     35\u001b[0m          initial=_NoValue):\n\u001b[0;32m---> 36\u001b[0;31m     \u001b[0;32mreturn\u001b[0m \u001b[0mumr_sum\u001b[0m\u001b[0;34m(\u001b[0m\u001b[0ma\u001b[0m\u001b[0;34m,\u001b[0m \u001b[0maxis\u001b[0m\u001b[0;34m,\u001b[0m \u001b[0mdtype\u001b[0m\u001b[0;34m,\u001b[0m \u001b[0mout\u001b[0m\u001b[0;34m,\u001b[0m \u001b[0mkeepdims\u001b[0m\u001b[0;34m,\u001b[0m \u001b[0minitial\u001b[0m\u001b[0;34m)\u001b[0m\u001b[0;34m\u001b[0m\u001b[0;34m\u001b[0m\u001b[0m\n\u001b[0m\u001b[1;32m     37\u001b[0m \u001b[0;34m\u001b[0m\u001b[0m\n\u001b[1;32m     38\u001b[0m def _prod(a, axis=None, dtype=None, out=None, keepdims=False,\n",
      "\u001b[0;31mKeyboardInterrupt\u001b[0m: "
     ]
    },
    {
     "data": {
      "image/png": "[encoded data removed]",
      "text/plain": [
       "<Figure size 1080x576 with 1 Axes>"
      ]
     },
     "metadata": {
      "needs_background": "light"
     },
     "output_type": "display_data"
    }
   ],
   "source": [
    "Anomaly.experiments.courbe_ROC([Anomaly.kernels.Gaussian(.1),\n",
    "                                Anomaly.kernels.Gaussian(1),\n",
    "                               Anomaly.kernels.Gaussian(10),\n",
    "                               Anomaly.kernels.Gaussian(.5)], law_p, law_q, m, n, sample_size=100)"
   ]
  },
  {
   "cell_type": "markdown",
   "metadata": {},
   "source": [
    "## grid Optimisation"
   ]
  },
  {
   "cell_type": "code",
   "execution_count": null,
   "metadata": {},
   "outputs": [],
   "source": [
    "law_p = Anomaly.utils.normal(0,1)\n",
    "law_q = Anomaly.utils.normal(1,1)\n",
    "Kernel = Anomaly.kernels.Gaussian\n",
    "m = 1000\n",
    "n = 100\n",
    "alpha = 0.05"
   ]
  },
  {
   "cell_type": "code",
   "execution_count": null,
   "metadata": {},
   "outputs": [],
   "source": [
    "parameters = [0.001,0.01,1,10]\n",
    "L = []\n",
    "for s in parameters:\n",
    "    kernel = Kernel(s)\n",
    "    l = []\n",
    "    for i in range(10):\n",
    "        l.append(Anomaly.estimators.score_MC(kernel, law_p, law_q, m, alpha))\n",
    "    L.append(np.mean(l))\n",
    "plt.plot(parameters,L)"
   ]
  },
  {
   "cell_type": "code",
   "execution_count": null,
   "metadata": {},
   "outputs": [],
   "source": [
    "L"
   ]
  },
  {
   "cell_type": "markdown",
   "metadata": {},
   "source": [
    "## Comparaison V1V0"
   ]
  },
  {
   "cell_type": "code",
   "execution_count": null,
   "metadata": {},
   "outputs": [],
   "source": [
    "law_p = Anomaly.utils.normal(0,1)\n",
    "law_q = Anomaly.utils.normal(1,1)\n",
    "Kernel = Anomaly.kernels.Gaussian"
   ]
  },
  {
   "cell_type": "code",
   "execution_count": null,
   "metadata": {},
   "outputs": [],
   "source": [
    "Anomaly.estimators.var_OMMD_MC(kernel, law_p, law_q, size_gen=1000, finalSampleSize=100)"
   ]
  },
  {
   "cell_type": "code",
   "execution_count": null,
   "metadata": {},
   "outputs": [],
   "source": [
    "law_p = Anomaly.utils.normal(0,0.05)\n",
    "law_q = Anomaly.utils.normal(0,5000)\n",
    "Kernel = Anomaly.kernels.Gaussian\n",
    "Anomaly.estimators.var_OMMD_MC(kernel, law_p, law_q, size_gen=1000, finalSampleSize=100)"
   ]
  },
  {
   "cell_type": "code",
   "execution_count": null,
   "metadata": {},
   "outputs": [],
   "source": [
    "law_p = Anomaly.utils.normal(0,5)\n",
    "law_q = Anomaly.utils.normal(0,.0005)\n",
    "Kernel = Anomaly.kernels.Gaussian\n",
    "Anomaly.estimators.var_OMMD_MC(kernel, law_p, law_q, size_gen=1000, finalSampleSize=100)"
   ]
  },
  {
   "cell_type": "markdown",
   "metadata": {},
   "source": [
    "## Gaussian kernel and parameter"
   ]
  },
  {
   "cell_type": "markdown",
   "metadata": {},
   "source": [
    "The Gaussian kernel can be decomposed as a sum of polynomial kernel, we want to compute the coefficient in front of each kernel"
   ]
  },
  {
   "cell_type": "code",
   "execution_count": null,
   "metadata": {},
   "outputs": [],
   "source": [
    "from math import factorial"
   ]
  },
  {
   "cell_type": "code",
   "execution_count": null,
   "metadata": {},
   "outputs": [],
   "source": [
    "f = lambda sigma : lambda k : 1/((sigma)**k*factorial(k))"
   ]
  },
  {
   "cell_type": "code",
   "execution_count": null,
   "metadata": {},
   "outputs": [],
   "source": [
    "L = [f(1)(k) for k in range(10)]"
   ]
  },
  {
   "cell_type": "code",
   "execution_count": null,
   "metadata": {},
   "outputs": [],
   "source": [
    "plt.plot(L)"
   ]
  },
  {
   "cell_type": "markdown",
   "metadata": {},
   "source": [
    "# Laplacian Kernel"
   ]
  },
  {
   "cell_type": "code",
   "execution_count": null,
   "metadata": {},
   "outputs": [],
   "source": [
    "f = lambda sigma : lambda k : sigma**k/(factorial(k))"
   ]
  },
  {
   "cell_type": "code",
   "execution_count": null,
   "metadata": {},
   "outputs": [],
   "source": [
    "L = [f(2)(k) for k in range(10)]"
   ]
  },
  {
   "cell_type": "code",
   "execution_count": null,
   "metadata": {},
   "outputs": [],
   "source": [
    "plt.plot(L)"
   ]
  },
  {
   "cell_type": "code",
   "execution_count": null,
   "metadata": {},
   "outputs": [],
   "source": [
    "law_p = Anomaly.utils.normal(0,0.00000001)\n",
    "law_q = Anomaly.utils.normal(0,1)\n",
    "m = 1000\n",
    "n = 100"
   ]
  },
  {
   "cell_type": "code",
   "execution_count": null,
   "metadata": {},
   "outputs": [],
   "source": [
    "Anomaly.experiments.courbe_ROC([Anomaly.kernels.laplacian(.1),\n",
    "                                Anomaly.kernels.laplacian(1),\n",
    "                               Anomaly.kernels.laplacian(10),\n",
    "                               Anomaly.kernels.laplacian(.5),\n",
    "                                Anomaly.kernels.laplacian(2),\n",
    "                               Anomaly.kernels.laplacian(4)], law_p, law_q, m, n, sample_size=10)"
   ]
  },
  {
   "cell_type": "code",
   "execution_count": null,
   "metadata": {},
   "outputs": [],
   "source": [
    "law_p = Anomaly.utils.normal(0,1)\n",
    "law_q = Anomaly.utils.normal(0.3,1)\n",
    "m = 1000\n",
    "n = 100"
   ]
  },
  {
   "cell_type": "code",
   "execution_count": null,
   "metadata": {},
   "outputs": [],
   "source": [
    "Anomaly.experiments.courbe_ROC([Anomaly.kernels.laplacian(.1),\n",
    "                                Anomaly.kernels.laplacian(1),\n",
    "                               Anomaly.kernels.laplacian(10),\n",
    "                               Anomaly.kernels.laplacian(.5),\n",
    "                                Anomaly.kernels.laplacian(2),\n",
    "                               Anomaly.kernels.laplacian(4)], law_p, law_q, m, n, sample_size=100)"
   ]
  },
  {
   "cell_type": "markdown",
   "metadata": {},
   "source": [
    "# Polynomial Kernel"
   ]
  },
  {
   "cell_type": "markdown",
   "metadata": {},
   "source": [
    "Mean change"
   ]
  },
  {
   "cell_type": "code",
   "execution_count": null,
   "metadata": {},
   "outputs": [],
   "source": [
    "law_p = Anomaly.utils.normal(0,1)\n",
    "law_q = Anomaly.utils.normal(0.5,1)\n",
    "m = 1000\n",
    "n = 100"
   ]
  },
  {
   "cell_type": "code",
   "execution_count": null,
   "metadata": {},
   "outputs": [],
   "source": [
    "Anomaly.experiments.courbe_ROC([Anomaly.kernels.polynomial(c=0,d=0),\n",
    "                                Anomaly.kernels.polynomial(c=0,d=1),\n",
    "                               Anomaly.kernels.polynomial(c=0,d=2),\n",
    "                               Anomaly.kernels.polynomial(c=0,d=3),\n",
    "                                Anomaly.kernels.polynomial(c=0,d=4)], law_p, law_q, m, n, sample_size=10)"
   ]
  },
  {
   "cell_type": "markdown",
   "metadata": {},
   "source": [
    "Change in variance"
   ]
  },
  {
   "cell_type": "code",
   "execution_count": null,
   "metadata": {},
   "outputs": [],
   "source": [
    "law_p = Anomaly.utils.normal(0,1)\n",
    "law_q = Anomaly.utils.normal(0,2)\n",
    "m = 1000\n",
    "n = 100"
   ]
  },
  {
   "cell_type": "code",
   "execution_count": null,
   "metadata": {},
   "outputs": [],
   "source": [
    "Anomaly.experiments.courbe_ROC([Anomaly.kernels.polynomial(c=0,d=0),\n",
    "                                Anomaly.kernels.polynomial(c=0,d=1),\n",
    "                               Anomaly.kernels.polynomial(c=0,d=2),\n",
    "                               Anomaly.kernels.polynomial(c=0,d=3),\n",
    "                                Anomaly.kernels.polynomial(c=0,d=4)], law_p, law_q, m, n, sample_size=10)"
   ]
  },
  {
   "cell_type": "markdown",
   "metadata": {},
   "source": [
    "change in first order"
   ]
  },
  {
   "cell_type": "code",
   "execution_count": null,
   "metadata": {},
   "outputs": [],
   "source": [
    "law_p = Anomaly.utils.normal(0,1)\n",
    "law_q = Anomaly.utils.normal(0.5,np.sqrt(0.75))\n",
    "m = 1000\n",
    "n = 100"
   ]
  },
  {
   "cell_type": "code",
   "execution_count": null,
   "metadata": {},
   "outputs": [],
   "source": [
    "Anomaly.experiments.courbe_ROC([Anomaly.kernels.polynomial(c=0,d=0),\n",
    "                                Anomaly.kernels.polynomial(c=0,d=1),\n",
    "                               Anomaly.kernels.polynomial(c=0,d=2),\n",
    "                               Anomaly.kernels.polynomial(c=0,d=3),\n",
    "                                Anomaly.kernels.polynomial(c=0,d=4)], law_p, law_q, m, n, sample_size=10)"
   ]
  },
  {
   "cell_type": "code",
   "execution_count": null,
   "metadata": {},
   "outputs": [],
   "source": []
  }
 ],
 "metadata": {
  "kernelspec": {
   "display_name": "Python 3",
   "language": "python",
   "name": "python3"
  },
  "language_info": {
   "codemirror_mode": {
    "name": "ipython",
    "version": 3
   },
   "file_extension": ".py",
   "mimetype": "text/x-python",
   "name": "python",
   "nbconvert_exporter": "python",
   "pygments_lexer": "ipython3",
   "version": "3.6.8"
  }
 },
 "nbformat": 4,
 "nbformat_minor": 2
}
