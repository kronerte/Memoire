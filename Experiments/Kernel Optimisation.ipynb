{
 "cells": [
  {
   "cell_type": "markdown",
   "metadata": {},
   "source": [
    "# Kernel Optimisation"
   ]
  },
  {
   "cell_type": "markdown",
   "metadata": {},
   "source": [
    "In this notebook, we will study several method to get the best kernel for the MMD."
   ]
  },
  {
   "cell_type": "markdown",
   "metadata": {},
   "source": [
    "## Import modules"
   ]
  },
  {
   "cell_type": "code",
   "execution_count": 1,
   "metadata": {},
   "outputs": [],
   "source": [
    "import os\n",
    "os.chdir('..')\n",
    "import Anomaly"
   ]
  },
  {
   "cell_type": "code",
   "execution_count": 2,
   "metadata": {},
   "outputs": [],
   "source": [
    "import numpy as np\n",
    "import matplotlib.pyplot as plt\n",
    "import importlib\n",
    "from seaborn import kdeplot\n",
    "from sklearn.metrics import roc_curve"
   ]
  },
  {
   "cell_type": "code",
   "execution_count": 3,
   "metadata": {},
   "outputs": [
    {
     "name": "stdout",
     "output_type": "stream",
     "text": [
      "Populating the interactive namespace from numpy and matplotlib\n"
     ]
    }
   ],
   "source": [
    "%pylab inline\n",
    "pylab.rcParams['figure.figsize'] = (15, 8)"
   ]
  },
  {
   "cell_type": "markdown",
   "metadata": {},
   "source": [
    "## Test of estimators"
   ]
  },
  {
   "cell_type": "code",
   "execution_count": 4,
   "metadata": {},
   "outputs": [],
   "source": [
    "law_p = Anomaly.utils.normal(0,4)\n",
    "law_q = Anomaly.utils.normal(1,4)\n",
    "kernel = Anomaly.kernels.Gaussian(1)\n",
    "MMD = Anomaly.MMD.OMMD\n",
    "m = 1000\n",
    "n = 100\n",
    "alpha = 0.05"
   ]
  },
  {
   "cell_type": "code",
   "execution_count": 5,
   "metadata": {},
   "outputs": [
    {
     "name": "stdout",
     "output_type": "stream",
     "text": [
      "Start computing first componant\n",
      "Start computing second componanthevé % achevé % achevé% achevé % achevé % achevé % achevé % achevé % achevé % achevé % achevé % achevé % achevé % achevé % achevé % achevé % achevé % achevé % achevé % achevé % achevé % achevé % achevé % achevé % achevé % achevé % achevé % achevé % achevé % achevé % achevé % achevé % achevé % achevé % achevé% achevé % achevé % achevé % achevé % achevé % achevé % achevé % achevé % achevé % achevé % achevé % achevé % achevé % achevé % achevé % achevé % achevé % achevé % achevé % achevé % achevé % achevé % achevé % achevé % achevé % achevé % achevé % achevé % achevé % achevé% achevé % achevé % achevé % achevé % achevé % achevé % achevé % achevé % achevé % achevé % achevé % achevé % achevé % achevé % achevé % achevé % achevé% achevé % achevé % achevé % achevé % achevé % achevé % achevé % achevé % achevé % achevé % achevé % achevé % achevé % achevé % achevé % achevé % achevé % achevé % achevé % achevé % achevé % achevé% achevé % achevé % achevé % achevé% achevé % achevé % achevé % achevé% achevé % achevé % achevé % achevé % achevé % achevé % achevé% achevé % achevé % achevé % achevé % achevé% achevé % achevé % achevé% achevé % achevé % achevé\n",
      "99.99 % achevé001 % achevééé % achevé% achevé % achevé % achevé % achevé % achevé % achevé % achevé % achevé % achevé % achevé% achevé % achevé% achevé % achevé % achevé % achevé % achevé % achevé % achevé % achevé % achevé % achevé % achevé % achevé % achevé % achevé % achevé % achevé % achevé % achevé % achevé % achevé % achevé % achevé % achevé % achevé % achevé % achevé % achevé % achevé % achevé % achevé % achevé % achevé % achevé % achevé % achevé % achevé % achevé % achevé % achevé % achevé % achevé % achevé % achevé % achevé % achevé % achevé % achevé % achevé % achevé % achevé % achevé % achevé% achevé % achevé% achevé % achevé % achevé % achevé % achevé % achevé % achevé % achevé% achevé % achevé % achevé % achevé % achevé % achevé % achevé % achevé% achevé % achevé % achevé% achevé % achevé % achevé % achevé % achevé % achevé % achevé % achevé % achevé % achevé % achevé % achevé % achevé % achevé % achevé % achevé% achevé % achevé % achevé % achevé % achevé % achevé % achevé % achevé% achevé % achevé % achevé % achevé % achevé % achevé\r"
     ]
    }
   ],
   "source": [
    "threshold = Anomaly.estimators.threshold_MC(kernel, law_p, law_p, m, n, alpha,  size_gen = 1000, finalSampleSize=10000)"
   ]
  },
  {
   "cell_type": "code",
   "execution_count": 7,
   "metadata": {},
   "outputs": [
    {
     "name": "stdout",
     "output_type": "stream",
     "text": [
      "99.9 % achevé9999 % achevéé % achevé % achevé % achevé % achevé % achevé% achevé % achevé % achevé% achevé % achevé% achevé % achevé % achevé % achevé % achevé % achevé% achevé % achevé% achevé% achevé % achevé % achevé % achevé\r"
     ]
    },
    {
     "data": {
      "text/plain": [
       "0.951"
      ]
     },
     "execution_count": 7,
     "metadata": {},
     "output_type": "execute_result"
    }
   ],
   "source": [
    "1-Anomaly.estimators.puissance_MC(MMD, kernel, law_p, law_p,m, n, threshold, repeat=1000)"
   ]
  },
  {
   "cell_type": "code",
   "execution_count": 8,
   "metadata": {},
   "outputs": [
    {
     "name": "stdout",
     "output_type": "stream",
     "text": [
      "99.9 % achevé9999 % achevéé % achevé % achevé % achevé % achevé % achevé % achevé % achevé % achevé % achevé% achevé % achevé % achevé % achevé% achevé% achevé % achevé % achevé % achevé% achevé % achevé % achevé % achevé % achevé % achevé\r"
     ]
    },
    {
     "data": {
      "text/plain": [
       "0.072"
      ]
     },
     "execution_count": 8,
     "metadata": {},
     "output_type": "execute_result"
    }
   ],
   "source": [
    "Anomaly.estimators.puissance_MC(MMD, kernel, law_p, law_q,m,n, threshold, repeat=1000)"
   ]
  },
  {
   "cell_type": "markdown",
   "metadata": {},
   "source": [
    "## Courbe ROC"
   ]
  },
  {
   "cell_type": "code",
   "execution_count": 9,
   "metadata": {},
   "outputs": [],
   "source": [
    "law_p = Anomaly.utils.normal(0,1)\n",
    "law_q = Anomaly.utils.normal(0,2)\n",
    "kernel = Anomaly.kernels.Gaussian(.1)\n",
    "m = 1000\n",
    "n = 100"
   ]
  },
  {
   "cell_type": "code",
   "execution_count": 10,
   "metadata": {},
   "outputs": [
    {
     "name": "stdout",
     "output_type": "stream",
     "text": [
      "99.9 % achevé9999 % achevéé % achevé % achevé % achevé % achevé % achevé % achevé% achevé % achevé% achevé% achevé % achevé% achevé % achevé % achevé % achevé% achevé% achevé % achevé % achevé % achevé % achevé % achevé % achevé % achevé % achevé % achevé % achevé\r"
     ]
    }
   ],
   "source": [
    "y = np.zeros(2000)\n",
    "y[:1000] = 1\n",
    "scores = np.zeros(2000)\n",
    "scores[:1000] = Anomaly.estimators.sampleMMD_MC(MMD, kernel, law_p, law_q, m, n)\n",
    "scores[1000:] = Anomaly.estimators.sampleMMD_MC(MMD, kernel, law_p, law_p, m, n)\n",
    "fpr, tpr, thresholds = roc_curve(y, scores)"
   ]
  },
  {
   "cell_type": "code",
   "execution_count": 11,
   "metadata": {},
   "outputs": [
    {
     "name": "stdout",
     "output_type": "stream",
     "text": [
      "99.9 % achevé9999 % achevéé % achevé% achevé % achevé % achevé % achevé % achevé % achevé% achevé % achevé% achevé % achevé % achevé % achevé % achevé% achevé % achevé % achevé % achevé % achevé % achevé % achevé % achevé % achevé % achevé% achevé % achevé % achevé% achevé % achevé % achevé % achevé % achevé % achevé % achevé\r"
     ]
    },
    {
     "data": {
      "image/png": "[encoded data removed]",
      "text/plain": [
       "<Figure size 1080x576 with 1 Axes>"
      ]
     },
     "metadata": {
      "needs_background": "light"
     },
     "output_type": "display_data"
    }
   ],
   "source": [
    "Anomaly.experiments.courbe_ROC([Anomaly.kernels.Gaussian(.1),\n",
    "                                Anomaly.kernels.Gaussian(1),\n",
    "                               Anomaly.kernels.Gaussian(10),\n",
    "                               Anomaly.kernels.Gaussian(.5)], law_p, law_q, m, n, sample_size=100)"
   ]
  },
  {
   "cell_type": "markdown",
   "metadata": {},
   "source": [
    "## grid Optimisation"
   ]
  },
  {
   "cell_type": "code",
   "execution_count": 12,
   "metadata": {},
   "outputs": [],
   "source": [
    "law_p = Anomaly.utils.normal(0,1)\n",
    "law_q = Anomaly.utils.normal(1,1)\n",
    "Kernel = Anomaly.kernels.Gaussian\n",
    "m = 1000\n",
    "n = 100\n",
    "alpha = 0.05"
   ]
  },
  {
   "cell_type": "code",
   "execution_count": 13,
   "metadata": {},
   "outputs": [
    {
     "name": "stdout",
     "output_type": "stream",
     "text": [
      "Start computing sigma under H0\n",
      "Start computing first componant\n",
      "Start computing second componant\n",
      "Start computing sigma under H1\n",
      "Start computing first componant\n",
      "Start computing second componantvé % achevé % achevé % achevé\n",
      "Start computing Mean under H1 achevé % achevé\n",
      "Start computing sigma under H0achevé\n",
      "Start computing first componant\n",
      "Start computing second componantevé % achevé % achevé % achevé\n",
      "Start computing sigma under H1achevé% achevé % achevé % achevé\n",
      "Start computing first componant\n",
      "Start computing second componantevé % achevé % achevé % achevé\n",
      "Start computing Mean under H1achevé % achevé\n",
      "Start computing sigma under H0achevé % achevé% achevé % achevé % achevé\n",
      "Start computing first componant\n",
      "Start computing second componanthevé% achevé % achevé% achevé\n",
      "Start computing sigma under H1achevé % achevé % achevé\n",
      "Start computing first componant\n",
      "Start computing second componanthevé\n",
      "Start computing Mean under H1 achevé % achevé\n",
      "Start computing sigma under H0\n",
      "Start computing first componant\n",
      "Start computing second componantevé % achevé % achevé\n",
      "Start computing sigma under H1achevé\n",
      "Start computing first componant\n",
      "Start computing second componantevé % achevé % achevé\n",
      "Start computing Mean under H1 achevé\n",
      "Start computing sigma under H0achevé % achevé\n",
      "Start computing first componant\n",
      "Start computing second componanthevé % achevé\n",
      "Start computing sigma under H1chevé % achevé % achevé\n",
      "Start computing first componant\n",
      "Start computing second componantevé % achevé % achevé % achevé\n",
      "Start computing Mean under H1 achevé % achevé % achevé % achevé\n",
      "Start computing sigma under H0\n",
      "Start computing first componant\n",
      "Start computing second componant\n",
      "Start computing sigma under H1achevé\n",
      "Start computing first componant\n",
      "Start computing second componanthevé% achevé\n",
      "Start computing Mean under H1\n",
      "Start computing sigma under H0achevé\n",
      "Start computing first componant\n",
      "Start computing second componanthevé % achevé\n",
      "Start computing sigma under H1\n",
      "Start computing first componant\n",
      "Start computing second componantvé\n",
      "Start computing Mean under H1\n",
      "Start computing sigma under H0achevé\n",
      "Start computing first componant\n",
      "Start computing second componant\n",
      "Start computing sigma under H1achevé\n",
      "Start computing first componant\n",
      "Start computing second componantevé % achevé % achevé% achevé\n",
      "Start computing Mean under H1\n",
      "Start computing sigma under H0\n",
      "Start computing first componant\n",
      "Start computing second componanthevé % achevé\n",
      "Start computing sigma under H1achevé\n",
      "Start computing first componant\n",
      "Start computing second componanthevé % achevé\n",
      "Start computing Mean under H1 achevé\n",
      "Start computing sigma under H0\n",
      "Start computing first componant\n",
      "Start computing second componant\n",
      "Start computing sigma under H1achevé % achevé % achevé\n",
      "Start computing first componant\n",
      "Start computing second componantevé % achevé\n",
      "Start computing Mean under H1 achevé\n",
      "Start computing sigma under H0\n",
      "Start computing first componant\n",
      "Start computing second componanthevé\n",
      "Start computing sigma under H1achevé\n",
      "Start computing first componant\n",
      "Start computing second componantevé % achevé\n",
      "Start computing Mean under H1\n",
      "Start computing sigma under H0\n",
      "Start computing first componant\n",
      "Start computing second componant\n",
      "Start computing sigma under H1chevé % achevé\n",
      "Start computing first componant\n",
      "Start computing second componantevé\n",
      "Start computing Mean under H1\n",
      "Start computing sigma under H0achevé\n",
      "Start computing first componant\n",
      "Start computing second componanthevé % achevé % achevé\n",
      "Start computing sigma under H1chevé % achevé\n",
      "Start computing first componant\n",
      "Start computing second componantevé % achevé\n",
      "Start computing Mean under H1 achevé % achevé\n",
      "Start computing sigma under H0achevé\n",
      "Start computing first componant\n",
      "Start computing second componant\n",
      "Start computing sigma under H1\n",
      "Start computing first componant\n",
      "Start computing second componanthevé\n",
      "Start computing Mean under H1\n",
      "Start computing sigma under H0achevé\n",
      "Start computing first componant\n",
      "Start computing second componant\n",
      "Start computing sigma under H1\n",
      "Start computing first componant\n",
      "Start computing second componant\n",
      "Start computing Mean under H1achevé % achevé % achevé\n",
      "Start computing sigma under H0achevé\n",
      "Start computing first componant\n",
      "Start computing second componanthevé\n",
      "Start computing sigma under H1chevé % achevé % achevé\n",
      "Start computing first componant\n",
      "Start computing second componanthevé % achevé\n",
      "Start computing Mean under H1\n",
      "Start computing sigma under H0\n",
      "Start computing first componant\n",
      "Start computing second componant\n",
      "Start computing sigma under H1achevé % achevé\n",
      "Start computing first componant\n",
      "Start computing second componanthevé\n",
      "Start computing Mean under H1\n",
      "Start computing sigma under H0chevé\n",
      "Start computing first componant\n",
      "Start computing second componanthevé\n",
      "Start computing sigma under H1achevé % achevé\n",
      "Start computing first componant\n",
      "Start computing second componanthevé% achevé\n",
      "Start computing Mean under H1\n",
      "Start computing sigma under H0\n",
      "Start computing first componant\n",
      "Start computing second componanthevé\n",
      "Start computing sigma under H1chevé\n",
      "Start computing first componant\n",
      "Start computing second componant\n",
      "Start computing Mean under H1achevé % achevé % achevé % achevé\n",
      "Start computing sigma under H0\n",
      "Start computing first componant\n",
      "Start computing second componant\n",
      "Start computing sigma under H1\n",
      "Start computing first componant\n",
      "Start computing second componanthevé % achevé\n",
      "Start computing Mean under H1 achevé\n",
      "Start computing sigma under H0achevé\n",
      "Start computing first componant\n",
      "Start computing second componanthevé % achevé % achevé % achevé\n",
      "Start computing sigma under H1achevé % achevé\n",
      "Start computing first componant\n",
      "Start computing second componanthevé % achevé\n",
      "Start computing Mean under H1 achevé\n",
      "Start computing sigma under H0achevé % achevé\n",
      "Start computing first componant\n",
      "Start computing second componantevé% achevé % achevé % achevé\n",
      "Start computing sigma under H1achevé % achevé\n",
      "Start computing first componant\n",
      "Start computing second componanthevé % achevé\n",
      "Start computing Mean under H1 achevé % achevé % achevé\n",
      "Start computing sigma under H0achevé\n",
      "Start computing first componant\n",
      "Start computing second componanthevé\n",
      "Start computing sigma under H1chevé% achevé % achevé % achevé % achevé\n",
      "Start computing first componant\n",
      "Start computing second componanthevé% achevé\n",
      "Start computing Mean under H1achevé % achevé\n",
      "Start computing sigma under H0\n",
      "Start computing first componant\n",
      "Start computing second componantevé\n",
      "Start computing sigma under H1achevé\n",
      "Start computing first componant\n",
      "Start computing second componanthevé % achevé % achevé\n",
      "Start computing Mean under H1 achevé\n",
      "Start computing sigma under H0achevé % achevé\n",
      "Start computing first componant\n",
      "Start computing second componant\n",
      "Start computing sigma under H1\n",
      "Start computing first componant\n",
      "Start computing second componanthevé\n",
      "Start computing Mean under H1achevé\n",
      "Start computing sigma under H0achevé % achevé\n",
      "Start computing first componant\n",
      "Start computing second componanthevé\n",
      "Start computing sigma under H1\n",
      "Start computing first componant\n",
      "Start computing second componanthevé% achevé % achevé % achevé\n",
      "Start computing Mean under H1 achevé\n",
      "Start computing sigma under H0achevé\n",
      "Start computing first componant\n",
      "Start computing second componant\n",
      "Start computing sigma under H1achevé\n",
      "Start computing first componant\n",
      "Start computing second componanthevé % achevé\n",
      "Start computing Mean under H1 achevé\n",
      "Start computing sigma under H0\n",
      "Start computing first componant\n",
      "Start computing second componantevé\n",
      "Start computing sigma under H1achevé % achevé\n",
      "Start computing first componant\n",
      "Start computing second componanthevé % achevé\n",
      "Start computing Mean under H1 achevé\n",
      "Start computing sigma under H0achevé\n",
      "Start computing first componant\n",
      "Start computing second componanthevé\n",
      "Start computing sigma under H1achevé % achevé\n",
      "Start computing first componant\n",
      "Start computing second componant\n",
      "Start computing Mean under H1 achevé\n",
      "Start computing sigma under H0\n",
      "Start computing first componant\n",
      "Start computing second componanthevé\n",
      "Start computing sigma under H1\n",
      "Start computing first componant\n",
      "Start computing second componant\n",
      "Start computing Mean under H1 achevé\n",
      "Start computing sigma under H0\n",
      "Start computing first componant\n",
      "Start computing second componanthevé\n",
      "Start computing sigma under H1\n",
      "Start computing first componant\n"
     ]
    },
    {
     "name": "stdout",
     "output_type": "stream",
     "text": [
      "Start computing second componant\n",
      "Start computing Mean under H1\n",
      "Start computing sigma under H0achevé % achevé % achevé % achevé % achevé\n",
      "Start computing first componant\n",
      "Start computing second componanthevé % achevé % achevé % achevé % achevé\n",
      "Start computing sigma under H1chevé % achevé % achevé % achevé % achevé% achevé % achevé % achevé\n",
      "Start computing first componant\n",
      "Start computing second componanthevé % achevé % achevé % achevé\n",
      "Start computing Mean under H1\n",
      "Start computing sigma under H0achevé % achevé\n",
      "Start computing first componant\n",
      "Start computing second componanthevé\n",
      "Start computing sigma under H1\n",
      "Start computing first componant\n",
      "Start computing second componanthevé % achevé % achevé % achevé\n",
      "Start computing Mean under H1 achevé % achevé % achevé\n",
      "Start computing sigma under H0achevé % achevé\n",
      "Start computing first componant\n",
      "Start computing second componantevé % achevé % achevé % achevé\n",
      "Start computing sigma under H1achevé\n",
      "Start computing first componant\n",
      "Start computing second componanthevé % achevé % achevé\n",
      "Start computing Mean under H1\n",
      "Start computing sigma under H0\n",
      "Start computing first componant\n",
      "Start computing second componant\n",
      "Start computing sigma under H1achevé\n",
      "Start computing first componant\n",
      "Start computing second componanthevé % achevé % achevé\n",
      "Start computing Mean under H1\n",
      "Start computing sigma under H0achevé% achevé % achevé\n",
      "Start computing first componant\n",
      "Start computing second componantevé % achevé % achevé % achevé\n",
      "Start computing sigma under H1achevé % achevé % achevé\n",
      "Start computing first componant\n",
      "Start computing second componant\n",
      "Start computing Mean under H1achevé\n",
      "Start computing sigma under H0\n",
      "Start computing first componant\n",
      "Start computing second componant\n",
      "Start computing sigma under H1achevé % achevé% achevé\n",
      "Start computing first componant\n",
      "Start computing second componanthevé\n",
      "Start computing Mean under H1achevé % achevé\n",
      "Start computing sigma under H0achevé\n",
      "Start computing first componant\n",
      "Start computing second componantevé\n",
      "Start computing sigma under H1achevé\n",
      "Start computing first componant\n",
      "Start computing second componanthevé\n",
      "Start computing Mean under H1\n",
      "Start computing sigma under H0achevé\n",
      "Start computing first componant\n",
      "Start computing second componant\n",
      "Start computing sigma under H1achevé\n",
      "Start computing first componant\n",
      "Start computing second componanthevé % achevé% achevé\n",
      "Start computing Mean under H1achevé % achevé\n",
      "Start computing sigma under H0chevé\n",
      "Start computing first componant\n",
      "Start computing second componant\n",
      "Start computing sigma under H1\n",
      "Start computing first componant\n",
      "Start computing second componanthevé\n",
      "Start computing Mean under H1 achevé\n",
      "99.0 % achevé9999 % achevéé% achevé % achevé\r"
     ]
    },
    {
     "data": {
      "text/plain": [
       "[<matplotlib.lines.Line2D at 0x7f7b4fe91358>]"
      ]
     },
     "execution_count": 13,
     "metadata": {},
     "output_type": "execute_result"
    },
    {
     "data": {
      "image/png": "[encoded data removed]",
      "text/plain": [
       "<Figure size 1080x576 with 1 Axes>"
      ]
     },
     "metadata": {
      "needs_background": "light"
     },
     "output_type": "display_data"
    }
   ],
   "source": [
    "parameters = [0.001,0.01,1,10]\n",
    "L = []\n",
    "for s in parameters:\n",
    "    kernel = Kernel(s)\n",
    "    l = []\n",
    "    for i in range(10):\n",
    "        l.append(Anomaly.estimators.score_MC(kernel, law_p, law_q, m, alpha))\n",
    "    L.append(np.mean(l))\n",
    "plt.plot(parameters,L)"
   ]
  },
  {
   "cell_type": "code",
   "execution_count": null,
   "metadata": {},
   "outputs": [],
   "source": [
    "L"
   ]
  },
  {
   "cell_type": "markdown",
   "metadata": {},
   "source": [
    "## Comparaison V1V0"
   ]
  },
  {
   "cell_type": "code",
   "execution_count": null,
   "metadata": {},
   "outputs": [],
   "source": [
    "law_p = Anomaly.utils.normal(0,1)\n",
    "law_q = Anomaly.utils.normal(1,1)\n",
    "Kernel = Anomaly.kernels.Gaussian"
   ]
  },
  {
   "cell_type": "code",
   "execution_count": null,
   "metadata": {},
   "outputs": [],
   "source": [
    "Anomaly.estimators.var_OMMD_MC(kernel, law_p, law_q, size_gen=1000, finalSampleSize=100)"
   ]
  },
  {
   "cell_type": "code",
   "execution_count": null,
   "metadata": {},
   "outputs": [],
   "source": [
    "law_p = Anomaly.utils.normal(0,0.05)\n",
    "law_q = Anomaly.utils.normal(0,5000)\n",
    "Kernel = Anomaly.kernels.Gaussian\n",
    "Anomaly.estimators.var_OMMD_MC(kernel, law_p, law_q, size_gen=1000, finalSampleSize=100)"
   ]
  },
  {
   "cell_type": "code",
   "execution_count": null,
   "metadata": {},
   "outputs": [],
   "source": [
    "law_p = Anomaly.utils.normal(0,5)\n",
    "law_q = Anomaly.utils.normal(0,.0005)\n",
    "Kernel = Anomaly.kernels.Gaussian\n",
    "Anomaly.estimators.var_OMMD_MC(kernel, law_p, law_q, size_gen=1000, finalSampleSize=100)"
   ]
  },
  {
   "cell_type": "markdown",
   "metadata": {},
   "source": [
    "## Gaussian kernel and parameter"
   ]
  },
  {
   "cell_type": "markdown",
   "metadata": {},
   "source": [
    "The Gaussian kernel can be decomposed as a sum of polynomial kernel, we want to compute the coefficient in front of each kernel"
   ]
  },
  {
   "cell_type": "code",
   "execution_count": null,
   "metadata": {},
   "outputs": [],
   "source": [
    "from math import factorial"
   ]
  },
  {
   "cell_type": "code",
   "execution_count": null,
   "metadata": {},
   "outputs": [],
   "source": [
    "f = lambda sigma : lambda k : 1/((sigma)**k*factorial(k))"
   ]
  },
  {
   "cell_type": "code",
   "execution_count": null,
   "metadata": {},
   "outputs": [],
   "source": [
    "L = [f(1)(k) for k in range(10)]"
   ]
  },
  {
   "cell_type": "code",
   "execution_count": null,
   "metadata": {},
   "outputs": [],
   "source": [
    "plt.plot(L)"
   ]
  },
  {
   "cell_type": "markdown",
   "metadata": {},
   "source": [
    "# Laplacian Kernel"
   ]
  },
  {
   "cell_type": "code",
   "execution_count": null,
   "metadata": {},
   "outputs": [],
   "source": [
    "f = lambda sigma : lambda k : sigma**k/(factorial(k))"
   ]
  },
  {
   "cell_type": "code",
   "execution_count": null,
   "metadata": {},
   "outputs": [],
   "source": [
    "L = [f(2)(k) for k in range(10)]"
   ]
  },
  {
   "cell_type": "code",
   "execution_count": null,
   "metadata": {},
   "outputs": [],
   "source": [
    "plt.plot(L)"
   ]
  },
  {
   "cell_type": "code",
   "execution_count": null,
   "metadata": {},
   "outputs": [],
   "source": [
    "law_p = Anomaly.utils.normal(0,0.00000001)\n",
    "law_q = Anomaly.utils.normal(0,1)\n",
    "m = 1000\n",
    "n = 100"
   ]
  },
  {
   "cell_type": "code",
   "execution_count": null,
   "metadata": {},
   "outputs": [],
   "source": [
    "Anomaly.experiments.courbe_ROC([Anomaly.kernels.laplacian(.1),\n",
    "                                Anomaly.kernels.laplacian(1),\n",
    "                               Anomaly.kernels.laplacian(10),\n",
    "                               Anomaly.kernels.laplacian(.5),\n",
    "                                Anomaly.kernels.laplacian(2),\n",
    "                               Anomaly.kernels.laplacian(4)], law_p, law_q, m, n, sample_size=10)"
   ]
  },
  {
   "cell_type": "code",
   "execution_count": null,
   "metadata": {},
   "outputs": [],
   "source": [
    "law_p = Anomaly.utils.normal(0,1)\n",
    "law_q = Anomaly.utils.normal(0.3,1)\n",
    "m = 1000\n",
    "n = 100"
   ]
  },
  {
   "cell_type": "code",
   "execution_count": null,
   "metadata": {},
   "outputs": [],
   "source": [
    "Anomaly.experiments.courbe_ROC([Anomaly.kernels.laplacian(.1),\n",
    "                                Anomaly.kernels.laplacian(1),\n",
    "                               Anomaly.kernels.laplacian(10),\n",
    "                               Anomaly.kernels.laplacian(.5),\n",
    "                                Anomaly.kernels.laplacian(2),\n",
    "                               Anomaly.kernels.laplacian(4)], law_p, law_q, m, n, sample_size=100)"
   ]
  },
  {
   "cell_type": "markdown",
   "metadata": {},
   "source": [
    "# Polynomial Kernel"
   ]
  },
  {
   "cell_type": "markdown",
   "metadata": {},
   "source": [
    "Mean change"
   ]
  },
  {
   "cell_type": "code",
   "execution_count": null,
   "metadata": {},
   "outputs": [],
   "source": [
    "law_p = Anomaly.utils.normal(0,1)\n",
    "law_q = Anomaly.utils.normal(0.5,1)\n",
    "m = 1000\n",
    "n = 100"
   ]
  },
  {
   "cell_type": "code",
   "execution_count": null,
   "metadata": {},
   "outputs": [],
   "source": [
    "Anomaly.experiments.courbe_ROC([Anomaly.kernels.polynomial(c=0,d=0),\n",
    "                                Anomaly.kernels.polynomial(c=0,d=1),\n",
    "                               Anomaly.kernels.polynomial(c=0,d=2),\n",
    "                               Anomaly.kernels.polynomial(c=0,d=3),\n",
    "                                Anomaly.kernels.polynomial(c=0,d=4)], law_p, law_q, m, n, sample_size=10)"
   ]
  },
  {
   "cell_type": "markdown",
   "metadata": {},
   "source": [
    "Change in variance"
   ]
  },
  {
   "cell_type": "code",
   "execution_count": null,
   "metadata": {},
   "outputs": [],
   "source": [
    "law_p = Anomaly.utils.normal(0,1)\n",
    "law_q = Anomaly.utils.normal(0,2)\n",
    "m = 1000\n",
    "n = 100"
   ]
  },
  {
   "cell_type": "code",
   "execution_count": null,
   "metadata": {},
   "outputs": [],
   "source": [
    "Anomaly.experiments.courbe_ROC([Anomaly.kernels.polynomial(c=0,d=0),\n",
    "                                Anomaly.kernels.polynomial(c=0,d=1),\n",
    "                               Anomaly.kernels.polynomial(c=0,d=2),\n",
    "                               Anomaly.kernels.polynomial(c=0,d=3),\n",
    "                                Anomaly.kernels.polynomial(c=0,d=4)], law_p, law_q, m, n, sample_size=10)"
   ]
  },
  {
   "cell_type": "markdown",
   "metadata": {},
   "source": [
    "change in first order"
   ]
  },
  {
   "cell_type": "code",
   "execution_count": null,
   "metadata": {},
   "outputs": [],
   "source": [
    "law_p = Anomaly.utils.normal(0,1)\n",
    "law_q = Anomaly.utils.normal(0.5,np.sqrt(0.75))\n",
    "m = 1000\n",
    "n = 100"
   ]
  },
  {
   "cell_type": "code",
   "execution_count": null,
   "metadata": {},
   "outputs": [],
   "source": [
    "Anomaly.experiments.courbe_ROC([Anomaly.kernels.polynomial(c=0,d=0),\n",
    "                                Anomaly.kernels.polynomial(c=0,d=1),\n",
    "                               Anomaly.kernels.polynomial(c=0,d=2),\n",
    "                               Anomaly.kernels.polynomial(c=0,d=3),\n",
    "                                Anomaly.kernels.polynomial(c=0,d=4)], law_p, law_q, m, n, sample_size=10)"
   ]
  },
  {
   "cell_type": "code",
   "execution_count": null,
   "metadata": {},
   "outputs": [],
   "source": []
  }
 ],
 "metadata": {
  "kernelspec": {
   "display_name": "Python 3",
   "language": "python",
   "name": "python3"
  },
  "language_info": {
   "codemirror_mode": {
    "name": "ipython",
    "version": 3
   },
   "file_extension": ".py",
   "mimetype": "text/x-python",
   "name": "python",
   "nbconvert_exporter": "python",
   "pygments_lexer": "ipython3",
   "version": "3.6.8"
  }
 },
 "nbformat": 4,
 "nbformat_minor": 2
}
