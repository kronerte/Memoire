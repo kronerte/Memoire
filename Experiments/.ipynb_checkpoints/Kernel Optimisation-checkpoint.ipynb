{
 "cells": [
  {
   "cell_type": "markdown",
   "metadata": {},
   "source": [
    "# Kernel Optimisation"
   ]
  },
  {
   "cell_type": "markdown",
   "metadata": {},
   "source": [
    "In this notebook, we will study several method to get the best kernel for the MMD."
   ]
  },
  {
   "cell_type": "markdown",
   "metadata": {},
   "source": [
    "## Import modules"
   ]
  },
  {
   "cell_type": "code",
   "execution_count": 1,
   "metadata": {},
   "outputs": [],
   "source": [
    "import os\n",
    "os.chdir('..')\n",
    "import Anomaly"
   ]
  },
  {
   "cell_type": "code",
   "execution_count": 2,
   "metadata": {},
   "outputs": [],
   "source": [
    "import numpy as np\n",
    "import matplotlib.pyplot as plt\n",
    "import importlib\n",
    "from seaborn import kdeplot\n",
    "from sklearn.metrics import roc_curve"
   ]
  },
  {
   "cell_type": "code",
   "execution_count": 3,
   "metadata": {},
   "outputs": [
    {
     "name": "stdout",
     "output_type": "stream",
     "text": [
      "Populating the interactive namespace from numpy and matplotlib\n"
     ]
    }
   ],
   "source": [
    "%pylab inline\n",
    "pylab.rcParams['figure.figsize'] = (15, 8)"
   ]
  },
  {
   "cell_type": "markdown",
   "metadata": {},
   "source": [
    "## Test of estimators"
   ]
  },
  {
   "cell_type": "code",
   "execution_count": 12,
   "metadata": {},
   "outputs": [],
   "source": [
    "law_p = Anomaly.utils.normal(0,1)\n",
    "law_q = Anomaly.utils.normal(2,2)\n",
    "kernel = Anomaly.kernels.gaussian(1)\n",
    "MMD = Anomaly.MMD.OMMD\n",
    "m = 1000\n",
    "n = 100\n",
    "alpha = 0.05"
   ]
  },
  {
   "cell_type": "code",
   "execution_count": 13,
   "metadata": {},
   "outputs": [
    {
     "name": "stdout",
     "output_type": "stream",
     "text": [
      "Start computing first componant\n",
      "Start computing second componanthevé % achevé % achevé % achevé % achevé\n",
      "1.3850515974117141% achevéé % achevé % achevé% achevé % achevé % achevé % achevé\n"
     ]
    }
   ],
   "source": [
    "threshold = Anomaly.estimators.threshold_MC(kernel, law_p, law_p, m, n, alpha,  size_gen = 10, finalSampleSize=100)"
   ]
  },
  {
   "cell_type": "code",
   "execution_count": 14,
   "metadata": {},
   "outputs": [
    {
     "name": "stdout",
     "output_type": "stream",
     "text": [
      "99.9 % achevé9999 % achevéé % achevé % achevé % achevé\r"
     ]
    },
    {
     "data": {
      "text/plain": [
       "0.04700000000000004"
      ]
     },
     "execution_count": 14,
     "metadata": {},
     "output_type": "execute_result"
    }
   ],
   "source": [
    "1-Anomaly.estimators.puissance_MC(MMD, kernel, law_p, law_p,m, n, threshold, repeat=1000)"
   ]
  },
  {
   "cell_type": "code",
   "execution_count": 15,
   "metadata": {},
   "outputs": [
    {
     "name": "stdout",
     "output_type": "stream",
     "text": [
      "99.9 % achevé9999 % achevéé % achevé\r"
     ]
    },
    {
     "data": {
      "text/plain": [
       "0.001"
      ]
     },
     "execution_count": 15,
     "metadata": {},
     "output_type": "execute_result"
    }
   ],
   "source": [
    "Anomaly.estimators.puissance_MC(MMD, kernel, law_p, law_q,m,n, threshold, repeat=1000)"
   ]
  },
  {
   "cell_type": "markdown",
   "metadata": {},
   "source": [
    "## Courbe ROC"
   ]
  },
  {
   "cell_type": "code",
   "execution_count": 4,
   "metadata": {},
   "outputs": [],
   "source": [
    "law_p = Anomaly.utils.normal(0,1)\n",
    "law_q = Anomaly.utils.normal(1,1)\n",
    "kernel = Anomaly.kernels.gaussian(.1)\n",
    "m = 1000\n",
    "n = 100"
   ]
  },
  {
   "cell_type": "code",
   "execution_count": 21,
   "metadata": {},
   "outputs": [
    {
     "name": "stdout",
     "output_type": "stream",
     "text": [
      "99.9 % achevé9999 % achevéé% achevé % achevé % achevé\r"
     ]
    }
   ],
   "source": [
    "y = np.zeros(2000)\n",
    "y[:1000] = 1\n",
    "scores = np.zeros(2000)\n",
    "scores[:1000] = Anomaly.estimators.sampleMMD_MC(MMD, kernel, law_p, law_q, m, n)\n",
    "scores[1000:] = Anomaly.estimators.sampleMMD_MC(MMD, kernel, law_p, law_p, m, n)\n",
    "fpr, tpr, thresholds = roc_curve(y, scores)"
   ]
  },
  {
   "cell_type": "code",
   "execution_count": 5,
   "metadata": {},
   "outputs": [
    {
     "name": "stdout",
     "output_type": "stream",
     "text": [
      "99.9 % achevé9999 % achevéé% achevé % achevé % achevé % achevé % achevé\r"
     ]
    },
    {
     "data": {
      "image/png": "[encoded data removed]",
      "text/plain": [
       "<Figure size 1080x576 with 1 Axes>"
      ]
     },
     "metadata": {
      "needs_background": "light"
     },
     "output_type": "display_data"
    }
   ],
   "source": [
    "Anomaly.experiments.courbe_ROC([Anomaly.kernels.gaussian(.1),\n",
    "                                Anomaly.kernels.gaussian(1)], law_p, law_q, m, n, sample_size=1000)"
   ]
  },
  {
   "cell_type": "markdown",
   "metadata": {},
   "source": [
    "## grid Optimisation"
   ]
  },
  {
   "cell_type": "code",
   "execution_count": 4,
   "metadata": {},
   "outputs": [],
   "source": [
    "law_p = Anomaly.utils.normal(0,1)\n",
    "law_q = Anomaly.utils.normal(1,1)\n",
    "Kernel = Anomaly.kernels.gaussian\n",
    "m = 1000\n",
    "n = 100\n",
    "alpha = 0.05"
   ]
  },
  {
   "cell_type": "code",
   "execution_count": 5,
   "metadata": {},
   "outputs": [
    {
     "name": "stdout",
     "output_type": "stream",
     "text": [
      "Start computing sigma under H0\n",
      "Start computing first componant\n",
      "Start computing second componant\n",
      "Start computing sigma under H1\n",
      "Start computing first componant\n",
      "Start computing second componant\n",
      "Start computing Mean under H1\n",
      "Start computing sigma under H0chevé % achevé\n",
      "Start computing first componant\n",
      "Start computing second componant\n",
      "Start computing sigma under H1\n",
      "Start computing first componant\n",
      "Start computing second componant\n",
      "Start computing Mean under H1\n",
      "Start computing sigma under H0\n",
      "Start computing first componant\n",
      "Start computing second componant\n",
      "Start computing sigma under H1\n",
      "Start computing first componant\n",
      "Start computing second componant\n",
      "Start computing Mean under H1\n",
      "Start computing sigma under H0achevé\n",
      "Start computing first componant\n",
      "Start computing second componant\n",
      "Start computing sigma under H1\n",
      "Start computing first componant\n",
      "Start computing second componant\n",
      "Start computing Mean under H1\n",
      "Start computing sigma under H0\n",
      "Start computing first componant\n",
      "Start computing second componant\n",
      "Start computing sigma under H1\n",
      "Start computing first componant\n",
      "Start computing second componant\n",
      "Start computing Mean under H1\n",
      "Start computing sigma under H0\n",
      "Start computing first componant\n",
      "Start computing second componant\n",
      "Start computing sigma under H1\n",
      "Start computing first componant\n",
      "Start computing second componant\n",
      "Start computing Mean under H1\n",
      "Start computing sigma under H0\n",
      "Start computing first componant\n",
      "Start computing second componant\n",
      "Start computing sigma under H1\n",
      "Start computing first componant\n",
      "Start computing second componant\n",
      "Start computing Mean under H1\n",
      "Start computing sigma under H0\n",
      "Start computing first componant\n",
      "Start computing second componant\n",
      "Start computing sigma under H1\n",
      "Start computing first componant\n",
      "Start computing second componant\n",
      "Start computing Mean under H1\n",
      "Start computing sigma under H0achevé\n",
      "Start computing first componant\n",
      "Start computing second componant\n",
      "Start computing sigma under H1\n",
      "Start computing first componant\n",
      "Start computing second componant\n",
      "Start computing Mean under H1\n",
      "Start computing sigma under H0\n",
      "Start computing first componant\n",
      "Start computing second componant\n",
      "Start computing sigma under H1\n",
      "Start computing first componant\n",
      "Start computing second componant\n",
      "Start computing Mean under H1\n",
      "Start computing sigma under H0achevé % achevé\n",
      "Start computing first componant\n",
      "Start computing second componant\n",
      "Start computing sigma under H1\n",
      "Start computing first componant\n",
      "Start computing second componant\n",
      "Start computing Mean under H1\n",
      "Start computing sigma under H0achevé\n",
      "Start computing first componant\n",
      "Start computing second componant\n",
      "Start computing sigma under H1\n",
      "Start computing first componant\n",
      "Start computing second componant\n",
      "Start computing Mean under H1\n",
      "Start computing sigma under H0achevé\n",
      "Start computing first componant\n",
      "Start computing second componant\n",
      "Start computing sigma under H1\n",
      "Start computing first componant\n",
      "Start computing second componant\n",
      "Start computing Mean under H1\n",
      "Start computing sigma under H0achevé % achevé\n",
      "Start computing first componant\n",
      "Start computing second componant\n",
      "Start computing sigma under H1\n",
      "Start computing first componant\n",
      "Start computing second componant\n",
      "Start computing Mean under H1\n",
      "Start computing sigma under H0achevé\n",
      "Start computing first componant\n",
      "Start computing second componant\n",
      "Start computing sigma under H1\n",
      "Start computing first componant\n",
      "Start computing second componant\n",
      "Start computing Mean under H1\n",
      "Start computing sigma under H0chevé\n",
      "Start computing first componant\n",
      "Start computing second componant\n",
      "Start computing sigma under H1\n",
      "Start computing first componant\n",
      "Start computing second componant\n",
      "Start computing Mean under H1\n",
      "Start computing sigma under H0achevé\n",
      "Start computing first componant\n",
      "Start computing second componant\n",
      "Start computing sigma under H1\n",
      "Start computing first componant\n",
      "Start computing second componant\n",
      "Start computing Mean under H1\n",
      "Start computing sigma under H0\n",
      "Start computing first componant\n",
      "Start computing second componant\n",
      "Start computing sigma under H1\n",
      "Start computing first componant\n",
      "Start computing second componant\n",
      "Start computing Mean under H1\n",
      "Start computing sigma under H0achevé\n",
      "Start computing first componant\n",
      "Start computing second componant\n",
      "Start computing sigma under H1\n",
      "Start computing first componant\n",
      "Start computing second componant\n",
      "Start computing Mean under H1\n",
      "Start computing sigma under H0achevé\n",
      "Start computing first componant\n",
      "Start computing second componant\n",
      "Start computing sigma under H1\n",
      "Start computing first componant\n",
      "Start computing second componant\n",
      "Start computing Mean under H1\n",
      "Start computing sigma under H0achevé\n",
      "Start computing first componant\n",
      "Start computing second componant\n",
      "Start computing sigma under H1\n",
      "Start computing first componant\n",
      "Start computing second componant\n",
      "Start computing Mean under H1\n",
      "Start computing sigma under H0\n",
      "Start computing first componant\n",
      "Start computing second componant\n",
      "Start computing sigma under H1\n",
      "Start computing first componant\n",
      "Start computing second componant\n",
      "Start computing Mean under H1\n",
      "Start computing sigma under H0achevé\n",
      "Start computing first componant\n",
      "Start computing second componant\n",
      "Start computing sigma under H1\n",
      "Start computing first componant\n",
      "Start computing second componant\n",
      "Start computing Mean under H1\n",
      "Start computing sigma under H0\n",
      "Start computing first componant\n",
      "Start computing second componant\n",
      "Start computing sigma under H1\n",
      "Start computing first componant\n",
      "Start computing second componant\n",
      "Start computing Mean under H1\n",
      "Start computing sigma under H0\n",
      "Start computing first componant\n",
      "Start computing second componant\n",
      "Start computing sigma under H1\n",
      "Start computing first componant\n",
      "Start computing second componant\n",
      "Start computing Mean under H1\n",
      "Start computing sigma under H0\n",
      "Start computing first componant\n",
      "Start computing second componant\n",
      "Start computing sigma under H1\n",
      "Start computing first componant\n",
      "Start computing second componant\n",
      "Start computing Mean under H1\n",
      "Start computing sigma under H0achevé % achevé % achevé % achevé\n",
      "Start computing first componant\n",
      "Start computing second componant\n",
      "Start computing sigma under H1\n",
      "Start computing first componant\n",
      "Start computing second componant\n",
      "Start computing Mean under H1\n",
      "Start computing sigma under H0chevé % achevé\n",
      "Start computing first componant\n",
      "Start computing second componant\n",
      "Start computing sigma under H1\n",
      "Start computing first componant\n",
      "Start computing second componant\n",
      "Start computing Mean under H1\n",
      "Start computing sigma under H0achevé\n",
      "Start computing first componant\n",
      "Start computing second componant\n",
      "Start computing sigma under H1\n",
      "Start computing first componant\n",
      "Start computing second componant\n",
      "Start computing Mean under H1\n",
      "Start computing sigma under H0\n",
      "Start computing first componant\n",
      "Start computing second componant\n",
      "Start computing sigma under H1\n",
      "Start computing first componant\n",
      "Start computing second componant\n",
      "Start computing Mean under H1\n",
      "Start computing sigma under H0\n",
      "Start computing first componant\n",
      "Start computing second componant\n",
      "Start computing sigma under H1\n",
      "Start computing first componant\n",
      "Start computing second componant\n",
      "Start computing Mean under H1\n",
      "Start computing sigma under H0\n",
      "Start computing first componant\n",
      "Start computing second componant\n",
      "Start computing sigma under H1\n",
      "Start computing first componant\n",
      "Start computing second componant\n",
      "Start computing Mean under H1\n",
      "Start computing sigma under H0\n",
      "Start computing first componant\n",
      "Start computing second componant\n",
      "Start computing sigma under H1\n",
      "Start computing first componant\n",
      "Start computing second componant\n",
      "Start computing Mean under H1\n",
      "Start computing sigma under H0\n",
      "Start computing first componant\n",
      "Start computing second componant\n",
      "Start computing sigma under H1\n",
      "Start computing first componant\n",
      "Start computing second componant\n",
      "Start computing Mean under H1\n",
      "Start computing sigma under H0\n",
      "Start computing first componant\n",
      "Start computing second componant\n",
      "Start computing sigma under H1\n",
      "Start computing first componant\n",
      "Start computing second componant\n",
      "Start computing Mean under H1\n",
      "Start computing sigma under H0achevé\n",
      "Start computing first componant\n",
      "Start computing second componant\n",
      "Start computing sigma under H1\n",
      "Start computing first componant\n",
      "Start computing second componant\n",
      "Start computing Mean under H1\n"
     ]
    },
    {
     "name": "stdout",
     "output_type": "stream",
     "text": [
      "Start computing sigma under H0achevé % achevé\n",
      "Start computing first componant\n",
      "Start computing second componant\n",
      "Start computing sigma under H1\n",
      "Start computing first componant\n",
      "Start computing second componant\n",
      "Start computing Mean under H1\n",
      "Start computing sigma under H0achevé\n",
      "Start computing first componant\n",
      "Start computing second componant\n",
      "Start computing sigma under H1\n",
      "Start computing first componant\n",
      "Start computing second componant\n",
      "Start computing Mean under H1\n",
      "Start computing sigma under H0\n",
      "Start computing first componant\n",
      "Start computing second componant\n",
      "Start computing sigma under H1\n",
      "Start computing first componant\n",
      "Start computing second componant\n",
      "Start computing Mean under H1\n",
      "Start computing sigma under H0\n",
      "Start computing first componant\n",
      "Start computing second componant\n",
      "Start computing sigma under H1\n",
      "Start computing first componant\n",
      "Start computing second componant\n",
      "Start computing Mean under H1\n",
      "99.0 % achevé9999 % achevéé\r"
     ]
    },
    {
     "data": {
      "text/plain": [
       "[<matplotlib.lines.Line2D at 0x7fddc667f978>]"
      ]
     },
     "execution_count": 5,
     "metadata": {},
     "output_type": "execute_result"
    },
    {
     "data": {
      "image/png": "[encoded data removed]",
      "text/plain": [
       "<Figure size 1080x576 with 1 Axes>"
      ]
     },
     "metadata": {
      "needs_background": "light"
     },
     "output_type": "display_data"
    }
   ],
   "source": [
    "parameters = [0.001,0.01,1,10]\n",
    "L = []\n",
    "for s in parameters:\n",
    "    kernel = Kernel(s)\n",
    "    l = []\n",
    "    for i in range(10):\n",
    "        l.append(Anomaly.estimators.score_MC(kernel, law_p, law_q, m, alpha))\n",
    "    L.append(np.mean(l))\n",
    "plt.plot(parameters,L)"
   ]
  },
  {
   "cell_type": "code",
   "execution_count": 6,
   "metadata": {},
   "outputs": [
    {
     "data": {
      "text/plain": [
       "[-2.253431788674039,\n",
       " -0.7747602127323963,\n",
       " 2.7561754930302635,\n",
       " 0.6788721637805012]"
      ]
     },
     "execution_count": 6,
     "metadata": {},
     "output_type": "execute_result"
    }
   ],
   "source": [
    "L"
   ]
  },
  {
   "cell_type": "code",
   "execution_count": null,
   "metadata": {},
   "outputs": [],
   "source": []
  }
 ],
 "metadata": {
  "kernelspec": {
   "display_name": "Python 3",
   "language": "python",
   "name": "python3"
  },
  "language_info": {
   "codemirror_mode": {
    "name": "ipython",
    "version": 3
   },
   "file_extension": ".py",
   "mimetype": "text/x-python",
   "name": "python",
   "nbconvert_exporter": "python",
   "pygments_lexer": "ipython3",
   "version": "3.6.8"
  }
 },
 "nbformat": 4,
 "nbformat_minor": 2
}
