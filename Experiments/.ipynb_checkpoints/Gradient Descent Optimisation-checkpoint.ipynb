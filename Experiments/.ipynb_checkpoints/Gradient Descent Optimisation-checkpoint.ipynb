{
 "cells": [
  {
   "cell_type": "code",
   "execution_count": 1,
   "metadata": {},
   "outputs": [],
   "source": [
    "import os\n",
    "os.chdir(\"..\")"
   ]
  },
  {
   "cell_type": "code",
   "execution_count": 2,
   "metadata": {},
   "outputs": [],
   "source": [
    "import numpy as np\n",
    "import matplotlib.pyplot as plt\n",
    "from Anomaly.estimators import meanEmbeding_MC, var_OMMD_MC, moyenneMMD_MC, puissance_MC, threshold_MC\n",
    "from Anomaly.kernels import gaussian, laplacian, polynomial, CCK\n",
    "from Anomaly.utils import normal, inv_phi\n",
    "from Anomaly.experiments import courbe_ROC\n",
    "from Anomaly.MMD import OMMD"
   ]
  },
  {
   "cell_type": "markdown",
   "metadata": {},
   "source": [
    "## Covariance Matrix"
   ]
  },
  {
   "cell_type": "markdown",
   "metadata": {},
   "source": [
    "### Code"
   ]
  },
  {
   "cell_type": "code",
   "execution_count": 3,
   "metadata": {},
   "outputs": [],
   "source": [
    "def partial_covarianceOMMD_MC(Kernels, law_p, law_q, size_gen = 100, finalSampleSize=1000, verbose = 1):\n",
    "    sample = np.zeros((len(Kernels), finalSampleSize))\n",
    "    for i in range(finalSampleSize):\n",
    "        if verbose > 0:\n",
    "            print(i/finalSampleSize*100, '% achevé',end='\\r',flush=True)\n",
    "        x1 = law_p(1)\n",
    "        x2 = law_p(1)\n",
    "        for j in range(len(Kernels)):\n",
    "            sample[j,i] = Kernels[j](x1,x2) -  meanEmbeding_MC(Kernels[j], x1, law_q, size_gen = size_gen) -  meanEmbeding_MC(Kernels[j], x2, law_q, size_gen = size_gen)\n",
    "    return np.cov(sample)"
   ]
  },
  {
   "cell_type": "code",
   "execution_count": 4,
   "metadata": {},
   "outputs": [],
   "source": [
    "def cov_OMMD_MC(Kernels, law_p, law_q, size_gen = 100,Lambda = 0.1, finalSampleSize=1000, verbose = 1):\n",
    "    if verbose > 0:\n",
    "        print(\"Start computing first componant\")\n",
    "    first_componant = partial_covarianceOMMD_MC(Kernels, law_p, law_q, size_gen = size_gen, finalSampleSize=finalSampleSize, verbose = verbose)\n",
    "    if verbose > 0:\n",
    "        print(\"Start computing second componant\")\n",
    "    second_componant = partial_covarianceOMMD_MC(Kernels, law_q, law_p, size_gen = size_gen, finalSampleSize=finalSampleSize, verbose = verbose)\n",
    "    return 2*(first_componant + 1/Lambda*second_componant)"
   ]
  },
  {
   "cell_type": "markdown",
   "metadata": {},
   "source": [
    "### Validation"
   ]
  },
  {
   "cell_type": "code",
   "execution_count": 5,
   "metadata": {},
   "outputs": [],
   "source": [
    "kernel1 = gaussian(1)\n",
    "kernel2 = gaussian(2)\n",
    "law_p = normal(0,1)\n",
    "law_q = normal(1,1)"
   ]
  },
  {
   "cell_type": "code",
   "execution_count": 6,
   "metadata": {},
   "outputs": [
    {
     "name": "stdout",
     "output_type": "stream",
     "text": [
      "[[0.1439546  0.11570343 0.14112788]\n",
      " [0.11570343 0.0996475  0.11509057]\n",
      " [0.14112788 0.11509057 0.14223961]]\n"
     ]
    }
   ],
   "source": [
    "Mp = partial_covarianceOMMD_MC([kernel1, kernel2,kernel1], law_p, law_q, verbose = 0)\n",
    "print(Mp)"
   ]
  },
  {
   "cell_type": "code",
   "execution_count": 7,
   "metadata": {},
   "outputs": [
    {
     "name": "stdout",
     "output_type": "stream",
     "text": [
      "[[3.08679407 2.49824599 3.03737519]\n",
      " [2.49824599 2.16958791 2.48915246]\n",
      " [3.03737519 2.48915246 3.07399163]]\n"
     ]
    }
   ],
   "source": [
    "M = cov_OMMD_MC([kernel1, kernel2,kernel1], law_p, law_q, verbose = 0)\n",
    "print(M)"
   ]
  },
  {
   "cell_type": "code",
   "execution_count": 8,
   "metadata": {},
   "outputs": [
    {
     "data": {
      "text/plain": [
       "4.5200804071066205"
      ]
     },
     "execution_count": 8,
     "metadata": {},
     "output_type": "execute_result"
    }
   ],
   "source": [
    "kernel3 = CCK([kernel1,kernel2,kernel1],[1,0.2,0])\n",
    "var_OMMD_MC(kernel3, law_p, law_q,verbose=0)"
   ]
  },
  {
   "cell_type": "code",
   "execution_count": 9,
   "metadata": {},
   "outputs": [
    {
     "data": {
      "text/plain": [
       "array([[4.17287598]])"
      ]
     },
     "execution_count": 9,
     "metadata": {},
     "output_type": "execute_result"
    }
   ],
   "source": [
    "beta = np.array([1,0.2,0]).reshape((-1,1))\n",
    "beta.T.dot(M).dot(beta)"
   ]
  },
  {
   "cell_type": "markdown",
   "metadata": {},
   "source": [
    "### Experiments"
   ]
  },
  {
   "cell_type": "code",
   "execution_count": 10,
   "metadata": {},
   "outputs": [
    {
     "name": "stdout",
     "output_type": "stream",
     "text": [
      "[[0.1418053  0.1174166 ]\n",
      " [0.1174166  0.10436517]]\n"
     ]
    }
   ],
   "source": [
    "law_p = normal(0,1)\n",
    "law_q = normal(1,1)\n",
    "Mp = partial_covarianceOMMD_MC([gaussian(1), gaussian(2)], law_p, law_q, verbose = 0)\n",
    "print(Mp)"
   ]
  },
  {
   "cell_type": "code",
   "execution_count": 11,
   "metadata": {},
   "outputs": [
    {
     "name": "stdout",
     "output_type": "stream",
     "text": [
      "[[0.08396116 0.0305535 ]\n",
      " [0.0305535  0.02873135]]\n"
     ]
    }
   ],
   "source": [
    "Mp = partial_covarianceOMMD_MC([laplacian(1), laplacian(10)], law_p, law_q, verbose = 0)\n",
    "print(Mp)"
   ]
  },
  {
   "cell_type": "code",
   "execution_count": 12,
   "metadata": {},
   "outputs": [
    {
     "name": "stdout",
     "output_type": "stream",
     "text": [
      "[[0.13861177 0.10321068]\n",
      " [0.10321068 0.08462447]]\n"
     ]
    }
   ],
   "source": [
    "Mp = partial_covarianceOMMD_MC([gaussian(1), laplacian(1)], law_p, law_q, verbose = 0)\n",
    "print(Mp)"
   ]
  },
  {
   "cell_type": "code",
   "execution_count": 13,
   "metadata": {},
   "outputs": [
    {
     "name": "stdout",
     "output_type": "stream",
     "text": [
      "[[0.15016113 0.52852067]\n",
      " [0.52852067 3.00471452]]\n"
     ]
    }
   ],
   "source": [
    "Mp = partial_covarianceOMMD_MC([gaussian(1), polynomial(0,1)], law_p, law_q, verbose = 0)\n",
    "print(Mp)"
   ]
  },
  {
   "cell_type": "code",
   "execution_count": 14,
   "metadata": {},
   "outputs": [
    {
     "name": "stdout",
     "output_type": "stream",
     "text": [
      "[[0.15219403 0.55268032]\n",
      " [0.55268032 3.2941323 ]]\n"
     ]
    }
   ],
   "source": [
    "Mp = partial_covarianceOMMD_MC([gaussian(1), polynomial(10,1)], law_p, law_q, verbose = 0)\n",
    "print(Mp)"
   ]
  },
  {
   "cell_type": "markdown",
   "metadata": {},
   "source": [
    "## Gradient Descent Algorithm"
   ]
  },
  {
   "cell_type": "markdown",
   "metadata": {},
   "source": [
    "### Code"
   ]
  },
  {
   "cell_type": "code",
   "execution_count": 15,
   "metadata": {},
   "outputs": [],
   "source": [
    "def next_step(beta, Snum, Sden, Moy, alpha, m,tr=0.01):\n",
    "    beta_new = beta - tr*(Snum.dot(beta)/np.sqrt(beta.T.dot(Snum).dot(beta))*inv_phi(1-alpha) - np.sqrt(m)*Moy)\n",
    "    beta_new = beta_new/np.sqrt(beta_new.T.dot(Sden).dot(beta_new))\n",
    "    return beta_new"
   ]
  },
  {
   "cell_type": "markdown",
   "metadata": {},
   "source": [
    "### Validation"
   ]
  },
  {
   "cell_type": "code",
   "execution_count": 36,
   "metadata": {},
   "outputs": [],
   "source": [
    "law_p = normal(0,1)\n",
    "law_q = normal(0.5,np.sqrt(.75))\n",
    "kernel1 = gaussian(1)\n",
    "kernel2 = polynomial(0,2)"
   ]
  },
  {
   "cell_type": "code",
   "execution_count": 37,
   "metadata": {},
   "outputs": [
    {
     "name": "stdout",
     "output_type": "stream",
     "text": [
      "99.9 % achevé9999 % achevéé % achevé % achevé% achevé % achevé % achevé % achevé % achevé % achevé % achevé % achevé % achevé % achevé % achevé % achevé % achevé % achevé % achevé % achevé % achevé % achevé % achevé % achevé % achevé % achevé% achevé % achevé % achevé % achevé % achevé % achevé % achevé % achevé % achevé % achevé % achevé % achevé % achevé % achevé % achevé % achevé % achevé % achevé % achevé % achevé % achevé % achevé % achevé % achevé % achevé% achevé% achevé% achevé % achevé % achevé % achevé % achevé % achevé % achevé % achevé % achevé % achevé % achevé % achevé % achevé % achevé % achevé % achevé % achevé % achevé % achevé % achevé % achevé % achevé % achevé % achevé % achevé % achevé % achevé % achevé % achevé % achevé % achevé % achevé % achevé % achevé % achevé % achevé % achevé % achevé % achevé % achevé % achevé % achevé % achevé % achevé % achevé % achevé % achevé % achevé % achevé % achevé % achevé % achevé % achevé % achevé % achevé % achevé % achevé % achevé % achevé % achevé % achevé % achevé % achevé % achevé % achevé % achevé % achevé % achevé % achevé\r"
     ]
    },
    {
     "data": {
      "image/png": "[encoded data removed]",
      "text/plain": [
       "<Figure size 432x288 with 1 Axes>"
      ]
     },
     "metadata": {
      "needs_background": "light"
     },
     "output_type": "display_data"
    }
   ],
   "source": [
    "courbe_ROC([kernel1,kernel2,CCK([kernel1,kernel2],[1,1])], law_p, law_q, 1000,100,1000)"
   ]
  },
  {
   "cell_type": "code",
   "execution_count": 16,
   "metadata": {},
   "outputs": [
    {
     "data": {
      "text/plain": [
       "array([[3.30563807, 2.65982793],\n",
       "       [2.65982793, 2.29599467]])"
      ]
     },
     "execution_count": 16,
     "metadata": {},
     "output_type": "execute_result"
    }
   ],
   "source": [
    "Sden = cov_OMMD_MC([kernel1, kernel2], law_p, law_q, verbose = 0)\n",
    "Sden"
   ]
  },
  {
   "cell_type": "code",
   "execution_count": 17,
   "metadata": {},
   "outputs": [
    {
     "data": {
      "text/plain": [
       "array([[1.65553538, 1.19582456],\n",
       "       [1.19582456, 0.97970192]])"
      ]
     },
     "execution_count": 17,
     "metadata": {},
     "output_type": "execute_result"
    }
   ],
   "source": [
    "Snum = cov_OMMD_MC([kernel1, kernel2], law_p, law_p, verbose = 0)\n",
    "Snum"
   ]
  },
  {
   "cell_type": "code",
   "execution_count": 18,
   "metadata": {},
   "outputs": [],
   "source": [
    "Moy = np.r_[moyenneMMD_MC(OMMD, kernel1, law_p, law_q, 1000, 100, verbose=0),\n",
    "           moyenneMMD_MC(OMMD, kernel2, law_p, law_q, 1000, 100, verbose=0)].reshape(-1,1)"
   ]
  },
  {
   "cell_type": "code",
   "execution_count": 19,
   "metadata": {},
   "outputs": [
    {
     "data": {
      "text/plain": [
       "array([[0.16993204],\n",
       "       [0.15953815]])"
      ]
     },
     "execution_count": 19,
     "metadata": {},
     "output_type": "execute_result"
    }
   ],
   "source": [
    "Moy"
   ]
  },
  {
   "cell_type": "code",
   "execution_count": 20,
   "metadata": {},
   "outputs": [
    {
     "name": "stdout",
     "output_type": "stream",
     "text": [
      "Step  0\n",
      "[[0.02082005]\n",
      " [0.63580398]]\n",
      "Step  1\n",
      "[[0.04911771]\n",
      " [0.60287565]]\n",
      "Step  2\n",
      "[[0.07446779]\n",
      " [0.57327647]]\n",
      "Step  3\n",
      "[[0.09718501]\n",
      " [0.5466705 ]]\n",
      "Step  4\n",
      "[[0.11754878]\n",
      " [0.52275569]]\n",
      "Step  5\n",
      "[[0.13580758]\n",
      " [0.50126048]]\n",
      "Step  6\n",
      "[[0.15218267]\n",
      " [0.48194063]]\n",
      "Step  7\n",
      "[[0.16687127]\n",
      " [0.46457652]]\n",
      "Step  8\n",
      "[[0.18004935]\n",
      " [0.44897063]]\n",
      "Step  9\n",
      "[[0.19187405]\n",
      " [0.43494532]]\n",
      "Step  10\n",
      "[[0.2024858 ]\n",
      " [0.42234087]]\n",
      "Step  11\n",
      "[[0.21201015]\n",
      " [0.4110136 ]]\n",
      "Step  12\n",
      "[[0.22055945]\n",
      " [0.40083435]]\n",
      "Step  13\n",
      "[[0.22823424]\n",
      " [0.39168698]]\n",
      "Step  14\n",
      "[[0.23512455]\n",
      " [0.38346703]]\n",
      "Step  15\n",
      "[[0.24131104]\n",
      " [0.37608063]]\n",
      "Step  16\n",
      "[[0.24686597]\n",
      " [0.36944335]]\n",
      "Step  17\n",
      "[[0.25185412]\n",
      " [0.36347932]]\n",
      "Step  18\n",
      "[[0.25633355]\n",
      " [0.35812032]]\n",
      "Step  19\n",
      "[[0.26035634]\n",
      " [0.35330504]]\n",
      "Step  20\n",
      "[[0.2639692 ]\n",
      " [0.34897835]]\n",
      "Step  21\n",
      "[[0.26721403]\n",
      " [0.34509074]]\n",
      "Step  22\n",
      "[[0.27012841]\n",
      " [0.34159766]]\n",
      "Step  23\n",
      "[[0.27274608]\n",
      " [0.33845911]]\n",
      "Step  24\n",
      "[[0.27509731]\n",
      " [0.33563913]]\n",
      "Step  25\n",
      "[[0.27720928]\n",
      " [0.3331054 ]]\n",
      "Step  26\n",
      "[[0.27910638]\n",
      " [0.33082888]]\n",
      "Step  27\n",
      "[[0.28081049]\n",
      " [0.32878347]]\n",
      "Step  28\n",
      "[[0.28234128]\n",
      " [0.32694571]]\n",
      "Step  29\n",
      "[[0.2837164 ]\n",
      " [0.32529454]]\n",
      "Step  30\n",
      "[[0.2849517 ]\n",
      " [0.32381101]]\n",
      "Step  31\n",
      "[[0.28606141]\n",
      " [0.32247812]]\n",
      "Step  32\n",
      "[[0.28705831]\n",
      " [0.32128056]]\n",
      "Step  33\n",
      "[[0.28795387]\n",
      " [0.3202046 ]]\n",
      "Step  34\n",
      "[[0.28875841]\n",
      " [0.3192379 ]]\n",
      "Step  35\n",
      "[[0.28948118]\n",
      " [0.31836937]]\n",
      "Step  36\n",
      "[[0.29013051]\n",
      " [0.31758903]]\n",
      "Step  37\n",
      "[[0.29071384]\n",
      " [0.31688793]]\n",
      "Step  38\n",
      "[[0.2912379 ]\n",
      " [0.31625803]]\n",
      "Step  39\n",
      "[[0.29170872]\n",
      " [0.3156921 ]]\n",
      "Step  40\n",
      "[[0.29213169]\n",
      " [0.31518364]]\n",
      "Step  41\n",
      "[[0.29251169]\n",
      " [0.31472682]]\n",
      "Step  42\n",
      "[[0.29285309]\n",
      " [0.31431639]]\n",
      "Step  43\n",
      "[[0.2931598 ]\n",
      " [0.31394764]]\n",
      "Step  44\n",
      "[[0.29343535]\n",
      " [0.31361634]]\n",
      "Step  45\n",
      "[[0.29368291]\n",
      " [0.31331869]]\n",
      "Step  46\n",
      "[[0.29390532]\n",
      " [0.31305126]]\n",
      "Step  47\n",
      "[[0.29410514]\n",
      " [0.312811  ]]\n",
      "Step  48\n",
      "[[0.29428466]\n",
      " [0.31259513]]\n",
      "Step  49\n",
      "[[0.29444594]\n",
      " [0.3124012 ]]\n",
      "Step  50\n",
      "[[0.29459085]\n",
      " [0.31222695]]\n",
      "Step  51\n",
      "[[0.29472103]\n",
      " [0.31207041]]\n",
      "Step  52\n",
      "[[0.29483799]\n",
      " [0.31192976]]\n",
      "Step  53\n",
      "[[0.29494307]\n",
      " [0.31180339]]\n",
      "Step  54\n",
      "[[0.29503747]\n",
      " [0.31168987]]\n",
      "Step  55\n",
      "[[0.29512229]\n",
      " [0.31158787]]\n",
      "Step  56\n",
      "[[0.29519849]\n",
      " [0.31149623]]\n",
      "Step  57\n",
      "[[0.29526695]\n",
      " [0.31141389]]\n",
      "Step  58\n",
      "[[0.29532846]\n",
      " [0.31133992]]\n",
      "Step  59\n",
      "[[0.29538372]\n",
      " [0.31127347]]\n",
      "Step  60\n",
      "[[0.29543337]\n",
      " [0.31121376]]\n",
      "Step  61\n",
      "[[0.29547797]\n",
      " [0.31116011]]\n",
      "Step  62\n",
      "[[0.29551805]\n",
      " [0.31111192]]\n",
      "Step  63\n",
      "[[0.29555405]\n",
      " [0.31106862]]\n",
      "Step  64\n",
      "[[0.2955864 ]\n",
      " [0.31102972]]\n",
      "Step  65\n",
      "[[0.29561546]\n",
      " [0.31099476]]\n",
      "Step  66\n",
      "[[0.29564157]\n",
      " [0.31096336]]\n",
      "Step  67\n",
      "[[0.29566503]\n",
      " [0.31093515]]\n",
      "Step  68\n",
      "[[0.29568611]\n",
      " [0.3109098 ]]\n",
      "Step  69\n",
      "[[0.29570504]\n",
      " [0.31088703]]\n",
      "Step  70\n",
      "[[0.29572205]\n",
      " [0.31086657]]\n",
      "Step  71\n",
      "[[0.29573734]\n",
      " [0.31084819]]\n",
      "Step  72\n",
      "[[0.29575107]\n",
      " [0.31083167]]\n",
      "Step  73\n",
      "[[0.29576341]\n",
      " [0.31081683]]\n",
      "Step  74\n",
      "[[0.29577449]\n",
      " [0.3108035 ]]\n",
      "Step  75\n",
      "[[0.29578445]\n",
      " [0.31079153]]\n",
      "Step  76\n",
      "[[0.2957934 ]\n",
      " [0.31078077]]\n",
      "Step  77\n",
      "[[0.29580143]\n",
      " [0.3107711 ]]\n",
      "Step  78\n",
      "[[0.29580866]\n",
      " [0.31076241]]\n",
      "Step  79\n",
      "[[0.29581514]\n",
      " [0.31075461]]\n",
      "Step  80\n",
      "[[0.29582097]\n",
      " [0.3107476 ]]\n",
      "Step  81\n",
      "[[0.29582621]\n",
      " [0.3107413 ]]\n",
      "Step  82\n",
      "[[0.29583092]\n",
      " [0.31073564]]\n",
      "Step  83\n",
      "[[0.29583514]\n",
      " [0.31073056]]\n",
      "Step  84\n",
      "[[0.29583894]\n",
      " [0.31072599]]\n",
      "Step  85\n",
      "[[0.29584235]\n",
      " [0.31072189]]\n",
      "Step  86\n",
      "[[0.29584542]\n",
      " [0.3107182 ]]\n",
      "Step  87\n",
      "[[0.29584817]\n",
      " [0.31071489]]\n",
      "Step  88\n",
      "[[0.29585065]\n",
      " [0.31071191]]\n",
      "Step  89\n",
      "[[0.29585287]\n",
      " [0.31070924]]\n",
      "Step  90\n",
      "[[0.29585487]\n",
      " [0.31070683]]\n",
      "Step  91\n",
      "[[0.29585666]\n",
      " [0.31070468]]\n",
      "Step  92\n",
      "[[0.29585828]\n",
      " [0.31070274]]\n",
      "Step  93\n",
      "[[0.29585972]\n",
      " [0.31070099]]\n",
      "Step  94\n",
      "[[0.29586103]\n",
      " [0.31069943]]\n",
      "Step  95\n",
      "[[0.29586219]\n",
      " [0.31069802]]\n",
      "Step  96\n",
      "[[0.29586325]\n",
      " [0.31069676]]\n",
      "Step  97\n",
      "[[0.29586419]\n",
      " [0.31069562]]\n",
      "Step  98\n",
      "[[0.29586504]\n",
      " [0.3106946 ]]\n",
      "Step  99\n",
      "[[0.2958658 ]\n",
      " [0.31069369]]\n"
     ]
    }
   ],
   "source": [
    "beta = np.array([[0],[1]])\n",
    "for i in range(100):\n",
    "    print(\"Step \",i)    \n",
    "    beta = next_step(beta, Snum, Sden, Moy, tr=0.01, alpha=0.05,m=1000)\n",
    "    print(beta)"
   ]
  },
  {
   "cell_type": "code",
   "execution_count": 88,
   "metadata": {},
   "outputs": [
    {
     "name": "stdout",
     "output_type": "stream",
     "text": [
      "99.9 % achevé9999 % achevéé % achevé% achevé % achevé % achevé% achevé % achevé% achevé % achevé% achevé % achevé% achevé% achevé % achevé% achevé% achevé % achevé\r"
     ]
    },
    {
     "data": {
      "image/png": "[encoded data removed]",
      "text/plain": [
       "<Figure size 432x288 with 1 Axes>"
      ]
     },
     "metadata": {
      "needs_background": "light"
     },
     "output_type": "display_data"
    }
   ],
   "source": [
    "courbe_ROC([CCK([kernel1,kernel2],[1,1]), CCK([kernel1,kernel2],[0.8,0.05])], law_p, law_q, 1000,100,1000)"
   ]
  },
  {
   "cell_type": "markdown",
   "metadata": {},
   "source": [
    "## Optimisation algorithm"
   ]
  },
  {
   "cell_type": "code",
   "execution_count": 77,
   "metadata": {},
   "outputs": [],
   "source": [
    "def optimisation_GDA(Kernels, law_p, law_q, m=1000, n=100, alpha=0.05,\n",
    "                     tr=0.01, tru=0.9, epsilon=1e-5, verbose=1):\n",
    "    #Initialisation:\n",
    "    Sden = cov_OMMD_MC(Kernels, law_p, law_q, verbose = 0)\n",
    "    Snum = cov_OMMD_MC(Kernels, law_p, law_p, verbose = 0)\n",
    "    Moy = np.r_[[moyenneMMD_MC(OMMD, kernel, law_p, law_q, 1000, 100, verbose=0) for kernel in Kernels]].reshape(-1,1)\n",
    "    \n",
    "    beta_new = np.ones((len(Kernels),1))\n",
    "    beta = np.zeros((len(Kernels),1))\n",
    "    while np.linalg.norm(beta_new-beta)/(np.linalg.norm(beta)+epsilon)>epsilon:\n",
    "        beta = beta_new\n",
    "        beta_new = next_step(beta, Snum, Sden, Moy, tr=tr, alpha=alpha,m=m)\n",
    "        tr *= tru\n",
    "    return beta_new"
   ]
  },
  {
   "cell_type": "code",
   "execution_count": 103,
   "metadata": {},
   "outputs": [
    {
     "data": {
      "text/plain": [
       "array([[0.36222641],\n",
       "       [0.37736506]])"
      ]
     },
     "execution_count": 103,
     "metadata": {},
     "output_type": "execute_result"
    }
   ],
   "source": [
    "optimisation_GDA([kernel1,kernel1], law_p, law_q)"
   ]
  },
  {
   "cell_type": "code",
   "execution_count": 104,
   "metadata": {},
   "outputs": [
    {
     "data": {
      "text/plain": [
       "array([[ 0.8163575 ],\n",
       "       [-0.04579811]])"
      ]
     },
     "execution_count": 104,
     "metadata": {},
     "output_type": "execute_result"
    }
   ],
   "source": [
    "optimisation_GDA([kernel1,kernel2], law_p, law_q)"
   ]
  },
  {
   "cell_type": "code",
   "execution_count": 105,
   "metadata": {},
   "outputs": [
    {
     "data": {
      "text/plain": [
       "array([[-0.04692922],\n",
       "       [ 0.81321954]])"
      ]
     },
     "execution_count": 105,
     "metadata": {},
     "output_type": "execute_result"
    }
   ],
   "source": [
    "optimisation_GDA([kernel2,kernel1], law_p, law_q)"
   ]
  },
  {
   "cell_type": "code",
   "execution_count": 106,
   "metadata": {},
   "outputs": [
    {
     "data": {
      "text/plain": [
       "array([[ 0.38335789],\n",
       "       [ 0.38475667],\n",
       "       [-0.04119185]])"
      ]
     },
     "execution_count": 106,
     "metadata": {},
     "output_type": "execute_result"
    }
   ],
   "source": [
    "optimisation_GDA([kernel1,kernel1,kernel2], law_p, law_q)"
   ]
  },
  {
   "cell_type": "markdown",
   "metadata": {},
   "source": [
    "### Experience"
   ]
  },
  {
   "cell_type": "code",
   "execution_count": 107,
   "metadata": {},
   "outputs": [],
   "source": [
    "law_p = normal(0,1)\n",
    "law_q = normal(0.5,np.sqrt(.75))\n",
    "kernel1 = gaussian(1)\n",
    "kernel2 = polynomial(0,2)"
   ]
  },
  {
   "cell_type": "code",
   "execution_count": 108,
   "metadata": {},
   "outputs": [
    {
     "data": {
      "text/plain": [
       "array([[ 0.39238125],\n",
       "       [ 0.40200729],\n",
       "       [-0.03045618]])"
      ]
     },
     "execution_count": 108,
     "metadata": {},
     "output_type": "execute_result"
    }
   ],
   "source": [
    "optimisation_GDA([kernel1,kernel1,kernel2], law_p, law_q)"
   ]
  },
  {
   "cell_type": "code",
   "execution_count": 116,
   "metadata": {},
   "outputs": [
    {
     "data": {
      "text/plain": [
       "array([[-0.14838133],\n",
       "       [ 0.53135326],\n",
       "       [ 0.20201292]])"
      ]
     },
     "execution_count": 116,
     "metadata": {},
     "output_type": "execute_result"
    }
   ],
   "source": [
    "law_p = normal(0,1)\n",
    "law_q = normal(0.5,np.sqrt(.75))\n",
    "kernel1 = gaussian(1)\n",
    "kernel2 = polynomial(0,1)\n",
    "optimisation_GDA([kernel2, kernel1,kernel2], law_p, law_q)"
   ]
  },
  {
   "cell_type": "code",
   "execution_count": 117,
   "metadata": {},
   "outputs": [
    {
     "name": "stdout",
     "output_type": "stream",
     "text": [
      "99.9 % achevé9999 % achevéé % achevé % achevé % achevé% achevé % achevé% achevé % achevé% achevé % achevé% achevé% achevé % achevé % achevé% achevé % achevé\r"
     ]
    },
    {
     "data": {
      "image/png": "[encoded data removed]",
      "text/plain": [
       "<Figure size 432x288 with 1 Axes>"
      ]
     },
     "metadata": {
      "needs_background": "light"
     },
     "output_type": "display_data"
    }
   ],
   "source": [
    "courbe_ROC([CCK([kernel2, kernel1,kernel2],[1,1,1]), \n",
    "            CCK([kernel2,kernel1,kernel2],[-0.15,0.53,0.2])], law_p, law_q, 1000,100,1000)"
   ]
  },
  {
   "cell_type": "code",
   "execution_count": 7,
   "metadata": {},
   "outputs": [
    {
     "data": {
      "text/plain": [
       "array([[0.27939903],\n",
       "       [0.33579252],\n",
       "       [0.17482276]])"
      ]
     },
     "execution_count": 7,
     "metadata": {},
     "output_type": "execute_result"
    }
   ],
   "source": [
    "law_p = normal(0,1)\n",
    "law_q = normal(1,1)\n",
    "kernel1 = gaussian(10)\n",
    "kernel2 = gaussian(1)\n",
    "kernel3 = gaussian(0.1)\n",
    "optimisation_GDA([kernel1, kernel2,kernel3], law_p, law_q)"
   ]
  },
  {
   "cell_type": "code",
   "execution_count": 125,
   "metadata": {},
   "outputs": [
    {
     "name": "stdout",
     "output_type": "stream",
     "text": [
      "99.9 % achevé9999 % achevéé\r"
     ]
    },
    {
     "data": {
      "image/png": "[encoded data removed]",
      "text/plain": [
       "<Figure size 432x288 with 1 Axes>"
      ]
     },
     "metadata": {
      "needs_background": "light"
     },
     "output_type": "display_data"
    }
   ],
   "source": [
    "courbe_ROC([CCK([kernel1, kernel2,kernel3],[1,1,1]), \n",
    "            CCK([kernel1,kernel2,kernel3],[0.285,0.33,0.2])], law_p, law_q, 1000,100,1000)"
   ]
  },
  {
   "cell_type": "code",
   "execution_count": 10,
   "metadata": {},
   "outputs": [
    {
     "name": "stdout",
     "output_type": "stream",
     "text": [
      "Start computing first componant\n",
      "Start computing second componanthevé % achevé % achevé % achevé % achevé % achevé % achevé % achevé % achevé % achevé % achevé % achevé % achevé % achevé % achevé % achevé % achevé% achevé % achevé % achevé % achevé % achevé % achevé % achevé % achevé % achevé % achevé% achevé % achevé % achevé % achevé % achevé % achevé % achevé % achevé % achevé % achevé % achevé % achevé % achevé\n",
      "99.9 % achevé9999 % achevéé% achevé % achevé % achevé % achevé % achevé % achevé % achevé % achevé % achevé\r"
     ]
    },
    {
     "data": {
      "text/plain": [
       "0.856"
      ]
     },
     "execution_count": 10,
     "metadata": {},
     "output_type": "execute_result"
    }
   ],
   "source": [
    "thresh = threshold_MC(CCK([kernel1, kernel2,kernel3],[1,1,1]), law_p, law_p, m=1000, n=100, alpha=0.05)\n",
    "puissance_MC(OMMD, CCK([kernel1, kernel2,kernel3],[1,1,1]), law_p, law_q,1000,100,thresh)"
   ]
  },
  {
   "cell_type": "code",
   "execution_count": 11,
   "metadata": {},
   "outputs": [
    {
     "name": "stdout",
     "output_type": "stream",
     "text": [
      "Start computing first componant\n",
      "Start computing second componanthevé % achevé % achevé % achevé % achevé % achevé % achevé % achevé % achevé % achevé % achevé % achevé % achevé % achevé % achevé % achevé% achevé % achevé % achevé% achevé % achevé % achevé % achevé % achevé % achevé % achevé % achevé % achevé % achevé % achevé % achevé % achevé % achevé % achevé % achevé\n",
      "99.9 % achevé9999 % achevéé % achevé % achevé % achevé % achevé % achevé % achevé % achevé % achevé % achevé % achevé % achevé % achevé% achevé % achevé % achevé % achevé % achevé\r"
     ]
    },
    {
     "data": {
      "text/plain": [
       "0.922"
      ]
     },
     "execution_count": 11,
     "metadata": {},
     "output_type": "execute_result"
    }
   ],
   "source": [
    "thresh = threshold_MC(CCK([kernel1, kernel2,kernel3],[0.285,0.33,0.2]), law_p, law_p, m=1000, n=100, alpha=0.05)\n",
    "puissance_MC(OMMD, CCK([kernel1, kernel2,kernel3],[0.285,0.33,0.2]), law_p, law_q,1000,100,thresh)"
   ]
  },
  {
   "cell_type": "code",
   "execution_count": 12,
   "metadata": {},
   "outputs": [
    {
     "name": "stdout",
     "output_type": "stream",
     "text": [
      "Start computing first componant\n",
      "Start computing second componanthevé % achevé % achevé % achevé % achevé % achevé % achevé % achevé % achevé % achevé % achevé % achevé % achevé % achevé % achevé % achevé % achevé % achevé % achevé % achevé % achevé % achevé % achevé % achevé % achevé % achevé % achevé % achevé % achevé % achevé % achevé % achevé % achevé % achevé % achevé % achevé % achevé % achevé % achevé\n",
      "99.9 % achevé9999 % achevéé % achevé % achevé % achevé % achevé % achevé % achevé % achevé % achevé % achevé % achevé % achevé % achevé% achevé % achevé % achevé % achevé % achevé % achevé% achevé\r"
     ]
    },
    {
     "data": {
      "text/plain": [
       "0.927"
      ]
     },
     "execution_count": 12,
     "metadata": {},
     "output_type": "execute_result"
    }
   ],
   "source": [
    "thresh = threshold_MC(CCK([kernel1, kernel2,kernel3],[0,0.33,0]), law_p, law_p, m=1000, n=100, alpha=0.05)\n",
    "puissance_MC(OMMD, CCK([kernel1, kernel2,kernel3],[0,0.33,0]), law_p, law_q,1000,100,thresh)"
   ]
  },
  {
   "cell_type": "markdown",
   "metadata": {},
   "source": [
    "## Methodes des barrières"
   ]
  },
  {
   "cell_type": "markdown",
   "metadata": {},
   "source": [
    "### code"
   ]
  },
  {
   "cell_type": "code",
   "execution_count": 5,
   "metadata": {},
   "outputs": [],
   "source": [
    "from scipy import optimize"
   ]
  },
  {
   "cell_type": "code",
   "execution_count": 22,
   "metadata": {},
   "outputs": [
    {
     "ename": "TypeError",
     "evalue": "fmin_bfgs() missing 2 required positional arguments: 'f' and 'x0'",
     "output_type": "error",
     "traceback": [
      "\u001b[0;31m---------------------------------------------------------------------------\u001b[0m",
      "\u001b[0;31mTypeError\u001b[0m                                 Traceback (most recent call last)",
      "\u001b[0;32m<ipython-input-22-5f798d1c3915>\u001b[0m in \u001b[0;36m<module>\u001b[0;34m\u001b[0m\n\u001b[0;32m----> 1\u001b[0;31m \u001b[0moptimize\u001b[0m\u001b[0;34m.\u001b[0m\u001b[0mfmin_bfgs\u001b[0m\u001b[0;34m(\u001b[0m\u001b[0;34m)\u001b[0m\u001b[0;34m\u001b[0m\u001b[0;34m\u001b[0m\u001b[0m\n\u001b[0m",
      "\u001b[0;31mTypeError\u001b[0m: fmin_bfgs() missing 2 required positional arguments: 'f' and 'x0'"
     ]
    }
   ],
   "source": [
    "optimize.fmin_bfgs()"
   ]
  },
  {
   "cell_type": "code",
   "execution_count": 6,
   "metadata": {},
   "outputs": [],
   "source": [
    "def penalite(beta, rho, Moy, Snum, Sden):\n",
    "    beta = beta.reshape((-1,1))\n",
    "    return (np.sqrt(beta.T.dot(Snum).dot(beta))*inv_phi(1-alpha) \n",
    "            - np.sqrt(m)*Moy.T.dot(beta) \n",
    "            + 1/(2*rho)*(beta.T.dot(Sden).dot(beta)-1)**2).flatten()"
   ]
  },
  {
   "cell_type": "code",
   "execution_count": 35,
   "metadata": {},
   "outputs": [],
   "source": [
    "def Dpen(beta, rho, Moy, Snum, Sden):\n",
    "    beta = beta.reshape((-1,1))\n",
    "    return (Snum.dot(beta)/np.sqrt(beta.T.dot(Snum).dot(beta))*inv_phi(1-alpha) \n",
    "            - np.sqrt(m/2)*Moy\n",
    "           + 1/rho*(beta.T.dot(Sden).dot(beta)-1)*Sden.dot(beta)).flatten()"
   ]
  },
  {
   "cell_type": "code",
   "execution_count": 1,
   "metadata": {},
   "outputs": [],
   "source": [
    "def optim_p(penalite, Dpen, x0, methode,Moy, Snum, Sden, eps=1e-5):\n",
    "    x_old = x0\n",
    "    rho = 0.00001\n",
    "    x = methode(lambda x: penalite(x, rho, Moy, Snum, Sden), x_old,\n",
    "                fprime = lambda x: Dpen(x, rho, Moy, Snum, Sden))\n",
    "    while np.linalg.norm(x_old - x) > eps:\n",
    "        print(\"j\")\n",
    "        x_old = x\n",
    "        rho *= 0.9\n",
    "        x = methode(lambda x: penalite(x, rho, Moy, Snum, Sden), x_old,\n",
    "                    fprime = lambda x: Dpen(x, rho, Moy, Snum, Sden))\n",
    "    return x"
   ]
  },
  {
   "cell_type": "code",
   "execution_count": 2,
   "metadata": {},
   "outputs": [],
   "source": [
    "def AlgOptBar(Kernels, law_p, law_q, m=1000, n=100, alpha=0.05):\n",
    "    #Initialisation:\n",
    "    Sden = cov_OMMD_MC(Kernels, law_p, law_q, finalSampleSize=10000, verbose = 0)\n",
    "    Snum = cov_OMMD_MC(Kernels, law_p, law_p,finalSampleSize=10000, verbose = 0)\n",
    "    Moy = np.r_[[moyenneMMD_MC(OMMD, kernel, law_p, law_q, 1000, 100,repeat=1000, verbose=0) for kernel in Kernels]].reshape(-1,1)\n",
    "    \n",
    "    beta = np.ones(len(Kernels))\n",
    "    beta_optim = optim_p(penalite, Dpen, beta, optimize.fmin_bfgs,Moy, Snum, Sden)\n",
    "    beta_optim = beta_optim/np.sum(beta_optim)\n",
    "    \n",
    "    return beta_optim"
   ]
  },
  {
   "cell_type": "markdown",
   "metadata": {},
   "source": [
    "### Validation"
   ]
  },
  {
   "cell_type": "code",
   "execution_count": 14,
   "metadata": {},
   "outputs": [],
   "source": [
    "law_p = normal(0,1)\n",
    "law_q = normal(0.5,np.sqrt(.75))\n",
    "kernel1 = gaussian(1)\n",
    "kernel2 = polynomial(0,2)\n",
    "Sden = cov_OMMD_MC([kernel1, kernel2], law_p, law_q, verbose = 0)\n",
    "Snum = cov_OMMD_MC([kernel1, kernel2], law_p, law_p, verbose = 0)\n",
    "Moy = np.r_[moyenneMMD_MC(OMMD, kernel1, law_p, law_q, 1000, 100, verbose=0),\n",
    "           moyenneMMD_MC(OMMD, kernel2, law_p, law_q, 1000, 100, verbose=0)].reshape(-1,1)\n",
    "alpha = 0.05\n",
    "m = 1000\n",
    "beta = np.ones((2,1))"
   ]
  },
  {
   "cell_type": "code",
   "execution_count": 30,
   "metadata": {},
   "outputs": [
    {
     "ename": "TypeError",
     "evalue": "optim_p() missing 3 required positional arguments: 'Moy', 'Snum', and 'Sden'",
     "output_type": "error",
     "traceback": [
      "\u001b[0;31m---------------------------------------------------------------------------\u001b[0m",
      "\u001b[0;31mTypeError\u001b[0m                                 Traceback (most recent call last)",
      "\u001b[0;32m<ipython-input-30-7e4ab5b08619>\u001b[0m in \u001b[0;36m<module>\u001b[0;34m\u001b[0m\n\u001b[0;32m----> 1\u001b[0;31m \u001b[0mbeta_optim\u001b[0m \u001b[0;34m=\u001b[0m \u001b[0moptim_p\u001b[0m\u001b[0;34m(\u001b[0m\u001b[0mpenalite\u001b[0m\u001b[0;34m,\u001b[0m \u001b[0mDpen\u001b[0m\u001b[0;34m,\u001b[0m \u001b[0mbeta\u001b[0m\u001b[0;34m,\u001b[0m \u001b[0moptimize\u001b[0m\u001b[0;34m.\u001b[0m\u001b[0mfmin_bfgs\u001b[0m\u001b[0;34m,\u001b[0m \u001b[0meps\u001b[0m\u001b[0;34m=\u001b[0m\u001b[0;36m1e-5\u001b[0m\u001b[0;34m)\u001b[0m\u001b[0;34m\u001b[0m\u001b[0;34m\u001b[0m\u001b[0m\n\u001b[0m\u001b[1;32m      2\u001b[0m \u001b[0mbeta_optim\u001b[0m \u001b[0;34m=\u001b[0m \u001b[0mbeta_optim\u001b[0m\u001b[0;34m/\u001b[0m\u001b[0mnp\u001b[0m\u001b[0;34m.\u001b[0m\u001b[0mlinalg\u001b[0m\u001b[0;34m.\u001b[0m\u001b[0mnorm\u001b[0m\u001b[0;34m(\u001b[0m\u001b[0mbeta_optim\u001b[0m\u001b[0;34m)\u001b[0m\u001b[0;34m\u001b[0m\u001b[0;34m\u001b[0m\u001b[0m\n\u001b[1;32m      3\u001b[0m \u001b[0mbeta_optim\u001b[0m\u001b[0;34m\u001b[0m\u001b[0;34m\u001b[0m\u001b[0m\n",
      "\u001b[0;31mTypeError\u001b[0m: optim_p() missing 3 required positional arguments: 'Moy', 'Snum', and 'Sden'"
     ]
    }
   ],
   "source": [
    "beta_optim = optim_p(penalite, Dpen, beta, optimize.fmin_bfgs, eps=1e-5)\n",
    "beta_optim = beta_optim/np.linalg.norm(beta_optim)\n",
    "beta_optim"
   ]
  },
  {
   "cell_type": "code",
   "execution_count": 63,
   "metadata": {},
   "outputs": [
    {
     "name": "stdout",
     "output_type": "stream",
     "text": [
      "Start computing first componant\n",
      "Start computing second componanthevé % achevé % achevé % achevé % achevé % achevé % achevé % achevé % achevé % achevé % achevé % achevé % achevé % achevé % achevé % achevé % achevé % achevé % achevé % achevé % achevé % achevé % achevé % achevé % achevé % achevé % achevé % achevé % achevé % achevé % achevé % achevé % achevé % achevé % achevé % achevé % achevé % achevé % achevé % achevé % achevé % achevé% achevé % achevé % achevé\n",
      "99.9 % achevé9999 % achevéé % achevé % achevé% achevé % achevé % achevé % achevé % achevé % achevé% achevé % achevé\r"
     ]
    },
    {
     "data": {
      "text/plain": [
       "0.017"
      ]
     },
     "execution_count": 63,
     "metadata": {},
     "output_type": "execute_result"
    }
   ],
   "source": [
    "thresh = threshold_MC(CCK([kernel1, kernel2],[1,1]), law_p, law_p, m=1000, n=100, alpha=0.05)\n",
    "puissance_MC(OMMD, CCK([kernel1, kernel2],[1,1]), law_p, law_q,1000,100,thresh)"
   ]
  },
  {
   "cell_type": "code",
   "execution_count": 64,
   "metadata": {},
   "outputs": [
    {
     "name": "stdout",
     "output_type": "stream",
     "text": [
      "Start computing first componant\n",
      "Start computing second componanthevé% achevé % achevé % achevé % achevé % achevé % achevé % achevé % achevé % achevé % achevé % achevé % achevé % achevé % achevé % achevé % achevé % achevé % achevé % achevé % achevé % achevé % achevé % achevé % achevé % achevé% achevé % achevé % achevé % achevé % achevé % achevé % achevé % achevé % achevé % achevé % achevé % achevé % achevé % achevé % achevé % achevé % achevé\n",
      "99.9 % achevé9999 % achevéé % achevé% achevé % achevé % achevé % achevé % achevé % achevé % achevé % achevé % achevé % achevé % achevé % achevé % achevé % achevé% achevé % achevé % achevé % achevé % achevé\r"
     ]
    },
    {
     "data": {
      "text/plain": [
       "0.197"
      ]
     },
     "execution_count": 64,
     "metadata": {},
     "output_type": "execute_result"
    }
   ],
   "source": [
    "thresh = threshold_MC(CCK([kernel1, kernel2],[0.9999,0.01]), law_p, law_p, m=1000, n=100, alpha=0.05)\n",
    "puissance_MC(OMMD, CCK([kernel1, kernel2],[0.9999,0.01]), law_p, law_q,1000,100,thresh)"
   ]
  },
  {
   "cell_type": "code",
   "execution_count": 65,
   "metadata": {},
   "outputs": [
    {
     "name": "stdout",
     "output_type": "stream",
     "text": [
      "Start computing first componant\n",
      "Start computing second componanthevé % achevé % achevé % achevé % achevé % achevé % achevé % achevé % achevé % achevé % achevé % achevé % achevé % achevé % achevé % achevé % achevé % achevé % achevé % achevé % achevé % achevé % achevé % achevé % achevé % achevé % achevé % achevé % achevé % achevé % achevé % achevé % achevé % achevé % achevé % achevé % achevé % achevé % achevé % achevé % achevé% achevé % achevé % achevé % achevé % achevé % achevé % achevé\n",
      "99.9 % achevé9999 % achevéé % achevé % achevé% achevé % achevé % achevé % achevé % achevé % achevé % achevé % achevé% achevé % achevé % achevé % achevé % achevé % achevé % achevé % achevé% achevé % achevé % achevé\r"
     ]
    },
    {
     "data": {
      "text/plain": [
       "0.203"
      ]
     },
     "execution_count": 65,
     "metadata": {},
     "output_type": "execute_result"
    }
   ],
   "source": [
    "thresh = threshold_MC(kernel1, law_p, law_p, m=1000, n=100, alpha=0.05)\n",
    "puissance_MC(OMMD,kernel1, law_p, law_q,1000,100,thresh)"
   ]
  },
  {
   "cell_type": "code",
   "execution_count": 73,
   "metadata": {},
   "outputs": [
    {
     "name": "stdout",
     "output_type": "stream",
     "text": [
      "Warning: Desired error not necessarily achieved due to precision loss.\n",
      "         Current function value: 49985.032772\n",
      "         Iterations: 8\n",
      "         Function evaluations: 44\n",
      "         Gradient evaluations: 33\n",
      "j\n",
      "Warning: Desired error not necessarily achieved due to precision loss.\n",
      "         Current function value: 499843.978207\n",
      "         Iterations: 0\n",
      "         Function evaluations: 102\n",
      "         Gradient evaluations: 90\n"
     ]
    },
    {
     "data": {
      "text/plain": [
       "array([0.98772082, 0.01227918])"
      ]
     },
     "execution_count": 73,
     "metadata": {},
     "output_type": "execute_result"
    }
   ],
   "source": [
    "AlgOptBar([kernel1, kernel2], law_p, law_q, m=1000, n=100, alpha=0.05)"
   ]
  },
  {
   "cell_type": "markdown",
   "metadata": {},
   "source": [
    "### Experiments"
   ]
  },
  {
   "cell_type": "code",
   "execution_count": 10,
   "metadata": {},
   "outputs": [],
   "source": [
    "law_p = normal(0,1)\n",
    "law_q = normal(1,1)\n",
    "kernel1 = gaussian(10)\n",
    "kernel2 = gaussian(1)\n",
    "kernel3 = gaussian(0.1)"
   ]
  },
  {
   "cell_type": "code",
   "execution_count": 15,
   "metadata": {},
   "outputs": [
    {
     "ename": "NameError",
     "evalue": "name 'optimisation_GDA' is not defined",
     "output_type": "error",
     "traceback": [
      "\u001b[0;31m---------------------------------------------------------------------------\u001b[0m",
      "\u001b[0;31mNameError\u001b[0m                                 Traceback (most recent call last)",
      "\u001b[0;32m<ipython-input-15-bb77725760f3>\u001b[0m in \u001b[0;36m<module>\u001b[0;34m\u001b[0m\n\u001b[0;32m----> 1\u001b[0;31m \u001b[0moptimisation_GDA\u001b[0m\u001b[0;34m(\u001b[0m\u001b[0;34m[\u001b[0m\u001b[0mkernel1\u001b[0m\u001b[0;34m,\u001b[0m \u001b[0mkernel3\u001b[0m\u001b[0;34m]\u001b[0m\u001b[0;34m,\u001b[0m \u001b[0mlaw_p\u001b[0m\u001b[0;34m,\u001b[0m \u001b[0mlaw_q\u001b[0m\u001b[0;34m)\u001b[0m\u001b[0;34m\u001b[0m\u001b[0;34m\u001b[0m\u001b[0m\n\u001b[0m",
      "\u001b[0;31mNameError\u001b[0m: name 'optimisation_GDA' is not defined"
     ]
    }
   ],
   "source": [
    "optimisation_GDA([kernel1, kernel3], law_p, law_q)"
   ]
  },
  {
   "cell_type": "code",
   "execution_count": 16,
   "metadata": {},
   "outputs": [
    {
     "name": "stdout",
     "output_type": "stream",
     "text": [
      "Warning: Desired error not necessarily achieved due to precision loss.\n",
      "         Current function value: 0.001686\n",
      "         Iterations: 6\n",
      "         Function evaluations: 95\n",
      "         Gradient evaluations: 83\n",
      "j\n",
      "Warning: Desired error not necessarily achieved due to precision loss.\n",
      "         Current function value: 0.001687\n",
      "         Iterations: 0\n",
      "         Function evaluations: 99\n",
      "         Gradient evaluations: 87\n"
     ]
    },
    {
     "data": {
      "text/plain": [
       "array([ 1.36283736, -0.36283736])"
      ]
     },
     "execution_count": 16,
     "metadata": {},
     "output_type": "execute_result"
    }
   ],
   "source": [
    "AlgOptBar([kernel1, kernel3], law_p, law_q, m=1000, n=100, alpha=0.05)"
   ]
  },
  {
   "cell_type": "code",
   "execution_count": 92,
   "metadata": {},
   "outputs": [
    {
     "name": "stdout",
     "output_type": "stream",
     "text": [
      "Start computing first componant\n",
      "Start computing second componanthevé % achevé % achevé % achevé % achevé % achevé % achevé% achevé % achevé % achevé % achevé % achevé % achevé % achevé % achevé % achevé % achevé % achevé % achevé % achevé % achevé % achevé % achevé % achevé % achevé % achevé % achevé % achevé % achevé % achevé % achevé\n",
      "99.9 % achevé9999 % achevéé % achevé % achevé % achevé % achevé % achevé % achevé % achevé% achevé % achevé % achevé % achevé % achevé % achevé % achevé % achevé % achevé % achevé % achevé % achevé % achevé % achevé % achevé % achevé\r"
     ]
    },
    {
     "data": {
      "text/plain": [
       "0.785"
      ]
     },
     "execution_count": 92,
     "metadata": {},
     "output_type": "execute_result"
    }
   ],
   "source": [
    "thresh = threshold_MC(CCK([kernel1, kernel3],[1,1]), law_p, law_p, m=1000, n=100, alpha=0.05)\n",
    "puissance_MC(OMMD, CCK([kernel1, kernel3],[1,1]), law_p, law_q,1000,100,thresh)"
   ]
  },
  {
   "cell_type": "code",
   "execution_count": 90,
   "metadata": {},
   "outputs": [
    {
     "name": "stdout",
     "output_type": "stream",
     "text": [
      "Start computing first componant\n",
      "Start computing second componanthevé % achevé % achevé % achevé % achevé % achevé % achevé % achevé % achevé % achevé % achevé % achevé % achevé % achevé % achevé % achevé % achevé % achevé % achevé % achevé % achevé % achevé % achevé % achevé % achevé % achevé % achevé % achevé % achevé% achevé % achevé\n",
      "99.9 % achevé9999 % achevéé % achevé % achevé% achevé % achevé % achevé % achevé % achevé % achevé % achevé % achevé% achevé % achevé % achevé\r"
     ]
    },
    {
     "data": {
      "text/plain": [
       "0.415"
      ]
     },
     "execution_count": 90,
     "metadata": {},
     "output_type": "execute_result"
    }
   ],
   "source": [
    "thresh = threshold_MC(CCK([kernel1, kernel3],[0.03,0.97]), law_p, law_p, m=1000, n=100, alpha=0.05)\n",
    "puissance_MC(OMMD, CCK([kernel1, kernel3],[0.03,0.97]), law_p, law_q,1000,100,thresh)"
   ]
  },
  {
   "cell_type": "code",
   "execution_count": 91,
   "metadata": {},
   "outputs": [
    {
     "name": "stdout",
     "output_type": "stream",
     "text": [
      "Start computing first componant\n",
      "Start computing second componantevé % achevé % achevé % achevé % achevé % achevé % achevé % achevé % achevé% achevé % achevé % achevé % achevé % achevé % achevé % achevé % achevé % achevé% achevé\n",
      "99.9 % achevé9999 % achevéé % achevé % achevé % achevé % achevé % achevé % achevé% achevé % achevé % achevé% achevé % achevé % achevé % achevé % achevé\r"
     ]
    },
    {
     "data": {
      "text/plain": [
       "0.995"
      ]
     },
     "execution_count": 91,
     "metadata": {},
     "output_type": "execute_result"
    }
   ],
   "source": [
    "thresh = threshold_MC(CCK([kernel1, kernel3],[0.97,0.03]), law_p, law_p, m=1000, n=100, alpha=0.05)\n",
    "puissance_MC(OMMD, CCK([kernel1, kernel3],[0.97,0.03]), law_p, law_q,1000,100,thresh)"
   ]
  },
  {
   "cell_type": "code",
   "execution_count": 94,
   "metadata": {},
   "outputs": [
    {
     "name": "stdout",
     "output_type": "stream",
     "text": [
      "Start computing first componant\n",
      "Start computing second componanthevé % achevé % achevé % achevé % achevé % achevé % achevé % achevé % achevé % achevé % achevé % achevé % achevé % achevé% achevé % achevé % achevé % achevé % achevé % achevé % achevé % achevé % achevé % achevé % achevé % achevé % achevé % achevé % achevé% achevé % achevé % achevé\n",
      "99.9 % achevé9999 % achevéé % achevé % achevé % achevé % achevé % achevé % achevé % achevé % achevé % achevé% achevé% achevé % achevé % achevé% achevé % achevé % achevé % achevé % achevé % achevé % achevé % achevé\r"
     ]
    },
    {
     "data": {
      "text/plain": [
       "0.821"
      ]
     },
     "execution_count": 94,
     "metadata": {},
     "output_type": "execute_result"
    }
   ],
   "source": [
    "thresh = threshold_MC(CCK([kernel1, kernel3],[0.61,0.47]), law_p, law_p, m=1000, n=100, alpha=0.05)\n",
    "puissance_MC(OMMD, CCK([kernel1, kernel3],[0.61,0.47]), law_p, law_q,1000,100,thresh)"
   ]
  },
  {
   "cell_type": "code",
   "execution_count": 12,
   "metadata": {},
   "outputs": [
    {
     "ename": "NameError",
     "evalue": "name 'alpha' is not defined",
     "output_type": "error",
     "traceback": [
      "\u001b[0;31m---------------------------------------------------------------------------\u001b[0m",
      "\u001b[0;31mNameError\u001b[0m                                 Traceback (most recent call last)",
      "\u001b[0;32m<ipython-input-12-7755720844bd>\u001b[0m in \u001b[0;36m<module>\u001b[0;34m\u001b[0m\n\u001b[0;32m----> 1\u001b[0;31m \u001b[0mAlgOptBar\u001b[0m\u001b[0;34m(\u001b[0m\u001b[0;34m[\u001b[0m\u001b[0mkernel1\u001b[0m\u001b[0;34m,\u001b[0m \u001b[0mkernel2\u001b[0m\u001b[0;34m,\u001b[0m \u001b[0mkernel3\u001b[0m\u001b[0;34m]\u001b[0m\u001b[0;34m,\u001b[0m \u001b[0mlaw_p\u001b[0m\u001b[0;34m,\u001b[0m \u001b[0mlaw_q\u001b[0m\u001b[0;34m,\u001b[0m \u001b[0mm\u001b[0m\u001b[0;34m=\u001b[0m\u001b[0;36m1000\u001b[0m\u001b[0;34m,\u001b[0m \u001b[0mn\u001b[0m\u001b[0;34m=\u001b[0m\u001b[0;36m100\u001b[0m\u001b[0;34m,\u001b[0m \u001b[0malpha\u001b[0m\u001b[0;34m=\u001b[0m\u001b[0;36m0.05\u001b[0m\u001b[0;34m)\u001b[0m\u001b[0;34m\u001b[0m\u001b[0;34m\u001b[0m\u001b[0m\n\u001b[0m",
      "\u001b[0;32m<ipython-input-9-ec6ab472d216>\u001b[0m in \u001b[0;36mAlgOptBar\u001b[0;34m(Kernels, law_p, law_q, m, n, alpha)\u001b[0m\n\u001b[1;32m      6\u001b[0m \u001b[0;34m\u001b[0m\u001b[0m\n\u001b[1;32m      7\u001b[0m     \u001b[0mbeta\u001b[0m \u001b[0;34m=\u001b[0m \u001b[0mnp\u001b[0m\u001b[0;34m.\u001b[0m\u001b[0mones\u001b[0m\u001b[0;34m(\u001b[0m\u001b[0mlen\u001b[0m\u001b[0;34m(\u001b[0m\u001b[0mKernels\u001b[0m\u001b[0;34m)\u001b[0m\u001b[0;34m)\u001b[0m\u001b[0;34m\u001b[0m\u001b[0;34m\u001b[0m\u001b[0m\n\u001b[0;32m----> 8\u001b[0;31m     \u001b[0mbeta_optim\u001b[0m \u001b[0;34m=\u001b[0m \u001b[0moptim_p\u001b[0m\u001b[0;34m(\u001b[0m\u001b[0mpenalite\u001b[0m\u001b[0;34m,\u001b[0m \u001b[0mDpen\u001b[0m\u001b[0;34m,\u001b[0m \u001b[0mbeta\u001b[0m\u001b[0;34m,\u001b[0m \u001b[0moptimize\u001b[0m\u001b[0;34m.\u001b[0m\u001b[0mfmin_bfgs\u001b[0m\u001b[0;34m,\u001b[0m\u001b[0mMoy\u001b[0m\u001b[0;34m,\u001b[0m \u001b[0mSnum\u001b[0m\u001b[0;34m,\u001b[0m \u001b[0mSden\u001b[0m\u001b[0;34m,\u001b[0m \u001b[0meps\u001b[0m\u001b[0;34m=\u001b[0m\u001b[0;36m1e-16\u001b[0m\u001b[0;34m)\u001b[0m\u001b[0;34m\u001b[0m\u001b[0;34m\u001b[0m\u001b[0m\n\u001b[0m\u001b[1;32m      9\u001b[0m     \u001b[0mbeta_optim\u001b[0m \u001b[0;34m=\u001b[0m \u001b[0mbeta_optim\u001b[0m\u001b[0;34m/\u001b[0m\u001b[0mnp\u001b[0m\u001b[0;34m.\u001b[0m\u001b[0msum\u001b[0m\u001b[0;34m(\u001b[0m\u001b[0mbeta_optim\u001b[0m\u001b[0;34m)\u001b[0m\u001b[0;34m\u001b[0m\u001b[0;34m\u001b[0m\u001b[0m\n\u001b[1;32m     10\u001b[0m \u001b[0;34m\u001b[0m\u001b[0m\n",
      "\u001b[0;32m<ipython-input-8-b3b32f5af221>\u001b[0m in \u001b[0;36moptim_p\u001b[0;34m(penalite, Dpen, x0, methode, Moy, Snum, Sden, eps)\u001b[0m\n\u001b[1;32m      3\u001b[0m     \u001b[0mrho\u001b[0m \u001b[0;34m=\u001b[0m \u001b[0;36m0.00001\u001b[0m\u001b[0;34m\u001b[0m\u001b[0;34m\u001b[0m\u001b[0m\n\u001b[1;32m      4\u001b[0m     x = methode(lambda x: penalite(x, rho, Moy, Snum, Sden), x_old,\n\u001b[0;32m----> 5\u001b[0;31m                 fprime = lambda x: Dpen(x, rho, Moy, Snum, Sden))\n\u001b[0m\u001b[1;32m      6\u001b[0m     \u001b[0;32mwhile\u001b[0m \u001b[0mnp\u001b[0m\u001b[0;34m.\u001b[0m\u001b[0mlinalg\u001b[0m\u001b[0;34m.\u001b[0m\u001b[0mnorm\u001b[0m\u001b[0;34m(\u001b[0m\u001b[0mx_old\u001b[0m \u001b[0;34m-\u001b[0m \u001b[0mx\u001b[0m\u001b[0;34m)\u001b[0m \u001b[0;34m>\u001b[0m \u001b[0meps\u001b[0m\u001b[0;34m:\u001b[0m\u001b[0;34m\u001b[0m\u001b[0;34m\u001b[0m\u001b[0m\n\u001b[1;32m      7\u001b[0m         \u001b[0mprint\u001b[0m\u001b[0;34m(\u001b[0m\u001b[0;34m\"j\"\u001b[0m\u001b[0;34m)\u001b[0m\u001b[0;34m\u001b[0m\u001b[0;34m\u001b[0m\u001b[0m\n",
      "\u001b[0;32m~/.local/lib/python3.6/site-packages/scipy/optimize/optimize.py\u001b[0m in \u001b[0;36mfmin_bfgs\u001b[0;34m(f, x0, fprime, args, gtol, norm, epsilon, maxiter, full_output, disp, retall, callback)\u001b[0m\n\u001b[1;32m    914\u001b[0m             'return_all': retall}\n\u001b[1;32m    915\u001b[0m \u001b[0;34m\u001b[0m\u001b[0m\n\u001b[0;32m--> 916\u001b[0;31m     \u001b[0mres\u001b[0m \u001b[0;34m=\u001b[0m \u001b[0m_minimize_bfgs\u001b[0m\u001b[0;34m(\u001b[0m\u001b[0mf\u001b[0m\u001b[0;34m,\u001b[0m \u001b[0mx0\u001b[0m\u001b[0;34m,\u001b[0m \u001b[0margs\u001b[0m\u001b[0;34m,\u001b[0m \u001b[0mfprime\u001b[0m\u001b[0;34m,\u001b[0m \u001b[0mcallback\u001b[0m\u001b[0;34m=\u001b[0m\u001b[0mcallback\u001b[0m\u001b[0;34m,\u001b[0m \u001b[0;34m**\u001b[0m\u001b[0mopts\u001b[0m\u001b[0;34m)\u001b[0m\u001b[0;34m\u001b[0m\u001b[0;34m\u001b[0m\u001b[0m\n\u001b[0m\u001b[1;32m    917\u001b[0m \u001b[0;34m\u001b[0m\u001b[0m\n\u001b[1;32m    918\u001b[0m     \u001b[0;32mif\u001b[0m \u001b[0mfull_output\u001b[0m\u001b[0;34m:\u001b[0m\u001b[0;34m\u001b[0m\u001b[0;34m\u001b[0m\u001b[0m\n",
      "\u001b[0;32m~/.local/lib/python3.6/site-packages/scipy/optimize/optimize.py\u001b[0m in \u001b[0;36m_minimize_bfgs\u001b[0;34m(fun, x0, args, jac, callback, gtol, norm, eps, maxiter, disp, return_all, **unknown_options)\u001b[0m\n\u001b[1;32m    968\u001b[0m     \u001b[0;32melse\u001b[0m\u001b[0;34m:\u001b[0m\u001b[0;34m\u001b[0m\u001b[0;34m\u001b[0m\u001b[0m\n\u001b[1;32m    969\u001b[0m         \u001b[0mgrad_calls\u001b[0m\u001b[0;34m,\u001b[0m \u001b[0mmyfprime\u001b[0m \u001b[0;34m=\u001b[0m \u001b[0mwrap_function\u001b[0m\u001b[0;34m(\u001b[0m\u001b[0mfprime\u001b[0m\u001b[0;34m,\u001b[0m \u001b[0margs\u001b[0m\u001b[0;34m)\u001b[0m\u001b[0;34m\u001b[0m\u001b[0;34m\u001b[0m\u001b[0m\n\u001b[0;32m--> 970\u001b[0;31m     \u001b[0mgfk\u001b[0m \u001b[0;34m=\u001b[0m \u001b[0mmyfprime\u001b[0m\u001b[0;34m(\u001b[0m\u001b[0mx0\u001b[0m\u001b[0;34m)\u001b[0m\u001b[0;34m\u001b[0m\u001b[0;34m\u001b[0m\u001b[0m\n\u001b[0m\u001b[1;32m    971\u001b[0m     \u001b[0mk\u001b[0m \u001b[0;34m=\u001b[0m \u001b[0;36m0\u001b[0m\u001b[0;34m\u001b[0m\u001b[0;34m\u001b[0m\u001b[0m\n\u001b[1;32m    972\u001b[0m     \u001b[0mN\u001b[0m \u001b[0;34m=\u001b[0m \u001b[0mlen\u001b[0m\u001b[0;34m(\u001b[0m\u001b[0mx0\u001b[0m\u001b[0;34m)\u001b[0m\u001b[0;34m\u001b[0m\u001b[0;34m\u001b[0m\u001b[0m\n",
      "\u001b[0;32m~/.local/lib/python3.6/site-packages/scipy/optimize/optimize.py\u001b[0m in \u001b[0;36mfunction_wrapper\u001b[0;34m(*wrapper_args)\u001b[0m\n\u001b[1;32m    298\u001b[0m     \u001b[0;32mdef\u001b[0m \u001b[0mfunction_wrapper\u001b[0m\u001b[0;34m(\u001b[0m\u001b[0;34m*\u001b[0m\u001b[0mwrapper_args\u001b[0m\u001b[0;34m)\u001b[0m\u001b[0;34m:\u001b[0m\u001b[0;34m\u001b[0m\u001b[0;34m\u001b[0m\u001b[0m\n\u001b[1;32m    299\u001b[0m         \u001b[0mncalls\u001b[0m\u001b[0;34m[\u001b[0m\u001b[0;36m0\u001b[0m\u001b[0;34m]\u001b[0m \u001b[0;34m+=\u001b[0m \u001b[0;36m1\u001b[0m\u001b[0;34m\u001b[0m\u001b[0;34m\u001b[0m\u001b[0m\n\u001b[0;32m--> 300\u001b[0;31m         \u001b[0;32mreturn\u001b[0m \u001b[0mfunction\u001b[0m\u001b[0;34m(\u001b[0m\u001b[0;34m*\u001b[0m\u001b[0;34m(\u001b[0m\u001b[0mwrapper_args\u001b[0m \u001b[0;34m+\u001b[0m \u001b[0margs\u001b[0m\u001b[0;34m)\u001b[0m\u001b[0;34m)\u001b[0m\u001b[0;34m\u001b[0m\u001b[0;34m\u001b[0m\u001b[0m\n\u001b[0m\u001b[1;32m    301\u001b[0m \u001b[0;34m\u001b[0m\u001b[0m\n\u001b[1;32m    302\u001b[0m     \u001b[0;32mreturn\u001b[0m \u001b[0mncalls\u001b[0m\u001b[0;34m,\u001b[0m \u001b[0mfunction_wrapper\u001b[0m\u001b[0;34m\u001b[0m\u001b[0;34m\u001b[0m\u001b[0m\n",
      "\u001b[0;32m<ipython-input-8-b3b32f5af221>\u001b[0m in \u001b[0;36m<lambda>\u001b[0;34m(x)\u001b[0m\n\u001b[1;32m      3\u001b[0m     \u001b[0mrho\u001b[0m \u001b[0;34m=\u001b[0m \u001b[0;36m0.00001\u001b[0m\u001b[0;34m\u001b[0m\u001b[0;34m\u001b[0m\u001b[0m\n\u001b[1;32m      4\u001b[0m     x = methode(lambda x: penalite(x, rho, Moy, Snum, Sden), x_old,\n\u001b[0;32m----> 5\u001b[0;31m                 fprime = lambda x: Dpen(x, rho, Moy, Snum, Sden))\n\u001b[0m\u001b[1;32m      6\u001b[0m     \u001b[0;32mwhile\u001b[0m \u001b[0mnp\u001b[0m\u001b[0;34m.\u001b[0m\u001b[0mlinalg\u001b[0m\u001b[0;34m.\u001b[0m\u001b[0mnorm\u001b[0m\u001b[0;34m(\u001b[0m\u001b[0mx_old\u001b[0m \u001b[0;34m-\u001b[0m \u001b[0mx\u001b[0m\u001b[0;34m)\u001b[0m \u001b[0;34m>\u001b[0m \u001b[0meps\u001b[0m\u001b[0;34m:\u001b[0m\u001b[0;34m\u001b[0m\u001b[0;34m\u001b[0m\u001b[0m\n\u001b[1;32m      7\u001b[0m         \u001b[0mprint\u001b[0m\u001b[0;34m(\u001b[0m\u001b[0;34m\"j\"\u001b[0m\u001b[0;34m)\u001b[0m\u001b[0;34m\u001b[0m\u001b[0;34m\u001b[0m\u001b[0m\n",
      "\u001b[0;32m<ipython-input-7-b71f4951e270>\u001b[0m in \u001b[0;36mDpen\u001b[0;34m(beta, rho, Moy, Snum, Sden)\u001b[0m\n\u001b[1;32m      3\u001b[0m     return (Snum.dot(beta)/np.sqrt(beta.T.dot(Snum).dot(beta))*inv_phi(1-alpha) \n\u001b[1;32m      4\u001b[0m             \u001b[0;34m-\u001b[0m \u001b[0mnp\u001b[0m\u001b[0;34m.\u001b[0m\u001b[0msqrt\u001b[0m\u001b[0;34m(\u001b[0m\u001b[0mm\u001b[0m\u001b[0;34m/\u001b[0m\u001b[0;36m2\u001b[0m\u001b[0;34m)\u001b[0m\u001b[0;34m*\u001b[0m\u001b[0mMoy\u001b[0m\u001b[0;34m\u001b[0m\u001b[0;34m\u001b[0m\u001b[0m\n\u001b[0;32m----> 5\u001b[0;31m            + 1/rho*(np.sqrt(beta.T.dot(Sden).dot(beta))-1)*Sden.dot(beta)/np.sqrt(beta.T.dot(Sden).dot(beta))).flatten()\n\u001b[0m",
      "\u001b[0;31mNameError\u001b[0m: name 'alpha' is not defined"
     ]
    }
   ],
   "source": [
    "AlgOptBar([kernel1, kernel2, kernel3], law_p, law_q, m=1000, n=100, alpha=0.05)"
   ]
  },
  {
   "cell_type": "code",
   "execution_count": 39,
   "metadata": {},
   "outputs": [
    {
     "name": "stdout",
     "output_type": "stream",
     "text": [
      "Start computing first componant\n",
      "Start computing second componanthevé % achevé % achevé % achevé % achevé % achevé % achevé % achevé % achevé % achevé % achevé % achevé % achevé % achevé % achevé % achevé % achevé % achevé % achevé % achevé % achevé % achevé % achevé % achevé% achevé % achevé % achevé % achevé % achevé % achevé % achevé % achevé % achevé % achevé % achevé % achevé % achevé % achevé % achevé % achevé% achevé % achevé % achevé % achevé\n",
      "99.9 % achevé9999 % achevéé % achevé % achevé % achevé % achevé % achevé% achevé % achevé % achevé % achevé % achevé % achevé % achevé % achevé % achevé % achevé% achevé % achevé\r"
     ]
    },
    {
     "data": {
      "text/plain": [
       "0.999"
      ]
     },
     "execution_count": 39,
     "metadata": {},
     "output_type": "execute_result"
    }
   ],
   "source": [
    "thresh = threshold_MC(CCK([kernel1, kernel2, kernel3],[1.06812572, -0.07928149,0.01115577]), law_p, law_p, m=1000, n=100, alpha=0.05)\n",
    "puissance_MC(OMMD, CCK([kernel1, kernel2, kernel3],[1.06812572, -0.07928149,0.01115577]), law_p, law_q,1000,100,thresh)"
   ]
  },
  {
   "cell_type": "code",
   "execution_count": 40,
   "metadata": {},
   "outputs": [
    {
     "name": "stdout",
     "output_type": "stream",
     "text": [
      "Start computing first componant\n",
      "Start computing second componanthevé % achevé % achevé % achevé % achevé % achevé % achevé % achevé % achevé % achevé % achevé % achevé % achevé % achevé % achevé % achevé % achevé % achevé % achevé % achevé % achevé % achevé % achevé % achevé % achevé % achevé % achevé % achevé\n",
      "99.9 % achevé9999 % achevéé % achevé % achevé % achevé % achevé % achevé % achevé % achevé % achevé % achevé % achevé % achevé % achevé % achevé % achevé % achevé % achevé % achevé % achevé % achevé % achevé % achevé % achevé % achevé\r"
     ]
    },
    {
     "data": {
      "text/plain": [
       "0.993"
      ]
     },
     "execution_count": 40,
     "metadata": {},
     "output_type": "execute_result"
    }
   ],
   "source": [
    "thresh = threshold_MC(CCK([kernel1, kernel2, kernel3],[0.5, 0.4, 0.1]), law_p, law_p, m=1000, n=100, alpha=0.05)\n",
    "puissance_MC(OMMD, CCK([kernel1, kernel2, kernel3],[0.5, 0.4, 0.1]), law_p, law_q,1000,100,thresh)"
   ]
  },
  {
   "cell_type": "markdown",
   "metadata": {},
   "source": [
    "It seem not perform well, mayby, there is a local minimum ?"
   ]
  },
  {
   "cell_type": "code",
   "execution_count": 103,
   "metadata": {},
   "outputs": [
    {
     "name": "stdout",
     "output_type": "stream",
     "text": [
      "0 0\n",
      "1 09 % achevé9999 % achevéé\n",
      "2 09 % achevé9999 % achevéé % achevé % achevé\n",
      "3 09 % achevé9999 % achevéé\n",
      "4 09 % achevé9999 % achevéé % achevé % achevé % achevé% achevé\n",
      "5 09 % achevé9999 % achevéé % achevé % achevé % achevé % achevé % achevé % achevé% achevé% achevé % achevé\n",
      "6 09 % achevé9999 % achevéé % achevé % achevé% achevé % achevé\n",
      "7 09 % achevé9999 % achevéé % achevé % achevé % achevé % achevé % achevé% achevé% achevé\n",
      "8 09 % achevé9999 % achevéé % achevé % achevé\n",
      "9 09 % achevé9999 % achevéé\n",
      "0 19 % achevé9999 % achevéé\n",
      "1 19 % achevé9999 % achevéé\n",
      "2 19 % achevé9999 % achevéé\n",
      "3 19 % achevé9999 % achevéé\n",
      "4 19 % achevé9999 % achevéé\n",
      "5 19 % achevé9999 % achevéé% achevé\n",
      "6 19 % achevé9999 % achevéé\n",
      "7 19 % achevé9999 % achevéé % achevé % achevé % achevé\n",
      "8 19 % achevé9999 % achevéé\n",
      "0 29 % achevé9999 % achevéé\n",
      "1 29 % achevé9999 % achevéé % achevé % achevé % achevé\n",
      "2 29 % achevé9999 % achevéé % achevé % achevé\n",
      "3 29 % achevé9999 % achevéé\n",
      "4 29 % achevé9999 % achevéé\n",
      "5 29 % achevé9999 % achevéé% achevé% achevé % achevé% achevé % achevé % achevé% achevé % achevé % achevé % achevé % achevé% achevé % achevé % achevé\n",
      "6 29 % achevé9999 % achevééevé % achevé % achevé % achevé % achevé % achevé % achevé% achevé % achevé % achevé % achevé % achevé % achevé % achevé % achevé % achevé % achevé % achevé % achevé % achevé % achevé% achevé % achevé % achevé % achevé % achevé % achevé% achevé % achevé % achevé% achevé % achevé % achevé % achevé % achevé% achevé % achevé % achevé% achevé % achevé % achevé % achevé% achevé % achevé % achevé% achevé % achevé % achevé % achevé % achevé % achevé% achevé% achevé\n",
      "7 29 % achevé9999 % achevéé % achevé % achevé % achevé % achevé% achevé % achevé % achevé% achevé % achevé % achevé% achevé % achevé % achevé % achevé% achevé % achevé\n",
      "0 39 % achevé9999 % achevéé% achevé % achevé % achevé % achevé % achevé % achevé% achevé% achevé % achevé % achevé\n",
      "1 39 % achevé9999 % achevéé % achevé % achevé % achevé% achevé % achevé % achevé % achevé % achevé % achevé % achevé % achevé % achevé % achevé % achevé % achevé% achevé% achevé % achevé % achevé % achevé % achevé % achevé\n",
      "2 39 % achevé9999 % achevéé % achevé % achevé % achevé% achevé % achevé % achevé % achevé % achevé % achevé % achevé % achevé % achevé % achevé % achevé % achevé % achevé % achevé % achevé % achevé % achevé% achevé % achevé % achevé % achevé% achevé\n",
      "3 39 % achevé9999 % achevéé % achevé % achevé % achevé % achevé % achevé % achevé % achevé% achevé % achevé % achevé % achevé % achevé % achevé % achevé % achevé % achevé % achevé % achevé % achevé % achevé % achevé% achevé % achevé % achevé % achevé% achevé\n",
      "4 39 % achevé9999 % achevéé % achevé % achevé % achevé % achevé % achevé % achevé % achevé % achevé % achevé % achevé % achevé % achevé % achevé % achevé % achevé % achevé % achevé % achevé % achevé % achevé% achevé % achevé\n",
      "5 39 % achevé9999 % achevéé % achevé % achevé % achevé % achevé % achevé % achevé % achevé % achevé\n",
      "6 39 % achevé9999 % achevéé\n",
      "0 49 % achevé9999 % achevéé\n",
      "1 49 % achevé9999 % achevéé\n",
      "2 49 % achevé9999 % achevéé\n",
      "3 49 % achevé9999 % achevéé\n",
      "4 49 % achevé9999 % achevéé\n",
      "5 49 % achevé9999 % achevéé\n",
      "0 59 % achevé9999 % achevéé\n",
      "1 59 % achevé9999 % achevéé\n",
      "2 59 % achevé9999 % achevéé\n",
      "3 59 % achevé9999 % achevéé\n",
      "4 59 % achevé9999 % achevéé\n",
      "0 69 % achevé9999 % achevéé\n",
      "1 69 % achevé9999 % achevéé\n",
      "2 69 % achevé9999 % achevéé\n",
      "3 69 % achevé9999 % achevéé\n",
      "0 79 % achevé9999 % achevéé\n",
      "1 79 % achevé9999 % achevéé\n",
      "2 79 % achevé9999 % achevéé\n",
      "0 89 % achevé9999 % achevéé\n",
      "1 89 % achevé9999 % achevéé\n",
      "0 99 % achevé9999 % achevéé\n",
      "99.9 % achevé9999 % achevéé\r"
     ]
    }
   ],
   "source": [
    "M = np.zeros((10,10))\n",
    "for j in range(10):\n",
    "    for i in range(10-j):\n",
    "        rho1 = 0.1*j\n",
    "        rho2 = 0.1*i\n",
    "        rho3 = 1-rho1 - rho2\n",
    "        print(i,j)\n",
    "        thresh = threshold_MC(CCK([kernel1, kernel2, kernel3],[rho1,rho2,rho3]), law_p, law_p, m=1000, n=100, alpha=0.05,verbose=0)\n",
    "        M[j,i] = puissance_MC(OMMD, CCK([kernel1, kernel2, kernel3],[rho1,rho2,rho3]), law_p, law_q,1000,100,thresh)"
   ]
  },
  {
   "cell_type": "code",
   "execution_count": 105,
   "metadata": {},
   "outputs": [
    {
     "data": {
      "text/plain": [
       "<matplotlib.colorbar.Colorbar at 0x7f6d69e1b400>"
      ]
     },
     "execution_count": 105,
     "metadata": {},
     "output_type": "execute_result"
    },
    {
     "data": {
      "image/png": "[encoded data removed]",
      "text/plain": [
       "<Figure size 432x288 with 2 Axes>"
      ]
     },
     "metadata": {
      "needs_background": "light"
     },
     "output_type": "display_data"
    }
   ],
   "source": [
    "plt.imshow(M)\n",
    "plt.colorbar()"
   ]
  },
  {
   "cell_type": "code",
   "execution_count": 27,
   "metadata": {},
   "outputs": [],
   "source": [
    "sigma1 = 1.21\n",
    "mu1 = 0.2\n",
    "sigma2 = 1\n",
    "mu2 = 0\n",
    "omega = 0.1\n",
    "omega1 = 0.01\n",
    "omega2 = 20\n",
    "law_p = normal(mu1,sigma1)\n",
    "law_q = normal(mu2,sigma2)\n",
    "kernel1 = gaussian(omega1**2)\n",
    "kernel2 = gaussian(omega2**2)\n",
    "alpha = 0.3\n",
    "m=1000\n",
    "n=100\n"
   ]
  },
  {
   "cell_type": "code",
   "execution_count": 28,
   "metadata": {},
   "outputs": [
    {
     "name": "stdout",
     "output_type": "stream",
     "text": [
      "Warning: Desired error not necessarily achieved due to precision loss.\n",
      "         Current function value: 0.359868\n",
      "         Iterations: 71\n",
      "         Function evaluations: 203\n",
      "         Gradient evaluations: 191\n",
      "j\n",
      "Warning: Desired error not necessarily achieved due to precision loss.\n",
      "         Current function value: 0.359868\n",
      "         Iterations: 3\n",
      "         Function evaluations: 70\n",
      "         Gradient evaluations: 58\n",
      "j\n",
      "Optimization terminated successfully.\n",
      "         Current function value: 0.359868\n",
      "         Iterations: 1\n",
      "         Function evaluations: 3\n",
      "         Gradient evaluations: 3\n",
      "j\n",
      "Optimization terminated successfully.\n",
      "         Current function value: 0.359868\n",
      "         Iterations: 1\n",
      "         Function evaluations: 3\n",
      "         Gradient evaluations: 3\n",
      "j\n",
      "Optimization terminated successfully.\n",
      "         Current function value: 0.359868\n",
      "         Iterations: 1\n",
      "         Function evaluations: 3\n",
      "         Gradient evaluations: 3\n",
      "j\n",
      "Optimization terminated successfully.\n",
      "         Current function value: 0.359868\n",
      "         Iterations: 1\n",
      "         Function evaluations: 3\n",
      "         Gradient evaluations: 3\n",
      "j\n",
      "Optimization terminated successfully.\n",
      "         Current function value: 0.359868\n",
      "         Iterations: 1\n",
      "         Function evaluations: 3\n",
      "         Gradient evaluations: 3\n",
      "j\n",
      "Optimization terminated successfully.\n",
      "         Current function value: 0.359868\n",
      "         Iterations: 1\n",
      "         Function evaluations: 3\n",
      "         Gradient evaluations: 3\n",
      "j\n",
      "Optimization terminated successfully.\n",
      "         Current function value: 0.359868\n",
      "         Iterations: 1\n",
      "         Function evaluations: 3\n",
      "         Gradient evaluations: 3\n",
      "j\n",
      "Optimization terminated successfully.\n",
      "         Current function value: 0.359868\n",
      "         Iterations: 1\n",
      "         Function evaluations: 3\n",
      "         Gradient evaluations: 3\n",
      "j\n",
      "Optimization terminated successfully.\n",
      "         Current function value: 0.359868\n",
      "         Iterations: 1\n",
      "         Function evaluations: 3\n",
      "         Gradient evaluations: 3\n",
      "j\n",
      "Optimization terminated successfully.\n",
      "         Current function value: 0.359868\n",
      "         Iterations: 1\n",
      "         Function evaluations: 3\n",
      "         Gradient evaluations: 3\n",
      "j\n",
      "Optimization terminated successfully.\n",
      "         Current function value: 0.359868\n",
      "         Iterations: 1\n",
      "         Function evaluations: 3\n",
      "         Gradient evaluations: 3\n",
      "j\n",
      "Optimization terminated successfully.\n",
      "         Current function value: 0.359868\n",
      "         Iterations: 1\n",
      "         Function evaluations: 3\n",
      "         Gradient evaluations: 3\n",
      "j\n",
      "Optimization terminated successfully.\n",
      "         Current function value: 0.359868\n",
      "         Iterations: 1\n",
      "         Function evaluations: 3\n",
      "         Gradient evaluations: 3\n",
      "j\n",
      "Optimization terminated successfully.\n",
      "         Current function value: 0.359868\n",
      "         Iterations: 1\n",
      "         Function evaluations: 3\n",
      "         Gradient evaluations: 3\n",
      "j\n",
      "Optimization terminated successfully.\n",
      "         Current function value: 0.359868\n",
      "         Iterations: 1\n",
      "         Function evaluations: 3\n",
      "         Gradient evaluations: 3\n",
      "j\n",
      "Optimization terminated successfully.\n",
      "         Current function value: 0.359868\n",
      "         Iterations: 1\n",
      "         Function evaluations: 3\n",
      "         Gradient evaluations: 3\n",
      "j\n",
      "Optimization terminated successfully.\n",
      "         Current function value: 0.359868\n",
      "         Iterations: 1\n",
      "         Function evaluations: 3\n",
      "         Gradient evaluations: 3\n",
      "j\n",
      "Optimization terminated successfully.\n",
      "         Current function value: 0.359868\n",
      "         Iterations: 1\n",
      "         Function evaluations: 3\n",
      "         Gradient evaluations: 3\n",
      "j\n",
      "Optimization terminated successfully.\n",
      "         Current function value: 0.359868\n",
      "         Iterations: 1\n",
      "         Function evaluations: 3\n",
      "         Gradient evaluations: 3\n",
      "j\n",
      "Optimization terminated successfully.\n",
      "         Current function value: 0.359868\n",
      "         Iterations: 1\n",
      "         Function evaluations: 3\n",
      "         Gradient evaluations: 3\n",
      "j\n",
      "Optimization terminated successfully.\n",
      "         Current function value: 0.359868\n",
      "         Iterations: 1\n",
      "         Function evaluations: 3\n",
      "         Gradient evaluations: 3\n",
      "j\n",
      "Optimization terminated successfully.\n",
      "         Current function value: 0.359868\n",
      "         Iterations: 1\n",
      "         Function evaluations: 3\n",
      "         Gradient evaluations: 3\n",
      "j\n",
      "Optimization terminated successfully.\n",
      "         Current function value: 0.359868\n",
      "         Iterations: 1\n",
      "         Function evaluations: 3\n",
      "         Gradient evaluations: 3\n",
      "j\n",
      "Optimization terminated successfully.\n",
      "         Current function value: 0.359868\n",
      "         Iterations: 1\n",
      "         Function evaluations: 3\n",
      "         Gradient evaluations: 3\n",
      "j\n",
      "Optimization terminated successfully.\n",
      "         Current function value: 0.359868\n",
      "         Iterations: 1\n",
      "         Function evaluations: 3\n",
      "         Gradient evaluations: 3\n",
      "j\n",
      "Optimization terminated successfully.\n",
      "         Current function value: 0.359868\n",
      "         Iterations: 1\n",
      "         Function evaluations: 3\n",
      "         Gradient evaluations: 3\n",
      "j\n",
      "Optimization terminated successfully.\n",
      "         Current function value: 0.359868\n",
      "         Iterations: 1\n",
      "         Function evaluations: 3\n",
      "         Gradient evaluations: 3\n",
      "j\n",
      "Optimization terminated successfully.\n",
      "         Current function value: 0.359868\n",
      "         Iterations: 1\n",
      "         Function evaluations: 3\n",
      "         Gradient evaluations: 3\n",
      "j\n",
      "Optimization terminated successfully.\n",
      "         Current function value: 0.359868\n",
      "         Iterations: 1\n",
      "         Function evaluations: 3\n",
      "         Gradient evaluations: 3\n",
      "j\n",
      "Optimization terminated successfully.\n",
      "         Current function value: 0.359868\n",
      "         Iterations: 1\n",
      "         Function evaluations: 3\n",
      "         Gradient evaluations: 3\n",
      "j\n",
      "Optimization terminated successfully.\n",
      "         Current function value: 0.359868\n",
      "         Iterations: 1\n",
      "         Function evaluations: 3\n",
      "         Gradient evaluations: 3\n",
      "j\n",
      "Optimization terminated successfully.\n",
      "         Current function value: 0.359868\n",
      "         Iterations: 1\n",
      "         Function evaluations: 3\n",
      "         Gradient evaluations: 3\n",
      "j\n",
      "Optimization terminated successfully.\n",
      "         Current function value: 0.359868\n",
      "         Iterations: 1\n",
      "         Function evaluations: 3\n",
      "         Gradient evaluations: 3\n",
      "j\n",
      "Optimization terminated successfully.\n",
      "         Current function value: 0.359868\n",
      "         Iterations: 1\n",
      "         Function evaluations: 3\n",
      "         Gradient evaluations: 3\n",
      "j\n",
      "Optimization terminated successfully.\n",
      "         Current function value: 0.359868\n",
      "         Iterations: 1\n",
      "         Function evaluations: 3\n",
      "         Gradient evaluations: 3\n",
      "j\n",
      "Optimization terminated successfully.\n",
      "         Current function value: 0.359868\n",
      "         Iterations: 1\n",
      "         Function evaluations: 3\n",
      "         Gradient evaluations: 3\n",
      "j\n",
      "Optimization terminated successfully.\n",
      "         Current function value: 0.359868\n",
      "         Iterations: 1\n",
      "         Function evaluations: 3\n",
      "         Gradient evaluations: 3\n",
      "j\n",
      "Optimization terminated successfully.\n",
      "         Current function value: 0.359868\n",
      "         Iterations: 1\n",
      "         Function evaluations: 3\n",
      "         Gradient evaluations: 3\n",
      "j\n",
      "Optimization terminated successfully.\n",
      "         Current function value: 0.359868\n",
      "         Iterations: 1\n",
      "         Function evaluations: 3\n",
      "         Gradient evaluations: 3\n",
      "j\n",
      "Optimization terminated successfully.\n",
      "         Current function value: 0.359868\n",
      "         Iterations: 1\n",
      "         Function evaluations: 3\n",
      "         Gradient evaluations: 3\n",
      "j\n",
      "Optimization terminated successfully.\n",
      "         Current function value: 0.359868\n",
      "         Iterations: 1\n",
      "         Function evaluations: 3\n",
      "         Gradient evaluations: 3\n",
      "j\n",
      "Optimization terminated successfully.\n",
      "         Current function value: 0.359868\n",
      "         Iterations: 1\n",
      "         Function evaluations: 3\n",
      "         Gradient evaluations: 3\n",
      "j\n",
      "Optimization terminated successfully.\n",
      "         Current function value: 0.359868\n",
      "         Iterations: 1\n",
      "         Function evaluations: 3\n",
      "         Gradient evaluations: 3\n",
      "j\n",
      "Optimization terminated successfully.\n",
      "         Current function value: 0.359868\n",
      "         Iterations: 1\n",
      "         Function evaluations: 3\n",
      "         Gradient evaluations: 3\n",
      "j\n",
      "Optimization terminated successfully.\n",
      "         Current function value: 0.359868\n",
      "         Iterations: 1\n",
      "         Function evaluations: 3\n",
      "         Gradient evaluations: 3\n",
      "j\n",
      "Optimization terminated successfully.\n",
      "         Current function value: 0.359868\n",
      "         Iterations: 1\n",
      "         Function evaluations: 3\n",
      "         Gradient evaluations: 3\n",
      "j\n",
      "Optimization terminated successfully.\n",
      "         Current function value: 0.359868\n",
      "         Iterations: 1\n",
      "         Function evaluations: 3\n",
      "         Gradient evaluations: 3\n",
      "j\n",
      "Optimization terminated successfully.\n",
      "         Current function value: 0.359868\n",
      "         Iterations: 1\n",
      "         Function evaluations: 3\n",
      "         Gradient evaluations: 3\n",
      "j\n",
      "Optimization terminated successfully.\n",
      "         Current function value: 0.359868\n",
      "         Iterations: 1\n",
      "         Function evaluations: 3\n",
      "         Gradient evaluations: 3\n",
      "j\n",
      "Optimization terminated successfully.\n",
      "         Current function value: 0.359868\n",
      "         Iterations: 1\n",
      "         Function evaluations: 3\n",
      "         Gradient evaluations: 3\n",
      "j\n",
      "Optimization terminated successfully.\n",
      "         Current function value: 0.359868\n",
      "         Iterations: 1\n",
      "         Function evaluations: 3\n",
      "         Gradient evaluations: 3\n",
      "j\n",
      "Optimization terminated successfully.\n",
      "         Current function value: 0.359868\n",
      "         Iterations: 1\n",
      "         Function evaluations: 3\n",
      "         Gradient evaluations: 3\n",
      "j\n",
      "Optimization terminated successfully.\n",
      "         Current function value: 0.359868\n",
      "         Iterations: 1\n",
      "         Function evaluations: 3\n",
      "         Gradient evaluations: 3\n",
      "j\n",
      "Optimization terminated successfully.\n",
      "         Current function value: 0.359868\n",
      "         Iterations: 1\n",
      "         Function evaluations: 3\n",
      "         Gradient evaluations: 3\n",
      "j\n",
      "Optimization terminated successfully.\n",
      "         Current function value: 0.359868\n",
      "         Iterations: 1\n",
      "         Function evaluations: 3\n",
      "         Gradient evaluations: 3\n",
      "j\n",
      "Optimization terminated successfully.\n",
      "         Current function value: 0.359868\n",
      "         Iterations: 1\n",
      "         Function evaluations: 3\n",
      "         Gradient evaluations: 3\n",
      "j\n",
      "Optimization terminated successfully.\n",
      "         Current function value: 0.359868\n",
      "         Iterations: 1\n",
      "         Function evaluations: 3\n",
      "         Gradient evaluations: 3\n",
      "j\n",
      "Optimization terminated successfully.\n",
      "         Current function value: 0.359868\n",
      "         Iterations: 1\n",
      "         Function evaluations: 3\n",
      "         Gradient evaluations: 3\n",
      "j\n",
      "Optimization terminated successfully.\n",
      "         Current function value: 0.359868\n",
      "         Iterations: 1\n",
      "         Function evaluations: 3\n",
      "         Gradient evaluations: 3\n",
      "j\n",
      "Optimization terminated successfully.\n",
      "         Current function value: 0.359868\n",
      "         Iterations: 1\n",
      "         Function evaluations: 3\n",
      "         Gradient evaluations: 3\n",
      "j\n",
      "Optimization terminated successfully.\n",
      "         Current function value: 0.359868\n",
      "         Iterations: 1\n",
      "         Function evaluations: 3\n",
      "         Gradient evaluations: 3\n",
      "j\n",
      "Optimization terminated successfully.\n",
      "         Current function value: 0.359868\n",
      "         Iterations: 1\n",
      "         Function evaluations: 3\n",
      "         Gradient evaluations: 3\n",
      "j\n",
      "Optimization terminated successfully.\n",
      "         Current function value: 0.359868\n",
      "         Iterations: 1\n",
      "         Function evaluations: 3\n",
      "         Gradient evaluations: 3\n",
      "j\n",
      "Optimization terminated successfully.\n",
      "         Current function value: 0.359868\n",
      "         Iterations: 1\n",
      "         Function evaluations: 3\n",
      "         Gradient evaluations: 3\n",
      "j\n",
      "Optimization terminated successfully.\n",
      "         Current function value: 0.359868\n",
      "         Iterations: 1\n",
      "         Function evaluations: 3\n",
      "         Gradient evaluations: 3\n",
      "j\n",
      "Optimization terminated successfully.\n",
      "         Current function value: 0.359868\n",
      "         Iterations: 1\n",
      "         Function evaluations: 3\n",
      "         Gradient evaluations: 3\n",
      "j\n",
      "Optimization terminated successfully.\n",
      "         Current function value: 0.359868\n",
      "         Iterations: 1\n",
      "         Function evaluations: 3\n",
      "         Gradient evaluations: 3\n",
      "j\n",
      "Optimization terminated successfully.\n",
      "         Current function value: 0.359868\n",
      "         Iterations: 1\n",
      "         Function evaluations: 3\n",
      "         Gradient evaluations: 3\n",
      "j\n"
     ]
    },
    {
     "name": "stdout",
     "output_type": "stream",
     "text": [
      "Optimization terminated successfully.\n",
      "         Current function value: 0.359868\n",
      "         Iterations: 1\n",
      "         Function evaluations: 3\n",
      "         Gradient evaluations: 3\n",
      "j\n",
      "Optimization terminated successfully.\n",
      "         Current function value: 0.359868\n",
      "         Iterations: 1\n",
      "         Function evaluations: 3\n",
      "         Gradient evaluations: 3\n",
      "j\n",
      "Optimization terminated successfully.\n",
      "         Current function value: 0.359868\n",
      "         Iterations: 1\n",
      "         Function evaluations: 3\n",
      "         Gradient evaluations: 3\n",
      "j\n",
      "Optimization terminated successfully.\n",
      "         Current function value: 0.359868\n",
      "         Iterations: 1\n",
      "         Function evaluations: 3\n",
      "         Gradient evaluations: 3\n",
      "j\n",
      "Optimization terminated successfully.\n",
      "         Current function value: 0.359868\n",
      "         Iterations: 1\n",
      "         Function evaluations: 3\n",
      "         Gradient evaluations: 3\n",
      "j\n",
      "Optimization terminated successfully.\n",
      "         Current function value: 0.359868\n",
      "         Iterations: 1\n",
      "         Function evaluations: 3\n",
      "         Gradient evaluations: 3\n",
      "j\n",
      "Optimization terminated successfully.\n",
      "         Current function value: 0.359868\n",
      "         Iterations: 1\n",
      "         Function evaluations: 3\n",
      "         Gradient evaluations: 3\n",
      "j\n",
      "Optimization terminated successfully.\n",
      "         Current function value: 0.359868\n",
      "         Iterations: 1\n",
      "         Function evaluations: 3\n",
      "         Gradient evaluations: 3\n",
      "j\n",
      "Optimization terminated successfully.\n",
      "         Current function value: 0.359868\n",
      "         Iterations: 1\n",
      "         Function evaluations: 3\n",
      "         Gradient evaluations: 3\n",
      "j\n",
      "Optimization terminated successfully.\n",
      "         Current function value: 0.359868\n",
      "         Iterations: 1\n",
      "         Function evaluations: 3\n",
      "         Gradient evaluations: 3\n",
      "j\n",
      "Optimization terminated successfully.\n",
      "         Current function value: 0.359868\n",
      "         Iterations: 1\n",
      "         Function evaluations: 3\n",
      "         Gradient evaluations: 3\n",
      "j\n",
      "Optimization terminated successfully.\n",
      "         Current function value: 0.359868\n",
      "         Iterations: 1\n",
      "         Function evaluations: 3\n",
      "         Gradient evaluations: 3\n",
      "j\n",
      "Optimization terminated successfully.\n",
      "         Current function value: 0.359868\n",
      "         Iterations: 1\n",
      "         Function evaluations: 3\n",
      "         Gradient evaluations: 3\n",
      "j\n",
      "Optimization terminated successfully.\n",
      "         Current function value: 0.359868\n",
      "         Iterations: 1\n",
      "         Function evaluations: 3\n",
      "         Gradient evaluations: 3\n",
      "j\n",
      "Optimization terminated successfully.\n",
      "         Current function value: 0.359868\n",
      "         Iterations: 1\n",
      "         Function evaluations: 3\n",
      "         Gradient evaluations: 3\n",
      "j\n",
      "Optimization terminated successfully.\n",
      "         Current function value: 0.359868\n",
      "         Iterations: 1\n",
      "         Function evaluations: 3\n",
      "         Gradient evaluations: 3\n",
      "j\n",
      "Optimization terminated successfully.\n",
      "         Current function value: 0.359868\n",
      "         Iterations: 1\n",
      "         Function evaluations: 3\n",
      "         Gradient evaluations: 3\n",
      "j\n",
      "Optimization terminated successfully.\n",
      "         Current function value: 0.359868\n",
      "         Iterations: 1\n",
      "         Function evaluations: 3\n",
      "         Gradient evaluations: 3\n",
      "j\n",
      "Optimization terminated successfully.\n",
      "         Current function value: 0.359868\n",
      "         Iterations: 1\n",
      "         Function evaluations: 3\n",
      "         Gradient evaluations: 3\n",
      "j\n",
      "Optimization terminated successfully.\n",
      "         Current function value: 0.359868\n",
      "         Iterations: 1\n",
      "         Function evaluations: 3\n",
      "         Gradient evaluations: 3\n",
      "j\n",
      "Optimization terminated successfully.\n",
      "         Current function value: 0.359868\n",
      "         Iterations: 1\n",
      "         Function evaluations: 3\n",
      "         Gradient evaluations: 3\n",
      "j\n",
      "Optimization terminated successfully.\n",
      "         Current function value: 0.359868\n",
      "         Iterations: 1\n",
      "         Function evaluations: 3\n",
      "         Gradient evaluations: 3\n",
      "j\n",
      "Optimization terminated successfully.\n",
      "         Current function value: 0.359868\n",
      "         Iterations: 1\n",
      "         Function evaluations: 3\n",
      "         Gradient evaluations: 3\n",
      "j\n",
      "Optimization terminated successfully.\n",
      "         Current function value: 0.359868\n",
      "         Iterations: 1\n",
      "         Function evaluations: 3\n",
      "         Gradient evaluations: 3\n",
      "j\n",
      "Optimization terminated successfully.\n",
      "         Current function value: 0.359868\n",
      "         Iterations: 1\n",
      "         Function evaluations: 3\n",
      "         Gradient evaluations: 3\n",
      "j\n",
      "Optimization terminated successfully.\n",
      "         Current function value: 0.359868\n",
      "         Iterations: 1\n",
      "         Function evaluations: 3\n",
      "         Gradient evaluations: 3\n",
      "j\n",
      "Optimization terminated successfully.\n",
      "         Current function value: 0.359868\n",
      "         Iterations: 1\n",
      "         Function evaluations: 3\n",
      "         Gradient evaluations: 3\n",
      "j\n",
      "Optimization terminated successfully.\n",
      "         Current function value: 0.359868\n",
      "         Iterations: 1\n",
      "         Function evaluations: 3\n",
      "         Gradient evaluations: 3\n",
      "j\n",
      "Optimization terminated successfully.\n",
      "         Current function value: 0.359868\n",
      "         Iterations: 1\n",
      "         Function evaluations: 3\n",
      "         Gradient evaluations: 3\n",
      "j\n",
      "Optimization terminated successfully.\n",
      "         Current function value: 0.359868\n",
      "         Iterations: 1\n",
      "         Function evaluations: 3\n",
      "         Gradient evaluations: 3\n",
      "j\n",
      "Optimization terminated successfully.\n",
      "         Current function value: 0.359868\n",
      "         Iterations: 1\n",
      "         Function evaluations: 3\n",
      "         Gradient evaluations: 3\n",
      "j\n",
      "Optimization terminated successfully.\n",
      "         Current function value: 0.359868\n",
      "         Iterations: 1\n",
      "         Function evaluations: 3\n",
      "         Gradient evaluations: 3\n",
      "j\n",
      "Optimization terminated successfully.\n",
      "         Current function value: 0.359868\n",
      "         Iterations: 1\n",
      "         Function evaluations: 3\n",
      "         Gradient evaluations: 3\n",
      "j\n",
      "Optimization terminated successfully.\n",
      "         Current function value: 0.359868\n",
      "         Iterations: 1\n",
      "         Function evaluations: 3\n",
      "         Gradient evaluations: 3\n",
      "j\n",
      "Optimization terminated successfully.\n",
      "         Current function value: 0.359868\n",
      "         Iterations: 1\n",
      "         Function evaluations: 3\n",
      "         Gradient evaluations: 3\n",
      "j\n",
      "Optimization terminated successfully.\n",
      "         Current function value: 0.359868\n",
      "         Iterations: 1\n",
      "         Function evaluations: 3\n",
      "         Gradient evaluations: 3\n",
      "j\n",
      "Optimization terminated successfully.\n",
      "         Current function value: 0.359868\n",
      "         Iterations: 1\n",
      "         Function evaluations: 3\n",
      "         Gradient evaluations: 3\n",
      "j\n",
      "Optimization terminated successfully.\n",
      "         Current function value: 0.359868\n",
      "         Iterations: 1\n",
      "         Function evaluations: 3\n",
      "         Gradient evaluations: 3\n",
      "j\n",
      "Optimization terminated successfully.\n",
      "         Current function value: 0.359868\n",
      "         Iterations: 1\n",
      "         Function evaluations: 3\n",
      "         Gradient evaluations: 3\n",
      "j\n",
      "Optimization terminated successfully.\n",
      "         Current function value: 0.359868\n",
      "         Iterations: 1\n",
      "         Function evaluations: 3\n",
      "         Gradient evaluations: 3\n",
      "j\n",
      "Optimization terminated successfully.\n",
      "         Current function value: 0.359868\n",
      "         Iterations: 1\n",
      "         Function evaluations: 3\n",
      "         Gradient evaluations: 3\n",
      "j\n",
      "Optimization terminated successfully.\n",
      "         Current function value: 0.359868\n",
      "         Iterations: 1\n",
      "         Function evaluations: 3\n",
      "         Gradient evaluations: 3\n",
      "j\n",
      "Optimization terminated successfully.\n",
      "         Current function value: 0.359868\n",
      "         Iterations: 1\n",
      "         Function evaluations: 3\n",
      "         Gradient evaluations: 3\n",
      "j\n",
      "Optimization terminated successfully.\n",
      "         Current function value: 0.359868\n",
      "         Iterations: 1\n",
      "         Function evaluations: 3\n",
      "         Gradient evaluations: 3\n",
      "j\n",
      "Optimization terminated successfully.\n",
      "         Current function value: 0.359868\n",
      "         Iterations: 3\n",
      "         Function evaluations: 6\n",
      "         Gradient evaluations: 6\n",
      "j\n",
      "Optimization terminated successfully.\n",
      "         Current function value: 0.359868\n",
      "         Iterations: 1\n",
      "         Function evaluations: 3\n",
      "         Gradient evaluations: 3\n",
      "j\n",
      "Optimization terminated successfully.\n",
      "         Current function value: 0.359868\n",
      "         Iterations: 3\n",
      "         Function evaluations: 6\n",
      "         Gradient evaluations: 6\n",
      "j\n",
      "Optimization terminated successfully.\n",
      "         Current function value: 0.359868\n",
      "         Iterations: 1\n",
      "         Function evaluations: 3\n",
      "         Gradient evaluations: 3\n",
      "j\n",
      "Optimization terminated successfully.\n",
      "         Current function value: 0.359868\n",
      "         Iterations: 1\n",
      "         Function evaluations: 3\n",
      "         Gradient evaluations: 3\n",
      "j\n",
      "Optimization terminated successfully.\n",
      "         Current function value: 0.359868\n",
      "         Iterations: 3\n",
      "         Function evaluations: 6\n",
      "         Gradient evaluations: 6\n",
      "j\n",
      "Optimization terminated successfully.\n",
      "         Current function value: 0.359868\n",
      "         Iterations: 1\n",
      "         Function evaluations: 3\n",
      "         Gradient evaluations: 3\n",
      "j\n",
      "Optimization terminated successfully.\n",
      "         Current function value: 0.359868\n",
      "         Iterations: 1\n",
      "         Function evaluations: 3\n",
      "         Gradient evaluations: 3\n",
      "j\n",
      "Optimization terminated successfully.\n",
      "         Current function value: 0.359868\n",
      "         Iterations: 1\n",
      "         Function evaluations: 3\n",
      "         Gradient evaluations: 3\n",
      "j\n"
     ]
    },
    {
     "name": "stdout",
     "output_type": "stream",
     "text": [
      "Optimization terminated successfully.\n",
      "         Current function value: 0.359868\n",
      "         Iterations: 1\n",
      "         Function evaluations: 3\n",
      "         Gradient evaluations: 3\n",
      "j\n",
      "Optimization terminated successfully.\n",
      "         Current function value: 0.359868\n",
      "         Iterations: 1\n",
      "         Function evaluations: 3\n",
      "         Gradient evaluations: 3\n",
      "j\n",
      "Optimization terminated successfully.\n",
      "         Current function value: 0.359868\n",
      "         Iterations: 1\n",
      "         Function evaluations: 3\n",
      "         Gradient evaluations: 3\n",
      "j\n",
      "Optimization terminated successfully.\n",
      "         Current function value: 0.359868\n",
      "         Iterations: 1\n",
      "         Function evaluations: 3\n",
      "         Gradient evaluations: 3\n",
      "j\n",
      "Optimization terminated successfully.\n",
      "         Current function value: 0.359868\n",
      "         Iterations: 3\n",
      "         Function evaluations: 6\n",
      "         Gradient evaluations: 6\n",
      "j\n",
      "Optimization terminated successfully.\n",
      "         Current function value: 0.359868\n",
      "         Iterations: 1\n",
      "         Function evaluations: 3\n",
      "         Gradient evaluations: 3\n",
      "j\n",
      "Optimization terminated successfully.\n",
      "         Current function value: 0.359868\n",
      "         Iterations: 1\n",
      "         Function evaluations: 3\n",
      "         Gradient evaluations: 3\n",
      "j\n",
      "Optimization terminated successfully.\n",
      "         Current function value: 0.359868\n",
      "         Iterations: 3\n",
      "         Function evaluations: 6\n",
      "         Gradient evaluations: 6\n",
      "j\n",
      "Warning: Desired error not necessarily achieved due to precision loss.\n",
      "         Current function value: 0.359868\n",
      "         Iterations: 8\n",
      "         Function evaluations: 82\n",
      "         Gradient evaluations: 70\n",
      "j\n",
      "Warning: Desired error not necessarily achieved due to precision loss.\n",
      "         Current function value: 0.359868\n",
      "         Iterations: 1\n",
      "         Function evaluations: 89\n",
      "         Gradient evaluations: 78\n",
      "j\n",
      "Optimization terminated successfully.\n",
      "         Current function value: 0.359868\n",
      "         Iterations: 2\n",
      "         Function evaluations: 31\n",
      "         Gradient evaluations: 31\n",
      "j\n",
      "Optimization terminated successfully.\n",
      "         Current function value: 0.359868\n",
      "         Iterations: 1\n",
      "         Function evaluations: 3\n",
      "         Gradient evaluations: 3\n",
      "j\n",
      "Optimization terminated successfully.\n",
      "         Current function value: 0.359868\n",
      "         Iterations: 1\n",
      "         Function evaluations: 3\n",
      "         Gradient evaluations: 3\n",
      "j\n",
      "Warning: Desired error not necessarily achieved due to precision loss.\n",
      "         Current function value: 0.359868\n",
      "         Iterations: 1\n",
      "         Function evaluations: 100\n",
      "         Gradient evaluations: 89\n",
      "j\n",
      "Warning: Desired error not necessarily achieved due to precision loss.\n",
      "         Current function value: 0.359868\n",
      "         Iterations: 1\n",
      "         Function evaluations: 98\n",
      "         Gradient evaluations: 86\n",
      "j\n",
      "Optimization terminated successfully.\n",
      "         Current function value: 0.359868\n",
      "         Iterations: 1\n",
      "         Function evaluations: 3\n",
      "         Gradient evaluations: 3\n",
      "j\n",
      "Warning: Desired error not necessarily achieved due to precision loss.\n",
      "         Current function value: 0.359868\n",
      "         Iterations: 1\n",
      "         Function evaluations: 83\n",
      "         Gradient evaluations: 71\n",
      "j\n",
      "Optimization terminated successfully.\n",
      "         Current function value: 0.359868\n",
      "         Iterations: 2\n",
      "         Function evaluations: 31\n",
      "         Gradient evaluations: 31\n",
      "j\n",
      "Warning: Desired error not necessarily achieved due to precision loss.\n",
      "         Current function value: 0.359868\n",
      "         Iterations: 1\n",
      "         Function evaluations: 4\n",
      "         Gradient evaluations: 3\n",
      "j\n",
      "Warning: Desired error not necessarily achieved due to precision loss.\n",
      "         Current function value: 0.359868\n",
      "         Iterations: 1\n",
      "         Function evaluations: 95\n",
      "         Gradient evaluations: 84\n",
      "j\n",
      "Optimization terminated successfully.\n",
      "         Current function value: 0.359868\n",
      "         Iterations: 2\n",
      "         Function evaluations: 41\n",
      "         Gradient evaluations: 41\n",
      "j\n",
      "Optimization terminated successfully.\n",
      "         Current function value: 0.359868\n",
      "         Iterations: 1\n",
      "         Function evaluations: 3\n",
      "         Gradient evaluations: 3\n",
      "j\n",
      "Optimization terminated successfully.\n",
      "         Current function value: 0.359868\n",
      "         Iterations: 1\n",
      "         Function evaluations: 3\n",
      "         Gradient evaluations: 3\n",
      "j\n",
      "Warning: Desired error not necessarily achieved due to precision loss.\n",
      "         Current function value: 0.359868\n",
      "         Iterations: 1\n",
      "         Function evaluations: 92\n",
      "         Gradient evaluations: 81\n",
      "j\n",
      "Optimization terminated successfully.\n",
      "         Current function value: 0.359868\n",
      "         Iterations: 1\n",
      "         Function evaluations: 3\n",
      "         Gradient evaluations: 3\n",
      "j\n",
      "Optimization terminated successfully.\n",
      "         Current function value: 0.359868\n",
      "         Iterations: 1\n",
      "         Function evaluations: 3\n",
      "         Gradient evaluations: 3\n",
      "j\n",
      "Warning: Desired error not necessarily achieved due to precision loss.\n",
      "         Current function value: 0.359868\n",
      "         Iterations: 1\n",
      "         Function evaluations: 4\n",
      "         Gradient evaluations: 3\n",
      "j\n",
      "Warning: Desired error not necessarily achieved due to precision loss.\n",
      "         Current function value: 0.359868\n",
      "         Iterations: 1\n",
      "         Function evaluations: 4\n",
      "         Gradient evaluations: 3\n",
      "j\n",
      "Optimization terminated successfully.\n",
      "         Current function value: 0.359868\n",
      "         Iterations: 1\n",
      "         Function evaluations: 3\n",
      "         Gradient evaluations: 3\n",
      "j\n",
      "Warning: Desired error not necessarily achieved due to precision loss.\n",
      "         Current function value: 0.359868\n",
      "         Iterations: 1\n",
      "         Function evaluations: 4\n",
      "         Gradient evaluations: 3\n",
      "j\n",
      "Warning: Desired error not necessarily achieved due to precision loss.\n",
      "         Current function value: 0.359868\n",
      "         Iterations: 1\n",
      "         Function evaluations: 4\n",
      "         Gradient evaluations: 3\n",
      "j\n",
      "Optimization terminated successfully.\n",
      "         Current function value: 0.359868\n",
      "         Iterations: 1\n",
      "         Function evaluations: 3\n",
      "         Gradient evaluations: 3\n",
      "j\n",
      "Warning: Desired error not necessarily achieved due to precision loss.\n",
      "         Current function value: 0.359868\n",
      "         Iterations: 1\n",
      "         Function evaluations: 95\n",
      "         Gradient evaluations: 83\n",
      "j\n",
      "Warning: Desired error not necessarily achieved due to precision loss.\n",
      "         Current function value: 0.359868\n",
      "         Iterations: 1\n",
      "         Function evaluations: 84\n",
      "         Gradient evaluations: 73\n",
      "j\n",
      "Optimization terminated successfully.\n",
      "         Current function value: 0.359868\n",
      "         Iterations: 1\n",
      "         Function evaluations: 3\n",
      "         Gradient evaluations: 3\n",
      "j\n",
      "Warning: Desired error not necessarily achieved due to precision loss.\n",
      "         Current function value: 0.359868\n",
      "         Iterations: 1\n",
      "         Function evaluations: 4\n",
      "         Gradient evaluations: 3\n",
      "j\n",
      "Warning: Desired error not necessarily achieved due to precision loss.\n",
      "         Current function value: 0.359868\n",
      "         Iterations: 1\n",
      "         Function evaluations: 81\n",
      "         Gradient evaluations: 70\n",
      "j\n",
      "Warning: Desired error not necessarily achieved due to precision loss.\n",
      "         Current function value: 0.359868\n",
      "         Iterations: 2\n",
      "         Function evaluations: 39\n",
      "         Gradient evaluations: 38\n",
      "j\n",
      "Optimization terminated successfully.\n",
      "         Current function value: 0.359868\n",
      "         Iterations: 1\n",
      "         Function evaluations: 3\n",
      "         Gradient evaluations: 3\n",
      "j\n",
      "Warning: Desired error not necessarily achieved due to precision loss.\n",
      "         Current function value: 0.359868\n",
      "         Iterations: 1\n",
      "         Function evaluations: 5\n",
      "         Gradient evaluations: 4\n",
      "j\n",
      "Warning: Desired error not necessarily achieved due to precision loss.\n",
      "         Current function value: 0.359868\n",
      "         Iterations: 2\n",
      "         Function evaluations: 121\n",
      "         Gradient evaluations: 109\n",
      "j\n",
      "Warning: Desired error not necessarily achieved due to precision loss.\n",
      "         Current function value: 0.359868\n",
      "         Iterations: 1\n",
      "         Function evaluations: 5\n",
      "         Gradient evaluations: 4\n",
      "j\n",
      "Optimization terminated successfully.\n",
      "         Current function value: 0.359868\n",
      "         Iterations: 1\n",
      "         Function evaluations: 3\n",
      "         Gradient evaluations: 3\n",
      "j\n",
      "Warning: Desired error not necessarily achieved due to precision loss.\n",
      "         Current function value: 0.359868\n",
      "         Iterations: 1\n",
      "         Function evaluations: 87\n",
      "         Gradient evaluations: 75\n",
      "j\n",
      "Warning: Desired error not necessarily achieved due to precision loss.\n",
      "         Current function value: 0.359868\n",
      "         Iterations: 1\n",
      "         Function evaluations: 4\n",
      "         Gradient evaluations: 3\n",
      "j\n"
     ]
    },
    {
     "name": "stdout",
     "output_type": "stream",
     "text": [
      "Warning: Desired error not necessarily achieved due to precision loss.\n",
      "         Current function value: 0.359868\n",
      "         Iterations: 1\n",
      "         Function evaluations: 95\n",
      "         Gradient evaluations: 83\n",
      "j\n",
      "Warning: Desired error not necessarily achieved due to precision loss.\n",
      "         Current function value: 0.359868\n",
      "         Iterations: 1\n",
      "         Function evaluations: 88\n",
      "         Gradient evaluations: 76\n",
      "j\n",
      "Warning: Desired error not necessarily achieved due to precision loss.\n",
      "         Current function value: 0.359868\n",
      "         Iterations: 1\n",
      "         Function evaluations: 90\n",
      "         Gradient evaluations: 78\n",
      "j\n",
      "Warning: Desired error not necessarily achieved due to precision loss.\n",
      "         Current function value: 0.359868\n",
      "         Iterations: 0\n",
      "         Function evaluations: 90\n",
      "         Gradient evaluations: 78\n"
     ]
    },
    {
     "data": {
      "text/plain": [
       "array([0.10630977, 0.89369023])"
      ]
     },
     "execution_count": 28,
     "metadata": {},
     "output_type": "execute_result"
    }
   ],
   "source": [
    "AlgOptBar([kernel1, kernel2], law_p, law_q, m=1000, n=100, alpha=0.3)"
   ]
  },
  {
   "cell_type": "code",
   "execution_count": 46,
   "metadata": {},
   "outputs": [],
   "source": [
    "sigma1 = 1.1\n",
    "mu1 = .2\n",
    "sigma2 = 1\n",
    "mu2 = 0\n",
    "omega = 0.01\n",
    "omega1 = 0.01\n",
    "omega2 = 20\n",
    "law_p = normal(mu1,sigma1)\n",
    "law_q = normal(mu2,sigma2)\n",
    "kernel1 = gaussian(omega1**2)\n",
    "kernel2 = gaussian(omega2**2)\n",
    "alpha = 0.05\n",
    "m=1000\n",
    "n=100"
   ]
  },
  {
   "cell_type": "code",
   "execution_count": 48,
   "metadata": {},
   "outputs": [
    {
     "name": "stdout",
     "output_type": "stream",
     "text": [
      "Warning: Desired error not necessarily achieved due to precision loss.\n",
      "         Current function value: 1.578101\n",
      "         Iterations: 81\n",
      "         Function evaluations: 159\n",
      "         Gradient evaluations: 149\n",
      "j\n",
      "Warning: Desired error not necessarily achieved due to precision loss.\n",
      "         Current function value: 1.578100\n",
      "         Iterations: 1\n",
      "         Function evaluations: 110\n",
      "         Gradient evaluations: 98\n",
      "j\n",
      "Warning: Desired error not necessarily achieved due to precision loss.\n",
      "         Current function value: 1.578102\n",
      "         Iterations: 1\n",
      "         Function evaluations: 89\n",
      "         Gradient evaluations: 78\n"
     ]
    },
    {
     "data": {
      "text/plain": [
       "array([0.11545959, 0.88454041])"
      ]
     },
     "execution_count": 48,
     "metadata": {},
     "output_type": "execute_result"
    }
   ],
   "source": [
    "AlgOptBar([kernel1, kernel2], law_p, law_q, m=1000, n=100, alpha=0.05)"
   ]
  },
  {
   "cell_type": "code",
   "execution_count": 38,
   "metadata": {},
   "outputs": [
    {
     "name": "stdout",
     "output_type": "stream",
     "text": [
      "99.9 % achevé9999 % achevéé % achevé % achevé\r"
     ]
    },
    {
     "data": {
      "text/plain": [
       "1.0"
      ]
     },
     "execution_count": 38,
     "metadata": {},
     "output_type": "execute_result"
    }
   ],
   "source": [
    "thresh = threshold_MC(CCK([kernel1, kernel2],[0.003,0.997]), law_p, law_p, m=1000, n=100, alpha=0.05,verbose=0)\n",
    "puissance_MC(OMMD, CCK([kernel1, kernel2],[0.003,0.997]), law_p, law_q,1000,100,thresh)"
   ]
  },
  {
   "cell_type": "code",
   "execution_count": 39,
   "metadata": {},
   "outputs": [
    {
     "name": "stdout",
     "output_type": "stream",
     "text": [
      "99.9 % achevé9999 % achevéé\r"
     ]
    },
    {
     "data": {
      "text/plain": [
       "0.226"
      ]
     },
     "execution_count": 39,
     "metadata": {},
     "output_type": "execute_result"
    }
   ],
   "source": [
    "thresh = threshold_MC(CCK([kernel1, kernel2],[0.997,0.003]), law_p, law_p, m=1000, n=100, alpha=0.05,verbose=0)\n",
    "puissance_MC(OMMD, CCK([kernel1, kernel2],[0.997,0.003]), law_p, law_q,1000,100,thresh)"
   ]
  },
  {
   "cell_type": "code",
   "execution_count": null,
   "metadata": {},
   "outputs": [],
   "source": []
  }
 ],
 "metadata": {
  "kernelspec": {
   "display_name": "Python 3",
   "language": "python",
   "name": "python3"
  },
  "language_info": {
   "codemirror_mode": {
    "name": "ipython",
    "version": 3
   },
   "file_extension": ".py",
   "mimetype": "text/x-python",
   "name": "python",
   "nbconvert_exporter": "python",
   "pygments_lexer": "ipython3",
   "version": "3.6.8"
  }
 },
 "nbformat": 4,
 "nbformat_minor": 2
}
