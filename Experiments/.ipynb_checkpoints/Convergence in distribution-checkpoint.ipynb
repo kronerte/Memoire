{
 "cells": [
  {
   "cell_type": "markdown",
   "metadata": {},
   "source": [
    "# Convergence in distribution"
   ]
  },
  {
   "cell_type": "markdown",
   "metadata": {},
   "source": [
    "In this jupyter notebook we will study the convergence in law of the OMMD.<br>"
   ]
  },
  {
   "cell_type": "markdown",
   "metadata": {},
   "source": [
    "## First import the package"
   ]
  },
  {
   "cell_type": "code",
   "execution_count": 1,
   "metadata": {},
   "outputs": [],
   "source": [
    "import os\n",
    "os.chdir('..')\n",
    "import Anomaly"
   ]
  },
  {
   "cell_type": "code",
   "execution_count": 2,
   "metadata": {},
   "outputs": [],
   "source": [
    "import numpy as np\n",
    "import matplotlib.pyplot as plt\n",
    "import importlib\n",
    "from seaborn import kdeplot"
   ]
  },
  {
   "cell_type": "code",
   "execution_count": 3,
   "metadata": {},
   "outputs": [
    {
     "name": "stdout",
     "output_type": "stream",
     "text": [
      "Populating the interactive namespace from numpy and matplotlib\n"
     ]
    }
   ],
   "source": [
    "%pylab inline\n",
    "pylab.rcParams['figure.figsize'] = (15, 8)"
   ]
  },
  {
   "cell_type": "markdown",
   "metadata": {},
   "source": [
    "## Case 1 :Mains estimators"
   ]
  },
  {
   "cell_type": "markdown",
   "metadata": {},
   "source": [
    "### setup"
   ]
  },
  {
   "cell_type": "code",
   "execution_count": 4,
   "metadata": {},
   "outputs": [],
   "source": [
    "law_p = Anomaly.utils.normal(0,1)\n",
    "law_q = Anomaly.utils.normal(1,1)\n",
    "kernel = Anomaly.kernels.gaussian(1)\n",
    "MMD = Anomaly.MMD.OMMD"
   ]
  },
  {
   "cell_type": "markdown",
   "metadata": {},
   "source": [
    "### Mains estimators"
   ]
  },
  {
   "cell_type": "markdown",
   "metadata": {},
   "source": [
    "#### Mean of OMMD distribution"
   ]
  },
  {
   "cell_type": "code",
   "execution_count": 5,
   "metadata": {},
   "outputs": [
    {
     "name": "stdout",
     "output_type": "stream",
     "text": [
      "99.0 % achevé9999 % achevéé\r"
     ]
    },
    {
     "data": {
      "text/plain": [
       "0.18404384903330326"
      ]
     },
     "execution_count": 5,
     "metadata": {},
     "output_type": "execute_result"
    }
   ],
   "source": [
    "Anomaly.estimators.moyenneMMD_MC(MMD, kernel, law_p, law_q, m=1000, n=100, repeat=100, verbose=1)"
   ]
  },
  {
   "cell_type": "code",
   "execution_count": 6,
   "metadata": {},
   "outputs": [
    {
     "name": "stdout",
     "output_type": "stream",
     "text": [
      "99.0 % achevé9999 % achevéé\r"
     ]
    },
    {
     "data": {
      "text/plain": [
       "0.23142856740942327"
      ]
     },
     "execution_count": 6,
     "metadata": {},
     "output_type": "execute_result"
    }
   ],
   "source": [
    "Anomaly.estimators.moyenneMMD_Bt(MMD, kernel, law_p(1000), law_q(100), m_boot=1000, n_boot=100, repeat=100, verbose=1)"
   ]
  },
  {
   "cell_type": "markdown",
   "metadata": {},
   "source": [
    "#### Compare the two estimators of the OMMD mean"
   ]
  },
  {
   "cell_type": "code",
   "execution_count": null,
   "metadata": {},
   "outputs": [],
   "source": [
    "MCs = []\n",
    "Bts = []\n",
    "for i in range(100):\n",
    "    print(i, end='\\r',flush=True)\n",
    "    MCs.append(Anomaly.estimators.moyenneMMD_MC(MMD, kernel, law_p, law_q, m=1000, n=100, repeat=10, verbose=0))\n",
    "    Bts.append(Anomaly.estimators.moyenneMMD_Bt(MMD, kernel, law_p(1000), law_q(100), m_boot=1000, n_boot=100, repeat=10, verbose=0))\n",
    "    \n",
    "kdeplot(MCs, label=\"Monte Carlo Methods\")\n",
    "kdeplot(Bts, label=\"Bootstrap Methods\")"
   ]
  },
  {
   "cell_type": "markdown",
   "metadata": {},
   "source": [
    "#### Variance of the OMMD"
   ]
  },
  {
   "cell_type": "code",
   "execution_count": 7,
   "metadata": {},
   "outputs": [
    {
     "name": "stdout",
     "output_type": "stream",
     "text": [
      "Start computing first componant\n",
      "Start computing second componant\n",
      "99.0 % achevé9999 % achevéé\r"
     ]
    },
    {
     "data": {
      "text/plain": [
       "1.7246072979503189"
      ]
     },
     "execution_count": 7,
     "metadata": {},
     "output_type": "execute_result"
    }
   ],
   "source": [
    "Anomaly.estimators.var_OMMD_MC(kernel, law_p, law_q, finalSampleSize=100, verbose=1)"
   ]
  },
  {
   "cell_type": "code",
   "execution_count": 8,
   "metadata": {},
   "outputs": [
    {
     "name": "stdout",
     "output_type": "stream",
     "text": [
      "Start computing first componant\n",
      "Start computing second componanthevé % achevé % achevé % achevé % achevé\n",
      "99.0 % achevé9999 % achevéé% achevé % achevé % achevé % achevé % achevé % achevé\r"
     ]
    },
    {
     "data": {
      "text/plain": [
       "1.4804926390480309"
      ]
     },
     "execution_count": 8,
     "metadata": {},
     "output_type": "execute_result"
    }
   ],
   "source": [
    "Anomaly.estimators.var_OMMD_Bt(kernel, law_p(1000), law_q(100), finalSampleSize=100, verbose=1)"
   ]
  },
  {
   "cell_type": "markdown",
   "metadata": {},
   "source": [
    "## Case 2 : Convergence Experiments"
   ]
  },
  {
   "cell_type": "code",
   "execution_count": 4,
   "metadata": {},
   "outputs": [],
   "source": [
    "law_p = Anomaly.utils.normal(0,2)\n",
    "law_q = Anomaly.utils.normal(10,1)\n",
    "kernel = Anomaly.kernels.gaussian(1)\n",
    "MMD = Anomaly.MMD.OMMD"
   ]
  },
  {
   "cell_type": "code",
   "execution_count": 5,
   "metadata": {},
   "outputs": [
    {
     "name": "stdout",
     "output_type": "stream",
     "text": [
      "Start computing first componant\n",
      "Start computing second componanthevé % achevé % achevé % achevé % achevé % achevé % achevé % achevé % achevé % achevé % achevé % achevé % achevé % achevé % achevé % achevé % achevé % achevé % achevé % achevé % achevé % achevé % achevé % achevé % achevé % achevé % achevé % achevé % achevé % achevé % achevé % achevé % achevé % achevé % achevé % achevé% achevé % achevé % achevé% achevé % achevé % achevé % achevé % achevé % achevé % achevé % achevé % achevé % achevé % achevé % achevé % achevé% achevé % achevé\n",
      "99.9 % achevé9999 % achevéé % achevé % achevé % achevé % achevé % achevé % achevé % achevé % achevé % achevé % achevé % achevé % achevé % achevé % achevé % achevé % achevé % achevé % achevé % achevé % achevé\r"
     ]
    }
   ],
   "source": [
    "experiment1 = Anomaly.experiments.ConvergenceInDistribution(law_H0=law_p, law_H1=law_q,\n",
    "                                                            Lambda=0.1, kernel=kernel, \n",
    "                                                            kernel_params=None, m=1000,\n",
    "                                                            n=100)\n",
    "experiment1.process()"
   ]
  },
  {
   "cell_type": "code",
   "execution_count": 6,
   "metadata": {},
   "outputs": [
    {
     "name": "stdout",
     "output_type": "stream",
     "text": [
      "estimated mean =  0.9322125588892249\n",
      "sampled mean =  0.9108244488685285\n",
      "estimated var =  0.002630918632105689\n",
      "sampled var =  0.0027529385880289644\n",
      "**************************************\n",
      "Shapiro Test results (p-value) (0.9984076023101807, 0.49573954939842224)\n"
     ]
    },
    {
     "data": {
      "image/png": "[encoded data removed]",
      "text/plain": [
       "<Figure size 1080x576 with 1 Axes>"
      ]
     },
     "metadata": {
      "needs_background": "light"
     },
     "output_type": "display_data"
    }
   ],
   "source": [
    "experiment1.view()"
   ]
  },
  {
   "cell_type": "code",
   "execution_count": 7,
   "metadata": {},
   "outputs": [],
   "source": [
    "experience2 = Anomaly.experiments.Shapiro(law_H0=law_p, law_H1=law_q,\n",
    "                                                        kernel=kernel, \n",
    "                                                         ListMN = [(1000,2),(1000,8),(1000,10),(1000,100)])"
   ]
  },
  {
   "cell_type": "code",
   "execution_count": 8,
   "metadata": {},
   "outputs": [
    {
     "name": "stdout",
     "output_type": "stream",
     "text": [
      "99.9 % achevé9999 % achevéé % achevé % achevé % achevé % achevé % achevé % achevé % achevé% achevé % achevé % achevé % achevé % achevé % achevé % achevé % achevé % achevé % achevé % achevé % achevé % achevé % achevé % achevé % achevé % achevé % achevé % achevé % achevé % achevé % achevé % achevé % achevé % achevé % achevé % achevé % achevé % achevé % achevé % achevé % achevé % achevé % achevé % achevé % achevé % achevé % achevé % achevé % achevé % achevé % achevé % achevé % achevé % achevé % achevé% achevé % achevé % achevé % achevé % achevé % achevé % achevé % achevé % achevé % achevé % achevé % achevé % achevé % achevé % achevé % achevé % achevé % achevé % achevé % achevé % achevé % achevé % achevé % achevé% achevé % achevé % achevé % achevé% achevé % achevé % achevé% achevé % achevé % achevé % achevé % achevé % achevé % achevé % achevé\r"
     ]
    }
   ],
   "source": [
    "experience2.process()"
   ]
  },
  {
   "cell_type": "code",
   "execution_count": 9,
   "metadata": {},
   "outputs": [
    {
     "name": "stdout",
     "output_type": "stream",
     "text": [
      "[(1000, 2), (1000, 8), (1000, 10), (1000, 100)]\n"
     ]
    },
    {
     "data": {
      "image/png": "[encoded data removed]",
      "text/plain": [
       "<Figure size 1080x576 with 1 Axes>"
      ]
     },
     "metadata": {
      "needs_background": "light"
     },
     "output_type": "display_data"
    }
   ],
   "source": [
    "experience2.view()"
   ]
  },
  {
   "cell_type": "markdown",
   "metadata": {},
   "source": [
    "## Case 3 : Multi-dimentionnal data"
   ]
  },
  {
   "cell_type": "code",
   "execution_count": 21,
   "metadata": {},
   "outputs": [],
   "source": [
    "\n",
    "law_q = lambda size : np.random.normal(1,1,size = (size, 1))\n",
    "kernel = Anomaly.kernels.gaussian(1)\n",
    "MMD = Anomaly.MMD.OMMD"
   ]
  },
  {
   "cell_type": "code",
   "execution_count": 18,
   "metadata": {},
   "outputs": [],
   "source": [
    "from scipy.stats import shapiro"
   ]
  },
  {
   "cell_type": "code",
   "execution_count": 19,
   "metadata": {},
   "outputs": [],
   "source": [
    "from Anomaly.estimators import sampleMMD_MC"
   ]
  },
  {
   "cell_type": "code",
   "execution_count": 27,
   "metadata": {},
   "outputs": [
    {
     "name": "stdout",
     "output_type": "stream",
     "text": [
      "dim = 1\n",
      "Test Shapiro : (0.9943974614143372, 0.9563936591148376)\n",
      "dim = 2\n",
      "Test Shapiro : (0.9815528988838196, 0.1753254234790802)\n",
      "dim = 3\n",
      "Test Shapiro : (0.9901992082595825, 0.6807025671005249)\n",
      "dim = 4\n",
      "Test Shapiro : (0.9756209254264832, 0.060349177569150925)\n",
      "dim = 5\n",
      "Test Shapiro : (0.9899352788925171, 0.6593635082244873)\n",
      "dim = 6\n",
      "Test Shapiro : (0.9765210151672363, 0.07099872082471848)\n",
      "dim = 7\n",
      "Test Shapiro : (0.966651439666748, 0.012325089424848557)\n",
      "dim = 8\n",
      "Test Shapiro : (0.9385693669319153, 0.0001578694791533053)\n",
      "dim = 9\n",
      "Test Shapiro : (0.9592778086662292, 0.0035728146322071552)\n",
      "dim = 10\n",
      "Test Shapiro : (0.9148007035255432, 7.53619951865403e-06)\n",
      "dim = 11\n",
      "Test Shapiro : (0.9004665613174438, 1.4871582152409246e-06)\n",
      "dim = 12\n",
      "Test Shapiro : (0.8748349547386169, 1.1040746272783508e-07)\n",
      "dim = 13\n",
      "Test Shapiro : (0.8208605051040649, 1.1416012579701373e-09)\n",
      "dim = 14\n",
      "Test Shapiro : (0.7422549724578857, 5.872392849770591e-12)\n",
      "dim = 15\n",
      "Test Shapiro : (0.7060425281524658, 7.474992304822015e-13)\n",
      "dim = 16\n",
      "Test Shapiro : (0.4841439723968506, 4.3045459990744895e-17)\n",
      "dim = 17\n",
      "Test Shapiro : (0.6133133172988892, 7.75899797970242e-15)\n",
      "dim = 18\n",
      "Test Shapiro : (0.6606690883636475, 7.157122794811469e-14)\n",
      "dim = 19\n",
      "Test Shapiro : (0.27597934007644653, 5.706827613458736e-20)\n"
     ]
    }
   ],
   "source": [
    "Law_p = lambda dim : lambda size : np.random.normal(0,1, size = (size, dim))\n",
    "Law_q = lambda dim : lambda size : np.random.normal(1,1, size = (size, dim))\n",
    "\n",
    "for dim in range(1,20):\n",
    "    print(\"dim =\",dim)\n",
    "    law_p = Law_p(dim)\n",
    "    law_q = Law_q(dim)\n",
    "    print(\"Test Shapiro :\",shapiro(sampleMMD_MC(MMD, kernel, law_p, law_q, 1000, 100, finalSampleSize = 100, verbose=1)))\n",
    "    "
   ]
  },
  {
   "cell_type": "code",
   "execution_count": 31,
   "metadata": {},
   "outputs": [
    {
     "name": "stdout",
     "output_type": "stream",
     "text": [
      "99.9 % achevé9999 % achevéé% achevé\r"
     ]
    },
    {
     "data": {
      "text/plain": [
       "(array([ 81., 250., 290., 179.,  90.,  42.,  36.,  18.,   8.,   6.]),\n",
       " array([0.00231873, 0.00388344, 0.00544815, 0.00701286, 0.00857757,\n",
       "        0.01014228, 0.01170698, 0.01327169, 0.0148364 , 0.01640111,\n",
       "        0.01796582]),\n",
       " <a list of 10 Patch objects>)"
      ]
     },
     "execution_count": 31,
     "metadata": {},
     "output_type": "execute_result"
    },
    {
     "data": {
      "image/png": "[encoded data removed]",
      "text/plain": [
       "<Figure size 1080x576 with 1 Axes>"
      ]
     },
     "metadata": {
      "needs_background": "light"
     },
     "output_type": "display_data"
    }
   ],
   "source": [
    "import matplotlib.pyplot as plt\n",
    "plt.hist(sampleMMD_MC(MMD, kernel, Law_p(10), Law_q(10), 1000, 100))"
   ]
  },
  {
   "cell_type": "code",
   "execution_count": 32,
   "metadata": {},
   "outputs": [
    {
     "name": "stdout",
     "output_type": "stream",
     "text": [
      "99.9 % achevé9999 % achevéé % achevé % achevé\r"
     ]
    },
    {
     "data": {
      "text/plain": [
       "(array([  6.,  18., 105., 169., 262., 225., 135.,  62.,  14.,   4.]),\n",
       " array([0.040006  , 0.06312457, 0.08624314, 0.1093617 , 0.13248027,\n",
       "        0.15559884, 0.17871741, 0.20183597, 0.22495454, 0.24807311,\n",
       "        0.27119168]),\n",
       " <a list of 10 Patch objects>)"
      ]
     },
     "execution_count": 32,
     "metadata": {},
     "output_type": "execute_result"
    },
    {
     "data": {
      "image/png": "[encoded data removed]",
      "text/plain": [
       "<Figure size 1080x576 with 1 Axes>"
      ]
     },
     "metadata": {
      "needs_background": "light"
     },
     "output_type": "display_data"
    }
   ],
   "source": [
    "import matplotlib.pyplot as plt\n",
    "plt.hist(sampleMMD_MC(MMD, kernel, Law_p(3), Law_q(3), 1000, 100))"
   ]
  },
  {
   "cell_type": "code",
   "execution_count": null,
   "metadata": {},
   "outputs": [],
   "source": []
  }
 ],
 "metadata": {
  "kernelspec": {
   "display_name": "Python 3",
   "language": "python",
   "name": "python3"
  },
  "language_info": {
   "codemirror_mode": {
    "name": "ipython",
    "version": 3
   },
   "file_extension": ".py",
   "mimetype": "text/x-python",
   "name": "python",
   "nbconvert_exporter": "python",
   "pygments_lexer": "ipython3",
   "version": "3.6.8"
  }
 },
 "nbformat": 4,
 "nbformat_minor": 2
}
