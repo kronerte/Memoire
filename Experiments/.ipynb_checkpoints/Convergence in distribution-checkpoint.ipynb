{
 "cells": [
  {
   "cell_type": "markdown",
   "metadata": {},
   "source": [
    "# Convergence in distribution"
   ]
  },
  {
   "cell_type": "markdown",
   "metadata": {},
   "source": [
    "In this jupyter notebook we will study the convergence in law of the OMMD.<br>"
   ]
  },
  {
   "cell_type": "markdown",
   "metadata": {},
   "source": [
    "## First import the package"
   ]
  },
  {
   "cell_type": "code",
   "execution_count": 1,
   "metadata": {},
   "outputs": [],
   "source": [
    "import os\n",
    "os.chdir('..')\n",
    "import Anomaly"
   ]
  },
  {
   "cell_type": "code",
   "execution_count": 2,
   "metadata": {},
   "outputs": [],
   "source": [
    "import numpy as np\n",
    "import matplotlib.pyplot as plt\n",
    "import importlib\n",
    "from seaborn import kdeplot"
   ]
  },
  {
   "cell_type": "code",
   "execution_count": 3,
   "metadata": {},
   "outputs": [
    {
     "name": "stdout",
     "output_type": "stream",
     "text": [
      "Populating the interactive namespace from numpy and matplotlib\n"
     ]
    }
   ],
   "source": [
    "%pylab inline\n",
    "pylab.rcParams['figure.figsize'] = (15, 8)"
   ]
  },
  {
   "cell_type": "markdown",
   "metadata": {},
   "source": [
    "## Case 1 :Mains estimators"
   ]
  },
  {
   "cell_type": "markdown",
   "metadata": {},
   "source": [
    "### setup"
   ]
  },
  {
   "cell_type": "code",
   "execution_count": 4,
   "metadata": {},
   "outputs": [],
   "source": [
    "law_p = Anomaly.utils.normal(0,1)\n",
    "law_q = Anomaly.utils.normal(1,1)\n",
    "kernel = Anomaly.kernels.gaussian(1)\n",
    "MMD = Anomaly.MMD.OMMD"
   ]
  },
  {
   "cell_type": "markdown",
   "metadata": {},
   "source": [
    "### Mains estimators"
   ]
  },
  {
   "cell_type": "markdown",
   "metadata": {},
   "source": [
    "#### Mean of OMMD distribution"
   ]
  },
  {
   "cell_type": "code",
   "execution_count": 5,
   "metadata": {},
   "outputs": [
    {
     "name": "stdout",
     "output_type": "stream",
     "text": [
      "99.0 % achevé9999 % achevéé\r"
     ]
    },
    {
     "data": {
      "text/plain": [
       "0.18404384903330326"
      ]
     },
     "execution_count": 5,
     "metadata": {},
     "output_type": "execute_result"
    }
   ],
   "source": [
    "Anomaly.estimators.moyenneMMD_MC(MMD, kernel, law_p, law_q, m=1000, n=100, repeat=100, verbose=1)"
   ]
  },
  {
   "cell_type": "code",
   "execution_count": 6,
   "metadata": {},
   "outputs": [
    {
     "name": "stdout",
     "output_type": "stream",
     "text": [
      "99.0 % achevé9999 % achevéé\r"
     ]
    },
    {
     "data": {
      "text/plain": [
       "0.23142856740942327"
      ]
     },
     "execution_count": 6,
     "metadata": {},
     "output_type": "execute_result"
    }
   ],
   "source": [
    "Anomaly.estimators.moyenneMMD_Bt(MMD, kernel, law_p(1000), law_q(100), m_boot=1000, n_boot=100, repeat=100, verbose=1)"
   ]
  },
  {
   "cell_type": "markdown",
   "metadata": {},
   "source": [
    "#### Compare the two estimators of the OMMD mean"
   ]
  },
  {
   "cell_type": "code",
   "execution_count": null,
   "metadata": {},
   "outputs": [],
   "source": [
    "MCs = []\n",
    "Bts = []\n",
    "for i in range(100):\n",
    "    print(i, end='\\r',flush=True)\n",
    "    MCs.append(Anomaly.estimators.moyenneMMD_MC(MMD, kernel, law_p, law_q, m=1000, n=100, repeat=10, verbose=0))\n",
    "    Bts.append(Anomaly.estimators.moyenneMMD_Bt(MMD, kernel, law_p(1000), law_q(100), m_boot=1000, n_boot=100, repeat=10, verbose=0))\n",
    "    \n",
    "kdeplot(MCs, label=\"Monte Carlo Methods\")\n",
    "kdeplot(Bts, label=\"Bootstrap Methods\")"
   ]
  },
  {
   "cell_type": "markdown",
   "metadata": {},
   "source": [
    "#### Variance of the OMMD"
   ]
  },
  {
   "cell_type": "code",
   "execution_count": 7,
   "metadata": {},
   "outputs": [
    {
     "name": "stdout",
     "output_type": "stream",
     "text": [
      "Start computing first componant\n",
      "Start computing second componant\n",
      "99.0 % achevé9999 % achevéé\r"
     ]
    },
    {
     "data": {
      "text/plain": [
       "1.7246072979503189"
      ]
     },
     "execution_count": 7,
     "metadata": {},
     "output_type": "execute_result"
    }
   ],
   "source": [
    "Anomaly.estimators.var_OMMD_MC(kernel, law_p, law_q, finalSampleSize=100, verbose=1)"
   ]
  },
  {
   "cell_type": "code",
   "execution_count": 8,
   "metadata": {},
   "outputs": [
    {
     "name": "stdout",
     "output_type": "stream",
     "text": [
      "Start computing first componant\n",
      "Start computing second componanthevé % achevé % achevé % achevé % achevé\n",
      "99.0 % achevé9999 % achevéé% achevé % achevé % achevé % achevé % achevé % achevé\r"
     ]
    },
    {
     "data": {
      "text/plain": [
       "1.4804926390480309"
      ]
     },
     "execution_count": 8,
     "metadata": {},
     "output_type": "execute_result"
    }
   ],
   "source": [
    "Anomaly.estimators.var_OMMD_Bt(kernel, law_p(1000), law_q(100), finalSampleSize=100, verbose=1)"
   ]
  },
  {
   "cell_type": "markdown",
   "metadata": {},
   "source": [
    "## Case 2 : Convergence Experiments"
   ]
  },
  {
   "cell_type": "code",
   "execution_count": 4,
   "metadata": {},
   "outputs": [],
   "source": [
    "law_p = Anomaly.utils.normal(0,2)\n",
    "law_q = Anomaly.utils.normal(10,1)\n",
    "kernel = Anomaly.kernels.gaussian(1)\n",
    "MMD = Anomaly.MMD.OMMD"
   ]
  },
  {
   "cell_type": "code",
   "execution_count": 5,
   "metadata": {},
   "outputs": [
    {
     "name": "stdout",
     "output_type": "stream",
     "text": [
      "Start computing first componant\n",
      "Start computing second componanthevé % achevé % achevé % achevé % achevé % achevé % achevé % achevé % achevé % achevé % achevé % achevé % achevé % achevé % achevé % achevé % achevé % achevé % achevé % achevé % achevé % achevé % achevé % achevé % achevé % achevé % achevé % achevé % achevé % achevé % achevé % achevé % achevé % achevé % achevé % achevé% achevé % achevé % achevé% achevé % achevé % achevé % achevé % achevé % achevé % achevé % achevé % achevé % achevé % achevé % achevé % achevé% achevé % achevé\n",
      "99.9 % achevé9999 % achevéé % achevé % achevé % achevé % achevé % achevé % achevé % achevé % achevé % achevé % achevé % achevé % achevé % achevé % achevé % achevé % achevé % achevé % achevé % achevé % achevé\r"
     ]
    }
   ],
   "source": [
    "experiment1 = Anomaly.experiments.ConvergenceInDistribution(law_H0=law_p, law_H1=law_q,\n",
    "                                                            Lambda=0.1, kernel=kernel, \n",
    "                                                            kernel_params=None, m=1000,\n",
    "                                                            n=100)\n",
    "experiment1.process()"
   ]
  },
  {
   "cell_type": "code",
   "execution_count": 6,
   "metadata": {},
   "outputs": [
    {
     "name": "stdout",
     "output_type": "stream",
     "text": [
      "estimated mean =  0.9322125588892249\n",
      "sampled mean =  0.9108244488685285\n",
      "estimated var =  0.002630918632105689\n",
      "sampled var =  0.0027529385880289644\n",
      "**************************************\n",
      "Shapiro Test results (p-value) (0.9984076023101807, 0.49573954939842224)\n"
     ]
    },
    {
     "data": {
      "image/png": "[encoded data removed]",
      "text/plain": [
       "<Figure size 1080x576 with 1 Axes>"
      ]
     },
     "metadata": {
      "needs_background": "light"
     },
     "output_type": "display_data"
    }
   ],
   "source": [
    "experiment1.view()"
   ]
  },
  {
   "cell_type": "code",
   "execution_count": 7,
   "metadata": {},
   "outputs": [],
   "source": [
    "experience2 = Anomaly.experiments.Shapiro(law_H0=law_p, law_H1=law_q,\n",
    "                                                        kernel=kernel, \n",
    "                                                         ListMN = [(1000,2),(1000,8),(1000,10),(1000,100)])"
   ]
  },
  {
   "cell_type": "code",
   "execution_count": 8,
   "metadata": {},
   "outputs": [
    {
     "name": "stdout",
     "output_type": "stream",
     "text": [
      "99.9 % achevé9999 % achevéé % achevé % achevé % achevé % achevé % achevé % achevé % achevé% achevé % achevé % achevé % achevé % achevé % achevé % achevé % achevé % achevé % achevé % achevé % achevé % achevé % achevé % achevé % achevé % achevé % achevé % achevé % achevé % achevé % achevé % achevé % achevé % achevé % achevé % achevé % achevé % achevé % achevé % achevé % achevé % achevé % achevé % achevé % achevé % achevé % achevé % achevé % achevé % achevé % achevé % achevé % achevé % achevé % achevé% achevé % achevé % achevé % achevé % achevé % achevé % achevé % achevé % achevé % achevé % achevé % achevé % achevé % achevé % achevé % achevé % achevé % achevé % achevé % achevé % achevé % achevé % achevé % achevé% achevé % achevé % achevé % achevé% achevé % achevé % achevé% achevé % achevé % achevé % achevé % achevé % achevé % achevé % achevé\r"
     ]
    }
   ],
   "source": [
    "experience2.process()"
   ]
  },
  {
   "cell_type": "code",
   "execution_count": 9,
   "metadata": {},
   "outputs": [
    {
     "name": "stdout",
     "output_type": "stream",
     "text": [
      "[(1000, 2), (1000, 8), (1000, 10), (1000, 100)]\n"
     ]
    },
    {
     "data": {
      "image/png": "[encoded data removed]",
      "text/plain": [
       "<Figure size 1080x576 with 1 Axes>"
      ]
     },
     "metadata": {
      "needs_background": "light"
     },
     "output_type": "display_data"
    }
   ],
   "source": [
    "experience2.view()"
   ]
  },
  {
   "cell_type": "markdown",
   "metadata": {},
   "source": [
    "## Case 3 : Multi-dimentionnal data"
   ]
  },
  {
   "cell_type": "code",
   "execution_count": 4,
   "metadata": {},
   "outputs": [],
   "source": [
    "\n",
    "law_q = lambda size : np.random.normal(1,1,size = (size, 1))\n",
    "kernel = Anomaly.kernels.gaussian(1)\n",
    "MMD = Anomaly.MMD.OMMD"
   ]
  },
  {
   "cell_type": "code",
   "execution_count": 5,
   "metadata": {},
   "outputs": [],
   "source": [
    "from scipy.stats import shapiro"
   ]
  },
  {
   "cell_type": "code",
   "execution_count": 6,
   "metadata": {},
   "outputs": [],
   "source": [
    "from Anomaly.estimators import sampleMMD_MC"
   ]
  },
  {
   "cell_type": "code",
   "execution_count": 22,
   "metadata": {},
   "outputs": [
    {
     "name": "stdout",
     "output_type": "stream",
     "text": [
      "dim = 1\n",
      "Test Shapiro : (0.9863364696502686, 0.3945729732513428)\n",
      "dim = 2\n",
      "Test Shapiro : (0.9905517101287842, 0.7091566324234009)\n",
      "dim = 3\n",
      "Test Shapiro : (0.9803599119186401, 0.1417829990386963)\n",
      "dim = 4\n",
      "Test Shapiro : (0.9574864506721497, 0.0026724226772785187)\n",
      "dim = 5\n",
      "Test Shapiro : (0.9898529648780823, 0.6527090072631836)\n",
      "dim = 6\n",
      "Test Shapiro : (0.9806992411613464, 0.15064257383346558)\n",
      "dim = 7\n",
      "Test Shapiro : (0.9856454133987427, 0.3531329035758972)\n",
      "dim = 8\n",
      "Test Shapiro : (0.9530014991760254, 0.0013150105951353908)\n",
      "dim = 9\n",
      "Test Shapiro : (0.9524271488189697, 0.0012030280195176601)\n",
      "dim = 10\n",
      "Test Shapiro : (0.9575701355934143, 0.002708672545850277)\n",
      "dim = 11\n",
      "Test Shapiro : (0.8883072733879089, 4.1480285517536686e-07)\n",
      "dim = 12\n",
      "Test Shapiro : (0.7632235884666443, 2.1251686174728057e-11)\n",
      "dim = 13\n",
      "Test Shapiro : (0.8698089122772217, 6.886916281700906e-08)\n",
      "dim = 14\n",
      "Test Shapiro : (0.7344121336936951, 3.697341911801377e-12)\n",
      "dim = 15\n",
      "Test Shapiro : (0.7066640257835388, 7.732287574981067e-13)\n",
      "dim = 16\n",
      "Test Shapiro : (0.8605409264564514, 2.9667608814065716e-08)\n",
      "dim = 17\n",
      "Test Shapiro : (0.49988114833831787, 7.670490818829549e-17)\n",
      "dim = 18\n",
      "Test Shapiro : (0.7401819825172424, 5.191621004624336e-12)\n",
      "dim = 19\n",
      "Test Shapiro : (0.31235289573669434, 1.620207325354653e-19)\n"
     ]
    }
   ],
   "source": [
    "Law_p = lambda dim : lambda size : np.random.normal(0,1, size = (size, dim))\n",
    "Law_q = lambda dim : lambda size : np.random.normal(1,1, size = (size, dim))\n",
    "\n",
    "for dim in range(1,20):\n",
    "    print(\"dim =\",dim)\n",
    "    law_p = Law_p(dim)\n",
    "    law_q = Law_q(dim)\n",
    "    print(\"Test Shapiro :\",shapiro(sampleMMD_MC(MMD, kernel, law_p, law_q, 1000, 100, finalSampleSize = 100, verbose=1)))\n",
    "    "
   ]
  },
  {
   "cell_type": "code",
   "execution_count": 16,
   "metadata": {},
   "outputs": [
    {
     "name": "stdout",
     "output_type": "stream",
     "text": [
      "dim = 1\n",
      "Test Shapiro : (0.9873703122138977, 0.46299678087234497) achevé % achevé % achevé % achevé\n",
      "dim = 2\n",
      "Test Shapiro : (0.9822838306427002, 0.19943568110466003) achevé% achevé % achevé\n",
      "dim = 3\n",
      "Test Shapiro : (0.9895898103713989, 0.6315068602561951)\n",
      "dim = 4\n",
      "Test Shapiro : (0.9852525591850281, 0.3311399221420288)% achevé % achevé\n",
      "dim = 5\n",
      "Test Shapiro : (0.9717528223991394, 0.030153434723615646)\n",
      "dim = 6\n",
      "Test Shapiro : (0.9821385145187378, 0.19440895318984985) achevé\n",
      "dim = 7\n",
      "Test Shapiro : (0.9868001341819763, 0.4243278503417969)% achevé % achevé % achevé\n",
      "dim = 8\n",
      "Test Shapiro : (0.9650815725326538, 0.009414805099368095)achevé % achevé\n",
      "dim = 9\n",
      "Test Shapiro : (0.9285727739334106, 4.133954280405305e-05)chevé % achevé\n",
      "dim = 10\n",
      "Test Shapiro : (0.9234498143196106, 2.155392758140806e-05)chevé % achevé % achevé\n",
      "dim = 11\n",
      "Test Shapiro : (0.8968846797943115, 1.0119896387550398e-06)hevé\n",
      "dim = 12\n",
      "Test Shapiro : (0.9029791951179504, 1.957300128196948e-06)chevé\n",
      "dim = 13\n",
      "Test Shapiro : (0.8817331194877625, 2.150321876115413e-07)chevé % achevé % achevé\n",
      "dim = 14\n",
      "Test Shapiro :999 % achevéé% achevé % achevé % achevé% achevé % achevé % achevé (0.8726214170455933, 8.956237707025139e-08)\n",
      "dim = 15\n",
      "Test Shapiro : (0.8003793954849243, 2.5433488648474167e-10)\n",
      "dim = 16\n",
      "Test Shapiro : (0.8988154530525208, 1.2441681747077382e-06)\n",
      "dim = 17\n",
      "Test Shapiro : (0.8930823802947998, 6.780750823054404e-07)chevé\n",
      "dim = 18\n",
      "Test Shapiro : (0.8456847667694092, 8.242254878609856e-09)\n",
      "dim = 19\n",
      "Test Shapiro : (0.6437207460403442, 3.1545438190869884e-14)\n"
     ]
    }
   ],
   "source": [
    "Law_p = lambda dim : lambda size : np.random.uniform(0,10, size = (size, dim))\n",
    "Law_q = lambda dim : lambda size : np.random.uniform(15,17, size = (size, dim))\n",
    "\n",
    "for dim in range(1,20):\n",
    "    print(\"dim =\",dim)\n",
    "    law_p = Law_p(dim)\n",
    "    law_q = Law_q(dim)\n",
    "    print(\"Test Shapiro :\",shapiro(sampleMMD_MC(MMD, kernel, law_p, law_q, 100, 10, finalSampleSize = 100, verbose=1)))\n",
    "    "
   ]
  },
  {
   "cell_type": "code",
   "execution_count": 20,
   "metadata": {},
   "outputs": [
    {
     "name": "stdout",
     "output_type": "stream",
     "text": [
      "dim = 1\n",
      "Test Shapiro : (0.982313871383667, 0.20048893988132477)\n",
      "dim = 2\n",
      "Test Shapiro : (0.9915941953659058, 0.7911118268966675)\n",
      "dim = 3\n",
      "Test Shapiro : (0.9818165898323059, 0.1836903691291809)\n",
      "dim = 4\n",
      "Test Shapiro : (0.9834643602371216, 0.24488916993141174)\n",
      "dim = 5\n",
      "Test Shapiro : (0.9824089407920837, 0.20385946333408356)\n",
      "dim = 6\n",
      "Test Shapiro : (0.9941571354866028, 0.9470711350440979)\n",
      "dim = 7\n",
      "Test Shapiro : (0.9876643419265747, 0.48379746079444885)\n",
      "dim = 8\n",
      "Test Shapiro : (0.9844851493835449, 0.2913980185985565)\n",
      "dim = 9\n",
      "Test Shapiro : (0.9903183579444885, 0.6903368234634399)\n",
      "dim = 10\n",
      "Test Shapiro : (0.9863657355308533, 0.39640358090400696)\n",
      "dim = 11\n",
      "Test Shapiro : (0.9838833212852478, 0.2631283700466156)\n",
      "dim = 12\n",
      "Test Shapiro : (0.9652679562568665, 0.009719216264784336)\n",
      "dim = 13\n",
      "Test Shapiro : (0.9444865584373474, 0.0003659420181065798)\n",
      "dim = 14\n",
      "Test Shapiro : (0.9610940217971802, 0.00481603154912591)\n",
      "dim = 15\n",
      "Test Shapiro : (0.9703345894813538, 0.023449108004570007)\n",
      "dim = 16\n",
      "Test Shapiro : (0.9833337068557739, 0.23943491280078888)\n",
      "dim = 17\n",
      "Test Shapiro : (0.9734399914741516, 0.040760960429906845)\n",
      "dim = 18\n",
      "Test Shapiro : (0.9516260623931885, 0.0010633013444021344)\n",
      "dim = 19\n",
      "Test Shapiro : (0.9371296167373657, 0.00012938282452523708)\n"
     ]
    }
   ],
   "source": [
    "Law_p = lambda dim : lambda size : np.random.normal(-3,5, size = (size, dim))\n",
    "Law_q = lambda dim : lambda size : np.random.uniform(15,17, size = (size, dim))\n",
    "\n",
    "for dim in range(1,20):\n",
    "    print(\"dim =\",dim)\n",
    "    law_p = Law_p(dim)\n",
    "    law_q = Law_q(dim)\n",
    "    print(\"Test Shapiro :\",shapiro(sampleMMD_MC(MMD, kernel, law_p, law_q, 1000, 100, finalSampleSize = 100, verbose=1)))"
   ]
  },
  {
   "cell_type": "code",
   "execution_count": 21,
   "metadata": {},
   "outputs": [
    {
     "name": "stdout",
     "output_type": "stream",
     "text": [
      "dim = 1\n",
      "Test Shapiro : (0.9918534755706787, 0.8105106353759766)\n",
      "dim = 2\n",
      "Test Shapiro : (0.9821417927742004, 0.1945207715034485)\n",
      "dim = 3\n",
      "Test Shapiro : (0.9808377027511597, 0.15440835058689117)\n",
      "dim = 4\n",
      "Test Shapiro : (0.9856737852096558, 0.3547650873661041)\n",
      "dim = 5\n",
      "Test Shapiro : (0.98914635181427, 0.5961154699325562)\n",
      "dim = 6\n",
      "Test Shapiro : (0.9948631525039673, 0.9714667201042175)\n",
      "dim = 7\n",
      "Test Shapiro : (0.9894528985023499, 0.6205262541770935)\n",
      "dim = 8\n",
      "Test Shapiro : (0.9853981137275696, 0.33915644884109497)\n",
      "dim = 9\n",
      "Test Shapiro : (0.9914910793304443, 0.7832545042037964)\n",
      "dim = 10\n",
      "Test Shapiro : (0.9898393154144287, 0.6516078114509583)\n",
      "dim = 11\n",
      "Test Shapiro : (0.9887228608131409, 0.562930703163147)\n",
      "dim = 12\n",
      "Test Shapiro : (0.9751209616661072, 0.05514572933316231)\n",
      "dim = 13\n",
      "Test Shapiro : (0.9911865592002869, 0.7596645951271057)\n",
      "dim = 14\n",
      "Test Shapiro : (0.9968226552009583, 0.9985036849975586)\n",
      "dim = 15\n",
      "Test Shapiro : (0.9778296947479248, 0.0899333730340004)\n",
      "dim = 16\n",
      "Test Shapiro : (0.967007577419281, 0.01310711819678545)\n",
      "dim = 17\n",
      "Test Shapiro : (0.9789404273033142, 0.10988344997167587)\n",
      "dim = 18\n",
      "Test Shapiro : (0.989858090877533, 0.6531238555908203)\n",
      "dim = 19\n",
      "Test Shapiro : (0.9804171919822693, 0.14324210584163666)\n"
     ]
    }
   ],
   "source": [
    "Law_p = lambda dim : lambda size : np.random.normal(-3,5, size = (size, dim))\n",
    "Law_q = lambda dim : lambda size : np.random.beta(.3,.7, size = (size, dim))\n",
    "\n",
    "for dim in range(1,20):\n",
    "    print(\"dim =\",dim)\n",
    "    law_p = Law_p(dim)\n",
    "    law_q = Law_q(dim)\n",
    "    print(\"Test Shapiro :\",shapiro(sampleMMD_MC(MMD, kernel, law_p, law_q, 1000, 100, finalSampleSize = 100, verbose=1)))"
   ]
  },
  {
   "cell_type": "code",
   "execution_count": 7,
   "metadata": {},
   "outputs": [
    {
     "name": "stdout",
     "output_type": "stream",
     "text": [
      "dim = 1\n",
      "Test Shapiro : (0.987369179725647, 0.4629211723804474)\n",
      "dim = 2\n",
      "Test Shapiro : (0.9649623036384583, 0.009225261397659779)chevé\n",
      "dim = 3\n",
      "Test Shapiro : (0.9774236679077148, 0.0835736095905304)\n",
      "dim = 4\n",
      "Test Shapiro : (0.9907665848731995, 0.7263976335525513)\n",
      "dim = 5\n",
      "Test Shapiro : (0.9843316674232483, 0.2839515507221222)\n",
      "dim = 6\n",
      "Test Shapiro : (0.9844152331352234, 0.2879845201969147)% achevé % achevé\n",
      "dim = 7\n",
      "Test Shapiro : (0.9707256555557251, 0.025127846747636795)\n",
      "dim = 8\n",
      "Test Shapiro : (0.9659163355827332, 0.010860542766749859)\n",
      "dim = 9\n",
      "Test Shapiro : (0.9845905303955078, 0.29660606384277344)\n",
      "dim = 10\n",
      "Test Shapiro : (0.9911897778511047, 0.7599156498908997)\n",
      "dim = 11\n",
      "Test Shapiro : (0.9921448826789856, 0.8316198587417603)\n",
      "dim = 12\n",
      "Test Shapiro : (0.9905454516410828, 0.7086564302444458)\n",
      "dim = 13\n",
      "Test Shapiro : (0.9883570075035095, 0.5348904132843018)\n",
      "dim = 14\n",
      "Test Shapiro : (0.9829264879226685, 0.22312703728675842)\n",
      "dim = 15\n",
      "Test Shapiro : (0.9799481630325317, 0.1317039281129837)achevé\n",
      "dim = 16\n",
      "Test Shapiro : (0.9860553741455078, 0.37729403376579285)\n",
      "dim = 17\n",
      "Test Shapiro : (0.9810101985931396, 0.15922418236732483) achevé % achevé\n",
      "dim = 18\n",
      "Test Shapiro : (0.9905320405960083, 0.7075752019882202)\n",
      "dim = 19\n",
      "Test Shapiro : (0.9730352163314819, 0.03790976107120514)\n"
     ]
    }
   ],
   "source": [
    "Law_p = lambda dim : lambda size : np.random.beta(.7,.3, size = (size, dim))\n",
    "Law_q = lambda dim : lambda size : np.random.beta(.3,.7, size = (size, dim))\n",
    "\n",
    "for dim in range(1,20):\n",
    "    print(\"dim =\",dim)\n",
    "    law_p = Law_p(dim)\n",
    "    law_q = Law_q(dim)\n",
    "    print(\"Test Shapiro :\",shapiro(sampleMMD_MC(MMD, kernel, law_p, law_q, 10, 10, finalSampleSize = 100, verbose=1)))"
   ]
  },
  {
   "cell_type": "code",
   "execution_count": 37,
   "metadata": {},
   "outputs": [
    {
     "name": "stdout",
     "output_type": "stream",
     "text": [
      "99.99 % achevé001 % achevééé % achevé % achevé % achevé % achevé % achevé % achevé % achevé % achevé % achevé % achevé % achevé % achevé % achevé% achevé % achevé % achevé % achevé % achevé % achevé % achevé % achevé% achevé % achevé % achevé % achevé % achevé % achevé% achevé % achevé % achevé% achevé % achevé % achevé% achevé % achevé % achevé % achevé % achevé % achevé % achevé % achevé % achevé % achevé% achevé % achevé % achevé % achevé % achevé% achevé % achevé% achevé % achevé % achevé % achevé % achevé % achevé % achevé% achevé % achevé % achevé% achevé % achevé % achevé % achevé % achevé % achevé % achevé% achevé % achevé % achevé % achevé% achevé % achevé % achevé % achevé% achevé % achevé % achevé% achevé % achevé% achevé % achevé% achevé % achevé% achevé % achevé% achevé % achevé % achevé% achevé % achevé % achevé\r"
     ]
    },
    {
     "data": {
      "image/png": "[encoded data removed]",
      "text/plain": [
       "<Figure size 1080x576 with 1 Axes>"
      ]
     },
     "metadata": {
      "needs_background": "light"
     },
     "output_type": "display_data"
    }
   ],
   "source": [
    "plt.hist(sampleMMD_MC(MMD, kernel, Law_p(7), Law_q(7), 10, 10, finalSampleSize = 10000, verbose=1), bins=50);"
   ]
  },
  {
   "cell_type": "code",
   "execution_count": 38,
   "metadata": {},
   "outputs": [
    {
     "name": "stdout",
     "output_type": "stream",
     "text": [
      "99.99 % achevé001 % achevééé % achevé % achevé % achevé % achevé % achevé % achevé % achevé % achevé % achevé % achevé % achevé % achevé % achevé % achevé % achevé % achevé % achevé % achevé % achevé % achevé% achevé % achevé % achevé % achevé % achevé% achevé % achevé % achevé % achevé % achevé % achevé % achevé % achevé % achevé % achevé % achevé % achevé % achevé % achevé % achevé% achevé % achevé % achevé % achevé % achevé % achevé % achevé % achevé % achevé % achevé % achevé % achevé % achevé % achevé % achevé % achevé% achevé % achevé % achevé % achevé % achevé % achevé % achevé % achevé % achevé% achevé % achevé % achevé % achevé % achevé % achevé% achevé % achevé % achevé % achevé % achevé % achevé % achevé% achevé % achevé % achevé % achevé % achevé% achevé % achevé % achevé % achevé % achevé % achevé % achevé % achevé % achevé% achevé % achevé % achevé % achevé % achevé % achevé % achevé % achevé % achevé % achevé% achevé % achevé % achevé % achevé % achevé% achevé % achevé % achevé % achevé % achevé % achevé% achevé% achevé % achevé % achevé % achevé % achevé% achevé % achevé % achevé % achevé\r"
     ]
    },
    {
     "data": {
      "image/png": "[encoded data removed]",
      "text/plain": [
       "<Figure size 1080x576 with 1 Axes>"
      ]
     },
     "metadata": {
      "needs_background": "light"
     },
     "output_type": "display_data"
    }
   ],
   "source": [
    "plt.hist(sampleMMD_MC(MMD, kernel, Law_p(20), Law_q(20), 10, 10, finalSampleSize = 10000, verbose=1), bins=50);"
   ]
  },
  {
   "cell_type": "code",
   "execution_count": 39,
   "metadata": {},
   "outputs": [
    {
     "name": "stdout",
     "output_type": "stream",
     "text": [
      "99.99 % achevé001 % achevééé % achevé % achevé % achevé % achevé % achevé % achevé % achevé % achevé % achevé % achevé % achevé % achevé % achevé % achevé % achevé % achevé % achevé % achevé % achevé % achevé % achevé % achevé % achevé % achevé % achevé % achevé % achevé % achevé % achevé % achevé % achevé % achevé % achevé % achevé % achevé % achevé % achevé % achevé % achevé % achevé % achevé % achevé % achevé % achevé % achevé % achevé % achevé % achevé % achevé % achevé % achevé % achevé % achevé % achevé % achevé % achevé % achevé % achevé % achevé % achevé % achevé % achevé % achevé % achevé % achevé % achevé % achevé % achevé % achevé % achevé % achevé % achevé % achevé % achevé % achevé % achevé % achevé % achevé % achevé % achevé % achevé % achevé % achevé % achevé % achevé % achevé % achevé % achevé % achevé % achevé % achevé % achevé % achevé % achevé % achevé % achevé % achevé % achevé % achevé % achevé % achevé % achevé % achevé % achevé % achevé % achevé % achevé % achevé % achevé % achevé % achevé % achevé % achevé % achevé % achevé % achevé % achevé % achevé % achevé % achevé % achevé % achevé % achevé % achevé % achevé % achevé % achevé % achevé % achevé % achevé % achevé % achevé % achevé % achevé % achevé % achevé % achevé % achevé % achevé% achevé % achevé % achevé % achevé % achevé % achevé % achevé % achevé % achevé % achevé % achevé % achevé % achevé % achevé % achevé % achevé % achevé % achevé % achevé % achevé % achevé% achevé % achevé % achevé % achevé % achevé % achevé % achevé % achevé % achevé % achevé % achevé % achevé % achevé % achevé % achevé % achevé % achevé % achevé % achevé % achevé % achevé % achevé % achevé % achevé % achevé % achevé % achevé % achevé % achevé % achevé % achevé % achevé % achevé % achevé % achevé % achevé % achevé % achevé % achevé % achevé % achevé % achevé % achevé % achevé % achevé % achevé % achevé % achevé % achevé % achevé % achevé % achevé % achevé % achevé % achevé % achevé % achevé% achevé % achevé % achevé % achevé % achevé % achevé % achevé % achevé % achevé % achevé % achevé % achevé % achevé % achevé % achevé % achevé % achevé % achevé % achevé % achevé % achevé % achevé % achevé % achevé % achevé % achevé % achevé % achevé % achevé % achevé % achevé % achevé % achevé % achevé % achevé % achevé % achevé % achevé % achevé % achevé % achevé % achevé % achevé % achevé % achevé % achevé % achevé % achevé % achevé % achevé % achevé % achevé % achevé % achevé % achevé % achevé % achevé % achevé % achevé % achevé % achevé % achevé % achevé % achevé % achevé % achevé % achevé % achevé % achevé% achevé % achevé % achevé % achevé % achevé % achevé % achevé % achevé % achevé % achevé % achevé % achevé % achevé % achevé % achevé % achevé % achevé % achevé % achevé % achevé % achevé % achevé % achevé% achevé % achevé % achevé % achevé % achevé % achevé % achevé % achevé % achevé % achevé % achevé % achevé % achevé % achevé % achevé % achevé % achevé % achevé % achevé % achevé% achevé % achevé% achevé % achevé % achevé % achevé% achevé % achevé % achevé % achevé % achevé % achevé % achevé % achevé % achevé % achevé % achevé % achevé % achevé% achevé % achevé % achevé % achevé % achevé % achevé % achevé % achevé % achevé % achevé % achevé % achevé % achevé % achevé % achevé % achevé % achevé % achevé % achevé % achevé % achevé % achevé % achevé % achevé % achevé % achevé % achevé % achevé% achevé % achevé % achevé % achevé % achevé % achevé % achevé % achevé % achevé % achevé % achevé % achevé % achevé % achevé % achevé% achevé% achevé % achevé% achevé % achevé % achevé % achevé % achevé % achevé % achevé % achevé % achevé % achevé % achevé % achevé % achevé % achevé % achevé % achevé % achevé % achevé % achevé % achevé % achevé % achevé % achevé % achevé % achevé % achevé % achevé % achevé % achevé % achevé % achevé % achevé % achevé % achevé % achevé % achevé % achevé % achevé % achevé % achevé % achevé % achevé% achevé % achevé % achevé % achevé % achevé % achevé % achevé % achevé % achevé % achevé % achevé % achevé % achevé % achevé % achevé % achevé % achevé % achevé % achevé % achevé % achevé % achevé % achevé % achevé % achevé % achevé % achevé % achevé % achevé% achevé % achevé % achevé % achevé % achevé % achevé % achevé % achevé % achevé % achevé % achevé % achevé % achevé % achevé % achevé % achevé % achevé% achevé % achevé % achevé% achevé % achevé % achevé% achevé % achevé % achevé % achevé% achevé % achevé% achevé % achevé % achevé % achevé % achevé % achevé % achevé % achevé% achevé % achevé % achevé % achevé % achevé % achevé% achevé% achevé % achevé % achevé % achevé% achevé % achevé % achevé % achevé % achevé % achevé % achevé % achevé % achevé % achevé % achevé % achevé % achevé % achevé % achevé % achevé % achevé % achevé % achevé % achevé % achevé% achevé% achevé % achevé % achevé % achevé % achevé % achevé % achevé % achevé % achevé % achevé % achevé% achevé % achevé % achevé % achevé % achevé % achevé % achevé % achevé % achevé % achevé % achevé % achevé % achevé % achevé % achevé % achevé % achevé % achevé % achevé % achevé % achevé % achevé % achevé % achevé % achevé % achevé % achevé % achevé % achevé % achevé % achevé % achevé % achevé % achevé % achevé % achevé % achevé% achevé % achevé % achevé % achevé % achevé% achevé % achevé % achevé % achevé % achevé% achevé % achevé % achevé % achevé % achevé % achevé % achevé % achevé % achevé % achevé % achevé % achevé % achevé% achevé % achevé % achevé % achevé % achevé % achevé % achevé % achevé % achevé % achevé % achevé % achevé% achevé % achevé% achevé % achevé % achevé % achevé % achevé % achevé % achevé % achevé % achevé % achevé % achevé % achevé % achevé % achevé % achevé % achevé % achevé % achevé % achevé % achevé % achevé % achevé% achevé % achevé % achevé % achevé % achevé % achevé % achevé % achevé % achevé % achevé % achevé % achevé % achevé% achevé % achevé % achevé % achevé % achevé % achevé % achevé % achevé % achevé % achevé % achevé % achevé % achevé % achevé % achevé % achevé % achevé % achevé % achevé % achevé % achevé % achevé % achevé % achevé % achevé % achevé % achevé % achevé % achevé % achevé % achevé % achevé % achevé % achevé % achevé % achevé % achevé% achevé % achevé % achevé % achevé % achevé % achevé % achevé % achevé % achevé % achevé % achevé % achevé % achevé % achevé % achevé % achevé % achevé % achevé % achevé % achevé % achevé % achevé % achevé % achevé % achevé % achevé % achevé % achevé % achevé % achevé % achevé % achevé % achevé % achevé % achevé % achevé % achevé % achevé % achevé% achevé % achevé % achevé % achevé % achevé % achevé % achevé % achevé % achevé % achevé % achevé % achevé % achevé % achevé % achevé % achevé % achevé% achevé % achevé % achevé % achevé % achevé% achevé % achevé % achevé % achevé % achevé % achevé % achevé % achevé % achevé % achevé % achevé % achevé % achevé % achevé % achevé % achevé % achevé % achevé% achevé % achevé % achevé % achevé % achevé % achevé % achevé % achevé % achevé % achevé % achevé % achevé % achevé % achevé % achevé % achevé % achevé % achevé % achevé % achevé % achevé % achevé % achevé % achevé % achevé % achevé % achevé % achevé % achevé % achevé% achevé % achevé % achevé % achevé % achevé % achevé % achevé % achevé % achevé % achevé % achevé % achevé % achevé % achevé % achevé % achevé % achevé % achevé % achevé % achevé % achevé % achevé % achevé % achevé % achevé % achevé % achevé % achevé % achevé % achevé % achevé % achevé % achevé % achevé % achevé % achevé % achevé % achevé % achevé % achevé % achevé % achevé % achevé % achevé % achevé % achevé % achevé % achevé % achevé% achevé % achevé % achevé % achevé % achevé % achevé % achevé % achevé % achevé % achevé % achevé % achevé % achevé % achevé % achevé % achevé % achevé % achevé % achevé % achevé % achevé % achevé % achevé % achevé % achevé % achevé % achevé % achevé % achevé % achevé % achevé % achevé % achevé % achevé % achevé % achevé % achevé % achevé % achevé % achevé % achevé\r"
     ]
    },
    {
     "data": {
      "image/png": "[encoded data removed]",
      "text/plain": [
       "<Figure size 1080x576 with 1 Axes>"
      ]
     },
     "metadata": {
      "needs_background": "light"
     },
     "output_type": "display_data"
    }
   ],
   "source": [
    "plt.hist(sampleMMD_MC(MMD, kernel, Law_p(100), Law_q(100), 10, 10, finalSampleSize = 10000, verbose=1), bins=50);"
   ]
  },
  {
   "cell_type": "code",
   "execution_count": 11,
   "metadata": {},
   "outputs": [
    {
     "name": "stdout",
     "output_type": "stream",
     "text": [
      "99.99 % achevé001 % achevééé\r"
     ]
    },
    {
     "data": {
      "image/png": "[encoded data removed]",
      "text/plain": [
       "<Figure size 1080x576 with 1 Axes>"
      ]
     },
     "metadata": {
      "needs_background": "light"
     },
     "output_type": "display_data"
    }
   ],
   "source": [
    "plt.hist(sampleMMD_MC(MMD, kernel, Law_p(50), Law_q(50), 1000, 100, finalSampleSize = 10000, verbose=1), bins=50);"
   ]
  },
  {
   "cell_type": "code",
   "execution_count": null,
   "metadata": {},
   "outputs": [],
   "source": []
  }
 ],
 "metadata": {
  "kernelspec": {
   "display_name": "Python 3",
   "language": "python",
   "name": "python3"
  },
  "language_info": {
   "codemirror_mode": {
    "name": "ipython",
    "version": 3
   },
   "file_extension": ".py",
   "mimetype": "text/x-python",
   "name": "python",
   "nbconvert_exporter": "python",
   "pygments_lexer": "ipython3",
   "version": "3.6.8"
  }
 },
 "nbformat": 4,
 "nbformat_minor": 2
}
